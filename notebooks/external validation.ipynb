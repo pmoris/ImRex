{
 "cells": [
  {
   "cell_type": "markdown",
   "metadata": {
    "toc": true
   },
   "source": [
    "<h1>Table of Contents<span class=\"tocSkip\"></span></h1>\n",
    "<div class=\"toc\"><ul class=\"toc-item\"><li><span><a href=\"#Adaptive-ImmuneCODE:-sars-cov\" data-toc-modified-id=\"Adaptive-ImmuneCODE:-sars-cov-1\"><span class=\"toc-item-num\">1&nbsp;&nbsp;</span>Adaptive ImmuneCODE: sars-cov</a></span></li><li><span><a href=\"#check-overlap-mcpas\" data-toc-modified-id=\"check-overlap-mcpas-2\"><span class=\"toc-item-num\">2&nbsp;&nbsp;</span>check overlap mcpas</a></span><ul class=\"toc-item\"><li><span><a href=\"#Different-ways-of-checking-overlap\" data-toc-modified-id=\"Different-ways-of-checking-overlap-2.1\"><span class=\"toc-item-num\">2.1&nbsp;&nbsp;</span>Different ways of checking overlap</a></span></li><li><span><a href=\"#Find-unique-and-non-unique-CDR3-epitope-pairs-in-the-McPAS-dataset-when-compared-to-VDJdb-via-set-overlap\" data-toc-modified-id=\"Find-unique-and-non-unique-CDR3-epitope-pairs-in-the-McPAS-dataset-when-compared-to-VDJdb-via-set-overlap-2.2\"><span class=\"toc-item-num\">2.2&nbsp;&nbsp;</span>Find unique and non-unique CDR3-epitope pairs in the McPAS dataset when compared to VDJdb via set overlap</a></span></li></ul></li><li><span><a href=\"#VDJdb-update\" data-toc-modified-id=\"VDJdb-update-3\"><span class=\"toc-item-num\">3&nbsp;&nbsp;</span>VDJdb update</a></span><ul class=\"toc-item\"><li><span><a href=\"#Without-length-restriction\" data-toc-modified-id=\"Without-length-restriction-3.1\"><span class=\"toc-item-num\">3.1&nbsp;&nbsp;</span>Without length restriction</a></span></li><li><span><a href=\"#With-length-restriction\" data-toc-modified-id=\"With-length-restriction-3.2\"><span class=\"toc-item-num\">3.2&nbsp;&nbsp;</span>With length restriction</a></span></li><li><span><a href=\"#10x-data\" data-toc-modified-id=\"10x-data-3.3\"><span class=\"toc-item-num\">3.3&nbsp;&nbsp;</span>10x data</a></span></li></ul></li></ul></div>"
   ]
  },
  {
   "cell_type": "markdown",
   "metadata": {},
   "source": [
    "Creation of external validation sets based on mcpas and the held-out 10x genomics data. Based on retrieving all unique epitopes (i.e. those not occurring in the VDJdb pairs used for training)."
   ]
  },
  {
   "cell_type": "code",
   "execution_count": 1,
   "metadata": {},
   "outputs": [],
   "source": [
    "from pathlib import Path\n",
    "\n",
    "import numpy as np\n",
    "import pandas as pd\n",
    "import matplotlib.pyplot as plt\n",
    "import matplotlib.lines as lines\n",
    "import seaborn as sns\n",
    "import scipy\n",
    "\n",
    "from src.scripts.evaluate.visualize import predict_variations\n",
    "from src.config import PROJECT_ROOT"
   ]
  },
  {
   "cell_type": "code",
   "execution_count": 2,
   "metadata": {},
   "outputs": [],
   "source": [
    "import json\n",
    "\n",
    "import numpy as np\n",
    "import pandas as pd\n",
    "from pandas.io.json import json_normalize\n",
    "from pathlib import Path\n",
    "\n",
    "from src.config import PROJECT_ROOT\n",
    "from src.scripts.preprocessing import preprocess_vdjdb"
   ]
  },
  {
   "cell_type": "markdown",
   "metadata": {},
   "source": [
    "# Adaptive ImmuneCODE: sars-cov"
   ]
  },
  {
   "cell_type": "markdown",
   "metadata": {},
   "source": [
    "Source: https://immunerace.adaptivebiotech.com/more-data-and-whats-coming-next/\n",
    "\n",
    "Extracted CDR3 and epitope sequences for all samples with a single epitope."
   ]
  },
  {
   "cell_type": "code",
   "execution_count": 67,
   "metadata": {},
   "outputs": [],
   "source": [
    "df = pd.read_csv(PROJECT_ROOT / \"data/interim/immunecode-adaptive/adaptive-sars-cov.csv\", sep=\";\")"
   ]
  },
  {
   "cell_type": "code",
   "execution_count": 68,
   "metadata": {},
   "outputs": [
    {
     "data": {
      "text/plain": [
       "antigen.epitope\n",
       "HTTDPSFLGRY    5397\n",
       "FVDGVPFVV      2397\n",
       "FLNGSCGSV      2282\n",
       "KLSYGIATV      2132\n",
       "KLPDDFTGCV     1147\n",
       "               ... \n",
       "AEGSRGGSQA        2\n",
       "RLNEVAKNL         1\n",
       "IITTDNTFV         1\n",
       "LAAVYRINWI        1\n",
       "LMIERFVSL         1\n",
       "Length: 136, dtype: int64"
      ]
     },
     "execution_count": 68,
     "metadata": {},
     "output_type": "execute_result"
    }
   ],
   "source": [
    "df.groupby(\"antigen.epitope\").size().sort_values(ascending=False)"
   ]
  },
  {
   "cell_type": "code",
   "execution_count": 69,
   "metadata": {},
   "outputs": [],
   "source": [
    "train_df = pd.read_csv(PROJECT_ROOT / \"data/interim/vdjdb-2019-08-08/vdjdb-human-trb-mhci-no10x-size.csv\", sep=';')"
   ]
  },
  {
   "cell_type": "code",
   "execution_count": 70,
   "metadata": {},
   "outputs": [],
   "source": [
    "unique_cov = set(df[\"antigen.epitope\"].unique()) - set(train_df[\"antigen.epitope\"].unique())"
   ]
  },
  {
   "cell_type": "code",
   "execution_count": 71,
   "metadata": {},
   "outputs": [
    {
     "data": {
      "text/plain": [
       "set()"
      ]
     },
     "execution_count": 71,
     "metadata": {},
     "output_type": "execute_result"
    }
   ],
   "source": [
    "set(df[\"antigen.epitope\"].unique()).intersection(set(train_df[\"antigen.epitope\"].unique()))"
   ]
  },
  {
   "cell_type": "code",
   "execution_count": 72,
   "metadata": {},
   "outputs": [
    {
     "data": {
      "text/plain": [
       "136"
      ]
     },
     "execution_count": 72,
     "metadata": {},
     "output_type": "execute_result"
    }
   ],
   "source": [
    "unique_cov = set(df[\"antigen.epitope\"].unique()) - set(train_df[\"antigen.epitope\"].unique())\n",
    "len(unique_cov)"
   ]
  },
  {
   "cell_type": "markdown",
   "metadata": {},
   "source": [
    "# check overlap mcpas"
   ]
  },
  {
   "cell_type": "code",
   "execution_count": 3,
   "metadata": {},
   "outputs": [
    {
     "name": "stderr",
     "output_type": "stream",
     "text": [
      "/home/pieter/miniconda3/envs/deepTCR/lib/python3.7/site-packages/ipykernel_launcher.py:7: FutureWarning: pandas.io.json.json_normalize is deprecated, use pandas.json_normalize instead\n",
      "  import sys\n",
      "/home/pieter/miniconda3/envs/deepTCR/lib/python3.7/site-packages/ipykernel_launcher.py:8: FutureWarning: pandas.io.json.json_normalize is deprecated, use pandas.json_normalize instead\n",
      "  \n",
      "/home/pieter/miniconda3/envs/deepTCR/lib/python3.7/site-packages/ipykernel_launcher.py:9: FutureWarning: pandas.io.json.json_normalize is deprecated, use pandas.json_normalize instead\n",
      "  if __name__ == '__main__':\n"
     ]
    },
    {
     "name": "stdout",
     "output_type": "stream",
     "text": [
      "Filtering reduced the number of unique pairs from 61047 to 19842.\n"
     ]
    }
   ],
   "source": [
    "# import dataset again to start fresh\n",
    "vdjdb_normal_path = PROJECT_ROOT / \"data/raw/vdjdb/vdjdb-2019-08-08/vdjdb.txt\"\n",
    "df = pd.read_csv(vdjdb_normal_path, sep=\"\\t\")\n",
    "\n",
    "# expand the json/dict-like columns\n",
    "df = (\n",
    "    df.join(json_normalize(df[\"method\"].apply(lambda x: json.loads(r'{}'.format(x)))).add_prefix(\"method.\"))\n",
    "    .join(json_normalize(df[\"meta\"].apply(lambda x: json.loads(r'{}'.format(x)))).add_prefix(\"meta.\"))\n",
    "    .join(json_normalize(df[\"cdr3fix\"].apply(lambda x: json.loads(r'{}'.format(x)))).add_prefix(\"cdr3fix.\"))\n",
    "    .drop([\"method\", \"meta\", \"cdr3fix\"], axis=1)\n",
    ")\n",
    "\n",
    "columns = [\"cdr3\", \"antigen.epitope\"]\n",
    "\n",
    "# create column based on cdr3 and epitope sequences\n",
    "df[\"merged\"] = df[\"cdr3\"] + \"-\" + df[\"antigen.epitope\"]\n",
    "\n",
    "# create length columns for figures\n",
    "df[\"cdr3.len\"] = df[\"cdr3\"].str.len()\n",
    "df[\"antigen.epitope.len\"] = df[\"antigen.epitope\"].str.len()\n",
    "\n",
    "df_human_no10x = df.loc[(df[\"species\"] == \"HomoSapiens\") & \n",
    "#                                  (df[\"gene\"] == \"TRB\") & \n",
    "                                 (df[\"cdr3fix.good\"]) & \n",
    "                                 (df[\"mhc.class\"] == \"MHCI\") &\n",
    "                                 ~(df[\"reference.id\"].str.contains(\"10x\"))]\n",
    "\n",
    "df_human_no10x = df_human_no10x.loc[ (df_human_no10x[\"antigen.epitope\"].str.len() >= 8) &\n",
    "                                                 (df_human_no10x[\"antigen.epitope\"].str.len() <= 11) &\n",
    "                                                 (df_human_no10x[\"cdr3\"].str.len() >= 10) &\n",
    "                                                 (df_human_no10x[\"cdr3\"].str.len() <= 20)]\n",
    "\n",
    "df_human_no10x = df_human_no10x.drop_duplicates(columns)\n",
    "\n",
    "print(f\"Filtering reduced the number of unique pairs from {df.drop_duplicates(columns).shape[0]} to {df_human_no10x.shape[0]}.\")"
   ]
  },
  {
   "cell_type": "code",
   "execution_count": 4,
   "metadata": {},
   "outputs": [],
   "source": [
    "df = df_human_no10x"
   ]
  },
  {
   "cell_type": "code",
   "execution_count": 5,
   "metadata": {},
   "outputs": [],
   "source": [
    "df_mcpas = pd.read_csv(PROJECT_ROOT / \"data/raw/mcpas.csv\")"
   ]
  },
  {
   "cell_type": "code",
   "execution_count": 6,
   "metadata": {},
   "outputs": [],
   "source": [
    "df_mcpas[\"merged\"] = df_mcpas[\"CDR3_beta\"] + \"-\" + df_mcpas[\"HLA_peptide\"]"
   ]
  },
  {
   "cell_type": "code",
   "execution_count": 7,
   "metadata": {},
   "outputs": [],
   "source": [
    "df_mcpas = df_mcpas.loc[ (df_mcpas[\"HLA_peptide\"].str.len() >= 8) &\n",
    "                         (df_mcpas[\"HLA_peptide\"].str.len() <= 11) &\n",
    "                         (df_mcpas[\"CDR3_beta\"].str.len() >= 10) &\n",
    "                         (df_mcpas[\"CDR3_beta\"].str.len() <= 20)]"
   ]
  },
  {
   "cell_type": "code",
   "execution_count": 8,
   "metadata": {},
   "outputs": [],
   "source": [
    "df_mcpas = df_mcpas.drop_duplicates([\"CDR3_beta\",\"HLA_peptide\"])\n",
    "df_mcpas = df_mcpas.rename(columns={\"CDR3_beta\": \"cdr3\", \"HLA_peptide\": \"antigen.epitope\"})"
   ]
  },
  {
   "cell_type": "code",
   "execution_count": 9,
   "metadata": {},
   "outputs": [],
   "source": [
    "# df_mcpas.to_csv(PROJECT_ROOT / \"data/interim/mcpas/mcpas-human-trb-mhci-size.csv\", index=False, sep=\";\")"
   ]
  },
  {
   "cell_type": "code",
   "execution_count": 10,
   "metadata": {},
   "outputs": [
    {
     "data": {
      "text/html": [
       "<div>\n",
       "<style scoped>\n",
       "    .dataframe tbody tr th:only-of-type {\n",
       "        vertical-align: middle;\n",
       "    }\n",
       "\n",
       "    .dataframe tbody tr th {\n",
       "        vertical-align: top;\n",
       "    }\n",
       "\n",
       "    .dataframe thead th {\n",
       "        text-align: right;\n",
       "    }\n",
       "</style>\n",
       "<table border=\"1\" class=\"dataframe\">\n",
       "  <thead>\n",
       "    <tr style=\"text-align: right;\">\n",
       "      <th></th>\n",
       "      <th>TRBV_gene</th>\n",
       "      <th>cdr3</th>\n",
       "      <th>TRBJ_gene</th>\n",
       "      <th>antigen.epitope</th>\n",
       "      <th>Epitope species</th>\n",
       "      <th>Reference</th>\n",
       "      <th>Source</th>\n",
       "      <th>merged</th>\n",
       "    </tr>\n",
       "  </thead>\n",
       "  <tbody>\n",
       "    <tr>\n",
       "      <th>0</th>\n",
       "      <td>TRBV27</td>\n",
       "      <td>CASSLGSSYEQYF</td>\n",
       "      <td>TRBJ2-7</td>\n",
       "      <td>YLEPGPVTA</td>\n",
       "      <td>Melanoma</td>\n",
       "      <td>PubMed ID: 8752841</td>\n",
       "      <td>McPas-TCR</td>\n",
       "      <td>CASSLGSSYEQYF-YLEPGPVTA</td>\n",
       "    </tr>\n",
       "    <tr>\n",
       "      <th>1</th>\n",
       "      <td>TRBV4</td>\n",
       "      <td>CASLAGQGYNEQF</td>\n",
       "      <td>TRBJ2-1</td>\n",
       "      <td>SAYGEPRKL</td>\n",
       "      <td>Melanoma</td>\n",
       "      <td>PubMed ID: 8921424</td>\n",
       "      <td>McPas-TCR</td>\n",
       "      <td>CASLAGQGYNEQF-SAYGEPRKL</td>\n",
       "    </tr>\n",
       "    <tr>\n",
       "      <th>2</th>\n",
       "      <td>TRBV12</td>\n",
       "      <td>CASLGAQNNEQF</td>\n",
       "      <td>TRBJ2-1</td>\n",
       "      <td>AARAVFLAL</td>\n",
       "      <td>Melanoma</td>\n",
       "      <td>PubMed ID: 8921424</td>\n",
       "      <td>McPas-TCR</td>\n",
       "      <td>CASLGAQNNEQF-AARAVFLAL</td>\n",
       "    </tr>\n",
       "    <tr>\n",
       "      <th>3</th>\n",
       "      <td>TRBV6</td>\n",
       "      <td>CASRLWFWALEAF</td>\n",
       "      <td>TRBJ1-1</td>\n",
       "      <td>SAYGEPRKL</td>\n",
       "      <td>Melanoma</td>\n",
       "      <td>PubMed ID: 8921424</td>\n",
       "      <td>McPas-TCR</td>\n",
       "      <td>CASRLWFWALEAF-SAYGEPRKL</td>\n",
       "    </tr>\n",
       "    <tr>\n",
       "      <th>4</th>\n",
       "      <td>TRBV6</td>\n",
       "      <td>CASSYSTGDEQYF</td>\n",
       "      <td>TRBJ2-7</td>\n",
       "      <td>AARAVFLAL</td>\n",
       "      <td>Melanoma</td>\n",
       "      <td>PubMed ID: 8921424</td>\n",
       "      <td>McPas-TCR</td>\n",
       "      <td>CASSYSTGDEQYF-AARAVFLAL</td>\n",
       "    </tr>\n",
       "    <tr>\n",
       "      <th>...</th>\n",
       "      <td>...</td>\n",
       "      <td>...</td>\n",
       "      <td>...</td>\n",
       "      <td>...</td>\n",
       "      <td>...</td>\n",
       "      <td>...</td>\n",
       "      <td>...</td>\n",
       "      <td>...</td>\n",
       "    </tr>\n",
       "    <tr>\n",
       "      <th>6680</th>\n",
       "      <td>TRBV19</td>\n",
       "      <td>GASSIGIFGYTF</td>\n",
       "      <td>TRBJ1-2</td>\n",
       "      <td>GILGFVFTL</td>\n",
       "      <td>Influenza</td>\n",
       "      <td>PubMed ID: 28300170</td>\n",
       "      <td>McPas-TCR</td>\n",
       "      <td>GASSIGIFGYTF-GILGFVFTL</td>\n",
       "    </tr>\n",
       "    <tr>\n",
       "      <th>6681</th>\n",
       "      <td>TRBV19</td>\n",
       "      <td>CASRIGIYGYPF</td>\n",
       "      <td>TRBJ1-2</td>\n",
       "      <td>GILGFVFTL</td>\n",
       "      <td>Influenza</td>\n",
       "      <td>PubMed ID: 28300170</td>\n",
       "      <td>McPas-TCR</td>\n",
       "      <td>CASRIGIYGYPF-GILGFVFTL</td>\n",
       "    </tr>\n",
       "    <tr>\n",
       "      <th>6682</th>\n",
       "      <td>TRBV19</td>\n",
       "      <td>CASSTGSYGYTF</td>\n",
       "      <td>TRBJ1-2</td>\n",
       "      <td>GILGFVFTL</td>\n",
       "      <td>Influenza</td>\n",
       "      <td>PubMed ID: 28300170</td>\n",
       "      <td>McPas-TCR</td>\n",
       "      <td>CASSTGSYGYTF-GILGFVFTL</td>\n",
       "    </tr>\n",
       "    <tr>\n",
       "      <th>6684</th>\n",
       "      <td>TRBV19</td>\n",
       "      <td>CASSSRSAIEQFF</td>\n",
       "      <td>TRBJ2-1</td>\n",
       "      <td>GILGFVFTL</td>\n",
       "      <td>Influenza</td>\n",
       "      <td>PubMed ID: 28300170</td>\n",
       "      <td>McPas-TCR</td>\n",
       "      <td>CASSSRSAIEQFF-GILGFVFTL</td>\n",
       "    </tr>\n",
       "    <tr>\n",
       "      <th>6685</th>\n",
       "      <td>TRBV7-2</td>\n",
       "      <td>CASSTSLGGGGRQSF</td>\n",
       "      <td>TRBJ2-7</td>\n",
       "      <td>GILGFVFTL</td>\n",
       "      <td>Influenza</td>\n",
       "      <td>PubMed ID: 28300170</td>\n",
       "      <td>McPas-TCR</td>\n",
       "      <td>CASSTSLGGGGRQSF-GILGFVFTL</td>\n",
       "    </tr>\n",
       "  </tbody>\n",
       "</table>\n",
       "<p>6324 rows × 8 columns</p>\n",
       "</div>"
      ],
      "text/plain": [
       "     TRBV_gene             cdr3 TRBJ_gene antigen.epitope Epitope species  \\\n",
       "0       TRBV27    CASSLGSSYEQYF   TRBJ2-7       YLEPGPVTA        Melanoma   \n",
       "1        TRBV4    CASLAGQGYNEQF   TRBJ2-1       SAYGEPRKL        Melanoma   \n",
       "2       TRBV12     CASLGAQNNEQF   TRBJ2-1       AARAVFLAL        Melanoma   \n",
       "3        TRBV6    CASRLWFWALEAF   TRBJ1-1       SAYGEPRKL        Melanoma   \n",
       "4        TRBV6    CASSYSTGDEQYF   TRBJ2-7       AARAVFLAL        Melanoma   \n",
       "...        ...              ...       ...             ...             ...   \n",
       "6680    TRBV19     GASSIGIFGYTF   TRBJ1-2       GILGFVFTL       Influenza   \n",
       "6681    TRBV19     CASRIGIYGYPF   TRBJ1-2       GILGFVFTL       Influenza   \n",
       "6682    TRBV19     CASSTGSYGYTF   TRBJ1-2       GILGFVFTL       Influenza   \n",
       "6684    TRBV19    CASSSRSAIEQFF   TRBJ2-1       GILGFVFTL       Influenza   \n",
       "6685   TRBV7-2  CASSTSLGGGGRQSF   TRBJ2-7       GILGFVFTL       Influenza   \n",
       "\n",
       "                Reference     Source                     merged  \n",
       "0      PubMed ID: 8752841  McPas-TCR    CASSLGSSYEQYF-YLEPGPVTA  \n",
       "1      PubMed ID: 8921424  McPas-TCR    CASLAGQGYNEQF-SAYGEPRKL  \n",
       "2      PubMed ID: 8921424  McPas-TCR     CASLGAQNNEQF-AARAVFLAL  \n",
       "3      PubMed ID: 8921424  McPas-TCR    CASRLWFWALEAF-SAYGEPRKL  \n",
       "4      PubMed ID: 8921424  McPas-TCR    CASSYSTGDEQYF-AARAVFLAL  \n",
       "...                   ...        ...                        ...  \n",
       "6680  PubMed ID: 28300170  McPas-TCR     GASSIGIFGYTF-GILGFVFTL  \n",
       "6681  PubMed ID: 28300170  McPas-TCR     CASRIGIYGYPF-GILGFVFTL  \n",
       "6682  PubMed ID: 28300170  McPas-TCR     CASSTGSYGYTF-GILGFVFTL  \n",
       "6684  PubMed ID: 28300170  McPas-TCR    CASSSRSAIEQFF-GILGFVFTL  \n",
       "6685  PubMed ID: 28300170  McPas-TCR  CASSTSLGGGGRQSF-GILGFVFTL  \n",
       "\n",
       "[6324 rows x 8 columns]"
      ]
     },
     "execution_count": 10,
     "metadata": {},
     "output_type": "execute_result"
    }
   ],
   "source": [
    "df_mcpas"
   ]
  },
  {
   "cell_type": "code",
   "execution_count": 11,
   "metadata": {},
   "outputs": [
    {
     "data": {
      "text/html": [
       "<div>\n",
       "<style scoped>\n",
       "    .dataframe tbody tr th:only-of-type {\n",
       "        vertical-align: middle;\n",
       "    }\n",
       "\n",
       "    .dataframe tbody tr th {\n",
       "        vertical-align: top;\n",
       "    }\n",
       "\n",
       "    .dataframe thead th {\n",
       "        text-align: right;\n",
       "    }\n",
       "</style>\n",
       "<table border=\"1\" class=\"dataframe\">\n",
       "  <thead>\n",
       "    <tr style=\"text-align: right;\">\n",
       "      <th></th>\n",
       "      <th>complex.id</th>\n",
       "      <th>gene</th>\n",
       "      <th>cdr3</th>\n",
       "      <th>v.segm</th>\n",
       "      <th>j.segm</th>\n",
       "      <th>species</th>\n",
       "      <th>mhc.a</th>\n",
       "      <th>mhc.b</th>\n",
       "      <th>mhc.class</th>\n",
       "      <th>antigen.epitope</th>\n",
       "      <th>...</th>\n",
       "      <th>cdr3.len</th>\n",
       "      <th>antigen.epitope.len</th>\n",
       "      <th>TRBV_gene</th>\n",
       "      <th>cdr3</th>\n",
       "      <th>TRBJ_gene</th>\n",
       "      <th>antigen.epitope</th>\n",
       "      <th>Epitope species</th>\n",
       "      <th>Reference</th>\n",
       "      <th>Source</th>\n",
       "      <th>merged</th>\n",
       "    </tr>\n",
       "  </thead>\n",
       "  <tbody>\n",
       "    <tr>\n",
       "      <th>0</th>\n",
       "      <td>0</td>\n",
       "      <td>TRA</td>\n",
       "      <td>CAVTDDKIIF</td>\n",
       "      <td>TRAV12-2*01</td>\n",
       "      <td>TRAJ30*01</td>\n",
       "      <td>HomoSapiens</td>\n",
       "      <td>HLA-A*02</td>\n",
       "      <td>B2M</td>\n",
       "      <td>MHCI</td>\n",
       "      <td>LLWNGPMAV</td>\n",
       "      <td>...</td>\n",
       "      <td>10</td>\n",
       "      <td>9</td>\n",
       "      <td>TRBV27</td>\n",
       "      <td>CASSLGSSYEQYF</td>\n",
       "      <td>TRBJ2-7</td>\n",
       "      <td>YLEPGPVTA</td>\n",
       "      <td>Melanoma</td>\n",
       "      <td>PubMed ID: 8752841</td>\n",
       "      <td>McPas-TCR</td>\n",
       "      <td>CASSLGSSYEQYF-YLEPGPVTA</td>\n",
       "    </tr>\n",
       "    <tr>\n",
       "      <th>1</th>\n",
       "      <td>0</td>\n",
       "      <td>TRA</td>\n",
       "      <td>CAVDSGGYQKVTF</td>\n",
       "      <td>TRAV12-2*01</td>\n",
       "      <td>TRAJ13*01</td>\n",
       "      <td>HomoSapiens</td>\n",
       "      <td>HLA-A*02</td>\n",
       "      <td>B2M</td>\n",
       "      <td>MHCI</td>\n",
       "      <td>LLWNGPMAV</td>\n",
       "      <td>...</td>\n",
       "      <td>13</td>\n",
       "      <td>9</td>\n",
       "      <td>TRBV4</td>\n",
       "      <td>CASLAGQGYNEQF</td>\n",
       "      <td>TRBJ2-1</td>\n",
       "      <td>SAYGEPRKL</td>\n",
       "      <td>Melanoma</td>\n",
       "      <td>PubMed ID: 8921424</td>\n",
       "      <td>McPas-TCR</td>\n",
       "      <td>CASLAGQGYNEQF-SAYGEPRKL</td>\n",
       "    </tr>\n",
       "    <tr>\n",
       "      <th>2</th>\n",
       "      <td>0</td>\n",
       "      <td>TRA</td>\n",
       "      <td>CAGGDDKIIF</td>\n",
       "      <td>TRAV12-2*01</td>\n",
       "      <td>TRAJ30*01</td>\n",
       "      <td>HomoSapiens</td>\n",
       "      <td>HLA-A*02</td>\n",
       "      <td>B2M</td>\n",
       "      <td>MHCI</td>\n",
       "      <td>LLWNGPMAV</td>\n",
       "      <td>...</td>\n",
       "      <td>10</td>\n",
       "      <td>9</td>\n",
       "      <td>TRBV12</td>\n",
       "      <td>CASLGAQNNEQF</td>\n",
       "      <td>TRBJ2-1</td>\n",
       "      <td>AARAVFLAL</td>\n",
       "      <td>Melanoma</td>\n",
       "      <td>PubMed ID: 8921424</td>\n",
       "      <td>McPas-TCR</td>\n",
       "      <td>CASLGAQNNEQF-AARAVFLAL</td>\n",
       "    </tr>\n",
       "    <tr>\n",
       "      <th>3</th>\n",
       "      <td>0</td>\n",
       "      <td>TRA</td>\n",
       "      <td>CAVKDARLMF</td>\n",
       "      <td>TRAV12-2*01</td>\n",
       "      <td>TRAJ31*01</td>\n",
       "      <td>HomoSapiens</td>\n",
       "      <td>HLA-A*02</td>\n",
       "      <td>B2M</td>\n",
       "      <td>MHCI</td>\n",
       "      <td>LLWNGPMAV</td>\n",
       "      <td>...</td>\n",
       "      <td>10</td>\n",
       "      <td>9</td>\n",
       "      <td>TRBV6</td>\n",
       "      <td>CASRLWFWALEAF</td>\n",
       "      <td>TRBJ1-1</td>\n",
       "      <td>SAYGEPRKL</td>\n",
       "      <td>Melanoma</td>\n",
       "      <td>PubMed ID: 8921424</td>\n",
       "      <td>McPas-TCR</td>\n",
       "      <td>CASRLWFWALEAF-SAYGEPRKL</td>\n",
       "    </tr>\n",
       "    <tr>\n",
       "      <th>4</th>\n",
       "      <td>0</td>\n",
       "      <td>TRA</td>\n",
       "      <td>CAVGSDKIIF</td>\n",
       "      <td>TRAV12-2*01</td>\n",
       "      <td>TRAJ30*01</td>\n",
       "      <td>HomoSapiens</td>\n",
       "      <td>HLA-A*02</td>\n",
       "      <td>B2M</td>\n",
       "      <td>MHCI</td>\n",
       "      <td>LLWNGPMAV</td>\n",
       "      <td>...</td>\n",
       "      <td>10</td>\n",
       "      <td>9</td>\n",
       "      <td>TRBV6</td>\n",
       "      <td>CASSYSTGDEQYF</td>\n",
       "      <td>TRBJ2-7</td>\n",
       "      <td>AARAVFLAL</td>\n",
       "      <td>Melanoma</td>\n",
       "      <td>PubMed ID: 8921424</td>\n",
       "      <td>McPas-TCR</td>\n",
       "      <td>CASSYSTGDEQYF-AARAVFLAL</td>\n",
       "    </tr>\n",
       "    <tr>\n",
       "      <th>...</th>\n",
       "      <td>...</td>\n",
       "      <td>...</td>\n",
       "      <td>...</td>\n",
       "      <td>...</td>\n",
       "      <td>...</td>\n",
       "      <td>...</td>\n",
       "      <td>...</td>\n",
       "      <td>...</td>\n",
       "      <td>...</td>\n",
       "      <td>...</td>\n",
       "      <td>...</td>\n",
       "      <td>...</td>\n",
       "      <td>...</td>\n",
       "      <td>...</td>\n",
       "      <td>...</td>\n",
       "      <td>...</td>\n",
       "      <td>...</td>\n",
       "      <td>...</td>\n",
       "      <td>...</td>\n",
       "      <td>...</td>\n",
       "      <td>...</td>\n",
       "    </tr>\n",
       "    <tr>\n",
       "      <th>1560</th>\n",
       "      <td>355</td>\n",
       "      <td>TRB</td>\n",
       "      <td>CASSYLPGQGDHYSNQPQHF</td>\n",
       "      <td>TRBV13*01</td>\n",
       "      <td>TRBJ1-5*01</td>\n",
       "      <td>HomoSapiens</td>\n",
       "      <td>HLA-B*08</td>\n",
       "      <td>B2M</td>\n",
       "      <td>MHCI</td>\n",
       "      <td>FLKEMGGL</td>\n",
       "      <td>...</td>\n",
       "      <td>20</td>\n",
       "      <td>8</td>\n",
       "      <td>TRBV27</td>\n",
       "      <td>CASSSGQEAF</td>\n",
       "      <td>TRBJ1-1</td>\n",
       "      <td>TPRVTGGGAM</td>\n",
       "      <td>Cytomegalovirus(CMV)</td>\n",
       "      <td>PubMed ID: 25339770</td>\n",
       "      <td>McPas-TCR</td>\n",
       "      <td>CASSSGQEAF-TPRVTGGGAM</td>\n",
       "    </tr>\n",
       "    <tr>\n",
       "      <th>1561</th>\n",
       "      <td>0</td>\n",
       "      <td>TRB</td>\n",
       "      <td>CASSFEAGQGFFSNQPQHF</td>\n",
       "      <td>TRBV13*01</td>\n",
       "      <td>TRBJ1-5*01</td>\n",
       "      <td>HomoSapiens</td>\n",
       "      <td>HLA-B*08</td>\n",
       "      <td>B2M</td>\n",
       "      <td>MHCI</td>\n",
       "      <td>FLKEMGGL</td>\n",
       "      <td>...</td>\n",
       "      <td>19</td>\n",
       "      <td>8</td>\n",
       "      <td>TRBV5-07</td>\n",
       "      <td>CASSSGTSGYEQYF</td>\n",
       "      <td>TRBJ2-7</td>\n",
       "      <td>QIKVRVKMV</td>\n",
       "      <td>Cytomegalovirus(CMV)</td>\n",
       "      <td>PubMed ID: 25339770</td>\n",
       "      <td>McPas-TCR</td>\n",
       "      <td>CASSSGTSGYEQYF-QIKVRVKMV</td>\n",
       "    </tr>\n",
       "    <tr>\n",
       "      <th>1562</th>\n",
       "      <td>356</td>\n",
       "      <td>TRA</td>\n",
       "      <td>CAVPSGAGSYQLTF</td>\n",
       "      <td>TRAV20*01</td>\n",
       "      <td>TRAJ28*01</td>\n",
       "      <td>HomoSapiens</td>\n",
       "      <td>HLA-B*08</td>\n",
       "      <td>B2M</td>\n",
       "      <td>MHCI</td>\n",
       "      <td>FLKEMGGL</td>\n",
       "      <td>...</td>\n",
       "      <td>14</td>\n",
       "      <td>8</td>\n",
       "      <td>TRBV27</td>\n",
       "      <td>CASSSGTSGYYNEQF</td>\n",
       "      <td>TRBJ2-1</td>\n",
       "      <td>GLCTLVAML</td>\n",
       "      <td>EpsteinBarrvirus(EBV)</td>\n",
       "      <td>PubMed ID: 25339770</td>\n",
       "      <td>McPas-TCR</td>\n",
       "      <td>CASSSGTSGYYNEQF-GLCTLVAML</td>\n",
       "    </tr>\n",
       "    <tr>\n",
       "      <th>1563</th>\n",
       "      <td>356</td>\n",
       "      <td>TRB</td>\n",
       "      <td>CASSFEPGQGFYSNQPQHF</td>\n",
       "      <td>TRBV13*01</td>\n",
       "      <td>TRBJ1-5*01</td>\n",
       "      <td>HomoSapiens</td>\n",
       "      <td>HLA-B*08</td>\n",
       "      <td>B2M</td>\n",
       "      <td>MHCI</td>\n",
       "      <td>FLKEMGGL</td>\n",
       "      <td>...</td>\n",
       "      <td>19</td>\n",
       "      <td>8</td>\n",
       "      <td>TRBV27</td>\n",
       "      <td>CASSSPRESTDTQYF</td>\n",
       "      <td>TRBJ2-3</td>\n",
       "      <td>YSEHPTFTSQY</td>\n",
       "      <td>Cytomegalovirus(CMV)</td>\n",
       "      <td>PubMed ID: 25339770</td>\n",
       "      <td>McPas-TCR</td>\n",
       "      <td>CASSSPRESTDTQYF-YSEHPTFTSQY</td>\n",
       "    </tr>\n",
       "    <tr>\n",
       "      <th>1565</th>\n",
       "      <td>357</td>\n",
       "      <td>TRB</td>\n",
       "      <td>CASSYEPGQVSHYSNQPQHF</td>\n",
       "      <td>TRBV13*01</td>\n",
       "      <td>TRBJ1-5*01</td>\n",
       "      <td>HomoSapiens</td>\n",
       "      <td>HLA-B*08</td>\n",
       "      <td>B2M</td>\n",
       "      <td>MHCI</td>\n",
       "      <td>FLKEMGGL</td>\n",
       "      <td>...</td>\n",
       "      <td>20</td>\n",
       "      <td>8</td>\n",
       "      <td>TRBV7-02</td>\n",
       "      <td>CASSSQRESSDTQYF</td>\n",
       "      <td>TRBJ2-3</td>\n",
       "      <td>YSEHPTFTSQY</td>\n",
       "      <td>Cytomegalovirus(CMV)</td>\n",
       "      <td>PubMed ID: 25339770</td>\n",
       "      <td>McPas-TCR</td>\n",
       "      <td>CASSSQRESSDTQYF-YSEHPTFTSQY</td>\n",
       "    </tr>\n",
       "  </tbody>\n",
       "</table>\n",
       "<p>916 rows × 65 columns</p>\n",
       "</div>"
      ],
      "text/plain": [
       "      complex.id gene                  cdr3       v.segm      j.segm  \\\n",
       "0              0  TRA            CAVTDDKIIF  TRAV12-2*01   TRAJ30*01   \n",
       "1              0  TRA         CAVDSGGYQKVTF  TRAV12-2*01   TRAJ13*01   \n",
       "2              0  TRA            CAGGDDKIIF  TRAV12-2*01   TRAJ30*01   \n",
       "3              0  TRA            CAVKDARLMF  TRAV12-2*01   TRAJ31*01   \n",
       "4              0  TRA            CAVGSDKIIF  TRAV12-2*01   TRAJ30*01   \n",
       "...          ...  ...                   ...          ...         ...   \n",
       "1560         355  TRB  CASSYLPGQGDHYSNQPQHF    TRBV13*01  TRBJ1-5*01   \n",
       "1561           0  TRB   CASSFEAGQGFFSNQPQHF    TRBV13*01  TRBJ1-5*01   \n",
       "1562         356  TRA        CAVPSGAGSYQLTF    TRAV20*01   TRAJ28*01   \n",
       "1563         356  TRB   CASSFEPGQGFYSNQPQHF    TRBV13*01  TRBJ1-5*01   \n",
       "1565         357  TRB  CASSYEPGQVSHYSNQPQHF    TRBV13*01  TRBJ1-5*01   \n",
       "\n",
       "          species     mhc.a mhc.b mhc.class antigen.epitope  ... cdr3.len  \\\n",
       "0     HomoSapiens  HLA-A*02   B2M      MHCI       LLWNGPMAV  ...       10   \n",
       "1     HomoSapiens  HLA-A*02   B2M      MHCI       LLWNGPMAV  ...       13   \n",
       "2     HomoSapiens  HLA-A*02   B2M      MHCI       LLWNGPMAV  ...       10   \n",
       "3     HomoSapiens  HLA-A*02   B2M      MHCI       LLWNGPMAV  ...       10   \n",
       "4     HomoSapiens  HLA-A*02   B2M      MHCI       LLWNGPMAV  ...       10   \n",
       "...           ...       ...   ...       ...             ...  ...      ...   \n",
       "1560  HomoSapiens  HLA-B*08   B2M      MHCI        FLKEMGGL  ...       20   \n",
       "1561  HomoSapiens  HLA-B*08   B2M      MHCI        FLKEMGGL  ...       19   \n",
       "1562  HomoSapiens  HLA-B*08   B2M      MHCI        FLKEMGGL  ...       14   \n",
       "1563  HomoSapiens  HLA-B*08   B2M      MHCI        FLKEMGGL  ...       19   \n",
       "1565  HomoSapiens  HLA-B*08   B2M      MHCI        FLKEMGGL  ...       20   \n",
       "\n",
       "     antigen.epitope.len TRBV_gene             cdr3 TRBJ_gene antigen.epitope  \\\n",
       "0                      9    TRBV27    CASSLGSSYEQYF   TRBJ2-7       YLEPGPVTA   \n",
       "1                      9     TRBV4    CASLAGQGYNEQF   TRBJ2-1       SAYGEPRKL   \n",
       "2                      9    TRBV12     CASLGAQNNEQF   TRBJ2-1       AARAVFLAL   \n",
       "3                      9     TRBV6    CASRLWFWALEAF   TRBJ1-1       SAYGEPRKL   \n",
       "4                      9     TRBV6    CASSYSTGDEQYF   TRBJ2-7       AARAVFLAL   \n",
       "...                  ...       ...              ...       ...             ...   \n",
       "1560                   8    TRBV27       CASSSGQEAF   TRBJ1-1      TPRVTGGGAM   \n",
       "1561                   8  TRBV5-07   CASSSGTSGYEQYF   TRBJ2-7       QIKVRVKMV   \n",
       "1562                   8    TRBV27  CASSSGTSGYYNEQF   TRBJ2-1       GLCTLVAML   \n",
       "1563                   8    TRBV27  CASSSPRESTDTQYF   TRBJ2-3     YSEHPTFTSQY   \n",
       "1565                   8  TRBV7-02  CASSSQRESSDTQYF   TRBJ2-3     YSEHPTFTSQY   \n",
       "\n",
       "            Epitope species            Reference     Source  \\\n",
       "0                  Melanoma   PubMed ID: 8752841  McPas-TCR   \n",
       "1                  Melanoma   PubMed ID: 8921424  McPas-TCR   \n",
       "2                  Melanoma   PubMed ID: 8921424  McPas-TCR   \n",
       "3                  Melanoma   PubMed ID: 8921424  McPas-TCR   \n",
       "4                  Melanoma   PubMed ID: 8921424  McPas-TCR   \n",
       "...                     ...                  ...        ...   \n",
       "1560   Cytomegalovirus(CMV)  PubMed ID: 25339770  McPas-TCR   \n",
       "1561   Cytomegalovirus(CMV)  PubMed ID: 25339770  McPas-TCR   \n",
       "1562  EpsteinBarrvirus(EBV)  PubMed ID: 25339770  McPas-TCR   \n",
       "1563   Cytomegalovirus(CMV)  PubMed ID: 25339770  McPas-TCR   \n",
       "1565   Cytomegalovirus(CMV)  PubMed ID: 25339770  McPas-TCR   \n",
       "\n",
       "                           merged  \n",
       "0         CASSLGSSYEQYF-YLEPGPVTA  \n",
       "1         CASLAGQGYNEQF-SAYGEPRKL  \n",
       "2          CASLGAQNNEQF-AARAVFLAL  \n",
       "3         CASRLWFWALEAF-SAYGEPRKL  \n",
       "4         CASSYSTGDEQYF-AARAVFLAL  \n",
       "...                           ...  \n",
       "1560        CASSSGQEAF-TPRVTGGGAM  \n",
       "1561     CASSSGTSGYEQYF-QIKVRVKMV  \n",
       "1562    CASSSGTSGYYNEQF-GLCTLVAML  \n",
       "1563  CASSSPRESTDTQYF-YSEHPTFTSQY  \n",
       "1565  CASSSQRESSDTQYF-YSEHPTFTSQY  \n",
       "\n",
       "[916 rows x 65 columns]"
      ]
     },
     "execution_count": 11,
     "metadata": {},
     "output_type": "execute_result"
    }
   ],
   "source": [
    "merged = pd.concat([df,df_mcpas], axis=1, join='inner')\n",
    "merged"
   ]
  },
  {
   "cell_type": "markdown",
   "metadata": {},
   "source": [
    "## Different ways of checking overlap"
   ]
  },
  {
   "cell_type": "markdown",
   "metadata": {},
   "source": [
    "Dataframe merges"
   ]
  },
  {
   "cell_type": "code",
   "execution_count": 60,
   "metadata": {},
   "outputs": [
    {
     "data": {
      "text/html": [
       "<div>\n",
       "<style scoped>\n",
       "    .dataframe tbody tr th:only-of-type {\n",
       "        vertical-align: middle;\n",
       "    }\n",
       "\n",
       "    .dataframe tbody tr th {\n",
       "        vertical-align: top;\n",
       "    }\n",
       "\n",
       "    .dataframe thead th {\n",
       "        text-align: right;\n",
       "    }\n",
       "</style>\n",
       "<table border=\"1\" class=\"dataframe\">\n",
       "  <thead>\n",
       "    <tr style=\"text-align: right;\">\n",
       "      <th></th>\n",
       "      <th>cdr3</th>\n",
       "      <th>antigen.epitope</th>\n",
       "    </tr>\n",
       "  </thead>\n",
       "  <tbody>\n",
       "    <tr>\n",
       "      <th>0</th>\n",
       "      <td>CASSAGTGAYEQYF</td>\n",
       "      <td>LLWNGPMAV</td>\n",
       "    </tr>\n",
       "    <tr>\n",
       "      <th>1</th>\n",
       "      <td>CSARDRTGNGYTF</td>\n",
       "      <td>GLCTLVAML</td>\n",
       "    </tr>\n",
       "    <tr>\n",
       "      <th>2</th>\n",
       "      <td>CSVGTGGTNEKLFF</td>\n",
       "      <td>GLCTLVAML</td>\n",
       "    </tr>\n",
       "    <tr>\n",
       "      <th>3</th>\n",
       "      <td>CSVGSGGTNEKLFF</td>\n",
       "      <td>GLCTLVAML</td>\n",
       "    </tr>\n",
       "    <tr>\n",
       "      <th>4</th>\n",
       "      <td>CSVGAGGTNEKLFF</td>\n",
       "      <td>GLCTLVAML</td>\n",
       "    </tr>\n",
       "    <tr>\n",
       "      <th>...</th>\n",
       "      <td>...</td>\n",
       "      <td>...</td>\n",
       "    </tr>\n",
       "    <tr>\n",
       "      <th>2511</th>\n",
       "      <td>CASSIISVDGYTF</td>\n",
       "      <td>GILGFVFTL</td>\n",
       "    </tr>\n",
       "    <tr>\n",
       "      <th>2512</th>\n",
       "      <td>CASSTRSGTEQYF</td>\n",
       "      <td>GILGFVFTL</td>\n",
       "    </tr>\n",
       "    <tr>\n",
       "      <th>2513</th>\n",
       "      <td>CASSATGSTYEQYF</td>\n",
       "      <td>GILGFVFTL</td>\n",
       "    </tr>\n",
       "    <tr>\n",
       "      <th>2514</th>\n",
       "      <td>CASSARATDTQYF</td>\n",
       "      <td>GILGFVFTL</td>\n",
       "    </tr>\n",
       "    <tr>\n",
       "      <th>2515</th>\n",
       "      <td>CASSMFALDTQYF</td>\n",
       "      <td>GILGFVFTL</td>\n",
       "    </tr>\n",
       "  </tbody>\n",
       "</table>\n",
       "<p>2516 rows × 2 columns</p>\n",
       "</div>"
      ],
      "text/plain": [
       "                cdr3 antigen.epitope\n",
       "0     CASSAGTGAYEQYF       LLWNGPMAV\n",
       "1      CSARDRTGNGYTF       GLCTLVAML\n",
       "2     CSVGTGGTNEKLFF       GLCTLVAML\n",
       "3     CSVGSGGTNEKLFF       GLCTLVAML\n",
       "4     CSVGAGGTNEKLFF       GLCTLVAML\n",
       "...              ...             ...\n",
       "2511   CASSIISVDGYTF       GILGFVFTL\n",
       "2512   CASSTRSGTEQYF       GILGFVFTL\n",
       "2513  CASSATGSTYEQYF       GILGFVFTL\n",
       "2514   CASSARATDTQYF       GILGFVFTL\n",
       "2515   CASSMFALDTQYF       GILGFVFTL\n",
       "\n",
       "[2516 rows x 2 columns]"
      ]
     },
     "execution_count": 60,
     "metadata": {},
     "output_type": "execute_result"
    }
   ],
   "source": [
    "intersection = df[[\"cdr3\",\"antigen.epitope\"]].merge(df_mcpas[[\"cdr3\",\"antigen.epitope\"]]).drop_duplicates()\n",
    "intersection\n",
    "# pd.concat([df.merge(intersection), df_mcpas.merge(intersection)])"
   ]
  },
  {
   "cell_type": "code",
   "execution_count": 61,
   "metadata": {},
   "outputs": [],
   "source": [
    "in_vdjdb = df_mcpas[\"merged\"].apply(lambda x: df[\"merged\"].str.contains(x).any())"
   ]
  },
  {
   "cell_type": "code",
   "execution_count": 62,
   "metadata": {},
   "outputs": [
    {
     "data": {
      "text/plain": [
       "0       False\n",
       "1       False\n",
       "2       False\n",
       "3       False\n",
       "4       False\n",
       "        ...  \n",
       "6680    False\n",
       "6681    False\n",
       "6682     True\n",
       "6684    False\n",
       "6685    False\n",
       "Name: merged, Length: 6324, dtype: bool"
      ]
     },
     "execution_count": 62,
     "metadata": {},
     "output_type": "execute_result"
    }
   ],
   "source": [
    "in_vdjdb"
   ]
  },
  {
   "cell_type": "code",
   "execution_count": 63,
   "metadata": {},
   "outputs": [
    {
     "data": {
      "text/plain": [
       "2516"
      ]
     },
     "execution_count": 63,
     "metadata": {},
     "output_type": "execute_result"
    }
   ],
   "source": [
    "in_vdjdb.sum()"
   ]
  },
  {
   "cell_type": "code",
   "execution_count": 64,
   "metadata": {},
   "outputs": [
    {
     "data": {
      "text/html": [
       "<div>\n",
       "<style scoped>\n",
       "    .dataframe tbody tr th:only-of-type {\n",
       "        vertical-align: middle;\n",
       "    }\n",
       "\n",
       "    .dataframe tbody tr th {\n",
       "        vertical-align: top;\n",
       "    }\n",
       "\n",
       "    .dataframe thead th {\n",
       "        text-align: right;\n",
       "    }\n",
       "</style>\n",
       "<table border=\"1\" class=\"dataframe\">\n",
       "  <thead>\n",
       "    <tr style=\"text-align: right;\">\n",
       "      <th></th>\n",
       "      <th>TRBV_gene</th>\n",
       "      <th>cdr3</th>\n",
       "      <th>TRBJ_gene</th>\n",
       "      <th>antigen.epitope</th>\n",
       "      <th>Epitope species</th>\n",
       "      <th>Reference</th>\n",
       "      <th>Source</th>\n",
       "      <th>merged</th>\n",
       "    </tr>\n",
       "  </thead>\n",
       "  <tbody>\n",
       "    <tr>\n",
       "      <th>0</th>\n",
       "      <td>TRBV27</td>\n",
       "      <td>CASSLGSSYEQYF</td>\n",
       "      <td>TRBJ2-7</td>\n",
       "      <td>YLEPGPVTA</td>\n",
       "      <td>Melanoma</td>\n",
       "      <td>PubMed ID: 8752841</td>\n",
       "      <td>McPas-TCR</td>\n",
       "      <td>CASSLGSSYEQYF-YLEPGPVTA</td>\n",
       "    </tr>\n",
       "    <tr>\n",
       "      <th>1</th>\n",
       "      <td>TRBV4</td>\n",
       "      <td>CASLAGQGYNEQF</td>\n",
       "      <td>TRBJ2-1</td>\n",
       "      <td>SAYGEPRKL</td>\n",
       "      <td>Melanoma</td>\n",
       "      <td>PubMed ID: 8921424</td>\n",
       "      <td>McPas-TCR</td>\n",
       "      <td>CASLAGQGYNEQF-SAYGEPRKL</td>\n",
       "    </tr>\n",
       "    <tr>\n",
       "      <th>2</th>\n",
       "      <td>TRBV12</td>\n",
       "      <td>CASLGAQNNEQF</td>\n",
       "      <td>TRBJ2-1</td>\n",
       "      <td>AARAVFLAL</td>\n",
       "      <td>Melanoma</td>\n",
       "      <td>PubMed ID: 8921424</td>\n",
       "      <td>McPas-TCR</td>\n",
       "      <td>CASLGAQNNEQF-AARAVFLAL</td>\n",
       "    </tr>\n",
       "    <tr>\n",
       "      <th>3</th>\n",
       "      <td>TRBV6</td>\n",
       "      <td>CASRLWFWALEAF</td>\n",
       "      <td>TRBJ1-1</td>\n",
       "      <td>SAYGEPRKL</td>\n",
       "      <td>Melanoma</td>\n",
       "      <td>PubMed ID: 8921424</td>\n",
       "      <td>McPas-TCR</td>\n",
       "      <td>CASRLWFWALEAF-SAYGEPRKL</td>\n",
       "    </tr>\n",
       "    <tr>\n",
       "      <th>4</th>\n",
       "      <td>TRBV6</td>\n",
       "      <td>CASSYSTGDEQYF</td>\n",
       "      <td>TRBJ2-7</td>\n",
       "      <td>AARAVFLAL</td>\n",
       "      <td>Melanoma</td>\n",
       "      <td>PubMed ID: 8921424</td>\n",
       "      <td>McPas-TCR</td>\n",
       "      <td>CASSYSTGDEQYF-AARAVFLAL</td>\n",
       "    </tr>\n",
       "    <tr>\n",
       "      <th>...</th>\n",
       "      <td>...</td>\n",
       "      <td>...</td>\n",
       "      <td>...</td>\n",
       "      <td>...</td>\n",
       "      <td>...</td>\n",
       "      <td>...</td>\n",
       "      <td>...</td>\n",
       "      <td>...</td>\n",
       "    </tr>\n",
       "    <tr>\n",
       "      <th>6677</th>\n",
       "      <td>TRBV19</td>\n",
       "      <td>CASSKRSNPPQHF</td>\n",
       "      <td>TRBJ1-5</td>\n",
       "      <td>GILGFVFTL</td>\n",
       "      <td>Influenza</td>\n",
       "      <td>PubMed ID: 28300170</td>\n",
       "      <td>McPas-TCR</td>\n",
       "      <td>CASSKRSNPPQHF-GILGFVFTL</td>\n",
       "    </tr>\n",
       "    <tr>\n",
       "      <th>6680</th>\n",
       "      <td>TRBV19</td>\n",
       "      <td>GASSIGIFGYTF</td>\n",
       "      <td>TRBJ1-2</td>\n",
       "      <td>GILGFVFTL</td>\n",
       "      <td>Influenza</td>\n",
       "      <td>PubMed ID: 28300170</td>\n",
       "      <td>McPas-TCR</td>\n",
       "      <td>GASSIGIFGYTF-GILGFVFTL</td>\n",
       "    </tr>\n",
       "    <tr>\n",
       "      <th>6681</th>\n",
       "      <td>TRBV19</td>\n",
       "      <td>CASRIGIYGYPF</td>\n",
       "      <td>TRBJ1-2</td>\n",
       "      <td>GILGFVFTL</td>\n",
       "      <td>Influenza</td>\n",
       "      <td>PubMed ID: 28300170</td>\n",
       "      <td>McPas-TCR</td>\n",
       "      <td>CASRIGIYGYPF-GILGFVFTL</td>\n",
       "    </tr>\n",
       "    <tr>\n",
       "      <th>6684</th>\n",
       "      <td>TRBV19</td>\n",
       "      <td>CASSSRSAIEQFF</td>\n",
       "      <td>TRBJ2-1</td>\n",
       "      <td>GILGFVFTL</td>\n",
       "      <td>Influenza</td>\n",
       "      <td>PubMed ID: 28300170</td>\n",
       "      <td>McPas-TCR</td>\n",
       "      <td>CASSSRSAIEQFF-GILGFVFTL</td>\n",
       "    </tr>\n",
       "    <tr>\n",
       "      <th>6685</th>\n",
       "      <td>TRBV7-2</td>\n",
       "      <td>CASSTSLGGGGRQSF</td>\n",
       "      <td>TRBJ2-7</td>\n",
       "      <td>GILGFVFTL</td>\n",
       "      <td>Influenza</td>\n",
       "      <td>PubMed ID: 28300170</td>\n",
       "      <td>McPas-TCR</td>\n",
       "      <td>CASSTSLGGGGRQSF-GILGFVFTL</td>\n",
       "    </tr>\n",
       "  </tbody>\n",
       "</table>\n",
       "<p>3808 rows × 8 columns</p>\n",
       "</div>"
      ],
      "text/plain": [
       "     TRBV_gene             cdr3 TRBJ_gene antigen.epitope Epitope species  \\\n",
       "0       TRBV27    CASSLGSSYEQYF   TRBJ2-7       YLEPGPVTA        Melanoma   \n",
       "1        TRBV4    CASLAGQGYNEQF   TRBJ2-1       SAYGEPRKL        Melanoma   \n",
       "2       TRBV12     CASLGAQNNEQF   TRBJ2-1       AARAVFLAL        Melanoma   \n",
       "3        TRBV6    CASRLWFWALEAF   TRBJ1-1       SAYGEPRKL        Melanoma   \n",
       "4        TRBV6    CASSYSTGDEQYF   TRBJ2-7       AARAVFLAL        Melanoma   \n",
       "...        ...              ...       ...             ...             ...   \n",
       "6677    TRBV19    CASSKRSNPPQHF   TRBJ1-5       GILGFVFTL       Influenza   \n",
       "6680    TRBV19     GASSIGIFGYTF   TRBJ1-2       GILGFVFTL       Influenza   \n",
       "6681    TRBV19     CASRIGIYGYPF   TRBJ1-2       GILGFVFTL       Influenza   \n",
       "6684    TRBV19    CASSSRSAIEQFF   TRBJ2-1       GILGFVFTL       Influenza   \n",
       "6685   TRBV7-2  CASSTSLGGGGRQSF   TRBJ2-7       GILGFVFTL       Influenza   \n",
       "\n",
       "                Reference     Source                     merged  \n",
       "0      PubMed ID: 8752841  McPas-TCR    CASSLGSSYEQYF-YLEPGPVTA  \n",
       "1      PubMed ID: 8921424  McPas-TCR    CASLAGQGYNEQF-SAYGEPRKL  \n",
       "2      PubMed ID: 8921424  McPas-TCR     CASLGAQNNEQF-AARAVFLAL  \n",
       "3      PubMed ID: 8921424  McPas-TCR    CASRLWFWALEAF-SAYGEPRKL  \n",
       "4      PubMed ID: 8921424  McPas-TCR    CASSYSTGDEQYF-AARAVFLAL  \n",
       "...                   ...        ...                        ...  \n",
       "6677  PubMed ID: 28300170  McPas-TCR    CASSKRSNPPQHF-GILGFVFTL  \n",
       "6680  PubMed ID: 28300170  McPas-TCR     GASSIGIFGYTF-GILGFVFTL  \n",
       "6681  PubMed ID: 28300170  McPas-TCR     CASRIGIYGYPF-GILGFVFTL  \n",
       "6684  PubMed ID: 28300170  McPas-TCR    CASSSRSAIEQFF-GILGFVFTL  \n",
       "6685  PubMed ID: 28300170  McPas-TCR  CASSTSLGGGGRQSF-GILGFVFTL  \n",
       "\n",
       "[3808 rows x 8 columns]"
      ]
     },
     "execution_count": 64,
     "metadata": {},
     "output_type": "execute_result"
    }
   ],
   "source": [
    "df_mcpas[~in_vdjdb]"
   ]
  },
  {
   "cell_type": "code",
   "execution_count": 65,
   "metadata": {},
   "outputs": [
    {
     "data": {
      "text/plain": [
       "array(['YLEPGPVTA', 'SAYGEPRKL', 'AARAVFLAL', 'EAAGIGILTV', 'IVTDFSVIK',\n",
       "       'AVFDRKSDAK', 'GLCTLVAML', 'RAKFKQLL', 'NLVPMVATV', 'EENLLDFVRF',\n",
       "       'KAFSPEVIPMF', 'RAFSPEVIPMF', 'RPRGEVRFL', 'ELAGIGILTV',\n",
       "       'HSKKKCDEL', 'ATDALMTGY', 'TPRVTGGGAM', 'FLRGRAYGL', 'TQGYFPDWQNY',\n",
       "       'EIYKRWII', 'FLKEKGGL', 'KRWIIMGLNK', 'ISPRTLNAW', 'QASQEVKNW',\n",
       "       'GLNKIVRMY', 'KRWIILGLNK', 'QYDPVAALF', 'YVLDHLIVV', 'FWIDLFETIG',\n",
       "       'RYPLTFGWCF', 'RYPLTFGW', 'GILGFVFTL', 'YSEHPTFTSQY', 'QIKVRVKMV',\n",
       "       'HPVGEADYFEY', 'RPPIFIRRL', 'EPLPQGQLTAY', 'VLEETSVML',\n",
       "       'ALTPVVVTL', 'FPRPWLHGL', 'IIKDYGKQM', 'LPPIVAKEI', 'HPKVSSEVHI',\n",
       "       'TPQDLNTML', 'TPGPGVRYPL', 'PQPELPYPQPE', 'LLWNGPMAV', 'VTEHDTLLY',\n",
       "       'LPRRSGAAGA', 'VLFGLGFAI'], dtype=object)"
      ]
     },
     "execution_count": 65,
     "metadata": {},
     "output_type": "execute_result"
    }
   ],
   "source": [
    "df_mcpas.loc[~in_vdjdb,\"antigen.epitope\"].unique()"
   ]
  },
  {
   "cell_type": "code",
   "execution_count": 66,
   "metadata": {},
   "outputs": [
    {
     "data": {
      "text/plain": [
       "50"
      ]
     },
     "execution_count": 66,
     "metadata": {},
     "output_type": "execute_result"
    }
   ],
   "source": [
    "len(df_mcpas.loc[~in_vdjdb,\"antigen.epitope\"].unique())"
   ]
  },
  {
   "cell_type": "code",
   "execution_count": 67,
   "metadata": {},
   "outputs": [
    {
     "data": {
      "text/plain": [
       "array(['YLEPGPVTA', 'SAYGEPRKL', 'AARAVFLAL', 'EAAGIGILTV', 'IVTDFSVIK',\n",
       "       'AVFDRKSDAK', 'GLCTLVAML', 'RAKFKQLL', 'NLVPMVATV', 'EENLLDFVRF',\n",
       "       'KAFSPEVIPMF', 'RAFSPEVIPMF', 'RPRGEVRFL', 'ELAGIGILTV',\n",
       "       'HSKKKCDEL', 'ATDALMTGY', 'TPRVTGGGAM', 'FLRGRAYGL', 'TQGYFPDWQNY',\n",
       "       'EIYKRWII', 'FLKEKGGL', 'KRWIIMGLNK', 'ISPRTLNAW', 'QASQEVKNW',\n",
       "       'GLNKIVRMY', 'KRWIILGLNK', 'QYDPVAALF', 'YVLDHLIVV', 'FWIDLFETIG',\n",
       "       'RYPLTFGWCF', 'RYPLTFGW', 'GILGFVFTL', 'YSEHPTFTSQY', 'QIKVRVKMV',\n",
       "       'HPVGEADYFEY', 'RPPIFIRRL', 'EPLPQGQLTAY', 'VLEETSVML',\n",
       "       'ALTPVVVTL', 'FPRPWLHGL', 'IIKDYGKQM', 'LPPIVAKEI', 'HPKVSSEVHI',\n",
       "       'TPQDLNTML', 'TPGPGVRYPL', 'PQPELPYPQPE', 'LLWNGPMAV', 'VTEHDTLLY',\n",
       "       'LPRRSGAAGA', 'VLFGLGFAI'], dtype=object)"
      ]
     },
     "execution_count": 67,
     "metadata": {},
     "output_type": "execute_result"
    }
   ],
   "source": [
    "df_mcpas.loc[~in_vdjdb,\"antigen.epitope\"].unique()"
   ]
  },
  {
   "cell_type": "code",
   "execution_count": 68,
   "metadata": {},
   "outputs": [
    {
     "data": {
      "text/plain": [
       "{'AARAVFLAL',\n",
       " 'ALTPVVVTL',\n",
       " 'FWIDLFETIG',\n",
       " 'PQPELPYPQPE',\n",
       " 'RAFSPEVIPMF',\n",
       " 'RYPLTFGW',\n",
       " 'SAYGEPRKL',\n",
       " 'VLFGLGFAI',\n",
       " 'YLEPGPVTA'}"
      ]
     },
     "execution_count": 68,
     "metadata": {},
     "output_type": "execute_result"
    }
   ],
   "source": [
    "unique_epitopes = set(df_mcpas.loc[~in_vdjdb,\"antigen.epitope\"].unique()) - set(df[\"antigen.epitope\"].unique())\n",
    "unique_epitopes"
   ]
  },
  {
   "cell_type": "code",
   "execution_count": 69,
   "metadata": {},
   "outputs": [
    {
     "data": {
      "text/plain": [
       "(64,)"
      ]
     },
     "execution_count": 69,
     "metadata": {},
     "output_type": "execute_result"
    }
   ],
   "source": [
    "df_mcpas.loc[df_mcpas[\"antigen.epitope\"].isin(unique_epitopes),\"antigen.epitope\"].shape"
   ]
  },
  {
   "cell_type": "markdown",
   "metadata": {},
   "source": [
    "## Find unique and non-unique CDR3-epitope pairs in the McPAS dataset when compared to VDJdb via set overlap"
   ]
  },
  {
   "cell_type": "code",
   "execution_count": null,
   "metadata": {},
   "outputs": [],
   "source": []
  },
  {
   "cell_type": "code",
   "execution_count": 12,
   "metadata": {
    "scrolled": true
   },
   "outputs": [
    {
     "data": {
      "text/plain": [
       "{'AAGIGILTV',\n",
       " 'ALGIGILTV',\n",
       " 'ALWGPDPAAA',\n",
       " 'AMFWSVPTV',\n",
       " 'ARMILMTHF',\n",
       " 'CINGVCWTV',\n",
       " 'CLGGLLTMV',\n",
       " 'CLNEYHLFL',\n",
       " 'CVETMCNEY',\n",
       " 'CVNGSCFTV',\n",
       " 'DEEDAIAAY',\n",
       " 'EEYLKAWTF',\n",
       " 'EEYLQAFTY',\n",
       " 'EFFWDANDIY',\n",
       " 'ELAAIGILTV',\n",
       " 'ELAGIGALTV',\n",
       " 'ELAGIGLTV',\n",
       " 'ELKRKMIYM',\n",
       " 'ELRRKMMYM',\n",
       " 'FLGKIWPSHK',\n",
       " 'FLKEMGGL',\n",
       " 'FLKEQGGL',\n",
       " 'FLKETGGL',\n",
       " 'FLYNLLTRV',\n",
       " 'FPQGEAREL',\n",
       " 'FPTKDVAL',\n",
       " 'GEIYKRWII',\n",
       " 'GPGHKARVL',\n",
       " 'GPGMKARVL',\n",
       " 'GTSGSPIIDK',\n",
       " 'GTSGSPIINR',\n",
       " 'GTSGSPIVNR',\n",
       " 'HPVGDADYFEY',\n",
       " 'HPVGQADYFEY',\n",
       " 'IILVAVPHV',\n",
       " 'ILAKFLHWL',\n",
       " 'ILKEPVHGV',\n",
       " 'IPSINVHHY',\n",
       " 'KIFGSLAFL',\n",
       " 'KINAWIKVV',\n",
       " 'KLMNIQQKL',\n",
       " 'KLSALGINAV',\n",
       " 'KLVALGINAV',\n",
       " 'LGYGFVNYI',\n",
       " 'LLFGFPVYV',\n",
       " 'LLFGKPVYV',\n",
       " 'LLFGPVYV',\n",
       " 'LLFGYAVYV',\n",
       " 'LLFGYPRYV',\n",
       " 'LLFGYPVAV',\n",
       " 'LLFGYPVYV',\n",
       " 'LLLGIGILV',\n",
       " 'MLGEQLFPL',\n",
       " 'MLNIPSINV',\n",
       " 'MLWGYLQYV',\n",
       " 'NEGVKAAW',\n",
       " 'NLSALGIFST',\n",
       " 'QIKVRVDMV',\n",
       " 'QVPLRPMTYK',\n",
       " 'RFPLTFGWCF',\n",
       " 'RLRPGGKKK',\n",
       " 'RLRPGGKKR',\n",
       " 'RLRPGGRKR',\n",
       " 'RMFPNAPYL',\n",
       " 'RPHERNGFTV',\n",
       " 'RPHERNGFTVL',\n",
       " 'RYPLTLGWCF',\n",
       " 'SFHSLHLLF',\n",
       " 'SLLMWITQC',\n",
       " 'SLLMWITQV',\n",
       " 'SLYNTVATL',\n",
       " 'TAFTIPSI',\n",
       " 'TLNAWVKVV',\n",
       " 'VAANIVLTV',\n",
       " 'VMAPRTLIL',\n",
       " 'VSFIEFVGW',\n",
       " 'YILEETSVM',\n",
       " 'YPLHEQHGM'}"
      ]
     },
     "execution_count": 12,
     "metadata": {},
     "output_type": "execute_result"
    }
   ],
   "source": [
    "unique = set(df[\"antigen.epitope\"].unique()) - set(df_mcpas[\"antigen.epitope\"].unique())\n",
    "unique"
   ]
  },
  {
   "cell_type": "code",
   "execution_count": null,
   "metadata": {},
   "outputs": [],
   "source": []
  },
  {
   "cell_type": "code",
   "execution_count": null,
   "metadata": {},
   "outputs": [],
   "source": []
  },
  {
   "cell_type": "markdown",
   "metadata": {},
   "source": [
    "Check for sequence pairs where the epitope is unique to McPAS"
   ]
  },
  {
   "cell_type": "code",
   "execution_count": 70,
   "metadata": {},
   "outputs": [
    {
     "data": {
      "text/plain": [
       "{'AARAVFLAL',\n",
       " 'ALTPVVVTL',\n",
       " 'FWIDLFETIG',\n",
       " 'PQPELPYPQPE',\n",
       " 'RAFSPEVIPMF',\n",
       " 'RYPLTFGW',\n",
       " 'SAYGEPRKL',\n",
       " 'VLFGLGFAI',\n",
       " 'YLEPGPVTA'}"
      ]
     },
     "execution_count": 70,
     "metadata": {},
     "output_type": "execute_result"
    }
   ],
   "source": [
    "unique = set(df_mcpas[\"antigen.epitope\"].unique()) - set(df[\"antigen.epitope\"].unique())\n",
    "unique"
   ]
  },
  {
   "cell_type": "code",
   "execution_count": 71,
   "metadata": {},
   "outputs": [
    {
     "data": {
      "text/plain": [
       "antigen.epitope\n",
       "VLFGLGFAI      15\n",
       "FWIDLFETIG     14\n",
       "PQPELPYPQPE    10\n",
       "RYPLTFGW        8\n",
       "RAFSPEVIPMF     6\n",
       "ALTPVVVTL       6\n",
       "SAYGEPRKL       2\n",
       "AARAVFLAL       2\n",
       "YLEPGPVTA       1\n",
       "dtype: int64"
      ]
     },
     "execution_count": 71,
     "metadata": {},
     "output_type": "execute_result"
    }
   ],
   "source": [
    "df_mcpas[df_mcpas[\"antigen.epitope\"].isin(unique)].groupby(\"antigen.epitope\").size().sort_values(ascending=False)"
   ]
  },
  {
   "cell_type": "code",
   "execution_count": 72,
   "metadata": {},
   "outputs": [],
   "source": [
    "df_mcpas_unique = df_mcpas[df_mcpas[\"antigen.epitope\"].isin(unique)]"
   ]
  },
  {
   "cell_type": "code",
   "execution_count": 73,
   "metadata": {},
   "outputs": [],
   "source": [
    "# df_mcpas_unique.to_csv(PROJECT_ROOT / \"data/interim/mcpas/mcpas-human-trb-mhci-size-unique.csv\", index=False, sep=\";\")"
   ]
  },
  {
   "cell_type": "markdown",
   "metadata": {},
   "source": [
    "Check for CDR3-epitope pairs where the epitope occurs in the VDJdb dataset, but the actual sequence pair does not."
   ]
  },
  {
   "cell_type": "code",
   "execution_count": 74,
   "metadata": {
    "scrolled": true
   },
   "outputs": [
    {
     "data": {
      "text/plain": [
       "42"
      ]
     },
     "execution_count": 74,
     "metadata": {},
     "output_type": "execute_result"
    }
   ],
   "source": [
    "shared = set(df_mcpas[\"antigen.epitope\"].unique()).intersection(set(df[\"antigen.epitope\"].unique()))\n",
    "len(shared)"
   ]
  },
  {
   "cell_type": "code",
   "execution_count": 75,
   "metadata": {
    "scrolled": true
   },
   "outputs": [
    {
     "data": {
      "text/plain": [
       "antigen.epitope\n",
       "LPRRSGAAGA     2134\n",
       "GILGFVFTL       992\n",
       "GLCTLVAML       791\n",
       "NLVPMVATV       418\n",
       "VTEHDTLLY       273\n",
       "EAAGIGILTV      262\n",
       "LLWNGPMAV       178\n",
       "RAKFKQLL        137\n",
       "KAFSPEVIPMF     114\n",
       "TPRVTGGGAM      111\n",
       "KRWIILGLNK       98\n",
       "FPRPWLHGL        85\n",
       "ELAGIGILTV       62\n",
       "HPKVSSEVHI       52\n",
       "TPQDLNTML        45\n",
       "YSEHPTFTSQY      45\n",
       "LPPIVAKEI        44\n",
       "TPGPGVRYPL       42\n",
       "EIYKRWII         36\n",
       "YVLDHLIVV        36\n",
       "RPRGEVRFL        30\n",
       "RYPLTFGWCF       30\n",
       "HSKKKCDEL        29\n",
       "IIKDYGKQM        25\n",
       "QYDPVAALF        25\n",
       "QIKVRVKMV        24\n",
       "CTELKLSDY        24\n",
       "ATDALMTGY        24\n",
       "IVTDFSVIK        19\n",
       "FLKEKGGL         10\n",
       "ISPRTLNAW        10\n",
       "AVFDRKSDAK       10\n",
       "FLRGRAYGL         8\n",
       "TQGYFPDWQNY       7\n",
       "KRWIIMGLNK        7\n",
       "GLNKIVRMY         5\n",
       "EPLPQGQLTAY       5\n",
       "HPVGEADYFEY       4\n",
       "QASQEVKNW         3\n",
       "RPPIFIRRL         2\n",
       "EENLLDFVRF        2\n",
       "VLEETSVML         2\n",
       "dtype: int64"
      ]
     },
     "execution_count": 75,
     "metadata": {},
     "output_type": "execute_result"
    }
   ],
   "source": [
    "df_mcpas[df_mcpas[\"antigen.epitope\"].isin(shared)].groupby(\"antigen.epitope\").size().sort_values(ascending=False)"
   ]
  },
  {
   "cell_type": "code",
   "execution_count": 76,
   "metadata": {
    "scrolled": true
   },
   "outputs": [
    {
     "data": {
      "text/html": [
       "<div>\n",
       "<style scoped>\n",
       "    .dataframe tbody tr th:only-of-type {\n",
       "        vertical-align: middle;\n",
       "    }\n",
       "\n",
       "    .dataframe tbody tr th {\n",
       "        vertical-align: top;\n",
       "    }\n",
       "\n",
       "    .dataframe thead th {\n",
       "        text-align: right;\n",
       "    }\n",
       "</style>\n",
       "<table border=\"1\" class=\"dataframe\">\n",
       "  <thead>\n",
       "    <tr style=\"text-align: right;\">\n",
       "      <th></th>\n",
       "      <th>TRBV_gene</th>\n",
       "      <th>cdr3</th>\n",
       "      <th>TRBJ_gene</th>\n",
       "      <th>antigen.epitope</th>\n",
       "      <th>Epitope species</th>\n",
       "      <th>Reference</th>\n",
       "      <th>Source</th>\n",
       "      <th>merged</th>\n",
       "    </tr>\n",
       "  </thead>\n",
       "  <tbody>\n",
       "    <tr>\n",
       "      <th>5</th>\n",
       "      <td>TRBV7</td>\n",
       "      <td>CASSQGTSQFNEQF</td>\n",
       "      <td>TRBJ2-1</td>\n",
       "      <td>EAAGIGILTV</td>\n",
       "      <td>Melanoma</td>\n",
       "      <td>PubMed ID: 9103444</td>\n",
       "      <td>McPas-TCR</td>\n",
       "      <td>CASSQGTSQFNEQF-EAAGIGILTV</td>\n",
       "    </tr>\n",
       "    <tr>\n",
       "      <th>6</th>\n",
       "      <td>TRBV4</td>\n",
       "      <td>CASSSGQGLNIQYF</td>\n",
       "      <td>TRBJ2-4</td>\n",
       "      <td>EAAGIGILTV</td>\n",
       "      <td>Melanoma</td>\n",
       "      <td>PubMed ID: 9103444</td>\n",
       "      <td>McPas-TCR</td>\n",
       "      <td>CASSSGQGLNIQYF-EAAGIGILTV</td>\n",
       "    </tr>\n",
       "    <tr>\n",
       "      <th>7</th>\n",
       "      <td>TRBV2</td>\n",
       "      <td>CASSESAGGYYNEQF</td>\n",
       "      <td>TRBJ2-1</td>\n",
       "      <td>IVTDFSVIK</td>\n",
       "      <td>EpsteinBarrvirus(EBV)</td>\n",
       "      <td>PubMed ID: 9207000</td>\n",
       "      <td>McPas-TCR</td>\n",
       "      <td>CASSESAGGYYNEQF-IVTDFSVIK</td>\n",
       "    </tr>\n",
       "    <tr>\n",
       "      <th>8</th>\n",
       "      <td>TRBV11-01</td>\n",
       "      <td>CASSFGFGSSYGYTF</td>\n",
       "      <td>TRBJ1-2</td>\n",
       "      <td>IVTDFSVIK</td>\n",
       "      <td>EpsteinBarrvirus(EBV)</td>\n",
       "      <td>PubMed ID: 9207000</td>\n",
       "      <td>McPas-TCR</td>\n",
       "      <td>CASSFGFGSSYGYTF-IVTDFSVIK</td>\n",
       "    </tr>\n",
       "    <tr>\n",
       "      <th>9</th>\n",
       "      <td>TRBV28</td>\n",
       "      <td>CASSLASATGELF</td>\n",
       "      <td>TRBJ2-2</td>\n",
       "      <td>AVFDRKSDAK</td>\n",
       "      <td>EpsteinBarrvirus(EBV)</td>\n",
       "      <td>PubMed ID: 9207000</td>\n",
       "      <td>McPas-TCR</td>\n",
       "      <td>CASSLASATGELF-AVFDRKSDAK</td>\n",
       "    </tr>\n",
       "    <tr>\n",
       "      <th>...</th>\n",
       "      <td>...</td>\n",
       "      <td>...</td>\n",
       "      <td>...</td>\n",
       "      <td>...</td>\n",
       "      <td>...</td>\n",
       "      <td>...</td>\n",
       "      <td>...</td>\n",
       "      <td>...</td>\n",
       "    </tr>\n",
       "    <tr>\n",
       "      <th>6680</th>\n",
       "      <td>TRBV19</td>\n",
       "      <td>GASSIGIFGYTF</td>\n",
       "      <td>TRBJ1-2</td>\n",
       "      <td>GILGFVFTL</td>\n",
       "      <td>Influenza</td>\n",
       "      <td>PubMed ID: 28300170</td>\n",
       "      <td>McPas-TCR</td>\n",
       "      <td>GASSIGIFGYTF-GILGFVFTL</td>\n",
       "    </tr>\n",
       "    <tr>\n",
       "      <th>6681</th>\n",
       "      <td>TRBV19</td>\n",
       "      <td>CASRIGIYGYPF</td>\n",
       "      <td>TRBJ1-2</td>\n",
       "      <td>GILGFVFTL</td>\n",
       "      <td>Influenza</td>\n",
       "      <td>PubMed ID: 28300170</td>\n",
       "      <td>McPas-TCR</td>\n",
       "      <td>CASRIGIYGYPF-GILGFVFTL</td>\n",
       "    </tr>\n",
       "    <tr>\n",
       "      <th>6682</th>\n",
       "      <td>TRBV19</td>\n",
       "      <td>CASSTGSYGYTF</td>\n",
       "      <td>TRBJ1-2</td>\n",
       "      <td>GILGFVFTL</td>\n",
       "      <td>Influenza</td>\n",
       "      <td>PubMed ID: 28300170</td>\n",
       "      <td>McPas-TCR</td>\n",
       "      <td>CASSTGSYGYTF-GILGFVFTL</td>\n",
       "    </tr>\n",
       "    <tr>\n",
       "      <th>6684</th>\n",
       "      <td>TRBV19</td>\n",
       "      <td>CASSSRSAIEQFF</td>\n",
       "      <td>TRBJ2-1</td>\n",
       "      <td>GILGFVFTL</td>\n",
       "      <td>Influenza</td>\n",
       "      <td>PubMed ID: 28300170</td>\n",
       "      <td>McPas-TCR</td>\n",
       "      <td>CASSSRSAIEQFF-GILGFVFTL</td>\n",
       "    </tr>\n",
       "    <tr>\n",
       "      <th>6685</th>\n",
       "      <td>TRBV7-2</td>\n",
       "      <td>CASSTSLGGGGRQSF</td>\n",
       "      <td>TRBJ2-7</td>\n",
       "      <td>GILGFVFTL</td>\n",
       "      <td>Influenza</td>\n",
       "      <td>PubMed ID: 28300170</td>\n",
       "      <td>McPas-TCR</td>\n",
       "      <td>CASSTSLGGGGRQSF-GILGFVFTL</td>\n",
       "    </tr>\n",
       "  </tbody>\n",
       "</table>\n",
       "<p>6260 rows × 8 columns</p>\n",
       "</div>"
      ],
      "text/plain": [
       "      TRBV_gene             cdr3 TRBJ_gene antigen.epitope  \\\n",
       "5         TRBV7   CASSQGTSQFNEQF   TRBJ2-1      EAAGIGILTV   \n",
       "6         TRBV4   CASSSGQGLNIQYF   TRBJ2-4      EAAGIGILTV   \n",
       "7         TRBV2  CASSESAGGYYNEQF   TRBJ2-1       IVTDFSVIK   \n",
       "8     TRBV11-01  CASSFGFGSSYGYTF   TRBJ1-2       IVTDFSVIK   \n",
       "9        TRBV28    CASSLASATGELF   TRBJ2-2      AVFDRKSDAK   \n",
       "...         ...              ...       ...             ...   \n",
       "6680     TRBV19     GASSIGIFGYTF   TRBJ1-2       GILGFVFTL   \n",
       "6681     TRBV19     CASRIGIYGYPF   TRBJ1-2       GILGFVFTL   \n",
       "6682     TRBV19     CASSTGSYGYTF   TRBJ1-2       GILGFVFTL   \n",
       "6684     TRBV19    CASSSRSAIEQFF   TRBJ2-1       GILGFVFTL   \n",
       "6685    TRBV7-2  CASSTSLGGGGRQSF   TRBJ2-7       GILGFVFTL   \n",
       "\n",
       "            Epitope species            Reference     Source  \\\n",
       "5                  Melanoma   PubMed ID: 9103444  McPas-TCR   \n",
       "6                  Melanoma   PubMed ID: 9103444  McPas-TCR   \n",
       "7     EpsteinBarrvirus(EBV)   PubMed ID: 9207000  McPas-TCR   \n",
       "8     EpsteinBarrvirus(EBV)   PubMed ID: 9207000  McPas-TCR   \n",
       "9     EpsteinBarrvirus(EBV)   PubMed ID: 9207000  McPas-TCR   \n",
       "...                     ...                  ...        ...   \n",
       "6680              Influenza  PubMed ID: 28300170  McPas-TCR   \n",
       "6681              Influenza  PubMed ID: 28300170  McPas-TCR   \n",
       "6682              Influenza  PubMed ID: 28300170  McPas-TCR   \n",
       "6684              Influenza  PubMed ID: 28300170  McPas-TCR   \n",
       "6685              Influenza  PubMed ID: 28300170  McPas-TCR   \n",
       "\n",
       "                         merged  \n",
       "5     CASSQGTSQFNEQF-EAAGIGILTV  \n",
       "6     CASSSGQGLNIQYF-EAAGIGILTV  \n",
       "7     CASSESAGGYYNEQF-IVTDFSVIK  \n",
       "8     CASSFGFGSSYGYTF-IVTDFSVIK  \n",
       "9      CASSLASATGELF-AVFDRKSDAK  \n",
       "...                         ...  \n",
       "6680     GASSIGIFGYTF-GILGFVFTL  \n",
       "6681     CASRIGIYGYPF-GILGFVFTL  \n",
       "6682     CASSTGSYGYTF-GILGFVFTL  \n",
       "6684    CASSSRSAIEQFF-GILGFVFTL  \n",
       "6685  CASSTSLGGGGRQSF-GILGFVFTL  \n",
       "\n",
       "[6260 rows x 8 columns]"
      ]
     },
     "execution_count": 76,
     "metadata": {},
     "output_type": "execute_result"
    }
   ],
   "source": [
    "df_mcpas_shared = df_mcpas[df_mcpas[\"antigen.epitope\"].isin(shared)]\n",
    "df_mcpas_shared\n",
    "# this is not enough, the dataset still contains many duplicate entries that already exist in VDJdb."
   ]
  },
  {
   "cell_type": "code",
   "execution_count": 77,
   "metadata": {},
   "outputs": [
    {
     "data": {
      "text/html": [
       "<div>\n",
       "<style scoped>\n",
       "    .dataframe tbody tr th:only-of-type {\n",
       "        vertical-align: middle;\n",
       "    }\n",
       "\n",
       "    .dataframe tbody tr th {\n",
       "        vertical-align: top;\n",
       "    }\n",
       "\n",
       "    .dataframe thead th {\n",
       "        text-align: right;\n",
       "    }\n",
       "</style>\n",
       "<table border=\"1\" class=\"dataframe\">\n",
       "  <thead>\n",
       "    <tr style=\"text-align: right;\">\n",
       "      <th></th>\n",
       "      <th>cdr3</th>\n",
       "      <th>antigen.epitope</th>\n",
       "      <th>_merge</th>\n",
       "    </tr>\n",
       "  </thead>\n",
       "  <tbody>\n",
       "    <tr>\n",
       "      <th>0</th>\n",
       "      <td>CASSQGTSQFNEQF</td>\n",
       "      <td>EAAGIGILTV</td>\n",
       "      <td>left_only</td>\n",
       "    </tr>\n",
       "    <tr>\n",
       "      <th>1</th>\n",
       "      <td>CASSSGQGLNIQYF</td>\n",
       "      <td>EAAGIGILTV</td>\n",
       "      <td>left_only</td>\n",
       "    </tr>\n",
       "    <tr>\n",
       "      <th>2</th>\n",
       "      <td>CASSESAGGYYNEQF</td>\n",
       "      <td>IVTDFSVIK</td>\n",
       "      <td>left_only</td>\n",
       "    </tr>\n",
       "    <tr>\n",
       "      <th>3</th>\n",
       "      <td>CASSFGFGSSYGYTF</td>\n",
       "      <td>IVTDFSVIK</td>\n",
       "      <td>left_only</td>\n",
       "    </tr>\n",
       "    <tr>\n",
       "      <th>4</th>\n",
       "      <td>CASSLASATGELF</td>\n",
       "      <td>AVFDRKSDAK</td>\n",
       "      <td>left_only</td>\n",
       "    </tr>\n",
       "    <tr>\n",
       "      <th>...</th>\n",
       "      <td>...</td>\n",
       "      <td>...</td>\n",
       "      <td>...</td>\n",
       "    </tr>\n",
       "    <tr>\n",
       "      <th>6254</th>\n",
       "      <td>CASSKRSNPPQHF</td>\n",
       "      <td>GILGFVFTL</td>\n",
       "      <td>left_only</td>\n",
       "    </tr>\n",
       "    <tr>\n",
       "      <th>6255</th>\n",
       "      <td>GASSIGIFGYTF</td>\n",
       "      <td>GILGFVFTL</td>\n",
       "      <td>left_only</td>\n",
       "    </tr>\n",
       "    <tr>\n",
       "      <th>6256</th>\n",
       "      <td>CASRIGIYGYPF</td>\n",
       "      <td>GILGFVFTL</td>\n",
       "      <td>left_only</td>\n",
       "    </tr>\n",
       "    <tr>\n",
       "      <th>6258</th>\n",
       "      <td>CASSSRSAIEQFF</td>\n",
       "      <td>GILGFVFTL</td>\n",
       "      <td>left_only</td>\n",
       "    </tr>\n",
       "    <tr>\n",
       "      <th>6259</th>\n",
       "      <td>CASSTSLGGGGRQSF</td>\n",
       "      <td>GILGFVFTL</td>\n",
       "      <td>left_only</td>\n",
       "    </tr>\n",
       "  </tbody>\n",
       "</table>\n",
       "<p>3744 rows × 3 columns</p>\n",
       "</div>"
      ],
      "text/plain": [
       "                 cdr3 antigen.epitope     _merge\n",
       "0      CASSQGTSQFNEQF      EAAGIGILTV  left_only\n",
       "1      CASSSGQGLNIQYF      EAAGIGILTV  left_only\n",
       "2     CASSESAGGYYNEQF       IVTDFSVIK  left_only\n",
       "3     CASSFGFGSSYGYTF       IVTDFSVIK  left_only\n",
       "4       CASSLASATGELF      AVFDRKSDAK  left_only\n",
       "...               ...             ...        ...\n",
       "6254    CASSKRSNPPQHF       GILGFVFTL  left_only\n",
       "6255     GASSIGIFGYTF       GILGFVFTL  left_only\n",
       "6256     CASRIGIYGYPF       GILGFVFTL  left_only\n",
       "6258    CASSSRSAIEQFF       GILGFVFTL  left_only\n",
       "6259  CASSTSLGGGGRQSF       GILGFVFTL  left_only\n",
       "\n",
       "[3744 rows x 3 columns]"
      ]
     },
     "execution_count": 77,
     "metadata": {},
     "output_type": "execute_result"
    }
   ],
   "source": [
    "df_mcpas_shared = df_mcpas_shared[[\"cdr3\", \"antigen.epitope\"]].merge(df[[\"cdr3\", \"antigen.epitope\"]],indicator = True, how='left').loc[lambda x : x['_merge']=='left_only']\n",
    "df_mcpas_shared"
   ]
  },
  {
   "cell_type": "code",
   "execution_count": 78,
   "metadata": {},
   "outputs": [
    {
     "data": {
      "text/plain": [
       "left_only     3744\n",
       "both             0\n",
       "right_only       0\n",
       "Name: _merge, dtype: int64"
      ]
     },
     "execution_count": 78,
     "metadata": {},
     "output_type": "execute_result"
    }
   ],
   "source": [
    "df_mcpas_shared[[\"cdr3\", \"antigen.epitope\"]].merge(df[[\"cdr3\", \"antigen.epitope\"]],indicator = True, how='left').loc[lambda x : x['_merge']!='both'][\"_merge\"].value_counts()"
   ]
  },
  {
   "cell_type": "code",
   "execution_count": 79,
   "metadata": {},
   "outputs": [],
   "source": [
    "# df_mcpas_shared.to_csv(PROJECT_ROOT / \"data/interim/mcpas/mcpas-human-trb-mhci-size-shared.csv\", index=False, sep=\";\")"
   ]
  },
  {
   "cell_type": "markdown",
   "metadata": {},
   "source": [
    "# VDJdb update"
   ]
  },
  {
   "cell_type": "markdown",
   "metadata": {},
   "source": [
    "## Without length restriction"
   ]
  },
  {
   "cell_type": "code",
   "execution_count": 36,
   "metadata": {},
   "outputs": [
    {
     "name": "stderr",
     "output_type": "stream",
     "text": [
      "/home/pieter/miniconda3/envs/deepTCR/lib/python3.7/site-packages/ipykernel_launcher.py:7: FutureWarning: pandas.io.json.json_normalize is deprecated, use pandas.json_normalize instead\n",
      "  import sys\n",
      "/home/pieter/miniconda3/envs/deepTCR/lib/python3.7/site-packages/ipykernel_launcher.py:8: FutureWarning: pandas.io.json.json_normalize is deprecated, use pandas.json_normalize instead\n",
      "  \n",
      "/home/pieter/miniconda3/envs/deepTCR/lib/python3.7/site-packages/ipykernel_launcher.py:9: FutureWarning: pandas.io.json.json_normalize is deprecated, use pandas.json_normalize instead\n",
      "  if __name__ == '__main__':\n"
     ]
    },
    {
     "name": "stdout",
     "output_type": "stream",
     "text": [
      "Filtering reduced the number of unique pairs from 61555 to 20218.\n"
     ]
    }
   ],
   "source": [
    "# import dataset again to start fresh\n",
    "vdjdb_normal_path = PROJECT_ROOT / \"data/raw/vdjdb/vdjdb-2020-01-20/vdjdb.txt\"\n",
    "df_2020 = pd.read_csv(vdjdb_normal_path, sep=\"\\t\")\n",
    "\n",
    "# expand the json/dict-like columns\n",
    "df_2020 = (\n",
    "    df_2020.join(json_normalize(df_2020[\"method\"].apply(lambda x: json.loads(r'{}'.format(x)))).add_prefix(\"method.\"))\n",
    "    .join(json_normalize(df_2020[\"meta\"].apply(lambda x: json.loads(r'{}'.format(x)))).add_prefix(\"meta.\"))\n",
    "    .join(json_normalize(df_2020[\"cdr3fix\"].apply(lambda x: json.loads(r'{}'.format(x)))).add_prefix(\"cdr3fix.\"))\n",
    "    .drop([\"method\", \"meta\", \"cdr3fix\"], axis=1)\n",
    ")\n",
    "\n",
    "columns = [\"cdr3\", \"antigen.epitope\"]\n",
    "\n",
    "# create column based on cdr3 and epitope sequences\n",
    "df_2020[\"merged\"] = df_2020[\"cdr3\"] + \"-\" + df_2020[\"antigen.epitope\"]\n",
    "\n",
    "# create length columns for figures\n",
    "df_2020[\"cdr3.len\"] = df_2020[\"cdr3\"].str.len()\n",
    "df_2020[\"antigen.epitope.len\"] = df_2020[\"antigen.epitope\"].str.len()\n",
    "\n",
    "df_2020_human_no10x = df_2020.loc[(df_2020[\"species\"] == \"HomoSapiens\") & \n",
    "#                                  (df_2020[\"gene\"] == \"TRB\") & \n",
    "                                 (df_2020[\"cdr3fix.good\"]) & \n",
    "                                 (df_2020[\"mhc.class\"] == \"MHCI\") &\n",
    "                                 ~(df_2020[\"reference.id\"].str.contains(\"10x\"))]\n",
    "\n",
    "# df_2020_human_no10x = df_2020_human_no10x.loc[ (df_2020_human_no10x[\"antigen.epitope\"].str.len() >= 8) &\n",
    "#                                                  (df_2020_human_no10x[\"antigen.epitope\"].str.len() <= 11) &\n",
    "#                                                  (df_2020_human_no10x[\"cdr3\"].str.len() >= 10) &\n",
    "#                                                  (df_2020_human_no10x[\"cdr3\"].str.len() <= 20)]\n",
    "\n",
    "df_2020_human_no10x = df_2020_human_no10x.drop_duplicates(columns)\n",
    "\n",
    "print(f\"Filtering reduced the number of unique pairs from {df_2020.drop_duplicates(columns).shape[0]} to {df_2020_human_no10x.shape[0]}.\")"
   ]
  },
  {
   "cell_type": "code",
   "execution_count": 38,
   "metadata": {},
   "outputs": [],
   "source": [
    "df_2020 = df_2020_human_no10x"
   ]
  },
  {
   "cell_type": "code",
   "execution_count": 39,
   "metadata": {},
   "outputs": [
    {
     "data": {
      "text/plain": [
       "antigen.epitope\n",
       "DATYQRTRALVR       190\n",
       "LPEPLPQGQLTAY        9\n",
       "CPSQEPMSIYVY         6\n",
       "ARNLVPMVATVQGQN      3\n",
       "LSEFCRVLCCYVLEE      2\n",
       "LPEPLPQGQLTGY        2\n",
       "LPEPLPQGQLGAY        2\n",
       "LPEPLPQGQGTAY        2\n",
       "LPEPLPQGGLTAY        2\n",
       "LPEPLPQAQLTAY        2\n",
       "LPEPLGQGQLTAY        2\n",
       "LPEGLPQGQLTAY        2\n",
       "GPEPLPQGQLTAY        2\n",
       "EDVPSGKLFMHVTLG      1\n",
       "dtype: int64"
      ]
     },
     "execution_count": 39,
     "metadata": {},
     "output_type": "execute_result"
    }
   ],
   "source": [
    "unique = set(df_2020_human_no10x[\"antigen.epitope\"].unique()) - set(df[\"antigen.epitope\"].unique())\n",
    "df_2020_human_no10x[df_2020_human_no10x[\"antigen.epitope\"].isin(unique)].groupby(\"antigen.epitope\").size().sort_values(ascending=False)"
   ]
  },
  {
   "cell_type": "code",
   "execution_count": 40,
   "metadata": {},
   "outputs": [
    {
     "data": {
      "text/plain": [
       "1"
      ]
     },
     "execution_count": 40,
     "metadata": {},
     "output_type": "execute_result"
    }
   ],
   "source": [
    "df_2020_human_no10x.loc[df_2020_human_no10x[\"antigen.epitope\"].isin(unique), \"mhc.class\"].nunique()"
   ]
  },
  {
   "cell_type": "markdown",
   "metadata": {},
   "source": [
    "New epitopes all fall outside of length restrictions"
   ]
  },
  {
   "cell_type": "code",
   "execution_count": 41,
   "metadata": {},
   "outputs": [
    {
     "data": {
      "text/plain": [
       "left_only     376\n",
       "both            0\n",
       "right_only      0\n",
       "Name: _merge, dtype: int64"
      ]
     },
     "execution_count": 41,
     "metadata": {},
     "output_type": "execute_result"
    }
   ],
   "source": [
    "columns = [\"cdr3\", \"antigen.epitope\"]\n",
    "df_diff_unique = df_2020_human_no10x.drop_duplicates(columns).fillna(\"NULL\").merge(df[columns].drop_duplicates(columns).fillna(\"NULL\"),indicator = True, how='outer', on=columns).loc[lambda x : x['_merge']!='both']\n",
    "df_diff_unique[\"_merge\"].value_counts()"
   ]
  },
  {
   "cell_type": "code",
   "execution_count": 42,
   "metadata": {},
   "outputs": [
    {
     "data": {
      "text/plain": [
       "antigen.epitope\n",
       "DATYQRTRALVR       190\n",
       "NLVPMVATV           58\n",
       "GILGFVFTL           44\n",
       "LLLGIGILV           16\n",
       "ELAGIGILTV          12\n",
       "LPEPLPQGQLTAY        9\n",
       "CPSQEPMSIYVY         6\n",
       "LLWNGPMAV            3\n",
       "KRWIILGLNK           3\n",
       "ARNLVPMVATVQGQN      3\n",
       "LPEPLPQGGLTAY        2\n",
       "KLVALGINAV           2\n",
       "CINGVCWTV            2\n",
       "QVPLRPMTYK           2\n",
       "LSEFCRVLCCYVLEE      2\n",
       "LPEPLPQGQLTGY        2\n",
       "LPEPLPQAQLTAY        2\n",
       "GPEPLPQGQLTAY        2\n",
       "LPEPLPQGQLGAY        2\n",
       "LPEPLPQGQGTAY        2\n",
       "LPEGLPQGQLTAY        2\n",
       "LPEPLGQGQLTAY        2\n",
       "IVTDFSVIK            1\n",
       "IPSINVHHY            1\n",
       "GLCTLVAML            1\n",
       "SFHSLHLLF            1\n",
       "EDVPSGKLFMHVTLG      1\n",
       "NEGVKAAW             1\n",
       "CLGGLLTMV            1\n",
       "TPQDLNTML            1\n",
       "dtype: int64"
      ]
     },
     "execution_count": 42,
     "metadata": {},
     "output_type": "execute_result"
    }
   ],
   "source": [
    "df_diff_unique[df_diff_unique[\"cdr3fix.good\"]].drop_duplicates(columns).groupby(\"antigen.epitope\").size().sort_values(ascending=False)"
   ]
  },
  {
   "cell_type": "code",
   "execution_count": 43,
   "metadata": {},
   "outputs": [
    {
     "data": {
      "text/plain": [
       "antigen.epitope\n",
       "DATYQRTRALVR       190\n",
       "NLVPMVATV           58\n",
       "GILGFVFTL           44\n",
       "LLLGIGILV           16\n",
       "ELAGIGILTV          12\n",
       "LPEPLPQGQLTAY        9\n",
       "CPSQEPMSIYVY         6\n",
       "LLWNGPMAV            3\n",
       "KRWIILGLNK           3\n",
       "ARNLVPMVATVQGQN      3\n",
       "LPEPLPQGGLTAY        2\n",
       "KLVALGINAV           2\n",
       "CINGVCWTV            2\n",
       "QVPLRPMTYK           2\n",
       "LSEFCRVLCCYVLEE      2\n",
       "LPEPLPQGQLTGY        2\n",
       "LPEPLPQAQLTAY        2\n",
       "GPEPLPQGQLTAY        2\n",
       "LPEPLPQGQLGAY        2\n",
       "LPEPLPQGQGTAY        2\n",
       "LPEGLPQGQLTAY        2\n",
       "LPEPLGQGQLTAY        2\n",
       "IVTDFSVIK            1\n",
       "IPSINVHHY            1\n",
       "GLCTLVAML            1\n",
       "SFHSLHLLF            1\n",
       "EDVPSGKLFMHVTLG      1\n",
       "NEGVKAAW             1\n",
       "CLGGLLTMV            1\n",
       "TPQDLNTML            1\n",
       "dtype: int64"
      ]
     },
     "execution_count": 43,
     "metadata": {},
     "output_type": "execute_result"
    }
   ],
   "source": [
    "df_diff_unique[df_diff_unique[\"cdr3fix.good\"]].drop_duplicates(columns).groupby(\"antigen.epitope\").size().sort_values(ascending=False)"
   ]
  },
  {
   "cell_type": "markdown",
   "metadata": {},
   "source": [
    "## With length restriction"
   ]
  },
  {
   "cell_type": "code",
   "execution_count": 44,
   "metadata": {},
   "outputs": [
    {
     "name": "stderr",
     "output_type": "stream",
     "text": [
      "/home/pieter/miniconda3/envs/deepTCR/lib/python3.7/site-packages/ipykernel_launcher.py:7: FutureWarning: pandas.io.json.json_normalize is deprecated, use pandas.json_normalize instead\n",
      "  import sys\n",
      "/home/pieter/miniconda3/envs/deepTCR/lib/python3.7/site-packages/ipykernel_launcher.py:8: FutureWarning: pandas.io.json.json_normalize is deprecated, use pandas.json_normalize instead\n",
      "  \n",
      "/home/pieter/miniconda3/envs/deepTCR/lib/python3.7/site-packages/ipykernel_launcher.py:9: FutureWarning: pandas.io.json.json_normalize is deprecated, use pandas.json_normalize instead\n",
      "  if __name__ == '__main__':\n",
      "/home/pieter/miniconda3/envs/deepTCR/lib/python3.7/site-packages/ipykernel_launcher.py:45: FutureWarning: pandas.io.json.json_normalize is deprecated, use pandas.json_normalize instead\n",
      "/home/pieter/miniconda3/envs/deepTCR/lib/python3.7/site-packages/ipykernel_launcher.py:46: FutureWarning: pandas.io.json.json_normalize is deprecated, use pandas.json_normalize instead\n",
      "/home/pieter/miniconda3/envs/deepTCR/lib/python3.7/site-packages/ipykernel_launcher.py:47: FutureWarning: pandas.io.json.json_normalize is deprecated, use pandas.json_normalize instead\n"
     ]
    }
   ],
   "source": [
    "# import dataset again to start fresh\n",
    "vdjdb_normal_path = PROJECT_ROOT / \"data/raw/vdjdb/vdjdb-2020-01-20/vdjdb.txt\"\n",
    "df = pd.read_csv(vdjdb_normal_path, sep=\"\\t\")\n",
    "\n",
    "# expand the json/dict-like columns\n",
    "df = (\n",
    "    df.join(json_normalize(df[\"method\"].apply(lambda x: json.loads(r'{}'.format(x)))).add_prefix(\"method.\"))\n",
    "    .join(json_normalize(df[\"meta\"].apply(lambda x: json.loads(r'{}'.format(x)))).add_prefix(\"meta.\"))\n",
    "    .join(json_normalize(df[\"cdr3fix\"].apply(lambda x: json.loads(r'{}'.format(x)))).add_prefix(\"cdr3fix.\"))\n",
    "    .drop([\"method\", \"meta\", \"cdr3fix\"], axis=1)\n",
    ")\n",
    "\n",
    "columns = [\"cdr3\", \"antigen.epitope\"]\n",
    "\n",
    "# create column based on cdr3 and epitope sequences\n",
    "df[\"merged\"] = df[\"cdr3\"] + \"-\" + df[\"antigen.epitope\"]\n",
    "\n",
    "# create length columns for figures\n",
    "df[\"cdr3.len\"] = df[\"cdr3\"].str.len()\n",
    "df[\"antigen.epitope.len\"] = df[\"antigen.epitope\"].str.len()\n",
    "\n",
    "df = df.loc[(df[\"species\"] == \"HomoSapiens\") & \n",
    "#                                  (df_2020[\"gene\"] == \"TRB\") & \n",
    "                                 (df[\"cdr3fix.good\"]) & \n",
    "                                 (df[\"mhc.class\"] == \"MHCI\") &\n",
    "                                 ~(df[\"reference.id\"].str.contains(\"10x\"))]\n",
    "\n",
    "df = df.loc[ (df[\"antigen.epitope\"].str.len() >= 8) &\n",
    "                                                 (df[\"antigen.epitope\"].str.len() <= 11) &\n",
    "                                                 (df[\"cdr3\"].str.len() >= 10) &\n",
    "                                                 (df[\"cdr3\"].str.len() <= 20)]\n",
    "\n",
    "df = df.drop_duplicates(columns)\n",
    "\n",
    "df_jan = df\n",
    "\n",
    "###\n",
    "\n",
    "# import dataset again to start fresh\n",
    "vdjdb_normal_path = PROJECT_ROOT / \"data/raw/vdjdb/vdjdb-2019-08-08/vdjdb.txt\"\n",
    "df = pd.read_csv(vdjdb_normal_path, sep=\"\\t\")\n",
    "\n",
    "# expand the json/dict-like columns\n",
    "df = (\n",
    "    df.join(json_normalize(df[\"method\"].apply(lambda x: json.loads(r'{}'.format(x)))).add_prefix(\"method.\"))\n",
    "    .join(json_normalize(df[\"meta\"].apply(lambda x: json.loads(r'{}'.format(x)))).add_prefix(\"meta.\"))\n",
    "    .join(json_normalize(df[\"cdr3fix\"].apply(lambda x: json.loads(r'{}'.format(x)))).add_prefix(\"cdr3fix.\"))\n",
    "    .drop([\"method\", \"meta\", \"cdr3fix\"], axis=1)\n",
    ")\n",
    "\n",
    "columns = [\"cdr3\", \"antigen.epitope\"]\n",
    "\n",
    "# create column based on cdr3 and epitope sequences\n",
    "df[\"merged\"] = df[\"cdr3\"] + \"-\" + df[\"antigen.epitope\"]\n",
    "\n",
    "# create length columns for figures\n",
    "df[\"cdr3.len\"] = df[\"cdr3\"].str.len()\n",
    "df[\"antigen.epitope.len\"] = df[\"antigen.epitope\"].str.len()\n",
    "\n",
    "\n",
    "df = df.loc[(df[\"species\"] == \"HomoSapiens\") & \n",
    "#                                  (df_2020[\"gene\"] == \"TRB\") & \n",
    "                                 (df[\"cdr3fix.good\"]) & \n",
    "                                 (df[\"mhc.class\"] == \"MHCI\") &\n",
    "                                 ~(df[\"reference.id\"].str.contains(\"10x\"))]\n",
    "\n",
    "df = df.loc[ (df[\"antigen.epitope\"].str.len() >= 8) &\n",
    "                                                 (df[\"antigen.epitope\"].str.len() <= 11) &\n",
    "                                                 (df[\"cdr3\"].str.len() >= 10) &\n",
    "                                                 (df[\"cdr3\"].str.len() <= 20)]\n",
    "\n",
    "df = df.drop_duplicates(columns)\n",
    "\n",
    "df_aug = df"
   ]
  },
  {
   "cell_type": "code",
   "execution_count": 45,
   "metadata": {},
   "outputs": [],
   "source": [
    "df_diff_unique = df_jan.drop_duplicates(columns).fillna(\"NULL\").merge(df_aug[columns].drop_duplicates(columns).fillna(\"NULL\"),indicator = True, how='outer', on=columns).loc[lambda x : x['_merge']!='both']"
   ]
  },
  {
   "cell_type": "code",
   "execution_count": 46,
   "metadata": {},
   "outputs": [
    {
     "data": {
      "text/plain": [
       "left_only     1\n",
       "both          0\n",
       "right_only    0\n",
       "Name: _merge, dtype: int64"
      ]
     },
     "execution_count": 46,
     "metadata": {},
     "output_type": "execute_result"
    }
   ],
   "source": [
    "df_diff_unique[\"_merge\"].value_counts()"
   ]
  },
  {
   "cell_type": "code",
   "execution_count": 47,
   "metadata": {},
   "outputs": [
    {
     "data": {
      "text/plain": [
       "antigen.epitope\n",
       "SFHSLHLLF    1\n",
       "dtype: int64"
      ]
     },
     "execution_count": 47,
     "metadata": {},
     "output_type": "execute_result"
    }
   ],
   "source": [
    "df_diff_unique[df_diff_unique[\"cdr3fix.good\"]].drop_duplicates(columns).groupby(\"antigen.epitope\").size().sort_values(ascending=False)"
   ]
  },
  {
   "cell_type": "markdown",
   "metadata": {},
   "source": [
    "## 10x data"
   ]
  },
  {
   "cell_type": "markdown",
   "metadata": {},
   "source": [
    "Some concerns with this data."
   ]
  },
  {
   "cell_type": "code",
   "execution_count": 48,
   "metadata": {},
   "outputs": [
    {
     "name": "stderr",
     "output_type": "stream",
     "text": [
      "/home/pieter/miniconda3/envs/deepTCR/lib/python3.7/site-packages/ipykernel_launcher.py:7: FutureWarning: pandas.io.json.json_normalize is deprecated, use pandas.json_normalize instead\n",
      "  import sys\n",
      "/home/pieter/miniconda3/envs/deepTCR/lib/python3.7/site-packages/ipykernel_launcher.py:8: FutureWarning: pandas.io.json.json_normalize is deprecated, use pandas.json_normalize instead\n",
      "  \n",
      "/home/pieter/miniconda3/envs/deepTCR/lib/python3.7/site-packages/ipykernel_launcher.py:9: FutureWarning: pandas.io.json.json_normalize is deprecated, use pandas.json_normalize instead\n",
      "  if __name__ == '__main__':\n"
     ]
    },
    {
     "name": "stdout",
     "output_type": "stream",
     "text": [
      "Filtering reduced the number of unique pairs from 61047 to 17200.\n"
     ]
    }
   ],
   "source": [
    "# import dataset again to start fresh\n",
    "vdjdb_normal_path = PROJECT_ROOT / \"data/raw/vdjdb/vdjdb-2019-08-08/vdjdb.txt\"\n",
    "df = pd.read_csv(vdjdb_normal_path, sep=\"\\t\")\n",
    "\n",
    "# expand the json/dict-like columns\n",
    "df = (\n",
    "    df.join(json_normalize(df[\"method\"].apply(lambda x: json.loads(r'{}'.format(x)))).add_prefix(\"method.\"))\n",
    "    .join(json_normalize(df[\"meta\"].apply(lambda x: json.loads(r'{}'.format(x)))).add_prefix(\"meta.\"))\n",
    "    .join(json_normalize(df[\"cdr3fix\"].apply(lambda x: json.loads(r'{}'.format(x)))).add_prefix(\"cdr3fix.\"))\n",
    "    .drop([\"method\", \"meta\", \"cdr3fix\"], axis=1)\n",
    ")\n",
    "\n",
    "columns = [\"cdr3\", \"antigen.epitope\"]\n",
    "\n",
    "# create column based on cdr3 and epitope sequences\n",
    "df[\"merged\"] = df[\"cdr3\"] + \"-\" + df[\"antigen.epitope\"]\n",
    "\n",
    "# create length columns for figures\n",
    "df[\"cdr3.len\"] = df[\"cdr3\"].str.len()\n",
    "df[\"antigen.epitope.len\"] = df[\"antigen.epitope\"].str.len()\n",
    "\n",
    "df_human_10x = df.loc[(df[\"species\"] == \"HomoSapiens\") & \n",
    "                                 (df[\"gene\"] == \"TRB\") & \n",
    "                                 (df[\"cdr3fix.good\"]) & \n",
    "                                 (df[\"mhc.class\"] == \"MHCI\") &\n",
    "                                 (df[\"reference.id\"].str.contains(\"10x\"))]\n",
    "\n",
    "df_human_10x = df_human_10x.loc[ (df_human_10x[\"antigen.epitope\"].str.len() >= 8) &\n",
    "                                                 (df_human_10x[\"antigen.epitope\"].str.len() <= 11) &\n",
    "                                                 (df_human_10x[\"cdr3\"].str.len() >= 10) &\n",
    "                                                 (df_human_10x[\"cdr3\"].str.len() <= 20)]\n",
    "\n",
    "df_human_10x = df_human_10x.drop_duplicates(columns)\n",
    "\n",
    "print(f\"Filtering reduced the number of unique pairs from {df.drop_duplicates(columns).shape[0]} to {df_human_10x.shape[0]}.\")"
   ]
  },
  {
   "cell_type": "code",
   "execution_count": 49,
   "metadata": {},
   "outputs": [
    {
     "name": "stderr",
     "output_type": "stream",
     "text": [
      "/home/pieter/miniconda3/envs/deepTCR/lib/python3.7/site-packages/ipykernel_launcher.py:7: FutureWarning: pandas.io.json.json_normalize is deprecated, use pandas.json_normalize instead\n",
      "  import sys\n",
      "/home/pieter/miniconda3/envs/deepTCR/lib/python3.7/site-packages/ipykernel_launcher.py:8: FutureWarning: pandas.io.json.json_normalize is deprecated, use pandas.json_normalize instead\n",
      "  \n",
      "/home/pieter/miniconda3/envs/deepTCR/lib/python3.7/site-packages/ipykernel_launcher.py:9: FutureWarning: pandas.io.json.json_normalize is deprecated, use pandas.json_normalize instead\n",
      "  if __name__ == '__main__':\n"
     ]
    },
    {
     "name": "stdout",
     "output_type": "stream",
     "text": [
      "Filtering reduced the number of unique pairs from 61047 to 19842.\n"
     ]
    }
   ],
   "source": [
    "# import dataset again to start fresh\n",
    "vdjdb_normal_path = PROJECT_ROOT / \"data/raw/vdjdb/vdjdb-2019-08-08/vdjdb.txt\"\n",
    "df = pd.read_csv(vdjdb_normal_path, sep=\"\\t\")\n",
    "\n",
    "# expand the json/dict-like columns\n",
    "df = (\n",
    "    df.join(json_normalize(df[\"method\"].apply(lambda x: json.loads(r'{}'.format(x)))).add_prefix(\"method.\"))\n",
    "    .join(json_normalize(df[\"meta\"].apply(lambda x: json.loads(r'{}'.format(x)))).add_prefix(\"meta.\"))\n",
    "    .join(json_normalize(df[\"cdr3fix\"].apply(lambda x: json.loads(r'{}'.format(x)))).add_prefix(\"cdr3fix.\"))\n",
    "    .drop([\"method\", \"meta\", \"cdr3fix\"], axis=1)\n",
    ")\n",
    "\n",
    "columns = [\"cdr3\", \"antigen.epitope\"]\n",
    "\n",
    "# create column based on cdr3 and epitope sequences\n",
    "df[\"merged\"] = df[\"cdr3\"] + \"-\" + df[\"antigen.epitope\"]\n",
    "\n",
    "# create length columns for figures\n",
    "df[\"cdr3.len\"] = df[\"cdr3\"].str.len()\n",
    "df[\"antigen.epitope.len\"] = df[\"antigen.epitope\"].str.len()\n",
    "\n",
    "df_human_no10x = df.loc[(df[\"species\"] == \"HomoSapiens\") & \n",
    "#                                  (df[\"gene\"] == \"TRB\") & \n",
    "                                 (df[\"cdr3fix.good\"]) & \n",
    "                                 (df[\"mhc.class\"] == \"MHCI\") &\n",
    "                                 ~(df[\"reference.id\"].str.contains(\"10x\"))]\n",
    "\n",
    "df_human_no10x = df_human_no10x.loc[ (df_human_no10x[\"antigen.epitope\"].str.len() >= 8) &\n",
    "                                                 (df_human_no10x[\"antigen.epitope\"].str.len() <= 11) &\n",
    "                                                 (df_human_no10x[\"cdr3\"].str.len() >= 10) &\n",
    "                                                 (df_human_no10x[\"cdr3\"].str.len() <= 20)]\n",
    "\n",
    "df_human_no10x = df_human_no10x.drop_duplicates(columns)\n",
    "\n",
    "print(f\"Filtering reduced the number of unique pairs from {df.drop_duplicates(columns).shape[0]} to {df_human_no10x.shape[0]}.\")"
   ]
  },
  {
   "cell_type": "code",
   "execution_count": 50,
   "metadata": {},
   "outputs": [
    {
     "data": {
      "text/plain": [
       "antigen.epitope\n",
       "KLGGALQAK     12548\n",
       "RLRAEAQVK       407\n",
       "RTLNAWVKV        46\n",
       "AYAQKIFKI        39\n",
       "SLFNTVATLY       38\n",
       "FLASKIGRLV       34\n",
       "FLYALALLL        28\n",
       "LLDFVRFMGV       21\n",
       "KTWGQYWQV        16\n",
       "CYTWNQMNL        15\n",
       "MLDLQPETT        14\n",
       "YLLEMLWRL        13\n",
       "IMDQVPFSV        12\n",
       "KVLEYVIKV         8\n",
       "CLLWSFQTSA        7\n",
       "YLNDHLEPWI        7\n",
       "QPRAPIRPI         5\n",
       "SLFNTVATL         5\n",
       "CLLGTYTQDV        3\n",
       "SLYNTVATLY        2\n",
       "KLQCVDLHV         1\n",
       "KVAELVHFL         1\n",
       "RIAAWMATY         1\n",
       "dtype: int64"
      ]
     },
     "execution_count": 50,
     "metadata": {},
     "output_type": "execute_result"
    }
   ],
   "source": [
    "unique_10x = set(df_human_10x[\"antigen.epitope\"].unique()) - set(df_human_no10x[\"antigen.epitope\"].unique())\n",
    "df_human_10x[df_human_10x[\"antigen.epitope\"].isin(unique_10x)].groupby(\"antigen.epitope\").size().sort_values(ascending=False)"
   ]
  },
  {
   "cell_type": "code",
   "execution_count": 52,
   "metadata": {},
   "outputs": [],
   "source": [
    "df_human_10x[df_human_10x[\"antigen.epitope\"].isin(unique_10x)].to_csv(PROJECT_ROOT / \"data/interim/vdjdb-2019-08-08/vdjdb-human-trb-mhci-10xunique-size.csv\", index=False, sep=\";\")\n"
   ]
  },
  {
   "cell_type": "code",
   "execution_count": 53,
   "metadata": {
    "scrolled": true
   },
   "outputs": [
    {
     "data": {
      "text/plain": [
       "KLGGALQAK     12548\n",
       "RLRAEAQVK       407\n",
       "RTLNAWVKV        46\n",
       "AYAQKIFKI        39\n",
       "SLFNTVATLY       38\n",
       "FLASKIGRLV       34\n",
       "FLYALALLL        28\n",
       "LLDFVRFMGV       21\n",
       "KTWGQYWQV        16\n",
       "CYTWNQMNL        15\n",
       "MLDLQPETT        14\n",
       "YLLEMLWRL        13\n",
       "IMDQVPFSV        12\n",
       "KVLEYVIKV         8\n",
       "CLLWSFQTSA        7\n",
       "YLNDHLEPWI        7\n",
       "QPRAPIRPI         5\n",
       "SLFNTVATL         5\n",
       "CLLGTYTQDV        3\n",
       "SLYNTVATLY        2\n",
       "RIAAWMATY         1\n",
       "KVAELVHFL         1\n",
       "KLQCVDLHV         1\n",
       "Name: antigen.epitope, dtype: int64"
      ]
     },
     "execution_count": 53,
     "metadata": {},
     "output_type": "execute_result"
    }
   ],
   "source": [
    "df_human_10x.loc[df_human_10x[\"antigen.epitope\"].isin(unique_10x), \"antigen.epitope\"].value_counts()"
   ]
  },
  {
   "cell_type": "code",
   "execution_count": 54,
   "metadata": {},
   "outputs": [],
   "source": [
    "sample_indices = df_human_10x[df_human_10x[\"antigen.epitope\"] == \"KLGGALQAK\"].sample(n=400, random_state=42).index\n",
    "drop_indices = df_human_10x[df_human_10x[\"antigen.epitope\"] == \"KLGGALQAK\"].index.difference(sample_indices)"
   ]
  },
  {
   "cell_type": "code",
   "execution_count": 55,
   "metadata": {},
   "outputs": [],
   "source": [
    "df_human_10x[df_human_10x[\"antigen.epitope\"].isin(unique_10x)].drop(drop_indices).to_csv(PROJECT_ROOT / \"data/interim/vdjdb-2019-08-08/vdjdb-human-trb-mhci-10xuniquedown-size.csv\", index=False, sep=\";\")"
   ]
  }
 ],
 "metadata": {
  "kernelspec": {
   "display_name": "Python 3.6.9 64-bit ('deepTCR': conda)",
   "language": "python",
   "name": "python36964bitdeeptcrconda38e3842162f941b1a4fa8a33c2d0e579"
  },
  "language_info": {
   "codemirror_mode": {
    "name": "ipython",
    "version": 3
   },
   "file_extension": ".py",
   "mimetype": "text/x-python",
   "name": "python",
   "nbconvert_exporter": "python",
   "pygments_lexer": "ipython3",
   "version": "3.7.6"
  },
  "toc": {
   "base_numbering": 1,
   "nav_menu": {},
   "number_sections": true,
   "sideBar": true,
   "skip_h1_title": false,
   "title_cell": "Table of Contents",
   "title_sidebar": "Contents",
   "toc_cell": true,
   "toc_position": {},
   "toc_section_display": true,
   "toc_window_display": true
  }
 },
 "nbformat": 4,
 "nbformat_minor": 4
}
