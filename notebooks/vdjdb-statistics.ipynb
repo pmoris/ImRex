{
 "cells": [
  {
   "cell_type": "markdown",
   "metadata": {
    "toc": true
   },
   "source": [
    "<h1>Table of Contents<span class=\"tocSkip\"></span></h1>\n",
    "<div class=\"toc\"><ul class=\"toc-item\"><li><span><a href=\"#Overview-of-the-contents-of-the-VDJdb-datasets\" data-toc-modified-id=\"Overview-of-the-contents-of-the-VDJdb-datasets-1\"><span class=\"toc-item-num\">1&nbsp;&nbsp;</span>Overview of the contents of the VDJdb datasets</a></span><ul class=\"toc-item\"><li><span><a href=\"#Brief-statistics-generated-through-bash-script\" data-toc-modified-id=\"Brief-statistics-generated-through-bash-script-1.1\"><span class=\"toc-item-num\">1.1&nbsp;&nbsp;</span>Brief statistics generated through bash script</a></span><ul class=\"toc-item\"><li><span><a href=\"#Statistics-for-GitHub-release-vdjdb.txt\" data-toc-modified-id=\"Statistics-for-GitHub-release-vdjdb.txt-1.1.1\"><span class=\"toc-item-num\">1.1.1&nbsp;&nbsp;</span>Statistics for GitHub release vdjdb.txt</a></span><ul class=\"toc-item\"><li><span><a href=\"#vdjdb.txt\" data-toc-modified-id=\"vdjdb.txt-1.1.1.1\"><span class=\"toc-item-num\">1.1.1.1&nbsp;&nbsp;</span>vdjdb.txt</a></span></li><li><span><a href=\"#vdjdb.slim\" data-toc-modified-id=\"vdjdb.slim-1.1.1.2\"><span class=\"toc-item-num\">1.1.1.2&nbsp;&nbsp;</span>vdjdb.slim</a></span></li></ul></li><li><span><a href=\"#Statistics-for-VDJdb-data-browser\" data-toc-modified-id=\"Statistics-for-VDJdb-data-browser-1.1.2\"><span class=\"toc-item-num\">1.1.2&nbsp;&nbsp;</span>Statistics for VDJdb data browser</a></span></li></ul></li></ul></li><li><span><a href=\"#Comparison-of-slim-and-normal-file-in-the-VDJdb-GitHub-releases-(August-2019)\" data-toc-modified-id=\"Comparison-of-slim-and-normal-file-in-the-VDJdb-GitHub-releases-(August-2019)-2\"><span class=\"toc-item-num\">2&nbsp;&nbsp;</span>Comparison of slim and normal file in the VDJdb GitHub releases (August 2019)</a></span><ul class=\"toc-item\"><li><span><a href=\"#Duplicate-CDR3-epitope-pairs\" data-toc-modified-id=\"Duplicate-CDR3-epitope-pairs-2.1\"><span class=\"toc-item-num\">2.1&nbsp;&nbsp;</span>Duplicate CDR3-epitope pairs</a></span></li><li><span><a href=\"#Spurious-sequences\" data-toc-modified-id=\"Spurious-sequences-2.2\"><span class=\"toc-item-num\">2.2&nbsp;&nbsp;</span>Spurious sequences</a></span></li></ul></li><li><span><a href=\"#Comparison-of-VDJdb-web-export-and-GitHub-Release\" data-toc-modified-id=\"Comparison-of-VDJdb-web-export-and-GitHub-Release-3\"><span class=\"toc-item-num\">3&nbsp;&nbsp;</span>Comparison of VDJdb web export and GitHub Release</a></span><ul class=\"toc-item\"><li><span><a href=\"#Comparison-of-spurious-sequences-and-VDJdb-web-dataset\" data-toc-modified-id=\"Comparison-of-spurious-sequences-and-VDJdb-web-dataset-3.1\"><span class=\"toc-item-num\">3.1&nbsp;&nbsp;</span>Comparison of spurious sequences and VDJdb web dataset</a></span><ul class=\"toc-item\"><li><span><a href=\"#The-web-version-is-equal-to-the-GitHub-release-(normal)-after-filtering-on-cdr3fix.good\" data-toc-modified-id=\"The-web-version-is-equal-to-the-GitHub-release-(normal)-after-filtering-on-cdr3fix.good-3.1.1\"><span class=\"toc-item-num\">3.1.1&nbsp;&nbsp;</span>The web version is equal to the GitHub release (normal) after filtering on cdr3fix.good</a></span></li></ul></li><li><span><a href=\"#Web-versus-slim\" data-toc-modified-id=\"Web-versus-slim-3.2\"><span class=\"toc-item-num\">3.2&nbsp;&nbsp;</span>Web versus slim</a></span></li><li><span><a href=\"#The-slim-GitHub-release-still-contains-duplicated-and-spurious-sequences\" data-toc-modified-id=\"The-slim-GitHub-release-still-contains-duplicated-and-spurious-sequences-3.3\"><span class=\"toc-item-num\">3.3&nbsp;&nbsp;</span>The slim GitHub release still contains duplicated and spurious sequences</a></span></li></ul></li><li><span><a href=\"#Comparison-to-older-VDJdb-dataset-accessed-on-October-30,-2018:\" data-toc-modified-id=\"Comparison-to-older-VDJdb-dataset-accessed-on-October-30,-2018:-4\"><span class=\"toc-item-num\">4&nbsp;&nbsp;</span>Comparison to older VDJdb dataset accessed on October 30, 2018:</a></span></li><li><span><a href=\"#In-depth-statistics-and-figures-for-the-VDJdb-GitHub-Aug-2018-release-(after-filtering)\" data-toc-modified-id=\"In-depth-statistics-and-figures-for-the-VDJdb-GitHub-Aug-2018-release-(after-filtering)-5\"><span class=\"toc-item-num\">5&nbsp;&nbsp;</span>In-depth statistics and figures for the VDJdb GitHub Aug 2018 release (after filtering)</a></span></li></ul></div>"
   ]
  },
  {
   "cell_type": "code",
   "execution_count": 1,
   "metadata": {},
   "outputs": [],
   "source": [
    "import json\n",
    "\n",
    "import pandas as pd\n",
    "from pandas.io.json import json_normalize\n",
    "from pathlib import Path\n",
    "\n",
    "from src.config import PROJECT_ROOT\n",
    "from src.preprocessing import preprocess_vdjdb"
   ]
  },
  {
   "cell_type": "markdown",
   "metadata": {},
   "source": [
    "# Overview of the contents of the VDJdb datasets\n",
    "\n",
    "As described in `data/raw/README.md`:\n",
    "\n",
    "`data/raw/vdjdb`: contains a data dump of VDJdb TCR-epitope pairs ([https://vdjdb.cdr3.net](https://vdjdb.cdr3.net)), see [./vdjdb/README.md](./data/raw/VDJdb/README.md) for additional information about the origin and statistics of the files.\n",
    "\n",
    "The files in this directory were retrieved from https://vdjdb.cdr3.net and https://github.com/antigenomics/vdjdb-db/releases on 21 November 2019. At this time, the last update to VDJdb had happened on 07 August 2019 (GitHub release August 8).\n",
    "\n",
    "- `vdjdb-2019-08-08.zip` is the August GitHub release and contains three different types of files:\n",
    "    - `vdjdb.txt`: the full set of CDR3-epitope pairs in VDJdb, refered to as the normal or standard file in this document.\n",
    "    - `vdjdb.slim.txt`: a reduced version of the former file.\n",
    "    - `vdjdb_full.txt`: contains some additional information compared to the standard file; among other things it uses a separate column for `cdr3.alpha` and `cdr3.beta` sequences.\n",
    "- `vdjdb-browser.txt`: contains TRA and TRB chains and their epitope targets retrieved from the VDJdb web browser with the following options:\n",
    "    - All species\n",
    "    - Both TRA and TRB chains\n",
    "    - Both MHC types\n",
    "    - No sequence length restriction\n",
    "    - All assay types\n",
    "    - No minimum confidence score\n",
    "    - **No spurious CDR3 (non-canonical or unmapped V/J)**"
   ]
  },
  {
   "cell_type": "markdown",
   "metadata": {},
   "source": [
    "## Brief statistics generated through bash script\n",
    "\n",
    "These statistics can be obtained by running `bash data/raw/vdjdb/vdjdb-content-analyser.sh output-summary.md input-file.tsv`.\n",
    "\n",
    "\n",
    "### Statistics for GitHub release vdjdb.txt\n",
    "\n",
    "#### vdjdb.txt\n",
    "\n",
    "\n",
    "| Metric                                                         | Count                                                                                                                                       | Command                                                                                                                                        |\n",
    "|----------------------------------------------------------------|---------------------------------------------------------------------------------------------------------------------------------------------|------------------------------------------------------------------------------------------------------------------------------------------------|\n",
    "| Total number of records                                        | 75474                                                                                                         | `tail -n +2 vdjdb-2019-08-08/vdjdb.txt  |  wc -l`                                                                                                         |\n",
    "| TRA records                                                    | 31096                                                                                     | `awk '$2 == \"TRA\" { print $3 }' vdjdb-2019-08-08/vdjdb.txt | wc -l`                                                                                     |\n",
    "| TRB records                                                    | 44378                                                                                     | `awk '$2 == \"TRB\" { print $3 }' vdjdb-2019-08-08/vdjdb.txt | wc -l`                                                                                     |\n",
    "| Unique TRA sequences                                           | 22248                                                                           | `awk '$2 == \"TRA\" { print $3 }' vdjdb-2019-08-08/vdjdb.txt | sort -u | wc -l`                                                                           |\n",
    "| Unique TRB sequences                                           | 33606                                                                           | `awk '$2 == \"TRB\" { print $3 }' vdjdb-2019-08-08/vdjdb.txt | sort -u | wc -l`                                                                           |\n",
    "| Unique CDR3 sequences                                          | 55852                                                                                     | `tail -n +2 vdjdb-2019-08-08/vdjdb.txt | cut -f3 | sort -u | wc -l`                                                                                       |\n",
    "| Unique epitope sequences                                       | 212                                                                                    | `tail -n +2 vdjdb-2019-08-08/vdjdb.txt | cut -f10 | sort -u | wc -l`                                                                                      |\n",
    "| Unique epitope sequences for TRA records                       | 179                                                                          | `awk '$2 == \"TRA\" { print $10 }' vdjdb-2019-08-08/vdjdb.txt | sort -u | wc -l`                                                                          |\n",
    "| Unique epitope sequences for TRB records                       | 219                                                                          | `awk '$2 == \"TRB\" { print $10 }' vdjdb-2019-08-08/vdjdb.txt | sort -u | wc -l`                                                                          |\n",
    "| Unique CDR3-epitope sequence pairs                             | 61047                                                                         | `tail -n +2 vdjdb-2019-08-08/vdjdb.txt | cut -d $'\\t' -f3,10 | sort -u | wc -l`                                                                           |\n",
    "| Unique TRA-CDR3-epitope sequence pairs                         | 25044                                                                       | `awk '$2 == \"TRA\" { print ,vdjdb-2019-08-08-vdjdb-summary.md0 }' vdjdb-2019-08-08/vdjdb.txt | sort -u | wc -l`                                                                        |\n",
    "| Unique TRB-CDR3-epitope sequence pairs                         | 36000                                                                       | `awk '$2 == \"TRB\" { print ,vdjdb-2019-08-08-vdjdb-summary.md0 }' vdjdb-2019-08-08/vdjdb.txt | sort -u | wc -l`                                                                        |\n",
    "| Number of epitope sequences shared between TRA and TRB records | 147   | `comm -12 <(awk '$2 == \"TRA\" { print $10 }' vdjdb-2019-08-08/vdjdb.txt | sort -u) <(awk '$2 == \"TRB\" { print $10 }' vdjdb-2019-08-08/vdjdb.txt | sort -u) | wc -l` |\n",
    "| Number of CDR3 sequences shared between TRA and TRB records    | 2     | `comm -12 <(awk '$2 == \"TRA\" { print $3 }' vdjdb-2019-08-08/vdjdb.txt | sort -u) <(awk '$2 == \"TRB\" { print $3 }' vdjdb-2019-08-08/vdjdb.txt | sort -u) | wc -l`   |\n",
    "| Epitope distribution for the unique CDR3-epitope pairs         |                                 | `tail -n +2 vdjdb-2019-08-08/vdjdb.txt | cut -d $'\\t' -f3,10 | sort -u | cut -f2 | sort | uniq -c | sort -nr | head -20`                                  |\n",
    "\n",
    "\n",
    "      24639 KLGGALQAK\n",
    "       6744 NLVPMVATV\n",
    "       6600 GILGFVFTL\n",
    "       3255 AVFDRKSDAK\n",
    "       1654 ELAGIGILTV\n",
    "       1501 RAKFKQLL\n",
    "       1190 GLCTLVAML\n",
    "       1088 IVTDFSVIK\n",
    "        819 RLRAEAQVK\n",
    "        685 LLWNGPMAV\n",
    "        617 LLLGIGILV\n",
    "        597 TTPESANL\n",
    "        597 SSLENFRAYV\n",
    "        586 SSYRRPVGI\n",
    "        564 FRDYVDRFYKTLRAEQASQE\n",
    "        548 PKYVKQNTLKLAT\n",
    "        530 CTPYDINQM\n",
    "        417 HGIRNASFI\n",
    "        383 ASNENMETM\n",
    "        334 KRWIILGLNK\n",
    "\n",
    "**Human-only records**\n",
    "\n",
    "| Metric                                                             | Count                                                                                                                                                                          | Command                                                                                                                                                                                                 |\n",
    "|--------------------------------------------------------------------|--------------------------------------------------------------------------------------------------------------------------------------------------------------------------------|---------------------------------------------------------------------------------------------------------------------------------------------------------------------------------------------------------|\n",
    "|   Total number of records                                          | 67766                                                                                                                  | `awk '$6 == \"HomoSapiens\" { print }' vdjdb-2019-08-08/vdjdb.txt |  wc -l`                                                                                                                                         |\n",
    "|   TRA records                                                      | 28044                                                                                                 | `awk '$2 == \"TRA\" && $6 == \"HomoSapiens\"  { print $3 }' vdjdb-2019-08-08/vdjdb.txt | wc -l`                                                                                                                     |\n",
    "|   TRB records                                                      | 39722                                                                                                | `awk '$2 == \"TRB\" && $6 == \"HomoSapiens\"  { print $3 }' vdjdb-2019-08-08/vdjdb.txt | wc -l`                                                                                                                     |\n",
    "|   Unique TRA sequences                                             | 20277                                                                                      | `awk '$2 == \"TRA\" && $6 == \"HomoSapiens\"  { print $3 }' vdjdb-2019-08-08/vdjdb.txt | sort -u | wc -l`                                                                                                           |\n",
    "|   Unique TRB sequences                                             | 30720                                                                                      | `awk '$2 == \"TRB\" && $6 == \"HomoSapiens\"  { print $3 }' vdjdb-2019-08-08/vdjdb.txt | sort -u | wc -l`                                                                                                           |\n",
    "|   Unique CDR3 sequences                                            | 50995                                                                                               | `awk '$6 == \"HomoSapiens\" { print }' vdjdb-2019-08-08/vdjdb.txt | cut -f3 | sort -u | wc -l`                                                                                                                      |\n",
    "|   Unique epitope sequences                                         | 177                                                                                              | `awk '$6 == \"HomoSapiens\" { print }' vdjdb-2019-08-08/vdjdb.txt | cut -f10 | sort -u | wc -l`                                                                                                                     |\n",
    "|   Unique epitope sequences for TRA records                         | 117                                                                                      | `awk '$2 == \"TRA\" && $6 == \"HomoSapiens\" { print $10 }' vdjdb-2019-08-08/vdjdb.txt | sort -u | wc -l`                                                                                                           |\n",
    "|   Unique epitope sequences for TRB records                         | 175                                                                                      | `awk '$2 == \"TRB\" && $6 == \"HomoSapiens\" { print $10 }' vdjdb-2019-08-08/vdjdb.txt | sort -u | wc -l`                                                                                                           |\n",
    "|   Unique CDR3-epitope sequence pairs                               | 55931                                                                                   | `awk '$6 == \"HomoSapiens\" { print }' vdjdb-2019-08-08/vdjdb.txt | cut -d $'\\t' -f3,10 | sort -u | wc -l`                                                                                                          |\n",
    "|   Unique TRA-CDR3-epitope sequence pairs                           | 22945                                                                                   | `awk '$2 == \"TRA\" && $6 == \"HomoSapiens\" { print $3,$10 }' vdjdb-2019-08-08/vdjdb.txt | sort -u | wc -l`                                                                                                       |\n",
    "|   Unique TRB-CDR3-epitope sequence pairs                           | 32988                                                                                   | `awk '$2 == \"TRB\" && $6 == \"HomoSapiens\" { print $3,$10 }' vdjdb-2019-08-08/vdjdb.txt | sort -u | wc -l`                                                                                                       |\n",
    "|   Number of epitope sequences shared between TRA and TRB records   | 115|`comm -12 <(awk '$2 == \"TRA\" && $6 == \"HomoSapiens\" { print $10 }' vdjdb-2019-08-08/vdjdb.txt | sort -u) <(awk '$2 == \"TRB\" && $6 == \"HomoSapiens\" { print $10 }' vdjdb-2019-08-08/vdjdb.txt | sort -u) | wc -l`   |\n",
    "|   Number of CDR3 sequences shared between TRA and TRB records      | 2|`comm -12 <(awk '$2 == \"TRA\" && $6 == \"HomoSapiens\" { print $3 }' vdjdb-2019-08-08/vdjdb.txt | sort -u) <(awk '$2 == \"TRB\" && $6 == \"HomoSapiens\" { print $3 }' vdjdb-2019-08-08/vdjdb.txt | sort -u) | wc -l`     |\n",
    "|   Epitope distribution for the unique CDR3-epitope pairs           |                             | `awk '$6 == \"HomoSapiens\" { print }' vdjdb-2019-08-08/vdjdb.txt | cut -d $'\\t' -f3,10 | sort -u | cut -f2 | sort | uniq -c | sort -nr | head -20`                                                                 |\n",
    "\n",
    "      24367 KLGGALQAK\n",
    "       6680 NLVPMVATV\n",
    "       6531 GILGFVFTL\n",
    "       3222 AVFDRKSDAK\n",
    "       1642 ELAGIGILTV\n",
    "       1492 RAKFKQLL\n",
    "       1165 GLCTLVAML\n",
    "       1083 IVTDFSVIK\n",
    "        810 RLRAEAQVK\n",
    "        676 LLWNGPMAV\n",
    "        588 LLLGIGILV\n",
    "        562 FRDYVDRFYKTLRAEQASQE\n",
    "        532 PKYVKQNTLKLAT\n",
    "        334 KRWIILGLNK\n",
    "        240 GLIYNRMGAVTTEV\n",
    "        227 QARQMVQAMRTIGTHP\n",
    "        209 KAFSPEVIPMF\n",
    "        207 TPRVTGGGAM\n",
    "        203 VTEHDTLLY\n",
    "        203 CINGVCWTV\n",
    "\n",
    "\n",
    "#### vdjdb.slim\n",
    "\n",
    "\n",
    "| Metric                                                         | Count                                                                                                                                    | Command                                                                                                                       |\n",
    "|----------------------------------------------------------------|------------------------------------------------------------------------------------------------------------------------------------------|-------------------------------------------------------------------------------------------------------------------------------|\n",
    "| Total number of records                                        | 61049                                                                                                        | `tail -n +2 vdjdb-2019-08-08/vdjdb.slim.txt  |  wc -l`                                                                                                 |\n",
    "| TRA records                                                    | 25051                                                                                    | `awk '$1 == \"TRA\" { print $2 }' vdjdb-2019-08-08/vdjdb.slim.txt | wc -l`                                                                             |\n",
    "| TRB records                                                    | 35998                                                                                    | `awk '$1 == \"TRB\" { print $2 }' vdjdb-2019-08-08/vdjdb.slim.txt | wc -l`                                                                             |\n",
    "| Unique TRA sequences                                           | 22248                                                                          | `awk '$1 == \"TRA\" { print $2 }' vdjdb-2019-08-08/vdjdb.slim.txt | sort -u | wc -l`                                                                   |\n",
    "| Unique TRB sequences                                           | 33606                                                                          | `awk '$1 == \"TRB\" { print $2 }' vdjdb-2019-08-08/vdjdb.slim.txt | sort -u | wc -l`                                                                   |\n",
    "| Unique CDR3 sequences                                          | 55852                                                                                    | `tail -n +2 vdjdb-2019-08-08/vdjdb.slim.txt | cut -f2 | sort -u | wc -l`                                                                               |\n",
    "| Unique epitope sequences                                       | 212                                                                                    | `tail -n +2 vdjdb-2019-08-08/vdjdb.slim.txt | cut -f4 | sort -u | wc -l`                                                                              |\n",
    "| Unique epitope sequences for TRA records                       | 151                                                                          | `awk '$1 == \"TRA\" { print $4 }' vdjdb-2019-08-08/vdjdb.slim.txt | sort -u | wc -l`                                                                  |\n",
    "| Unique epitope sequences for TRB records                       | 212                                                                          | `awk '$1 == \"TRB\" { print $4 }' vdjdb-2019-08-08/vdjdb.slim.txt | sort -u | wc -l`                                                                  |\n",
    "| Unique CDR3-epitope sequence pairs                             | 61047                                                                         | `tail -n +2 vdjdb-2019-08-08/vdjdb.slim.txt | cut -d $'\\t' -f2,4 | sort -u | wc -l`                                                                   |\n",
    "| Unique TRA-CDR3-epitope sequence pairs                         | 25051                                                                       | `awk '$1 == \"TRA\" { print vdjdb-2019-08-08/vdjdb.slim.txt, }' vdjdb-2019-08-08/vdjdb.slim.txt | sort -u | wc -l`                                                                |\n",
    "| Unique TRB-CDR3-epitope sequence pairs                         | 35998                                                                       | `awk '$1 == \"TRB\" { print vdjdb-2019-08-08/vdjdb.slim.txt, }' vdjdb-2019-08-08/vdjdb.slim.txt | sort -u | wc -l`                                                                |\n",
    "| Number of epitope sequences shared between TRA and TRB records | 151      | `comm -12 <(awk '$1 == \"TRA\" { print $4 }' vdjdb-2019-08-08/vdjdb.slim.txt | sort -u) <(awk '$1 == \"TRB\" { print $4 }' vdjdb-2019-08-08/vdjdb.slim.txt | sort -u) | wc -l`  |\n",
    "| Number of CDR3 sequences shared between TRA and TRB records    | 2      | `comm -12 <(awk '$1 == \"TRA\" { print $2 }' vdjdb-2019-08-08/vdjdb.slim.txt | sort -u) <(awk '$1 == \"TRB\" { print $2 }' vdjdb-2019-08-08/vdjdb.slim.txt | sort -u) | wc -l`    |\n",
    "| Epitope distribution for the unique CDR3-epitope pairs         |                                 | `tail -n +2 vdjdb-2019-08-08/vdjdb.slim.txt | cut -d $'\\t' -f2,4 | sort -u | cut -f2 | sort | uniq -c | sort -nr | head -20`                                  |\n",
    "\n",
    "      24639 KLGGALQAK\n",
    "       6744 NLVPMVATV\n",
    "       6600 GILGFVFTL\n",
    "       3255 AVFDRKSDAK\n",
    "       1654 ELAGIGILTV\n",
    "       1501 RAKFKQLL\n",
    "       1190 GLCTLVAML\n",
    "       1088 IVTDFSVIK\n",
    "        819 RLRAEAQVK\n",
    "        685 LLWNGPMAV\n",
    "        617 LLLGIGILV\n",
    "        597 TTPESANL\n",
    "        597 SSLENFRAYV\n",
    "        586 SSYRRPVGI\n",
    "        564 FRDYVDRFYKTLRAEQASQE\n",
    "        548 PKYVKQNTLKLAT\n",
    "        530 CTPYDINQM\n",
    "        417 HGIRNASFI\n",
    "        383 ASNENMETM\n",
    "        334 KRWIILGLNK\n",
    "\n",
    "**Human-only records**\n",
    "\n",
    "| Metric                                                             | Count                                                                                                                                                                        | Command                                                                                                                                                                             |\n",
    "|--------------------------------------------------------------------|------------------------------------------------------------------------------------------------------------------------------------------------------------------------------|-------------------------------------------------------------------------------------------------------------------------------------------------------------------------------------|\n",
    "|   Total number of records                                          | 56592                                                                                                                  | `awk '$3 == \"HomoSapiens\" { print }' vdjdb-2019-08-08/vdjdb.slim.txt |  wc -l`                                                                                                                              |\n",
    "|   TRA records                                                      | 23564                                                                                                 | `awk '$1 == \"TRA\" && $3 == \"HomoSapiens\"  { print $2 }' vdjdb-2019-08-08/vdjdb.slim.txt | wc -l`                                                                                                          |\n",
    "|   TRB records                                                      | 33028                                                                                                | `awk '$1 == \"TRB\" && $3 == \"HomoSapiens\"  { print $2 }' vdjdb-2019-08-08/vdjdb.slim.txt | wc -l`                                                                                                          |\n",
    "|   Unique TRA sequences                                             | 20841                                                                                      | `awk '$1 == \"TRA\" && $3 == \"HomoSapiens\"  { print $2 }' vdjdb-2019-08-08/vdjdb.slim.txt | sort -u | wc -l`                                                                                                |\n",
    "|   Unique TRB sequences                                             | 30757                                                                                      | `awk '$1 == \"TRB\" && $3 == \"HomoSapiens\"  { print $2 }' vdjdb-2019-08-08/vdjdb.slim.txt | sort -u | wc -l`                                                                                                |\n",
    "|   Unique CDR3 sequences                                            | 51596                                                                                               | `awk '$3 == \"HomoSapiens\" { print }' vdjdb-2019-08-08/vdjdb.slim.txt | cut -f2 | sort -u | wc -l`                                                                                                           |\n",
    "|   Unique epitope sequences                                         | 177                                                                                              | `awk '$3 == \"HomoSapiens\" { print }' vdjdb-2019-08-08/vdjdb.slim.txt | cut -f4 | sort -u | wc -l`                                                                                                          |\n",
    "|   Unique epitope sequences for TRA records                         | 125                                                                                      | `awk '$1 == \"TRA\" && $3 == \"HomoSapiens\" { print $4 }' vdjdb-2019-08-08/vdjdb.slim.txt | sort -u | wc -l`                                                                                                |\n",
    "|   Unique epitope sequences for TRB records                         | 177                                                                                      | `awk '$1 == \"TRB\" && $3 == \"HomoSapiens\" { print $4 }' vdjdb-2019-08-08/vdjdb.slim.txt | sort -u | wc -l`                                                                                                |\n",
    "|   Unique CDR3-epitope sequence pairs                               | 56590                                                                                   | `awk '$3 == \"HomoSapiens\" { print }' vdjdb-2019-08-08/vdjdb.slim.txt | cut -d $'\\t' -f2,4 | sort -u | wc -l`                                                                                               |\n",
    "|   Unique TRA-CDR3-epitope sequence pairs                           | 23564                                                                                   | `awk '$1 == \"TRA\" && $3 == \"HomoSapiens\" { print $2,$4 }' vdjdb-2019-08-08/vdjdb.slim.txt | sort -u | wc -l`                                                                                            |\n",
    "|   Unique TRB-CDR3-epitope sequence pairs                           | 33028                                                                                   | `awk '$1 == \"TRB\" && $3 == \"HomoSapiens\" { print $2,$4 }' vdjdb-2019-08-08/vdjdb.slim.txt | sort -u | wc -l`                                                                                            |\n",
    "|   Number of epitope sequences shared between TRA and TRB records   | 125|`comm -12 <(awk '$1 == \"TRA\" && $3 == \"HomoSapiens\" { print $4 }' vdjdb-2019-08-08/vdjdb.slim.txt | sort -u) <(awk '$1 == \"TRB\" && $3 == \"HomoSapiens\" { print $4 }' vdjdb-2019-08-08/vdjdb.slim.txt | sort -u) | wc -l` |\n",
    "|   Number of CDR3 sequences shared between TRA and TRB records      | 2|`comm -12 <(awk '$1 == \"TRA\" && $3 == \"HomoSapiens\" { print $2 }' vdjdb-2019-08-08/vdjdb.slim.txt | sort -u) <(awk '$1 == \"TRB\" && $3 == \"HomoSapiens\" { print $2 }' vdjdb-2019-08-08/vdjdb.slim.txt | sort -u) | wc -l`   |\n",
    "|   Epitope distribution for the unique CDR3-epitope pairs           |                             | `awk '$6 == \"HomoSapiens\" { print }' vdjdb-2019-08-08/vdjdb.slim.txt | cut -d $'\\t' -f3,10 | sort -u | cut -f2 | sort | uniq -c | sort -nr | head -20`                                                                 |\n",
    "\n",
    "      24639 KLGGALQAK\n",
    "       6744 NLVPMVATV\n",
    "       6600 GILGFVFTL\n",
    "       3255 AVFDRKSDAK\n",
    "       1654 ELAGIGILTV\n",
    "       1501 RAKFKQLL\n",
    "       1190 GLCTLVAML\n",
    "       1088 IVTDFSVIK\n",
    "        819 RLRAEAQVK\n",
    "        685 LLWNGPMAV\n",
    "        617 LLLGIGILV\n",
    "        564 FRDYVDRFYKTLRAEQASQE\n",
    "        548 PKYVKQNTLKLAT\n",
    "        334 KRWIILGLNK\n",
    "        244 GLIYNRMGAVTTEV\n",
    "        229 QARQMVQAMRTIGTHP\n",
    "        217 TPRVTGGGAM\n",
    "        209 KAFSPEVIPMF\n",
    "        206 CINGVCWTV\n",
    "        203 VTEHDTLLY\n",
    "\n",
    "\n",
    "\n",
    "### Statistics for VDJdb data browser\n",
    "\n",
    "\n",
    "| Metric                                                         | Count                                                                                                                                       | Command                                                                                                                                        |\n",
    "|----------------------------------------------------------------|---------------------------------------------------------------------------------------------------------------------------------------------|------------------------------------------------------------------------------------------------------------------------------------------------|\n",
    "| Total number of records                                        | 73224                                                                                                         | `tail -n +2 vdjdb-browser.tsv  |  wc -l`                                                                                                         |\n",
    "| TRA records                                                    | 29479                                                                                     | `awk '$2 == \"TRA\" { print $3 }' vdjdb-browser.tsv | wc -l`                                                                                     |\n",
    "| TRB records                                                    | 43745                                                                                     | `awk '$2 == \"TRB\" { print $3 }' vdjdb-browser.tsv | wc -l`                                                                                     |\n",
    "| Unique TRA sequences                                           | 20888                                                                           | `awk '$2 == \"TRA\" { print $3 }' vdjdb-browser.tsv | sort -u | wc -l`                                                                           |\n",
    "| Unique TRB sequences                                           | 33112                                                                           | `awk '$2 == \"TRB\" { print $3 }' vdjdb-browser.tsv | sort -u | wc -l`                                                                           |\n",
    "| Unique CDR3 sequences                                          | 54000                                                                                     | `tail -n +2 vdjdb-browser.tsv | cut -f3 | sort -u | wc -l`                                                                                       |\n",
    "| Unique epitope sequences                                       | 212                                                                                    | `tail -n +2 vdjdb-browser.tsv | cut -f10 | sort -u | wc -l`                                                                                      |\n",
    "| Unique epitope sequences for TRA records                       | 141                                                                          | `awk '$2 == \"TRA\" { print $10 }' vdjdb-browser.tsv | sort -u | wc -l`                                                                          |\n",
    "| Unique epitope sequences for TRB records                       | 210                                                                          | `awk '$2 == \"TRB\" { print $10 }' vdjdb-browser.tsv | sort -u | wc -l`                                                                          |\n",
    "| Unique CDR3-epitope sequence pairs                             | 59072                                                                         | `tail -n +2 vdjdb-browser.tsv | cut -d $'\\t' -f3,10 | sort -u | wc -l`                                                                           |\n",
    "| Unique TRA-CDR3-epitope sequence pairs                         | 23578                                                                       | `awk '$2 == \"TRA\" { print ,vdjdb-browser-summary.md0 }' vdjdb-browser.tsv | sort -u | wc -l`                                                                        |\n",
    "| Unique TRB-CDR3-epitope sequence pairs                         | 35494                                                                       | `awk '$2 == \"TRB\" { print ,vdjdb-browser-summary.md0 }' vdjdb-browser.tsv | sort -u | wc -l`                                                                        |\n",
    "| Number of epitope sequences shared between TRA and TRB records | 139   | `comm -12 <(awk '$2 == \"TRA\" { print $10 }' vdjdb-browser.tsv | sort -u) <(awk '$2 == \"TRB\" { print $10 }' vdjdb-browser.tsv | sort -u) | wc -l` |\n",
    "| Number of CDR3 sequences shared between TRA and TRB records    | 0     | `comm -12 <(awk '$2 == \"TRA\" { print $3 }' vdjdb-browser.tsv | sort -u) <(awk '$2 == \"TRB\" { print $3 }' vdjdb-browser.tsv | sort -u) | wc -l`   |\n",
    "| Epitope distribution for the unique CDR3-epitope pairs         |                                 | `tail -n +2 vdjdb-browser.tsv | cut -d $'\\t' -f3,10 | sort -u | cut -f2 | sort | uniq -c | sort -nr | head -20`                                  |\n",
    "\n",
    "      24041 KLGGALQAK\n",
    "       6514 NLVPMVATV\n",
    "       6389 GILGFVFTL\n",
    "       3175 AVFDRKSDAK\n",
    "       1624 ELAGIGILTV\n",
    "       1472 RAKFKQLL\n",
    "       1142 GLCTLVAML\n",
    "       1067 IVTDFSVIK\n",
    "        800 RLRAEAQVK\n",
    "        652 LLWNGPMAV\n",
    "        585 SSLENFRAYV\n",
    "        577 LLLGIGILV\n",
    "        562 SSYRRPVGI\n",
    "        523 PKYVKQNTLKLAT\n",
    "        511 TTPESANL\n",
    "        508 FRDYVDRFYKTLRAEQASQE\n",
    "        500 CTPYDINQM\n",
    "        398 HGIRNASFI\n",
    "        345 ASNENMETM\n",
    "        325 KRWIILGLNK\n",
    "\n",
    "**Human-only records**\n",
    "\n",
    "| Metric                                                             | Count                                                                                                                                                                          | Command                                                                                                                                                                                                 |\n",
    "|--------------------------------------------------------------------|--------------------------------------------------------------------------------------------------------------------------------------------------------------------------------|---------------------------------------------------------------------------------------------------------------------------------------------------------------------------------------------------------|\n",
    "|   Total number of records                                          | 66597                                                                                                                  | `awk '$6 == \"HomoSapiens\" { print }' vdjdb-browser.tsv |  wc -l`                                                                                                                                         |\n",
    "|   TRA records                                                      | 27295                                                                                                 | `awk '$2 == \"TRA\" && $6 == \"HomoSapiens\"  { print $3 }' vdjdb-browser.tsv | wc -l`                                                                                                                     |\n",
    "|   TRB records                                                      | 39302                                                                                                | `awk '$2 == \"TRB\" && $6 == \"HomoSapiens\"  { print $3 }' vdjdb-browser.tsv | wc -l`                                                                                                                     |\n",
    "|   Unique TRA sequences                                             | 19637                                                                                      | `awk '$2 == \"TRA\" && $6 == \"HomoSapiens\"  { print $3 }' vdjdb-browser.tsv | sort -u | wc -l`                                                                                                           |\n",
    "|   Unique TRB sequences                                             | 30377                                                                                      | `awk '$2 == \"TRB\" && $6 == \"HomoSapiens\"  { print $3 }' vdjdb-browser.tsv | sort -u | wc -l`                                                                                                           |\n",
    "|   Unique CDR3 sequences                                            | 50014                                                                                               | `awk '$6 == \"HomoSapiens\" { print }' vdjdb-browser.tsv | cut -f3 | sort -u | wc -l`                                                                                                                      |\n",
    "|   Unique epitope sequences                                         | 177                                                                                              | `awk '$6 == \"HomoSapiens\" { print }' vdjdb-browser.tsv | cut -f10 | sort -u | wc -l`                                                                                                                     |\n",
    "|   Unique epitope sequences for TRA records                         | 117                                                                                      | `awk '$2 == \"TRA\" && $6 == \"HomoSapiens\" { print $10 }' vdjdb-browser.tsv | sort -u | wc -l`                                                                                                           |\n",
    "|   Unique epitope sequences for TRB records                         | 175                                                                                      | `awk '$2 == \"TRB\" && $6 == \"HomoSapiens\" { print $10 }' vdjdb-browser.tsv | sort -u | wc -l`                                                                                                           |\n",
    "|   Unique CDR3-epitope sequence pairs                               | 54887                                                                                   | `awk '$6 == \"HomoSapiens\" { print }' vdjdb-browser.tsv | cut -d $'\\t' -f3,10 | sort -u | wc -l`                                                                                                          |\n",
    "|   Unique TRA-CDR3-epitope sequence pairs                           | 22248                                                                                   | `awk '$2 == \"TRA\" && $6 == \"HomoSapiens\" { print $3,$10 }' vdjdb-browser.tsv | sort -u | wc -l`                                                                                                       |\n",
    "|   Unique TRB-CDR3-epitope sequence pairs                           | 32639                                                                                   | `awk '$2 == \"TRB\" && $6 == \"HomoSapiens\" { print $3,$10 }' vdjdb-browser.tsv | sort -u | wc -l`                                                                                                       |\n",
    "|   Number of epitope sequences shared between TRA and TRB records   | 115|`comm -12 <(awk '$2 == \"TRA\" && $6 == \"HomoSapiens\" { print $10 }' vdjdb-browser.tsv | sort -u) <(awk '$2 == \"TRB\" && $6 == \"HomoSapiens\" { print $10 }' vdjdb-browser.tsv | sort -u) | wc -l`   |\n",
    "|   Number of CDR3 sequences shared between TRA and TRB records      | 0|`comm -12 <(awk '$2 == \"TRA\" && $6 == \"HomoSapiens\" { print $3 }' vdjdb-browser.tsv | sort -u) <(awk '$2 == \"TRB\" && $6 == \"HomoSapiens\" { print $3 }' vdjdb-browser.tsv | sort -u) | wc -l`     |\n",
    "|   Epitope distribution for the unique CDR3-epitope pairs           |                             | `awk '$6 == \"HomoSapiens\" { print }' vdjdb-browser.tsv | cut -d $'\\t' -f3,10 | sort -u | cut -f2 | sort | uniq -c | sort -nr | head -20`                                                                 |\n",
    "\n",
    "      24041 KLGGALQAK\n",
    "       6514 NLVPMVATV\n",
    "       6389 GILGFVFTL\n",
    "       3175 AVFDRKSDAK\n",
    "       1624 ELAGIGILTV\n",
    "       1472 RAKFKQLL\n",
    "       1142 GLCTLVAML\n",
    "       1067 IVTDFSVIK\n",
    "        800 RLRAEAQVK\n",
    "        652 LLWNGPMAV\n",
    "        577 LLLGIGILV\n",
    "        523 PKYVKQNTLKLAT\n",
    "        508 FRDYVDRFYKTLRAEQASQE\n",
    "        325 KRWIILGLNK\n",
    "        240 GLIYNRMGAVTTEV\n",
    "        226 QARQMVQAMRTIGTHP\n",
    "        201 VTEHDTLLY\n",
    "        201 CINGVCWTV\n",
    "        199 TPRVTGGGAM\n",
    "        193 KAFSPEVIPMF\n"
   ]
  },
  {
   "cell_type": "markdown",
   "metadata": {},
   "source": [
    "# Comparison of slim and normal file in the VDJdb GitHub releases (August 2019)"
   ]
  },
  {
   "cell_type": "code",
   "execution_count": 2,
   "metadata": {},
   "outputs": [],
   "source": [
    "vdjdb_slim_path = PROJECT_ROOT / \"data/raw/vdjdb/vdjdb-2019-08-08/vdjdb.slim.txt\"\n",
    "df_slim = pd.read_csv(vdjdb_slim_path, sep=\"\\t\")\n",
    "\n",
    "vdjdb_normal_path = PROJECT_ROOT / \"data/raw/vdjdb/vdjdb-2019-08-08/vdjdb.txt\"\n",
    "df_normal = pd.read_csv(vdjdb_normal_path, sep=\"\\t\")\n",
    "# expand the json/dict-like columns\n",
    "df_normal = (\n",
    "    df_normal.join(json_normalize(df_normal[\"method\"].apply(lambda x: json.loads(r'{}'.format(x)))).add_prefix(\"method.\"))\n",
    "    .join(json_normalize(df_normal[\"meta\"].apply(lambda x: json.loads(r'{}'.format(x)))).add_prefix(\"meta.\"))\n",
    "    .join(json_normalize(df_normal[\"cdr3fix\"].apply(lambda x: json.loads(r'{}'.format(x)))).add_prefix(\"cdr3fix.\"))\n",
    "    .drop([\"method\", \"meta\", \"cdr3fix\"], axis=1)\n",
    ")\n",
    "columns = [\"cdr3\", \"antigen.epitope\"]\n",
    "\n",
    "# create column based on cdr3 and epitope sequences\n",
    "df_normal[\"merged\"] = df_normal[\"cdr3\"] + \"-\" + df_normal[\"antigen.epitope\"]\n",
    "df_slim[\"merged\"] = df_slim[\"cdr3\"] + \"-\" + df_slim[\"antigen.epitope\"]"
   ]
  },
  {
   "cell_type": "markdown",
   "metadata": {},
   "source": [
    "## Duplicate CDR3-epitope pairs"
   ]
  },
  {
   "cell_type": "code",
   "execution_count": 3,
   "metadata": {},
   "outputs": [
    {
     "name": "stdout",
     "output_type": "stream",
     "text": [
      "There were 14427 duplicate CDR3-epitope pairs present in the dataset.\n"
     ]
    }
   ],
   "source": [
    "print(f\"There were {df_normal.shape[0] - df_normal.drop_duplicates(columns).shape[0]} duplicate CDR3-epitope pairs present in the dataset.\")"
   ]
  },
  {
   "cell_type": "markdown",
   "metadata": {},
   "source": [
    "The normal file contains more entries, but upon removing duplicates both contain the same amount and the exact same entries. Note however, that the slim version only contains **two** duplicates."
   ]
  },
  {
   "cell_type": "code",
   "execution_count": 4,
   "metadata": {},
   "outputs": [
    {
     "data": {
      "text/plain": [
       "(75474, 55)"
      ]
     },
     "execution_count": 4,
     "metadata": {},
     "output_type": "execute_result"
    }
   ],
   "source": [
    "df_normal.shape"
   ]
  },
  {
   "cell_type": "code",
   "execution_count": 5,
   "metadata": {},
   "outputs": [
    {
     "data": {
      "text/plain": [
       "(61049, 17)"
      ]
     },
     "execution_count": 5,
     "metadata": {},
     "output_type": "execute_result"
    }
   ],
   "source": [
    "df_slim.shape"
   ]
  },
  {
   "cell_type": "code",
   "execution_count": 6,
   "metadata": {},
   "outputs": [
    {
     "data": {
      "text/plain": [
       "(61047, 55)"
      ]
     },
     "execution_count": 6,
     "metadata": {},
     "output_type": "execute_result"
    }
   ],
   "source": [
    "df_normal.drop_duplicates(columns).shape"
   ]
  },
  {
   "cell_type": "code",
   "execution_count": 7,
   "metadata": {},
   "outputs": [
    {
     "data": {
      "text/plain": [
       "(61047, 17)"
      ]
     },
     "execution_count": 7,
     "metadata": {},
     "output_type": "execute_result"
    }
   ],
   "source": [
    "df_slim.drop_duplicates(columns).shape"
   ]
  },
  {
   "cell_type": "code",
   "execution_count": 8,
   "metadata": {},
   "outputs": [],
   "source": [
    "# check content of unique cdr3 and epitopes separately\n",
    "assert set(df_slim.drop_duplicates(columns).cdr3.unique()) == set(df_normal.drop_duplicates(columns).cdr3.unique())\n",
    "assert set(df_slim.drop_duplicates(columns)[\"antigen.epitope\"].unique()) == set(df_normal.drop_duplicates(columns)[\"antigen.epitope\"].unique())\n",
    "\n",
    "# check content of merged sequence pairs\n",
    "# assert set(df_slim.drop_duplicates(columns)[\"cdr3\"] + \"-\" + df_slim.drop_duplicates(columns)[\"antigen.epitope\"]) == set(df_normal.drop_duplicates(columns)[\"cdr3\"] + \"-\" + df_normal.drop_duplicates(columns)[\"antigen.epitope\"])\n",
    "assert set(df_slim.drop_duplicates(columns)[\"merged\"]) == set(df_normal.drop_duplicates(columns)[\"merged\"])"
   ]
  },
  {
   "cell_type": "markdown",
   "metadata": {},
   "source": [
    "These two duplicates in the slim version are two spurious entries according to the web browser."
   ]
  },
  {
   "cell_type": "code",
   "execution_count": 9,
   "metadata": {},
   "outputs": [
    {
     "data": {
      "text/html": [
       "<div>\n",
       "<style scoped>\n",
       "    .dataframe tbody tr th:only-of-type {\n",
       "        vertical-align: middle;\n",
       "    }\n",
       "\n",
       "    .dataframe tbody tr th {\n",
       "        vertical-align: top;\n",
       "    }\n",
       "\n",
       "    .dataframe thead th {\n",
       "        text-align: right;\n",
       "    }\n",
       "</style>\n",
       "<table border=\"1\" class=\"dataframe\">\n",
       "  <thead>\n",
       "    <tr style=\"text-align: right;\">\n",
       "      <th></th>\n",
       "      <th>gene</th>\n",
       "      <th>cdr3</th>\n",
       "      <th>species</th>\n",
       "      <th>antigen.epitope</th>\n",
       "      <th>antigen.gene</th>\n",
       "      <th>antigen.species</th>\n",
       "      <th>complex.id</th>\n",
       "      <th>v.segm</th>\n",
       "      <th>j.segm</th>\n",
       "      <th>v.end</th>\n",
       "      <th>j.start</th>\n",
       "      <th>mhc.a</th>\n",
       "      <th>mhc.b</th>\n",
       "      <th>mhc.class</th>\n",
       "      <th>reference.id</th>\n",
       "      <th>vdjdb.score</th>\n",
       "      <th>merged</th>\n",
       "    </tr>\n",
       "  </thead>\n",
       "  <tbody>\n",
       "    <tr>\n",
       "      <th>17626</th>\n",
       "      <td>TRA</td>\n",
       "      <td>CASSSVNEQYF</td>\n",
       "      <td>HomoSapiens</td>\n",
       "      <td>NLVPMVATV</td>\n",
       "      <td>pp65</td>\n",
       "      <td>CMV</td>\n",
       "      <td>22387</td>\n",
       "      <td>TRAV9-2*01</td>\n",
       "      <td>TRAJ40*01</td>\n",
       "      <td>2</td>\n",
       "      <td>-1</td>\n",
       "      <td>HLA-A*02:01</td>\n",
       "      <td>B2M</td>\n",
       "      <td>MHCI</td>\n",
       "      <td>PMID:28636592</td>\n",
       "      <td>1</td>\n",
       "      <td>CASSSVNEQYF-NLVPMVATV</td>\n",
       "    </tr>\n",
       "    <tr>\n",
       "      <th>48822</th>\n",
       "      <td>TRA</td>\n",
       "      <td>CASSDSRGTEAFF</td>\n",
       "      <td>HomoSapiens</td>\n",
       "      <td>LLWNGPMAV</td>\n",
       "      <td>NS4B</td>\n",
       "      <td>YFV</td>\n",
       "      <td>23577</td>\n",
       "      <td>TRAV14/DV4*01</td>\n",
       "      <td>TRAJ42*01</td>\n",
       "      <td>2</td>\n",
       "      <td>-1</td>\n",
       "      <td>HLA-A*02:01</td>\n",
       "      <td>B2M</td>\n",
       "      <td>MHCI</td>\n",
       "      <td>PMID:28103239</td>\n",
       "      <td>0</td>\n",
       "      <td>CASSDSRGTEAFF-LLWNGPMAV</td>\n",
       "    </tr>\n",
       "  </tbody>\n",
       "</table>\n",
       "</div>"
      ],
      "text/plain": [
       "      gene           cdr3      species antigen.epitope antigen.gene  \\\n",
       "17626  TRA    CASSSVNEQYF  HomoSapiens       NLVPMVATV         pp65   \n",
       "48822  TRA  CASSDSRGTEAFF  HomoSapiens       LLWNGPMAV         NS4B   \n",
       "\n",
       "      antigen.species complex.id         v.segm     j.segm  v.end  j.start  \\\n",
       "17626             CMV      22387     TRAV9-2*01  TRAJ40*01      2       -1   \n",
       "48822             YFV      23577  TRAV14/DV4*01  TRAJ42*01      2       -1   \n",
       "\n",
       "             mhc.a mhc.b mhc.class   reference.id  vdjdb.score  \\\n",
       "17626  HLA-A*02:01   B2M      MHCI  PMID:28636592            1   \n",
       "48822  HLA-A*02:01   B2M      MHCI  PMID:28103239            0   \n",
       "\n",
       "                        merged  \n",
       "17626    CASSSVNEQYF-NLVPMVATV  \n",
       "48822  CASSDSRGTEAFF-LLWNGPMAV  "
      ]
     },
     "execution_count": 9,
     "metadata": {},
     "output_type": "execute_result"
    }
   ],
   "source": [
    "df_slim[df_slim.duplicated(subset=columns)]"
   ]
  },
  {
   "cell_type": "markdown",
   "metadata": {},
   "source": [
    "**This suggests that the slim version already had some duplicates removed, but not all of them.**"
   ]
  },
  {
   "cell_type": "markdown",
   "metadata": {},
   "source": [
    "The duplicated entries that are unique to the normal version, are duplicated because of values in the columns that are missing from the `slim` version, i.e. cdr3fix, meta data and method columns. E.g. \"CASSFGVSYEQYF\" is duplicated in the normal version, but not in the slim."
   ]
  },
  {
   "cell_type": "code",
   "execution_count": 10,
   "metadata": {},
   "outputs": [
    {
     "data": {
      "text/html": [
       "<div>\n",
       "<style scoped>\n",
       "    .dataframe tbody tr th:only-of-type {\n",
       "        vertical-align: middle;\n",
       "    }\n",
       "\n",
       "    .dataframe tbody tr th {\n",
       "        vertical-align: top;\n",
       "    }\n",
       "\n",
       "    .dataframe thead th {\n",
       "        text-align: right;\n",
       "    }\n",
       "</style>\n",
       "<table border=\"1\" class=\"dataframe\">\n",
       "  <thead>\n",
       "    <tr style=\"text-align: right;\">\n",
       "      <th></th>\n",
       "      <th>complex.id</th>\n",
       "      <th>gene</th>\n",
       "      <th>cdr3</th>\n",
       "      <th>v.segm</th>\n",
       "      <th>j.segm</th>\n",
       "      <th>species</th>\n",
       "      <th>mhc.a</th>\n",
       "      <th>mhc.b</th>\n",
       "      <th>mhc.class</th>\n",
       "      <th>antigen.epitope</th>\n",
       "      <th>...</th>\n",
       "      <th>cdr3fix.vEnd</th>\n",
       "      <th>cdr3fix.vFixType</th>\n",
       "      <th>cdr3fix.vId</th>\n",
       "      <th>cdr3fix.oldVEnd</th>\n",
       "      <th>cdr3fix.oldVFixType</th>\n",
       "      <th>cdr3fix.oldVId</th>\n",
       "      <th>cdr3fix.oldJFixType</th>\n",
       "      <th>cdr3fix.oldJId</th>\n",
       "      <th>cdr3fix.oldJStart</th>\n",
       "      <th>merged</th>\n",
       "    </tr>\n",
       "  </thead>\n",
       "  <tbody>\n",
       "    <tr>\n",
       "      <th>67</th>\n",
       "      <td>0</td>\n",
       "      <td>TRB</td>\n",
       "      <td>CASSFGVSYEQYF</td>\n",
       "      <td>TRBV13-1*01</td>\n",
       "      <td>TRBJ2-1*01</td>\n",
       "      <td>MusMusculus</td>\n",
       "      <td>H-2Kb</td>\n",
       "      <td>B2M</td>\n",
       "      <td>MHCI</td>\n",
       "      <td>RGYVYQGL</td>\n",
       "      <td>...</td>\n",
       "      <td>4</td>\n",
       "      <td>NoFixNeeded</td>\n",
       "      <td>TRBV13-1*01</td>\n",
       "      <td>NaN</td>\n",
       "      <td>NaN</td>\n",
       "      <td>NaN</td>\n",
       "      <td>NaN</td>\n",
       "      <td>NaN</td>\n",
       "      <td>NaN</td>\n",
       "      <td>CASSFGVSYEQYF-RGYVYQGL</td>\n",
       "    </tr>\n",
       "    <tr>\n",
       "      <th>75</th>\n",
       "      <td>0</td>\n",
       "      <td>TRB</td>\n",
       "      <td>CASSFGVSYEQYF</td>\n",
       "      <td>TRBV13-1*01</td>\n",
       "      <td>TRBJ2-1*01</td>\n",
       "      <td>MusMusculus</td>\n",
       "      <td>H-2Kb</td>\n",
       "      <td>B2M</td>\n",
       "      <td>MHCI</td>\n",
       "      <td>RGYVYQGL</td>\n",
       "      <td>...</td>\n",
       "      <td>4</td>\n",
       "      <td>NoFixNeeded</td>\n",
       "      <td>TRBV13-1*01</td>\n",
       "      <td>NaN</td>\n",
       "      <td>NaN</td>\n",
       "      <td>NaN</td>\n",
       "      <td>NaN</td>\n",
       "      <td>NaN</td>\n",
       "      <td>NaN</td>\n",
       "      <td>CASSFGVSYEQYF-RGYVYQGL</td>\n",
       "    </tr>\n",
       "    <tr>\n",
       "      <th>80</th>\n",
       "      <td>0</td>\n",
       "      <td>TRB</td>\n",
       "      <td>CASSFGVSYEQYF</td>\n",
       "      <td>TRBV13-1*01</td>\n",
       "      <td>TRBJ2-1*01</td>\n",
       "      <td>MusMusculus</td>\n",
       "      <td>H-2Kb</td>\n",
       "      <td>B2M</td>\n",
       "      <td>MHCI</td>\n",
       "      <td>RGYVYQGL</td>\n",
       "      <td>...</td>\n",
       "      <td>4</td>\n",
       "      <td>NoFixNeeded</td>\n",
       "      <td>TRBV13-1*01</td>\n",
       "      <td>NaN</td>\n",
       "      <td>NaN</td>\n",
       "      <td>NaN</td>\n",
       "      <td>NaN</td>\n",
       "      <td>NaN</td>\n",
       "      <td>NaN</td>\n",
       "      <td>CASSFGVSYEQYF-RGYVYQGL</td>\n",
       "    </tr>\n",
       "    <tr>\n",
       "      <th>86</th>\n",
       "      <td>0</td>\n",
       "      <td>TRB</td>\n",
       "      <td>CASSFGVSYEQYF</td>\n",
       "      <td>TRBV13-1*01</td>\n",
       "      <td>TRBJ2-1*01</td>\n",
       "      <td>MusMusculus</td>\n",
       "      <td>H-2Kb</td>\n",
       "      <td>B2M</td>\n",
       "      <td>MHCI</td>\n",
       "      <td>RGYVYQGL</td>\n",
       "      <td>...</td>\n",
       "      <td>4</td>\n",
       "      <td>NoFixNeeded</td>\n",
       "      <td>TRBV13-1*01</td>\n",
       "      <td>NaN</td>\n",
       "      <td>NaN</td>\n",
       "      <td>NaN</td>\n",
       "      <td>NaN</td>\n",
       "      <td>NaN</td>\n",
       "      <td>NaN</td>\n",
       "      <td>CASSFGVSYEQYF-RGYVYQGL</td>\n",
       "    </tr>\n",
       "  </tbody>\n",
       "</table>\n",
       "<p>4 rows × 55 columns</p>\n",
       "</div>"
      ],
      "text/plain": [
       "    complex.id gene           cdr3       v.segm      j.segm      species  \\\n",
       "67           0  TRB  CASSFGVSYEQYF  TRBV13-1*01  TRBJ2-1*01  MusMusculus   \n",
       "75           0  TRB  CASSFGVSYEQYF  TRBV13-1*01  TRBJ2-1*01  MusMusculus   \n",
       "80           0  TRB  CASSFGVSYEQYF  TRBV13-1*01  TRBJ2-1*01  MusMusculus   \n",
       "86           0  TRB  CASSFGVSYEQYF  TRBV13-1*01  TRBJ2-1*01  MusMusculus   \n",
       "\n",
       "    mhc.a mhc.b mhc.class antigen.epitope  ... cdr3fix.vEnd cdr3fix.vFixType  \\\n",
       "67  H-2Kb   B2M      MHCI        RGYVYQGL  ...            4      NoFixNeeded   \n",
       "75  H-2Kb   B2M      MHCI        RGYVYQGL  ...            4      NoFixNeeded   \n",
       "80  H-2Kb   B2M      MHCI        RGYVYQGL  ...            4      NoFixNeeded   \n",
       "86  H-2Kb   B2M      MHCI        RGYVYQGL  ...            4      NoFixNeeded   \n",
       "\n",
       "    cdr3fix.vId  cdr3fix.oldVEnd cdr3fix.oldVFixType cdr3fix.oldVId  \\\n",
       "67  TRBV13-1*01              NaN                 NaN            NaN   \n",
       "75  TRBV13-1*01              NaN                 NaN            NaN   \n",
       "80  TRBV13-1*01              NaN                 NaN            NaN   \n",
       "86  TRBV13-1*01              NaN                 NaN            NaN   \n",
       "\n",
       "   cdr3fix.oldJFixType cdr3fix.oldJId cdr3fix.oldJStart  \\\n",
       "67                 NaN            NaN               NaN   \n",
       "75                 NaN            NaN               NaN   \n",
       "80                 NaN            NaN               NaN   \n",
       "86                 NaN            NaN               NaN   \n",
       "\n",
       "                    merged  \n",
       "67  CASSFGVSYEQYF-RGYVYQGL  \n",
       "75  CASSFGVSYEQYF-RGYVYQGL  \n",
       "80  CASSFGVSYEQYF-RGYVYQGL  \n",
       "86  CASSFGVSYEQYF-RGYVYQGL  \n",
       "\n",
       "[4 rows x 55 columns]"
      ]
     },
     "execution_count": 10,
     "metadata": {},
     "output_type": "execute_result"
    }
   ],
   "source": [
    "df_normal.loc[df_normal.cdr3.str.contains(\"CASSFGVSYEQYF\")]"
   ]
  },
  {
   "cell_type": "code",
   "execution_count": 11,
   "metadata": {},
   "outputs": [
    {
     "data": {
      "text/html": [
       "<div>\n",
       "<style scoped>\n",
       "    .dataframe tbody tr th:only-of-type {\n",
       "        vertical-align: middle;\n",
       "    }\n",
       "\n",
       "    .dataframe tbody tr th {\n",
       "        vertical-align: top;\n",
       "    }\n",
       "\n",
       "    .dataframe thead th {\n",
       "        text-align: right;\n",
       "    }\n",
       "</style>\n",
       "<table border=\"1\" class=\"dataframe\">\n",
       "  <thead>\n",
       "    <tr style=\"text-align: right;\">\n",
       "      <th></th>\n",
       "      <th>gene</th>\n",
       "      <th>cdr3</th>\n",
       "      <th>species</th>\n",
       "      <th>antigen.epitope</th>\n",
       "      <th>antigen.gene</th>\n",
       "      <th>antigen.species</th>\n",
       "      <th>complex.id</th>\n",
       "      <th>v.segm</th>\n",
       "      <th>j.segm</th>\n",
       "      <th>v.end</th>\n",
       "      <th>j.start</th>\n",
       "      <th>mhc.a</th>\n",
       "      <th>mhc.b</th>\n",
       "      <th>mhc.class</th>\n",
       "      <th>reference.id</th>\n",
       "      <th>vdjdb.score</th>\n",
       "      <th>merged</th>\n",
       "    </tr>\n",
       "  </thead>\n",
       "  <tbody>\n",
       "    <tr>\n",
       "      <th>59425</th>\n",
       "      <td>TRB</td>\n",
       "      <td>CASSFGVSYEQYF</td>\n",
       "      <td>MusMusculus</td>\n",
       "      <td>RGYVYQGL</td>\n",
       "      <td>N</td>\n",
       "      <td>VSV</td>\n",
       "      <td>0</td>\n",
       "      <td>TRBV13-1*01</td>\n",
       "      <td>TRBJ2-1*01</td>\n",
       "      <td>4</td>\n",
       "      <td>-1</td>\n",
       "      <td>H-2Kb</td>\n",
       "      <td>B2M</td>\n",
       "      <td>MHCI</td>\n",
       "      <td>PMID:9560256</td>\n",
       "      <td>3</td>\n",
       "      <td>CASSFGVSYEQYF-RGYVYQGL</td>\n",
       "    </tr>\n",
       "  </tbody>\n",
       "</table>\n",
       "</div>"
      ],
      "text/plain": [
       "      gene           cdr3      species antigen.epitope antigen.gene  \\\n",
       "59425  TRB  CASSFGVSYEQYF  MusMusculus        RGYVYQGL            N   \n",
       "\n",
       "      antigen.species complex.id       v.segm      j.segm  v.end  j.start  \\\n",
       "59425             VSV          0  TRBV13-1*01  TRBJ2-1*01      4       -1   \n",
       "\n",
       "       mhc.a mhc.b mhc.class  reference.id  vdjdb.score  \\\n",
       "59425  H-2Kb   B2M      MHCI  PMID:9560256            3   \n",
       "\n",
       "                       merged  \n",
       "59425  CASSFGVSYEQYF-RGYVYQGL  "
      ]
     },
     "execution_count": 11,
     "metadata": {},
     "output_type": "execute_result"
    }
   ],
   "source": [
    "df_slim.loc[df_slim.cdr3.str.contains(\"CASSFGVSYEQYF\")]"
   ]
  },
  {
   "cell_type": "code",
   "execution_count": 12,
   "metadata": {},
   "outputs": [
    {
     "data": {
      "text/html": [
       "<div>\n",
       "<style scoped>\n",
       "    .dataframe tbody tr th:only-of-type {\n",
       "        vertical-align: middle;\n",
       "    }\n",
       "\n",
       "    .dataframe tbody tr th {\n",
       "        vertical-align: top;\n",
       "    }\n",
       "\n",
       "    .dataframe thead th {\n",
       "        text-align: right;\n",
       "    }\n",
       "</style>\n",
       "<table border=\"1\" class=\"dataframe\">\n",
       "  <thead>\n",
       "    <tr style=\"text-align: right;\">\n",
       "      <th></th>\n",
       "      <th>gene</th>\n",
       "      <th>cdr3</th>\n",
       "      <th>species</th>\n",
       "      <th>antigen.epitope</th>\n",
       "      <th>antigen.gene</th>\n",
       "      <th>antigen.species</th>\n",
       "      <th>complex.id</th>\n",
       "      <th>v.segm</th>\n",
       "      <th>j.segm</th>\n",
       "      <th>v.end</th>\n",
       "      <th>j.start</th>\n",
       "      <th>mhc.a</th>\n",
       "      <th>mhc.b</th>\n",
       "      <th>mhc.class</th>\n",
       "      <th>reference.id</th>\n",
       "      <th>vdjdb.score</th>\n",
       "      <th>merged</th>\n",
       "    </tr>\n",
       "  </thead>\n",
       "  <tbody>\n",
       "    <tr>\n",
       "      <th>59425</th>\n",
       "      <td>TRB</td>\n",
       "      <td>CASSFGVSYEQYF</td>\n",
       "      <td>MusMusculus</td>\n",
       "      <td>RGYVYQGL</td>\n",
       "      <td>N</td>\n",
       "      <td>VSV</td>\n",
       "      <td>0</td>\n",
       "      <td>TRBV13-1*01</td>\n",
       "      <td>TRBJ2-1*01</td>\n",
       "      <td>4</td>\n",
       "      <td>-1</td>\n",
       "      <td>H-2Kb</td>\n",
       "      <td>B2M</td>\n",
       "      <td>MHCI</td>\n",
       "      <td>PMID:9560256</td>\n",
       "      <td>3</td>\n",
       "      <td>CASSFGVSYEQYF-RGYVYQGL</td>\n",
       "    </tr>\n",
       "  </tbody>\n",
       "</table>\n",
       "</div>"
      ],
      "text/plain": [
       "      gene           cdr3      species antigen.epitope antigen.gene  \\\n",
       "59425  TRB  CASSFGVSYEQYF  MusMusculus        RGYVYQGL            N   \n",
       "\n",
       "      antigen.species complex.id       v.segm      j.segm  v.end  j.start  \\\n",
       "59425             VSV          0  TRBV13-1*01  TRBJ2-1*01      4       -1   \n",
       "\n",
       "       mhc.a mhc.b mhc.class  reference.id  vdjdb.score  \\\n",
       "59425  H-2Kb   B2M      MHCI  PMID:9560256            3   \n",
       "\n",
       "                       merged  \n",
       "59425  CASSFGVSYEQYF-RGYVYQGL  "
      ]
     },
     "execution_count": 12,
     "metadata": {},
     "output_type": "execute_result"
    }
   ],
   "source": [
    "df_slim.loc[df_slim.cdr3.str.contains(\"CASSFGVSYEQYF\")]"
   ]
  },
  {
   "cell_type": "markdown",
   "metadata": {},
   "source": [
    "## Spurious sequences\n",
    "\n",
    "Both versions contain spurious entries. E.g. the two spurious duplicates in the slim version are also present in the normal version."
   ]
  },
  {
   "cell_type": "code",
   "execution_count": 13,
   "metadata": {
    "scrolled": false
   },
   "outputs": [
    {
     "data": {
      "text/html": [
       "<div>\n",
       "<style scoped>\n",
       "    .dataframe tbody tr th:only-of-type {\n",
       "        vertical-align: middle;\n",
       "    }\n",
       "\n",
       "    .dataframe tbody tr th {\n",
       "        vertical-align: top;\n",
       "    }\n",
       "\n",
       "    .dataframe thead th {\n",
       "        text-align: right;\n",
       "    }\n",
       "</style>\n",
       "<table border=\"1\" class=\"dataframe\">\n",
       "  <thead>\n",
       "    <tr style=\"text-align: right;\">\n",
       "      <th></th>\n",
       "      <th>complex.id</th>\n",
       "      <th>gene</th>\n",
       "      <th>cdr3</th>\n",
       "      <th>v.segm</th>\n",
       "      <th>j.segm</th>\n",
       "      <th>species</th>\n",
       "      <th>mhc.a</th>\n",
       "      <th>mhc.b</th>\n",
       "      <th>mhc.class</th>\n",
       "      <th>antigen.epitope</th>\n",
       "      <th>...</th>\n",
       "      <th>cdr3fix.vEnd</th>\n",
       "      <th>cdr3fix.vFixType</th>\n",
       "      <th>cdr3fix.vId</th>\n",
       "      <th>cdr3fix.oldVEnd</th>\n",
       "      <th>cdr3fix.oldVFixType</th>\n",
       "      <th>cdr3fix.oldVId</th>\n",
       "      <th>cdr3fix.oldJFixType</th>\n",
       "      <th>cdr3fix.oldJId</th>\n",
       "      <th>cdr3fix.oldJStart</th>\n",
       "      <th>merged</th>\n",
       "    </tr>\n",
       "  </thead>\n",
       "  <tbody>\n",
       "    <tr>\n",
       "      <th>46206</th>\n",
       "      <td>22387</td>\n",
       "      <td>TRA</td>\n",
       "      <td>CASSSVNEQYF</td>\n",
       "      <td>TRAV9-2*01</td>\n",
       "      <td>TRAJ40*01</td>\n",
       "      <td>HomoSapiens</td>\n",
       "      <td>HLA-A*02:01</td>\n",
       "      <td>B2M</td>\n",
       "      <td>MHCI</td>\n",
       "      <td>NLVPMVATV</td>\n",
       "      <td>...</td>\n",
       "      <td>2</td>\n",
       "      <td>NoFixNeeded</td>\n",
       "      <td>TRAV9-2*01</td>\n",
       "      <td>NaN</td>\n",
       "      <td>NaN</td>\n",
       "      <td>NaN</td>\n",
       "      <td>NaN</td>\n",
       "      <td>NaN</td>\n",
       "      <td>NaN</td>\n",
       "      <td>CASSSVNEQYF-NLVPMVATV</td>\n",
       "    </tr>\n",
       "    <tr>\n",
       "      <th>48674</th>\n",
       "      <td>0</td>\n",
       "      <td>TRB</td>\n",
       "      <td>CASSSVNEQYF</td>\n",
       "      <td>TRBV12-4*01</td>\n",
       "      <td>TRBJ2-7*01</td>\n",
       "      <td>HomoSapiens</td>\n",
       "      <td>HLA-A*02:01</td>\n",
       "      <td>B2M</td>\n",
       "      <td>MHCI</td>\n",
       "      <td>NLVPMVATV</td>\n",
       "      <td>...</td>\n",
       "      <td>4</td>\n",
       "      <td>NoFixNeeded</td>\n",
       "      <td>TRBV12-4*01</td>\n",
       "      <td>NaN</td>\n",
       "      <td>NaN</td>\n",
       "      <td>NaN</td>\n",
       "      <td>NaN</td>\n",
       "      <td>NaN</td>\n",
       "      <td>NaN</td>\n",
       "      <td>CASSSVNEQYF-NLVPMVATV</td>\n",
       "    </tr>\n",
       "    <tr>\n",
       "      <th>48675</th>\n",
       "      <td>0</td>\n",
       "      <td>TRB</td>\n",
       "      <td>CASSSVNEQYF</td>\n",
       "      <td>TRBV12-4*01</td>\n",
       "      <td>TRBJ2-7*01</td>\n",
       "      <td>HomoSapiens</td>\n",
       "      <td>HLA-A*02:01</td>\n",
       "      <td>B2M</td>\n",
       "      <td>MHCI</td>\n",
       "      <td>NLVPMVATV</td>\n",
       "      <td>...</td>\n",
       "      <td>4</td>\n",
       "      <td>NoFixNeeded</td>\n",
       "      <td>TRBV12-4*01</td>\n",
       "      <td>NaN</td>\n",
       "      <td>NaN</td>\n",
       "      <td>NaN</td>\n",
       "      <td>NaN</td>\n",
       "      <td>NaN</td>\n",
       "      <td>NaN</td>\n",
       "      <td>CASSSVNEQYF-NLVPMVATV</td>\n",
       "    </tr>\n",
       "    <tr>\n",
       "      <th>61181</th>\n",
       "      <td>0</td>\n",
       "      <td>TRB</td>\n",
       "      <td>CASSSVNEQYF</td>\n",
       "      <td>TRBV19*01</td>\n",
       "      <td>TRBJ2-7*01</td>\n",
       "      <td>HomoSapiens</td>\n",
       "      <td>HLA-A*02:01</td>\n",
       "      <td>B2M</td>\n",
       "      <td>MHCI</td>\n",
       "      <td>NLVPMVATV</td>\n",
       "      <td>...</td>\n",
       "      <td>4</td>\n",
       "      <td>NoFixNeeded</td>\n",
       "      <td>TRBV19*01</td>\n",
       "      <td>NaN</td>\n",
       "      <td>NaN</td>\n",
       "      <td>NaN</td>\n",
       "      <td>NaN</td>\n",
       "      <td>NaN</td>\n",
       "      <td>NaN</td>\n",
       "      <td>CASSSVNEQYF-NLVPMVATV</td>\n",
       "    </tr>\n",
       "    <tr>\n",
       "      <th>61186</th>\n",
       "      <td>0</td>\n",
       "      <td>TRB</td>\n",
       "      <td>CASSSVNEQYF</td>\n",
       "      <td>TRBV19*01</td>\n",
       "      <td>TRBJ2-7*01</td>\n",
       "      <td>HomoSapiens</td>\n",
       "      <td>HLA-A*02:01</td>\n",
       "      <td>B2M</td>\n",
       "      <td>MHCI</td>\n",
       "      <td>NLVPMVATV</td>\n",
       "      <td>...</td>\n",
       "      <td>4</td>\n",
       "      <td>NoFixNeeded</td>\n",
       "      <td>TRBV19*01</td>\n",
       "      <td>NaN</td>\n",
       "      <td>NaN</td>\n",
       "      <td>NaN</td>\n",
       "      <td>NaN</td>\n",
       "      <td>NaN</td>\n",
       "      <td>NaN</td>\n",
       "      <td>CASSSVNEQYF-NLVPMVATV</td>\n",
       "    </tr>\n",
       "    <tr>\n",
       "      <th>64290</th>\n",
       "      <td>23832</td>\n",
       "      <td>TRB</td>\n",
       "      <td>CASSSVNEQYF</td>\n",
       "      <td>TRBV12-3*01</td>\n",
       "      <td>TRBJ2-7*01</td>\n",
       "      <td>HomoSapiens</td>\n",
       "      <td>HLA-A*02:01</td>\n",
       "      <td>B2M</td>\n",
       "      <td>MHCI</td>\n",
       "      <td>NLVPMVATV</td>\n",
       "      <td>...</td>\n",
       "      <td>4</td>\n",
       "      <td>NoFixNeeded</td>\n",
       "      <td>TRBV12-3*01</td>\n",
       "      <td>NaN</td>\n",
       "      <td>NaN</td>\n",
       "      <td>NaN</td>\n",
       "      <td>NaN</td>\n",
       "      <td>NaN</td>\n",
       "      <td>NaN</td>\n",
       "      <td>CASSSVNEQYF-NLVPMVATV</td>\n",
       "    </tr>\n",
       "    <tr>\n",
       "      <th>64292</th>\n",
       "      <td>23833</td>\n",
       "      <td>TRB</td>\n",
       "      <td>CASSSVNEQYF</td>\n",
       "      <td>TRBV12-3*01</td>\n",
       "      <td>TRBJ2-7*01</td>\n",
       "      <td>HomoSapiens</td>\n",
       "      <td>HLA-A*02:01</td>\n",
       "      <td>B2M</td>\n",
       "      <td>MHCI</td>\n",
       "      <td>NLVPMVATV</td>\n",
       "      <td>...</td>\n",
       "      <td>4</td>\n",
       "      <td>NoFixNeeded</td>\n",
       "      <td>TRBV12-3*01</td>\n",
       "      <td>NaN</td>\n",
       "      <td>NaN</td>\n",
       "      <td>NaN</td>\n",
       "      <td>NaN</td>\n",
       "      <td>NaN</td>\n",
       "      <td>NaN</td>\n",
       "      <td>CASSSVNEQYF-NLVPMVATV</td>\n",
       "    </tr>\n",
       "  </tbody>\n",
       "</table>\n",
       "<p>7 rows × 55 columns</p>\n",
       "</div>"
      ],
      "text/plain": [
       "       complex.id gene         cdr3       v.segm      j.segm      species  \\\n",
       "46206       22387  TRA  CASSSVNEQYF   TRAV9-2*01   TRAJ40*01  HomoSapiens   \n",
       "48674           0  TRB  CASSSVNEQYF  TRBV12-4*01  TRBJ2-7*01  HomoSapiens   \n",
       "48675           0  TRB  CASSSVNEQYF  TRBV12-4*01  TRBJ2-7*01  HomoSapiens   \n",
       "61181           0  TRB  CASSSVNEQYF    TRBV19*01  TRBJ2-7*01  HomoSapiens   \n",
       "61186           0  TRB  CASSSVNEQYF    TRBV19*01  TRBJ2-7*01  HomoSapiens   \n",
       "64290       23832  TRB  CASSSVNEQYF  TRBV12-3*01  TRBJ2-7*01  HomoSapiens   \n",
       "64292       23833  TRB  CASSSVNEQYF  TRBV12-3*01  TRBJ2-7*01  HomoSapiens   \n",
       "\n",
       "             mhc.a mhc.b mhc.class antigen.epitope  ... cdr3fix.vEnd  \\\n",
       "46206  HLA-A*02:01   B2M      MHCI       NLVPMVATV  ...            2   \n",
       "48674  HLA-A*02:01   B2M      MHCI       NLVPMVATV  ...            4   \n",
       "48675  HLA-A*02:01   B2M      MHCI       NLVPMVATV  ...            4   \n",
       "61181  HLA-A*02:01   B2M      MHCI       NLVPMVATV  ...            4   \n",
       "61186  HLA-A*02:01   B2M      MHCI       NLVPMVATV  ...            4   \n",
       "64290  HLA-A*02:01   B2M      MHCI       NLVPMVATV  ...            4   \n",
       "64292  HLA-A*02:01   B2M      MHCI       NLVPMVATV  ...            4   \n",
       "\n",
       "      cdr3fix.vFixType  cdr3fix.vId  cdr3fix.oldVEnd cdr3fix.oldVFixType  \\\n",
       "46206      NoFixNeeded   TRAV9-2*01              NaN                 NaN   \n",
       "48674      NoFixNeeded  TRBV12-4*01              NaN                 NaN   \n",
       "48675      NoFixNeeded  TRBV12-4*01              NaN                 NaN   \n",
       "61181      NoFixNeeded    TRBV19*01              NaN                 NaN   \n",
       "61186      NoFixNeeded    TRBV19*01              NaN                 NaN   \n",
       "64290      NoFixNeeded  TRBV12-3*01              NaN                 NaN   \n",
       "64292      NoFixNeeded  TRBV12-3*01              NaN                 NaN   \n",
       "\n",
       "      cdr3fix.oldVId cdr3fix.oldJFixType cdr3fix.oldJId cdr3fix.oldJStart  \\\n",
       "46206            NaN                 NaN            NaN               NaN   \n",
       "48674            NaN                 NaN            NaN               NaN   \n",
       "48675            NaN                 NaN            NaN               NaN   \n",
       "61181            NaN                 NaN            NaN               NaN   \n",
       "61186            NaN                 NaN            NaN               NaN   \n",
       "64290            NaN                 NaN            NaN               NaN   \n",
       "64292            NaN                 NaN            NaN               NaN   \n",
       "\n",
       "                      merged  \n",
       "46206  CASSSVNEQYF-NLVPMVATV  \n",
       "48674  CASSSVNEQYF-NLVPMVATV  \n",
       "48675  CASSSVNEQYF-NLVPMVATV  \n",
       "61181  CASSSVNEQYF-NLVPMVATV  \n",
       "61186  CASSSVNEQYF-NLVPMVATV  \n",
       "64290  CASSSVNEQYF-NLVPMVATV  \n",
       "64292  CASSSVNEQYF-NLVPMVATV  \n",
       "\n",
       "[7 rows x 55 columns]"
      ]
     },
     "execution_count": 13,
     "metadata": {},
     "output_type": "execute_result"
    }
   ],
   "source": [
    "df_normal.loc[ (df_normal[\"cdr3\"] == \"CASSSVNEQYF\") & (df_normal[\"antigen.epitope\"] == \"NLVPMVATV\")]\n",
    "# & (df_normal[\"reference.id\"] == \"PMID:28636592\")"
   ]
  },
  {
   "cell_type": "code",
   "execution_count": 14,
   "metadata": {
    "scrolled": true
   },
   "outputs": [
    {
     "data": {
      "text/html": [
       "<div>\n",
       "<style scoped>\n",
       "    .dataframe tbody tr th:only-of-type {\n",
       "        vertical-align: middle;\n",
       "    }\n",
       "\n",
       "    .dataframe tbody tr th {\n",
       "        vertical-align: top;\n",
       "    }\n",
       "\n",
       "    .dataframe thead th {\n",
       "        text-align: right;\n",
       "    }\n",
       "</style>\n",
       "<table border=\"1\" class=\"dataframe\">\n",
       "  <thead>\n",
       "    <tr style=\"text-align: right;\">\n",
       "      <th></th>\n",
       "      <th>complex.id</th>\n",
       "      <th>gene</th>\n",
       "      <th>cdr3</th>\n",
       "      <th>v.segm</th>\n",
       "      <th>j.segm</th>\n",
       "      <th>species</th>\n",
       "      <th>mhc.a</th>\n",
       "      <th>mhc.b</th>\n",
       "      <th>mhc.class</th>\n",
       "      <th>antigen.epitope</th>\n",
       "      <th>...</th>\n",
       "      <th>cdr3fix.vEnd</th>\n",
       "      <th>cdr3fix.vFixType</th>\n",
       "      <th>cdr3fix.vId</th>\n",
       "      <th>cdr3fix.oldVEnd</th>\n",
       "      <th>cdr3fix.oldVFixType</th>\n",
       "      <th>cdr3fix.oldVId</th>\n",
       "      <th>cdr3fix.oldJFixType</th>\n",
       "      <th>cdr3fix.oldJId</th>\n",
       "      <th>cdr3fix.oldJStart</th>\n",
       "      <th>merged</th>\n",
       "    </tr>\n",
       "  </thead>\n",
       "  <tbody>\n",
       "    <tr>\n",
       "      <th>50167</th>\n",
       "      <td>23577</td>\n",
       "      <td>TRA</td>\n",
       "      <td>CASSDSRGTEAFF</td>\n",
       "      <td>TRAV14/DV4*01</td>\n",
       "      <td>TRAJ42*01</td>\n",
       "      <td>HomoSapiens</td>\n",
       "      <td>HLA-A*02:01</td>\n",
       "      <td>B2M</td>\n",
       "      <td>MHCI</td>\n",
       "      <td>LLWNGPMAV</td>\n",
       "      <td>...</td>\n",
       "      <td>2</td>\n",
       "      <td>NoFixNeeded</td>\n",
       "      <td>TRAV14/DV4*01</td>\n",
       "      <td>NaN</td>\n",
       "      <td>NaN</td>\n",
       "      <td>NaN</td>\n",
       "      <td>NaN</td>\n",
       "      <td>NaN</td>\n",
       "      <td>NaN</td>\n",
       "      <td>CASSDSRGTEAFF-LLWNGPMAV</td>\n",
       "    </tr>\n",
       "    <tr>\n",
       "      <th>50168</th>\n",
       "      <td>23577</td>\n",
       "      <td>TRB</td>\n",
       "      <td>CASSDSRGTEAFF</td>\n",
       "      <td>TRBV9*01</td>\n",
       "      <td>TRBJ1-1*01</td>\n",
       "      <td>HomoSapiens</td>\n",
       "      <td>HLA-A*02:01</td>\n",
       "      <td>B2M</td>\n",
       "      <td>MHCI</td>\n",
       "      <td>LLWNGPMAV</td>\n",
       "      <td>...</td>\n",
       "      <td>4</td>\n",
       "      <td>NoFixNeeded</td>\n",
       "      <td>TRBV9*01</td>\n",
       "      <td>NaN</td>\n",
       "      <td>NaN</td>\n",
       "      <td>NaN</td>\n",
       "      <td>NaN</td>\n",
       "      <td>NaN</td>\n",
       "      <td>NaN</td>\n",
       "      <td>CASSDSRGTEAFF-LLWNGPMAV</td>\n",
       "    </tr>\n",
       "  </tbody>\n",
       "</table>\n",
       "<p>2 rows × 55 columns</p>\n",
       "</div>"
      ],
      "text/plain": [
       "       complex.id gene           cdr3         v.segm      j.segm      species  \\\n",
       "50167       23577  TRA  CASSDSRGTEAFF  TRAV14/DV4*01   TRAJ42*01  HomoSapiens   \n",
       "50168       23577  TRB  CASSDSRGTEAFF       TRBV9*01  TRBJ1-1*01  HomoSapiens   \n",
       "\n",
       "             mhc.a mhc.b mhc.class antigen.epitope  ... cdr3fix.vEnd  \\\n",
       "50167  HLA-A*02:01   B2M      MHCI       LLWNGPMAV  ...            2   \n",
       "50168  HLA-A*02:01   B2M      MHCI       LLWNGPMAV  ...            4   \n",
       "\n",
       "      cdr3fix.vFixType    cdr3fix.vId  cdr3fix.oldVEnd cdr3fix.oldVFixType  \\\n",
       "50167      NoFixNeeded  TRAV14/DV4*01              NaN                 NaN   \n",
       "50168      NoFixNeeded       TRBV9*01              NaN                 NaN   \n",
       "\n",
       "      cdr3fix.oldVId cdr3fix.oldJFixType cdr3fix.oldJId cdr3fix.oldJStart  \\\n",
       "50167            NaN                 NaN            NaN               NaN   \n",
       "50168            NaN                 NaN            NaN               NaN   \n",
       "\n",
       "                        merged  \n",
       "50167  CASSDSRGTEAFF-LLWNGPMAV  \n",
       "50168  CASSDSRGTEAFF-LLWNGPMAV  \n",
       "\n",
       "[2 rows x 55 columns]"
      ]
     },
     "execution_count": 14,
     "metadata": {},
     "output_type": "execute_result"
    }
   ],
   "source": [
    "df_normal.loc[ (df_normal[\"cdr3\"] == \"CASSDSRGTEAFF\") & (df_normal[\"antigen.epitope\"] == \"LLWNGPMAV\")]\n",
    "# & (df_normal[\"reference.id\"] == \"PMID:28103239\")"
   ]
  },
  {
   "cell_type": "markdown",
   "metadata": {},
   "source": [
    "The spurious entries in the normal dataset can be retrieved by filtering on the `cdr3fix.good` property. \n",
    "\n",
    "**However, note that the VDJdb web browser has two separate checkboxes for spurious entries, namely `Include non-canonical` and `Include unmapped V/J`. So an additional filter might be required, unless `cdr3fix.good` is already a summary of these other properties (EDIT: this does seem to be the case).**"
   ]
  },
  {
   "cell_type": "markdown",
   "metadata": {},
   "source": [
    "As of the August 7th 2019 release, selecting all species and TCR chains in the VDJdb browser, while excluding the spurious entries, results in 73224 out of 75474 entries, i.e. **2250 entries are labeled as spurious**."
   ]
  },
  {
   "cell_type": "markdown",
   "metadata": {},
   "source": [
    "This number does correspond to a filtering on the `cdr3fix.good` property in the normal file."
   ]
  },
  {
   "cell_type": "code",
   "execution_count": 15,
   "metadata": {
    "scrolled": true
   },
   "outputs": [
    {
     "data": {
      "text/plain": [
       "(2250, 55)"
      ]
     },
     "execution_count": 15,
     "metadata": {},
     "output_type": "execute_result"
    }
   ],
   "source": [
    "df_normal.loc[~df_normal[\"cdr3fix.good\"]].shape"
   ]
  },
  {
   "cell_type": "markdown",
   "metadata": {},
   "source": [
    "Some of the spurious entries are also duplicated."
   ]
  },
  {
   "cell_type": "code",
   "execution_count": 16,
   "metadata": {},
   "outputs": [
    {
     "data": {
      "text/plain": [
       "(2011, 55)"
      ]
     },
     "execution_count": 16,
     "metadata": {},
     "output_type": "execute_result"
    }
   ],
   "source": [
    "df_normal.loc[~df_normal[\"cdr3fix.good\"]].drop_duplicates(columns).shape"
   ]
  },
  {
   "cell_type": "markdown",
   "metadata": {},
   "source": [
    "All spurious entries are contained in the slim file."
   ]
  },
  {
   "cell_type": "code",
   "execution_count": 17,
   "metadata": {},
   "outputs": [
    {
     "data": {
      "text/plain": [
       "True"
      ]
     },
     "execution_count": 17,
     "metadata": {},
     "output_type": "execute_result"
    }
   ],
   "source": [
    "set(df_normal.loc[~df_normal[\"cdr3fix.good\"], \"merged\"]).issubset(set(df_slim[\"merged\"]))"
   ]
  },
  {
   "cell_type": "code",
   "execution_count": 18,
   "metadata": {},
   "outputs": [
    {
     "data": {
      "text/plain": [
       "set()"
      ]
     },
     "execution_count": 18,
     "metadata": {},
     "output_type": "execute_result"
    }
   ],
   "source": [
    "set(df_normal.loc[~df_normal[\"cdr3fix.good\"], \"merged\"]) - set(df_slim[\"merged\"])"
   ]
  },
  {
   "cell_type": "code",
   "execution_count": 19,
   "metadata": {
    "scrolled": false
   },
   "outputs": [
    {
     "data": {
      "text/plain": [
       "True"
      ]
     },
     "execution_count": 19,
     "metadata": {},
     "output_type": "execute_result"
    }
   ],
   "source": [
    "all(df_normal.loc[~df_normal[\"cdr3fix.good\"], \"merged\"].isin(df_slim[\"merged\"]))"
   ]
  },
  {
   "cell_type": "markdown",
   "metadata": {},
   "source": [
    "The spurious sequences are also in the duplicated subset of the slim file. In other words, the two duplicates in the slim set, do occur in the spurious sequences of the normal file."
   ]
  },
  {
   "cell_type": "code",
   "execution_count": 20,
   "metadata": {},
   "outputs": [
    {
     "data": {
      "text/plain": [
       "True"
      ]
     },
     "execution_count": 20,
     "metadata": {},
     "output_type": "execute_result"
    }
   ],
   "source": [
    "any(df_normal.loc[~df_normal[\"cdr3fix.good\"], \"merged\"].isin(df_slim.loc[df_slim[\"merged\"].duplicated(), \"merged\"]))"
   ]
  },
  {
   "cell_type": "code",
   "execution_count": 21,
   "metadata": {},
   "outputs": [
    {
     "data": {
      "text/plain": [
       "17626      CASSSVNEQYF-NLVPMVATV\n",
       "48822    CASSDSRGTEAFF-LLWNGPMAV\n",
       "Name: merged, dtype: object"
      ]
     },
     "execution_count": 21,
     "metadata": {},
     "output_type": "execute_result"
    }
   ],
   "source": [
    "df_slim.loc[df_slim[\"merged\"].duplicated(), \"merged\"]"
   ]
  },
  {
   "cell_type": "code",
   "execution_count": 22,
   "metadata": {},
   "outputs": [
    {
     "data": {
      "text/plain": [
       "17626    True\n",
       "48822    True\n",
       "Name: merged, dtype: bool"
      ]
     },
     "execution_count": 22,
     "metadata": {},
     "output_type": "execute_result"
    }
   ],
   "source": [
    "df_slim.loc[df_slim[\"merged\"].duplicated(), \"merged\"].apply(\n",
    "    lambda x: df_normal.loc[~df_normal[\"cdr3fix.good\"], \"merged\"].str.contains(x).any())"
   ]
  },
  {
   "cell_type": "code",
   "execution_count": 23,
   "metadata": {},
   "outputs": [
    {
     "data": {
      "text/plain": [
       "17626    True\n",
       "48822    True\n",
       "Name: merged, dtype: bool"
      ]
     },
     "execution_count": 23,
     "metadata": {},
     "output_type": "execute_result"
    }
   ],
   "source": [
    "df_slim.loc[df_slim[\"merged\"].duplicated(), \"merged\"].apply(\n",
    "    lambda x: x in df_normal.loc[~df_normal[\"cdr3fix.good\"], \"merged\"].values)"
   ]
  },
  {
   "cell_type": "code",
   "execution_count": 24,
   "metadata": {},
   "outputs": [],
   "source": [
    "#any(df_normal.loc[~df_normal[\"cdr3fix.good\"], \"merged\"].apply(lambda x: x in df_slim[df_slim[\"merged\"].duplicated()].values))"
   ]
  },
  {
   "cell_type": "markdown",
   "metadata": {},
   "source": [
    "The above checks do not completely guarantee that the spurious sequences are in the slim file, because it is possible that a spurious sequence, made up of sequences A and B, is a duplicate, and its duplicate entry with sequences A and B is not spurious.\n",
    "\n",
    "To check this, all non-duplicate spurious sequences in the normal file should be compared to the slim set, plus all entries in the slim set that occur in the spurious subset of the normal file, should be checked for duplicates."
   ]
  },
  {
   "cell_type": "code",
   "execution_count": 25,
   "metadata": {},
   "outputs": [
    {
     "name": "stdout",
     "output_type": "stream",
     "text": [
      "1983 out of 2250 entries are spurious and do not have duplicates in the original file.\n"
     ]
    }
   ],
   "source": [
    "non_dup_spurious = df_normal.loc[ (~df_normal.duplicated(subset=\"merged\")) & (~df_normal[\"cdr3fix.good\"]), \"merged\"]\n",
    "print(f\"{non_dup_spurious.shape[0]} out of {df_normal.loc[~df_normal['cdr3fix.good']].shape[0]} entries are spurious and do not have duplicates in the original file.\")"
   ]
  },
  {
   "cell_type": "code",
   "execution_count": 26,
   "metadata": {},
   "outputs": [
    {
     "data": {
      "text/plain": [
       "True"
      ]
     },
     "execution_count": 26,
     "metadata": {},
     "output_type": "execute_result"
    }
   ],
   "source": [
    "set(non_dup_spurious).issubset(set(df_slim[\"merged\"]))"
   ]
  },
  {
   "cell_type": "markdown",
   "metadata": {},
   "source": [
    "Some more tests..."
   ]
  },
  {
   "cell_type": "code",
   "execution_count": 27,
   "metadata": {},
   "outputs": [
    {
     "data": {
      "text/plain": [
       "(75474, 55)"
      ]
     },
     "execution_count": 27,
     "metadata": {},
     "output_type": "execute_result"
    }
   ],
   "source": [
    "df_normal.shape"
   ]
  },
  {
   "cell_type": "code",
   "execution_count": 28,
   "metadata": {},
   "outputs": [
    {
     "data": {
      "text/plain": [
       "(61047, 55)"
      ]
     },
     "execution_count": 28,
     "metadata": {},
     "output_type": "execute_result"
    }
   ],
   "source": [
    "df_normal.drop_duplicates(columns).shape"
   ]
  },
  {
   "cell_type": "code",
   "execution_count": 29,
   "metadata": {},
   "outputs": [
    {
     "data": {
      "text/plain": [
       "(73224, 55)"
      ]
     },
     "execution_count": 29,
     "metadata": {},
     "output_type": "execute_result"
    }
   ],
   "source": [
    "df_normal[df_normal[\"cdr3fix.good\"]].shape"
   ]
  },
  {
   "cell_type": "code",
   "execution_count": 30,
   "metadata": {},
   "outputs": [
    {
     "data": {
      "text/plain": [
       "(59072, 55)"
      ]
     },
     "execution_count": 30,
     "metadata": {},
     "output_type": "execute_result"
    }
   ],
   "source": [
    "df_normal[df_normal[\"cdr3fix.good\"]].drop_duplicates(columns).shape"
   ]
  },
  {
   "cell_type": "code",
   "execution_count": 31,
   "metadata": {},
   "outputs": [
    {
     "data": {
      "text/plain": [
       "(61049, 17)"
      ]
     },
     "execution_count": 31,
     "metadata": {},
     "output_type": "execute_result"
    }
   ],
   "source": [
    "df_slim.shape"
   ]
  },
  {
   "cell_type": "code",
   "execution_count": 32,
   "metadata": {},
   "outputs": [
    {
     "data": {
      "text/plain": [
       "(61047, 17)"
      ]
     },
     "execution_count": 32,
     "metadata": {},
     "output_type": "execute_result"
    }
   ],
   "source": [
    "df_slim.drop_duplicates(columns).shape"
   ]
  },
  {
   "cell_type": "code",
   "execution_count": 33,
   "metadata": {},
   "outputs": [
    {
     "data": {
      "text/plain": [
       "(59072, 17)"
      ]
     },
     "execution_count": 33,
     "metadata": {},
     "output_type": "execute_result"
    }
   ],
   "source": [
    "df_slim[df_slim[\"merged\"].isin(df_normal.loc[df_normal[\"cdr3fix.good\"], \"merged\"])].drop_duplicates(columns).shape"
   ]
  },
  {
   "cell_type": "markdown",
   "metadata": {},
   "source": [
    "---"
   ]
  },
  {
   "cell_type": "markdown",
   "metadata": {},
   "source": [
    "Check confidence scores of spurious entries and compare these to the two spurious/duplicate entries in the slim version."
   ]
  },
  {
   "cell_type": "code",
   "execution_count": 34,
   "metadata": {},
   "outputs": [
    {
     "data": {
      "text/plain": [
       "vdjdb.score\n",
       "0    1858\n",
       "1     255\n",
       "2      88\n",
       "3      49\n",
       "dtype: int64"
      ]
     },
     "execution_count": 34,
     "metadata": {},
     "output_type": "execute_result"
    }
   ],
   "source": [
    "df_normal[~df_normal[\"cdr3fix.good\"]].groupby(\"vdjdb.score\").size()"
   ]
  },
  {
   "cell_type": "markdown",
   "metadata": {},
   "source": [
    "# Comparison of VDJdb web export and GitHub Release"
   ]
  },
  {
   "cell_type": "markdown",
   "metadata": {},
   "source": [
    "## Comparison of spurious sequences and VDJdb web dataset\n",
    "### The web version is equal to the GitHub release (normal) after filtering on cdr3fix.good"
   ]
  },
  {
   "cell_type": "markdown",
   "metadata": {},
   "source": [
    "The spurious entries in the normal make up the entire difference with the VDJdb web dataset (using the filtering options stated earlier)."
   ]
  },
  {
   "cell_type": "markdown",
   "metadata": {},
   "source": [
    "Same size:"
   ]
  },
  {
   "cell_type": "code",
   "execution_count": 35,
   "metadata": {
    "scrolled": true
   },
   "outputs": [
    {
     "ename": "NameError",
     "evalue": "name 'df_web' is not defined",
     "output_type": "error",
     "traceback": [
      "\u001b[0;31m---------------------------------------------------------------------------\u001b[0m",
      "\u001b[0;31mNameError\u001b[0m                                 Traceback (most recent call last)",
      "\u001b[0;32m<ipython-input-35-d24fc579fa45>\u001b[0m in \u001b[0;36m<module>\u001b[0;34m\u001b[0m\n\u001b[1;32m      1\u001b[0m \u001b[0;31m# check size after duplicate removal\u001b[0m\u001b[0;34m\u001b[0m\u001b[0;34m\u001b[0m\u001b[0;34m\u001b[0m\u001b[0m\n\u001b[1;32m      2\u001b[0m \u001b[0;32massert\u001b[0m \u001b[0mdf_normal\u001b[0m\u001b[0;34m.\u001b[0m\u001b[0mloc\u001b[0m\u001b[0;34m[\u001b[0m\u001b[0mdf_normal\u001b[0m\u001b[0;34m[\u001b[0m\u001b[0;34m\"cdr3fix.good\"\u001b[0m\u001b[0;34m]\u001b[0m\u001b[0;34m]\u001b[0m\u001b[0;34m.\u001b[0m\u001b[0mdrop_duplicates\u001b[0m\u001b[0;34m(\u001b[0m\u001b[0mcolumns\u001b[0m\u001b[0;34m)\u001b[0m\u001b[0;34m.\u001b[0m\u001b[0mshape\u001b[0m\u001b[0;34m[\u001b[0m\u001b[0;36m0\u001b[0m\u001b[0;34m]\u001b[0m \u001b[0;34m==\u001b[0m\u001b[0;31m \u001b[0m\u001b[0;31m\\\u001b[0m\u001b[0;34m\u001b[0m\u001b[0;34m\u001b[0m\u001b[0m\n\u001b[0;32m----> 3\u001b[0;31m     \u001b[0mdf_web\u001b[0m\u001b[0;34m.\u001b[0m\u001b[0mdrop_duplicates\u001b[0m\u001b[0;34m(\u001b[0m\u001b[0mcolumns_web\u001b[0m\u001b[0;34m)\u001b[0m\u001b[0;34m.\u001b[0m\u001b[0mshape\u001b[0m\u001b[0;34m[\u001b[0m\u001b[0;36m0\u001b[0m\u001b[0;34m]\u001b[0m\u001b[0;34m\u001b[0m\u001b[0;34m\u001b[0m\u001b[0m\n\u001b[0m",
      "\u001b[0;31mNameError\u001b[0m: name 'df_web' is not defined"
     ]
    }
   ],
   "source": [
    "# check size after duplicate removal\n",
    "assert df_normal.loc[df_normal[\"cdr3fix.good\"]].drop_duplicates(columns).shape[0] == \\\n",
    "    df_web.drop_duplicates(columns_web).shape[0]"
   ]
  },
  {
   "cell_type": "markdown",
   "metadata": {},
   "source": [
    "And some content:"
   ]
  },
  {
   "cell_type": "code",
   "execution_count": null,
   "metadata": {},
   "outputs": [],
   "source": [
    "# check contents after removing spurious sequences\n",
    "assert set(df_normal.loc[df_normal[\"cdr3fix.good\"], \"merged\"]) == set(df_web[\"merged\"])"
   ]
  },
  {
   "cell_type": "markdown",
   "metadata": {},
   "source": [
    "## Web versus slim"
   ]
  },
  {
   "cell_type": "code",
   "execution_count": 38,
   "metadata": {},
   "outputs": [],
   "source": [
    "vdjdb_web_path = PROJECT_ROOT / \"data/raw/vdjdb/vdjdb-browser.tsv\"\n",
    "df_web = pd.read_csv(vdjdb_web_path, sep=\"\\t\")\n",
    "columns_web = [\"CDR3\", \"Epitope\"]\n",
    "\n",
    "# create column based on cdr3 and epitope sequences\n",
    "df_web[\"merged\"] = df_web[\"CDR3\"] + \"-\" + df_web[\"Epitope\"]"
   ]
  },
  {
   "cell_type": "markdown",
   "metadata": {},
   "source": [
    "## The slim GitHub release still contains duplicated and spurious sequences"
   ]
  },
  {
   "cell_type": "markdown",
   "metadata": {},
   "source": [
    "The web version contains fewer entries after deduplication, which indicates that the slim version still contains some spurious sequences."
   ]
  },
  {
   "cell_type": "code",
   "execution_count": 39,
   "metadata": {
    "scrolled": true
   },
   "outputs": [
    {
     "name": "stdout",
     "output_type": "stream",
     "text": [
      "(73224, 18)\n",
      "(59072, 18)\n"
     ]
    }
   ],
   "source": [
    "print(df_web.shape)\n",
    "print(df_web.drop_duplicates(columns_web).shape)"
   ]
  },
  {
   "cell_type": "code",
   "execution_count": 40,
   "metadata": {},
   "outputs": [
    {
     "name": "stdout",
     "output_type": "stream",
     "text": [
      "(61049, 17)\n",
      "(61047, 17)\n"
     ]
    }
   ],
   "source": [
    "print(df_slim.shape)\n",
    "print(df_slim.drop_duplicates(columns).shape)"
   ]
  },
  {
   "cell_type": "code",
   "execution_count": 41,
   "metadata": {},
   "outputs": [
    {
     "name": "stdout",
     "output_type": "stream",
     "text": [
      "The slim set contains 1975 additional unique sequences over the web export\n"
     ]
    }
   ],
   "source": [
    "slim_minus_web = set(df_slim[\"merged\"]) - set(df_web[\"merged\"])\n",
    "print(f\"The slim set contains {len(slim_minus_web)} additional unique sequences over the web export\")"
   ]
  },
  {
   "cell_type": "markdown",
   "metadata": {},
   "source": [
    "These entries are all found in the spurious entries set of the normal file."
   ]
  },
  {
   "cell_type": "code",
   "execution_count": 42,
   "metadata": {
    "scrolled": true
   },
   "outputs": [
    {
     "data": {
      "text/plain": [
       "True"
      ]
     },
     "execution_count": 42,
     "metadata": {},
     "output_type": "execute_result"
    }
   ],
   "source": [
    "slim_minus_web.issubset(set(df_normal.loc[~df_normal[\"cdr3fix.good\"], \"merged\"]))"
   ]
  },
  {
   "cell_type": "markdown",
   "metadata": {},
   "source": [
    "# Comparison to older VDJdb dataset accessed on October 30, 2018:"
   ]
  },
  {
   "cell_type": "markdown",
   "metadata": {},
   "source": [
    "# In-depth statistics and figures for the VDJdb GitHub Aug 2018 release (after filtering)\n",
    "\n",
    "What follows is a description of the contents of the `vdjdb.txt` file in the Aug 2018 GitHub release after removing all spurious and duplicate entries, and performing the same filtering steps as for the data used to train the neural networks (i.e. focusing only on human TRB entries).\n",
    "\n",
    "---"
   ]
  },
  {
   "cell_type": "code",
   "execution_count": 47,
   "metadata": {},
   "outputs": [],
   "source": [
    "# import dataset again to start fresh\n",
    "vdjdb_normal_path = PROJECT_ROOT / \"data/raw/vdjdb/vdjdb-2019-08-08/vdjdb.txt\"\n",
    "df = pd.read_csv(vdjdb_normal_path, sep=\"\\t\")\n",
    "# expand the json/dict-like columns\n",
    "df = (\n",
    "    df.join(json_normalize(df[\"method\"].apply(lambda x: json.loads(r'{}'.format(x)))).add_prefix(\"method.\"))\n",
    "    .join(json_normalize(df[\"meta\"].apply(lambda x: json.loads(r'{}'.format(x)))).add_prefix(\"meta.\"))\n",
    "    .join(json_normalize(df[\"cdr3fix\"].apply(lambda x: json.loads(r'{}'.format(x)))).add_prefix(\"cdr3fix.\"))\n",
    "    .drop([\"method\", \"meta\", \"cdr3fix\"], axis=1)\n",
    ")\n",
    "columns = [\"cdr3\", \"antigen.epitope\"]\n",
    "\n",
    "# also read in the data using the preprocessing script once, since it performs various checks\n",
    "vdjdb_normal_path = PROJECT_ROOT / \"data/raw/vdjdb/vdjdb-2019-08-08/vdjdb.txt\"\n",
    "preprocess_vdjdb.filter_vdjdb(vdjdb_normal_path, tcr_chain=\"TRB\", species=\"human\", drop_spurious=True, mhc=\"all\", hla=\"all\")\n",
    "\n",
    "# create column based on cdr3 and epitope sequences\n",
    "df[\"merged\"] = df[\"cdr3\"] + \"-\" + df[\"antigen.epitope\"]"
   ]
  },
  {
   "cell_type": "markdown",
   "metadata": {},
   "source": [
    "The VDJdb contains a number of duplicates, since there are not relevant for our machine learning model, they are removed entirely. **Duplicates are defined as entries which share the same CDR3 and epitope sequence.**"
   ]
  },
  {
   "cell_type": "code",
   "execution_count": 45,
   "metadata": {},
   "outputs": [
    {
     "name": "stdout",
     "output_type": "stream",
     "text": [
      "There were 14427 duplicate CDR3-epitope pairs present in the dataset.\n"
     ]
    }
   ],
   "source": [
    "print(f\"There were {df.shape[0] - df.drop_duplicates(columns).shape[0]} duplicate CDR3-epitope pairs present in the dataset.\")"
   ]
  },
  {
   "cell_type": "markdown",
   "metadata": {},
   "source": [
    "df.columns.tolist()"
   ]
  },
  {
   "cell_type": "code",
   "execution_count": null,
   "metadata": {},
   "outputs": [],
   "source": [
    "df = pd.read_csv(vdjdb_normal_path, sep=\"\\t\")\n"
   ]
  },
  {
   "cell_type": "code",
   "execution_count": null,
   "metadata": {},
   "outputs": [],
   "source": [
    "df.columns.tolist()"
   ]
  },
  {
   "cell_type": "code",
   "execution_count": null,
   "metadata": {},
   "outputs": [],
   "source": [
    "df[\"antigen.gene\"]"
   ]
  },
  {
   "cell_type": "code",
   "execution_count": null,
   "metadata": {},
   "outputs": [],
   "source": []
  }
 ],
 "metadata": {
  "kernelspec": {
   "display_name": "Python [conda env:deepTCR]",
   "language": "python",
   "name": "conda-env-deepTCR-py"
  },
  "language_info": {
   "codemirror_mode": {
    "name": "ipython",
    "version": 3
   },
   "file_extension": ".py",
   "mimetype": "text/x-python",
   "name": "python",
   "nbconvert_exporter": "python",
   "pygments_lexer": "ipython3",
   "version": "3.6.9"
  },
  "toc": {
   "base_numbering": 1,
   "nav_menu": {},
   "number_sections": true,
   "sideBar": true,
   "skip_h1_title": false,
   "title_cell": "Table of Contents",
   "title_sidebar": "Contents",
   "toc_cell": true,
   "toc_position": {
    "height": "calc(100% - 180px)",
    "left": "10px",
    "top": "150px",
    "width": "384px"
   },
   "toc_section_display": true,
   "toc_window_display": true
  }
 },
 "nbformat": 4,
 "nbformat_minor": 2
}
