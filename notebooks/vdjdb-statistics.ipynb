{
 "cells": [
  {
   "cell_type": "markdown",
   "metadata": {
    "toc": true
   },
   "source": [
    "<h1>Table of Contents<span class=\"tocSkip\"></span></h1>\n",
    "<div class=\"toc\"><ul class=\"toc-item\"><li><span><a href=\"#Overview-of-the-contents-of-the-VDJdb-datasets\" data-toc-modified-id=\"Overview-of-the-contents-of-the-VDJdb-datasets-1\"><span class=\"toc-item-num\">1&nbsp;&nbsp;</span>Overview of the contents of the VDJdb datasets</a></span><ul class=\"toc-item\"><li><span><a href=\"#Brief-statistics-generated-through-bash-script\" data-toc-modified-id=\"Brief-statistics-generated-through-bash-script-1.1\"><span class=\"toc-item-num\">1.1&nbsp;&nbsp;</span>Brief statistics generated through bash script</a></span><ul class=\"toc-item\"><li><span><a href=\"#Statistics-for-GitHub-release-vdjdb.txt\" data-toc-modified-id=\"Statistics-for-GitHub-release-vdjdb.txt-1.1.1\"><span class=\"toc-item-num\">1.1.1&nbsp;&nbsp;</span>Statistics for GitHub release vdjdb.txt</a></span><ul class=\"toc-item\"><li><span><a href=\"#vdjdb.txt\" data-toc-modified-id=\"vdjdb.txt-1.1.1.1\"><span class=\"toc-item-num\">1.1.1.1&nbsp;&nbsp;</span>vdjdb.txt</a></span></li><li><span><a href=\"#vdjdb.slim\" data-toc-modified-id=\"vdjdb.slim-1.1.1.2\"><span class=\"toc-item-num\">1.1.1.2&nbsp;&nbsp;</span>vdjdb.slim</a></span></li></ul></li><li><span><a href=\"#Statistics-for-VDJdb-data-browser\" data-toc-modified-id=\"Statistics-for-VDJdb-data-browser-1.1.2\"><span class=\"toc-item-num\">1.1.2&nbsp;&nbsp;</span>Statistics for VDJdb data browser</a></span></li></ul></li></ul></li><li><span><a href=\"#Comparison-of-slim-and-normal-file-in-the-VDJdb-GitHub-releases-(August-2019)\" data-toc-modified-id=\"Comparison-of-slim-and-normal-file-in-the-VDJdb-GitHub-releases-(August-2019)-2\"><span class=\"toc-item-num\">2&nbsp;&nbsp;</span>Comparison of slim and normal file in the VDJdb GitHub releases (August 2019)</a></span><ul class=\"toc-item\"><li><span><a href=\"#Duplicate-CDR3-epitope-pairs\" data-toc-modified-id=\"Duplicate-CDR3-epitope-pairs-2.1\"><span class=\"toc-item-num\">2.1&nbsp;&nbsp;</span>Duplicate CDR3-epitope pairs</a></span></li><li><span><a href=\"#Spurious-sequences\" data-toc-modified-id=\"Spurious-sequences-2.2\"><span class=\"toc-item-num\">2.2&nbsp;&nbsp;</span>Spurious sequences</a></span></li></ul></li><li><span><a href=\"#Comparison-of-VDJdb-web-export-and-GitHub-Release\" data-toc-modified-id=\"Comparison-of-VDJdb-web-export-and-GitHub-Release-3\"><span class=\"toc-item-num\">3&nbsp;&nbsp;</span>Comparison of VDJdb web export and GitHub Release</a></span><ul class=\"toc-item\"><li><span><a href=\"#Comparison-of-spurious-sequences-and-VDJdb-web-dataset\" data-toc-modified-id=\"Comparison-of-spurious-sequences-and-VDJdb-web-dataset-3.1\"><span class=\"toc-item-num\">3.1&nbsp;&nbsp;</span>Comparison of spurious sequences and VDJdb web dataset</a></span><ul class=\"toc-item\"><li><span><a href=\"#The-web-version-is-equal-to-the-GitHub-release-(normal)-after-filtering-on-cdr3fix.good\" data-toc-modified-id=\"The-web-version-is-equal-to-the-GitHub-release-(normal)-after-filtering-on-cdr3fix.good-3.1.1\"><span class=\"toc-item-num\">3.1.1&nbsp;&nbsp;</span>The web version is equal to the GitHub release (normal) after filtering on cdr3fix.good</a></span></li></ul></li><li><span><a href=\"#Web-versus-slim\" data-toc-modified-id=\"Web-versus-slim-3.2\"><span class=\"toc-item-num\">3.2&nbsp;&nbsp;</span>Web versus slim</a></span></li><li><span><a href=\"#The-slim-GitHub-release-still-contains-duplicated-and-spurious-sequences\" data-toc-modified-id=\"The-slim-GitHub-release-still-contains-duplicated-and-spurious-sequences-3.3\"><span class=\"toc-item-num\">3.3&nbsp;&nbsp;</span>The slim GitHub release still contains duplicated and spurious sequences</a></span></li></ul></li><li><span><a href=\"#Comparison-to-older-VDJdb-dataset-accessed-on-October-30,-2018:\" data-toc-modified-id=\"Comparison-to-older-VDJdb-dataset-accessed-on-October-30,-2018:-4\"><span class=\"toc-item-num\">4&nbsp;&nbsp;</span>Comparison to older VDJdb dataset accessed on October 30, 2018:</a></span></li><li><span><a href=\"#In-depth-statistics-and-figures-for-the-VDJdb-GitHub-Aug-2018-release-(after-filtering)\" data-toc-modified-id=\"In-depth-statistics-and-figures-for-the-VDJdb-GitHub-Aug-2018-release-(after-filtering)-5\"><span class=\"toc-item-num\">5&nbsp;&nbsp;</span>In-depth statistics and figures for the VDJdb GitHub Aug 2018 release (after filtering)</a></span><ul class=\"toc-item\"><li><span><a href=\"#Statistics-for-all-data-(all-species)\" data-toc-modified-id=\"Statistics-for-all-data-(all-species)-5.1\"><span class=\"toc-item-num\">5.1&nbsp;&nbsp;</span>Statistics for all data (all species)</a></span></li><li><span><a href=\"#Human-CDR3-epitope-pairs\" data-toc-modified-id=\"Human-CDR3-epitope-pairs-5.2\"><span class=\"toc-item-num\">5.2&nbsp;&nbsp;</span>Human CDR3-epitope pairs</a></span></li><li><span><a href=\"#Human-TRB-CDR3-epitope-pairs\" data-toc-modified-id=\"Human-TRB-CDR3-epitope-pairs-5.3\"><span class=\"toc-item-num\">5.3&nbsp;&nbsp;</span>Human TRB CDR3-epitope pairs</a></span></li><li><span><a href=\"#10x-data-exploration\" data-toc-modified-id=\"10x-data-exploration-5.4\"><span class=\"toc-item-num\">5.4&nbsp;&nbsp;</span>10x data exploration</a></span></li><li><span><a href=\"#Removing-over-abundant-10x-data-entries\" data-toc-modified-id=\"Removing-over-abundant-10x-data-entries-5.5\"><span class=\"toc-item-num\">5.5&nbsp;&nbsp;</span>Removing over-abundant 10x data entries</a></span></li><li><span><a href=\"#How-much-data-is-lost-due-to-filtering-on-spurious-entries?\" data-toc-modified-id=\"How-much-data-is-lost-due-to-filtering-on-spurious-entries?-5.6\"><span class=\"toc-item-num\">5.6&nbsp;&nbsp;</span>How much data is lost due to filtering on spurious entries?</a></span></li></ul></li><li><span><a href=\"#Create-figures-for-filtered-data-(including-length-restrictions)\" data-toc-modified-id=\"Create-figures-for-filtered-data-(including-length-restrictions)-6\"><span class=\"toc-item-num\">6&nbsp;&nbsp;</span>Create figures for filtered data (including length restrictions)</a></span><ul class=\"toc-item\"><li><span><a href=\"#Comparison-to-Dean-et-al.-negative-reference-TCR-set\" data-toc-modified-id=\"Comparison-to-Dean-et-al.-negative-reference-TCR-set-6.1\"><span class=\"toc-item-num\">6.1&nbsp;&nbsp;</span>Comparison to Dean et al. negative reference TCR set</a></span></li><li><span><a href=\"#TRB-only\" data-toc-modified-id=\"TRB-only-6.2\"><span class=\"toc-item-num\">6.2&nbsp;&nbsp;</span>TRB only</a></span><ul class=\"toc-item\"><li><span><a href=\"#Epitope-and-CDR3-length-distribution\" data-toc-modified-id=\"Epitope-and-CDR3-length-distribution-6.2.1\"><span class=\"toc-item-num\">6.2.1&nbsp;&nbsp;</span>Epitope and CDR3 length distribution</a></span><ul class=\"toc-item\"><li><span><a href=\"#No-grouping\" data-toc-modified-id=\"No-grouping-6.2.1.1\"><span class=\"toc-item-num\">6.2.1.1&nbsp;&nbsp;</span>No grouping</a></span></li><li><span><a href=\"#Per-MHC:\" data-toc-modified-id=\"Per-MHC:-6.2.1.2\"><span class=\"toc-item-num\">6.2.1.2&nbsp;&nbsp;</span>Per MHC:</a></span></li></ul></li></ul></li><li><span><a href=\"#Can-MHCI-and-MHCII-share-epitopes?\" data-toc-modified-id=\"Can-MHCI-and-MHCII-share-epitopes?-6.3\"><span class=\"toc-item-num\">6.3&nbsp;&nbsp;</span>Can MHCI and MHCII share epitopes?</a></span></li><li><span><a href=\"#TRB-and-TRA\" data-toc-modified-id=\"TRB-and-TRA-6.4\"><span class=\"toc-item-num\">6.4&nbsp;&nbsp;</span>TRB and TRA</a></span><ul class=\"toc-item\"><li><span><a href=\"#Epitope-counts\" data-toc-modified-id=\"Epitope-counts-6.4.1\"><span class=\"toc-item-num\">6.4.1&nbsp;&nbsp;</span>Epitope counts</a></span><ul class=\"toc-item\"><li><span><a href=\"#Combined-figure---histogram-of-abundances-and-epitope-counts\" data-toc-modified-id=\"Combined-figure---histogram-of-abundances-and-epitope-counts-6.4.1.1\"><span class=\"toc-item-num\">6.4.1.1&nbsp;&nbsp;</span>Combined figure - histogram of abundances and epitope counts</a></span></li></ul></li></ul></li><li><span><a href=\"#MHC-distribution\" data-toc-modified-id=\"MHC-distribution-6.5\"><span class=\"toc-item-num\">6.5&nbsp;&nbsp;</span>MHC distribution</a></span></li><li><span><a href=\"#Combined-figure\" data-toc-modified-id=\"Combined-figure-6.6\"><span class=\"toc-item-num\">6.6&nbsp;&nbsp;</span>Combined figure</a></span><ul class=\"toc-item\"><li><span><a href=\"#Simple-figure\" data-toc-modified-id=\"Simple-figure-6.6.1\"><span class=\"toc-item-num\">6.6.1&nbsp;&nbsp;</span>Simple figure</a></span></li><li><span><a href=\"#Length-only\" data-toc-modified-id=\"Length-only-6.6.2\"><span class=\"toc-item-num\">6.6.2&nbsp;&nbsp;</span>Length only</a></span></li><li><span><a href=\"#Chain-split-and-per-figure-MHC\" data-toc-modified-id=\"Chain-split-and-per-figure-MHC-6.6.3\"><span class=\"toc-item-num\">6.6.3&nbsp;&nbsp;</span>Chain split and per-figure MHC</a></span></li><li><span><a href=\"#MHC-split-and-per-figure-chains-+-more-details\" data-toc-modified-id=\"MHC-split-and-per-figure-chains-+-more-details-6.6.4\"><span class=\"toc-item-num\">6.6.4&nbsp;&nbsp;</span>MHC split and per-figure chains + more details</a></span></li></ul></li><li><span><a href=\"#Dean-reference-set-TCR-distribution\" data-toc-modified-id=\"Dean-reference-set-TCR-distribution-6.7\"><span class=\"toc-item-num\">6.7&nbsp;&nbsp;</span>Dean reference set TCR distribution</a></span></li></ul></li><li><span><a href=\"#TODO\" data-toc-modified-id=\"TODO-7\"><span class=\"toc-item-num\">7&nbsp;&nbsp;</span>TODO</a></span></li></ul></div>"
   ]
  },
  {
   "cell_type": "code",
   "execution_count": 4,
   "metadata": {},
   "outputs": [],
   "source": [
    "import json\n",
    "\n",
    "import pandas as pd\n",
    "from pandas.io.json import json_normalize\n",
    "from pathlib import Path\n",
    "\n",
    "from src.config import PROJECT_ROOT\n",
    "from src.preprocessing import preprocess_vdjdb"
   ]
  },
  {
   "cell_type": "markdown",
   "metadata": {},
   "source": [
    "# Overview of the contents of the VDJdb datasets\n",
    "\n",
    "As described in `data/raw/README.md`:\n",
    "\n",
    "`data/raw/vdjdb`: contains a data dump of VDJdb TCR-epitope pairs ([https://vdjdb.cdr3.net](https://vdjdb.cdr3.net)), see [./vdjdb/README.md](./data/raw/VDJdb/README.md) for additional information about the origin and statistics of the files.\n",
    "\n",
    "The files in this directory were retrieved from https://vdjdb.cdr3.net and https://github.com/antigenomics/vdjdb-db/releases on 21 November 2019. At this time, the last update to VDJdb had happened on 07 August 2019 (GitHub release August 8).\n",
    "\n",
    "- `vdjdb-2019-08-08.zip` is the August GitHub release and contains three different types of files:\n",
    "    - `vdjdb.txt`: the full set of CDR3-epitope pairs in VDJdb, refered to as the normal or standard file in this document.\n",
    "    - `vdjdb.slim.txt`: a reduced version of the former file.\n",
    "    - `vdjdb_full.txt`: contains some additional information compared to the standard file; among other things it uses a separate column for `cdr3.alpha` and `cdr3.beta` sequences.\n",
    "- `vdjdb-browser.txt`: contains TRA and TRB chains and their epitope targets retrieved from the VDJdb web browser with the following options:\n",
    "    - All species\n",
    "    - Both TRA and TRB chains\n",
    "    - Both MHC types\n",
    "    - No sequence length restriction\n",
    "    - All assay types\n",
    "    - No minimum confidence score\n",
    "    - **No spurious CDR3 (non-canonical or unmapped V/J)**"
   ]
  },
  {
   "cell_type": "markdown",
   "metadata": {},
   "source": [
    "## Brief statistics generated through bash script\n",
    "\n",
    "These statistics can be obtained by running `bash data/raw/vdjdb/vdjdb-content-analyser.sh output-summary.md input-file.tsv`.\n",
    "\n",
    "\n",
    "### Statistics for GitHub release vdjdb.txt\n",
    "\n",
    "#### vdjdb.txt\n",
    "\n",
    "\n",
    "| Metric                                                         | Count                                                                                                                                       | Command                                                                                                                                        |\n",
    "|----------------------------------------------------------------|---------------------------------------------------------------------------------------------------------------------------------------------|------------------------------------------------------------------------------------------------------------------------------------------------|\n",
    "| Total number of records                                        | 75474                                                                                                         | `tail -n +2 vdjdb-2019-08-08/vdjdb.txt  |  wc -l`                                                                                                         |\n",
    "| TRA records                                                    | 31096                                                                                     | `awk '$2 == \"TRA\" { print $3 }' vdjdb-2019-08-08/vdjdb.txt | wc -l`                                                                                     |\n",
    "| TRB records                                                    | 44378                                                                                     | `awk '$2 == \"TRB\" { print $3 }' vdjdb-2019-08-08/vdjdb.txt | wc -l`                                                                                     |\n",
    "| Unique TRA sequences                                           | 22248                                                                           | `awk '$2 == \"TRA\" { print $3 }' vdjdb-2019-08-08/vdjdb.txt | sort -u | wc -l`                                                                           |\n",
    "| Unique TRB sequences                                           | 33606                                                                           | `awk '$2 == \"TRB\" { print $3 }' vdjdb-2019-08-08/vdjdb.txt | sort -u | wc -l`                                                                           |\n",
    "| Unique CDR3 sequences                                          | 55852                                                                                     | `tail -n +2 vdjdb-2019-08-08/vdjdb.txt | cut -f3 | sort -u | wc -l`                                                                                       |\n",
    "| Unique epitope sequences                                       | 212                                                                                    | `tail -n +2 vdjdb-2019-08-08/vdjdb.txt | cut -f10 | sort -u | wc -l`                                                                                      |\n",
    "| Unique epitope sequences for TRA records                       | 179                                                                          | `awk '$2 == \"TRA\" { print $10 }' vdjdb-2019-08-08/vdjdb.txt | sort -u | wc -l`                                                                          |\n",
    "| Unique epitope sequences for TRB records                       | 219                                                                          | `awk '$2 == \"TRB\" { print $10 }' vdjdb-2019-08-08/vdjdb.txt | sort -u | wc -l`                                                                          |\n",
    "| Unique CDR3-epitope sequence pairs                             | 61047                                                                         | `tail -n +2 vdjdb-2019-08-08/vdjdb.txt | cut -d $'\\t' -f3,10 | sort -u | wc -l`                                                                           |\n",
    "| Unique TRA-CDR3-epitope sequence pairs                         | 25044                                                                       | `awk '$2 == \"TRA\" { print ,vdjdb-2019-08-08-vdjdb-summary.md0 }' vdjdb-2019-08-08/vdjdb.txt | sort -u | wc -l`                                                                        |\n",
    "| Unique TRB-CDR3-epitope sequence pairs                         | 36000                                                                       | `awk '$2 == \"TRB\" { print ,vdjdb-2019-08-08-vdjdb-summary.md0 }' vdjdb-2019-08-08/vdjdb.txt | sort -u | wc -l`                                                                        |\n",
    "| Number of epitope sequences shared between TRA and TRB records | 147   | `comm -12 <(awk '$2 == \"TRA\" { print $10 }' vdjdb-2019-08-08/vdjdb.txt | sort -u) <(awk '$2 == \"TRB\" { print $10 }' vdjdb-2019-08-08/vdjdb.txt | sort -u) | wc -l` |\n",
    "| Number of CDR3 sequences shared between TRA and TRB records    | 2     | `comm -12 <(awk '$2 == \"TRA\" { print $3 }' vdjdb-2019-08-08/vdjdb.txt | sort -u) <(awk '$2 == \"TRB\" { print $3 }' vdjdb-2019-08-08/vdjdb.txt | sort -u) | wc -l`   |\n",
    "| Epitope distribution for the unique CDR3-epitope pairs         |                                 | `tail -n +2 vdjdb-2019-08-08/vdjdb.txt | cut -d $'\\t' -f3,10 | sort -u | cut -f2 | sort | uniq -c | sort -nr | head -20`                                  |\n",
    "\n",
    "\n",
    "      24639 KLGGALQAK\n",
    "       6744 NLVPMVATV\n",
    "       6600 GILGFVFTL\n",
    "       3255 AVFDRKSDAK\n",
    "       1654 ELAGIGILTV\n",
    "       1501 RAKFKQLL\n",
    "       1190 GLCTLVAML\n",
    "       1088 IVTDFSVIK\n",
    "        819 RLRAEAQVK\n",
    "        685 LLWNGPMAV\n",
    "        617 LLLGIGILV\n",
    "        597 TTPESANL\n",
    "        597 SSLENFRAYV\n",
    "        586 SSYRRPVGI\n",
    "        564 FRDYVDRFYKTLRAEQASQE\n",
    "        548 PKYVKQNTLKLAT\n",
    "        530 CTPYDINQM\n",
    "        417 HGIRNASFI\n",
    "        383 ASNENMETM\n",
    "        334 KRWIILGLNK\n",
    "\n",
    "**Human-only records**\n",
    "\n",
    "| Metric                                                             | Count                                                                                                                                                                          | Command                                                                                                                                                                                                 |\n",
    "|--------------------------------------------------------------------|--------------------------------------------------------------------------------------------------------------------------------------------------------------------------------|---------------------------------------------------------------------------------------------------------------------------------------------------------------------------------------------------------|\n",
    "|   Total number of records                                          | 67766                                                                                                                  | `awk '$6 == \"HomoSapiens\" { print }' vdjdb-2019-08-08/vdjdb.txt |  wc -l`                                                                                                                                         |\n",
    "|   TRA records                                                      | 28044                                                                                                 | `awk '$2 == \"TRA\" && $6 == \"HomoSapiens\"  { print $3 }' vdjdb-2019-08-08/vdjdb.txt | wc -l`                                                                                                                     |\n",
    "|   TRB records                                                      | 39722                                                                                                | `awk '$2 == \"TRB\" && $6 == \"HomoSapiens\"  { print $3 }' vdjdb-2019-08-08/vdjdb.txt | wc -l`                                                                                                                     |\n",
    "|   Unique TRA sequences                                             | 20277                                                                                      | `awk '$2 == \"TRA\" && $6 == \"HomoSapiens\"  { print $3 }' vdjdb-2019-08-08/vdjdb.txt | sort -u | wc -l`                                                                                                           |\n",
    "|   Unique TRB sequences                                             | 30720                                                                                      | `awk '$2 == \"TRB\" && $6 == \"HomoSapiens\"  { print $3 }' vdjdb-2019-08-08/vdjdb.txt | sort -u | wc -l`                                                                                                           |\n",
    "|   Unique CDR3 sequences                                            | 50995                                                                                               | `awk '$6 == \"HomoSapiens\" { print }' vdjdb-2019-08-08/vdjdb.txt | cut -f3 | sort -u | wc -l`                                                                                                                      |\n",
    "|   Unique epitope sequences                                         | 177                                                                                              | `awk '$6 == \"HomoSapiens\" { print }' vdjdb-2019-08-08/vdjdb.txt | cut -f10 | sort -u | wc -l`                                                                                                                     |\n",
    "|   Unique epitope sequences for TRA records                         | 117                                                                                      | `awk '$2 == \"TRA\" && $6 == \"HomoSapiens\" { print $10 }' vdjdb-2019-08-08/vdjdb.txt | sort -u | wc -l`                                                                                                           |\n",
    "|   Unique epitope sequences for TRB records                         | 175                                                                                      | `awk '$2 == \"TRB\" && $6 == \"HomoSapiens\" { print $10 }' vdjdb-2019-08-08/vdjdb.txt | sort -u | wc -l`                                                                                                           |\n",
    "|   Unique CDR3-epitope sequence pairs                               | 55931                                                                                   | `awk '$6 == \"HomoSapiens\" { print }' vdjdb-2019-08-08/vdjdb.txt | cut -d $'\\t' -f3,10 | sort -u | wc -l`                                                                                                          |\n",
    "|   Unique TRA-CDR3-epitope sequence pairs                           | 22945                                                                                   | `awk '$2 == \"TRA\" && $6 == \"HomoSapiens\" { print $3,$10 }' vdjdb-2019-08-08/vdjdb.txt | sort -u | wc -l`                                                                                                       |\n",
    "|   Unique TRB-CDR3-epitope sequence pairs                           | 32988                                                                                   | `awk '$2 == \"TRB\" && $6 == \"HomoSapiens\" { print $3,$10 }' vdjdb-2019-08-08/vdjdb.txt | sort -u | wc -l`                                                                                                       |\n",
    "|   Number of epitope sequences shared between TRA and TRB records   | 115|`comm -12 <(awk '$2 == \"TRA\" && $6 == \"HomoSapiens\" { print $10 }' vdjdb-2019-08-08/vdjdb.txt | sort -u) <(awk '$2 == \"TRB\" && $6 == \"HomoSapiens\" { print $10 }' vdjdb-2019-08-08/vdjdb.txt | sort -u) | wc -l`   |\n",
    "|   Number of CDR3 sequences shared between TRA and TRB records      | 2|`comm -12 <(awk '$2 == \"TRA\" && $6 == \"HomoSapiens\" { print $3 }' vdjdb-2019-08-08/vdjdb.txt | sort -u) <(awk '$2 == \"TRB\" && $6 == \"HomoSapiens\" { print $3 }' vdjdb-2019-08-08/vdjdb.txt | sort -u) | wc -l`     |\n",
    "|   Epitope distribution for the unique CDR3-epitope pairs           |                             | `awk '$6 == \"HomoSapiens\" { print }' vdjdb-2019-08-08/vdjdb.txt | cut -d $'\\t' -f3,10 | sort -u | cut -f2 | sort | uniq -c | sort -nr | head -20`                                                                 |\n",
    "\n",
    "      24367 KLGGALQAK\n",
    "       6680 NLVPMVATV\n",
    "       6531 GILGFVFTL\n",
    "       3222 AVFDRKSDAK\n",
    "       1642 ELAGIGILTV\n",
    "       1492 RAKFKQLL\n",
    "       1165 GLCTLVAML\n",
    "       1083 IVTDFSVIK\n",
    "        810 RLRAEAQVK\n",
    "        676 LLWNGPMAV\n",
    "        588 LLLGIGILV\n",
    "        562 FRDYVDRFYKTLRAEQASQE\n",
    "        532 PKYVKQNTLKLAT\n",
    "        334 KRWIILGLNK\n",
    "        240 GLIYNRMGAVTTEV\n",
    "        227 QARQMVQAMRTIGTHP\n",
    "        209 KAFSPEVIPMF\n",
    "        207 TPRVTGGGAM\n",
    "        203 VTEHDTLLY\n",
    "        203 CINGVCWTV\n",
    "\n",
    "\n",
    "#### vdjdb.slim\n",
    "\n",
    "\n",
    "| Metric                                                         | Count                                                                                                                                    | Command                                                                                                                       |\n",
    "|----------------------------------------------------------------|------------------------------------------------------------------------------------------------------------------------------------------|-------------------------------------------------------------------------------------------------------------------------------|\n",
    "| Total number of records                                        | 61049                                                                                                        | `tail -n +2 vdjdb-2019-08-08/vdjdb.slim.txt  |  wc -l`                                                                                                 |\n",
    "| TRA records                                                    | 25051                                                                                    | `awk '$1 == \"TRA\" { print $2 }' vdjdb-2019-08-08/vdjdb.slim.txt | wc -l`                                                                             |\n",
    "| TRB records                                                    | 35998                                                                                    | `awk '$1 == \"TRB\" { print $2 }' vdjdb-2019-08-08/vdjdb.slim.txt | wc -l`                                                                             |\n",
    "| Unique TRA sequences                                           | 22248                                                                          | `awk '$1 == \"TRA\" { print $2 }' vdjdb-2019-08-08/vdjdb.slim.txt | sort -u | wc -l`                                                                   |\n",
    "| Unique TRB sequences                                           | 33606                                                                          | `awk '$1 == \"TRB\" { print $2 }' vdjdb-2019-08-08/vdjdb.slim.txt | sort -u | wc -l`                                                                   |\n",
    "| Unique CDR3 sequences                                          | 55852                                                                                    | `tail -n +2 vdjdb-2019-08-08/vdjdb.slim.txt | cut -f2 | sort -u | wc -l`                                                                               |\n",
    "| Unique epitope sequences                                       | 212                                                                                    | `tail -n +2 vdjdb-2019-08-08/vdjdb.slim.txt | cut -f4 | sort -u | wc -l`                                                                              |\n",
    "| Unique epitope sequences for TRA records                       | 151                                                                          | `awk '$1 == \"TRA\" { print $4 }' vdjdb-2019-08-08/vdjdb.slim.txt | sort -u | wc -l`                                                                  |\n",
    "| Unique epitope sequences for TRB records                       | 212                                                                          | `awk '$1 == \"TRB\" { print $4 }' vdjdb-2019-08-08/vdjdb.slim.txt | sort -u | wc -l`                                                                  |\n",
    "| Unique CDR3-epitope sequence pairs                             | 61047                                                                         | `tail -n +2 vdjdb-2019-08-08/vdjdb.slim.txt | cut -d $'\\t' -f2,4 | sort -u | wc -l`                                                                   |\n",
    "| Unique TRA-CDR3-epitope sequence pairs                         | 25051                                                                       | `awk '$1 == \"TRA\" { print vdjdb-2019-08-08/vdjdb.slim.txt, }' vdjdb-2019-08-08/vdjdb.slim.txt | sort -u | wc -l`                                                                |\n",
    "| Unique TRB-CDR3-epitope sequence pairs                         | 35998                                                                       | `awk '$1 == \"TRB\" { print vdjdb-2019-08-08/vdjdb.slim.txt, }' vdjdb-2019-08-08/vdjdb.slim.txt | sort -u | wc -l`                                                                |\n",
    "| Number of epitope sequences shared between TRA and TRB records | 151      | `comm -12 <(awk '$1 == \"TRA\" { print $4 }' vdjdb-2019-08-08/vdjdb.slim.txt | sort -u) <(awk '$1 == \"TRB\" { print $4 }' vdjdb-2019-08-08/vdjdb.slim.txt | sort -u) | wc -l`  |\n",
    "| Number of CDR3 sequences shared between TRA and TRB records    | 2      | `comm -12 <(awk '$1 == \"TRA\" { print $2 }' vdjdb-2019-08-08/vdjdb.slim.txt | sort -u) <(awk '$1 == \"TRB\" { print $2 }' vdjdb-2019-08-08/vdjdb.slim.txt | sort -u) | wc -l`    |\n",
    "| Epitope distribution for the unique CDR3-epitope pairs         |                                 | `tail -n +2 vdjdb-2019-08-08/vdjdb.slim.txt | cut -d $'\\t' -f2,4 | sort -u | cut -f2 | sort | uniq -c | sort -nr | head -20`                                  |\n",
    "\n",
    "      24639 KLGGALQAK\n",
    "       6744 NLVPMVATV\n",
    "       6600 GILGFVFTL\n",
    "       3255 AVFDRKSDAK\n",
    "       1654 ELAGIGILTV\n",
    "       1501 RAKFKQLL\n",
    "       1190 GLCTLVAML\n",
    "       1088 IVTDFSVIK\n",
    "        819 RLRAEAQVK\n",
    "        685 LLWNGPMAV\n",
    "        617 LLLGIGILV\n",
    "        597 TTPESANL\n",
    "        597 SSLENFRAYV\n",
    "        586 SSYRRPVGI\n",
    "        564 FRDYVDRFYKTLRAEQASQE\n",
    "        548 PKYVKQNTLKLAT\n",
    "        530 CTPYDINQM\n",
    "        417 HGIRNASFI\n",
    "        383 ASNENMETM\n",
    "        334 KRWIILGLNK\n",
    "\n",
    "**Human-only records**\n",
    "\n",
    "| Metric                                                             | Count                                                                                                                                                                        | Command                                                                                                                                                                             |\n",
    "|--------------------------------------------------------------------|------------------------------------------------------------------------------------------------------------------------------------------------------------------------------|-------------------------------------------------------------------------------------------------------------------------------------------------------------------------------------|\n",
    "|   Total number of records                                          | 56592                                                                                                                  | `awk '$3 == \"HomoSapiens\" { print }' vdjdb-2019-08-08/vdjdb.slim.txt |  wc -l`                                                                                                                              |\n",
    "|   TRA records                                                      | 23564                                                                                                 | `awk '$1 == \"TRA\" && $3 == \"HomoSapiens\"  { print $2 }' vdjdb-2019-08-08/vdjdb.slim.txt | wc -l`                                                                                                          |\n",
    "|   TRB records                                                      | 33028                                                                                                | `awk '$1 == \"TRB\" && $3 == \"HomoSapiens\"  { print $2 }' vdjdb-2019-08-08/vdjdb.slim.txt | wc -l`                                                                                                          |\n",
    "|   Unique TRA sequences                                             | 20841                                                                                      | `awk '$1 == \"TRA\" && $3 == \"HomoSapiens\"  { print $2 }' vdjdb-2019-08-08/vdjdb.slim.txt | sort -u | wc -l`                                                                                                |\n",
    "|   Unique TRB sequences                                             | 30757                                                                                      | `awk '$1 == \"TRB\" && $3 == \"HomoSapiens\"  { print $2 }' vdjdb-2019-08-08/vdjdb.slim.txt | sort -u | wc -l`                                                                                                |\n",
    "|   Unique CDR3 sequences                                            | 51596                                                                                               | `awk '$3 == \"HomoSapiens\" { print }' vdjdb-2019-08-08/vdjdb.slim.txt | cut -f2 | sort -u | wc -l`                                                                                                           |\n",
    "|   Unique epitope sequences                                         | 177                                                                                              | `awk '$3 == \"HomoSapiens\" { print }' vdjdb-2019-08-08/vdjdb.slim.txt | cut -f4 | sort -u | wc -l`                                                                                                          |\n",
    "|   Unique epitope sequences for TRA records                         | 125                                                                                      | `awk '$1 == \"TRA\" && $3 == \"HomoSapiens\" { print $4 }' vdjdb-2019-08-08/vdjdb.slim.txt | sort -u | wc -l`                                                                                                |\n",
    "|   Unique epitope sequences for TRB records                         | 177                                                                                      | `awk '$1 == \"TRB\" && $3 == \"HomoSapiens\" { print $4 }' vdjdb-2019-08-08/vdjdb.slim.txt | sort -u | wc -l`                                                                                                |\n",
    "|   Unique CDR3-epitope sequence pairs                               | 56590                                                                                   | `awk '$3 == \"HomoSapiens\" { print }' vdjdb-2019-08-08/vdjdb.slim.txt | cut -d $'\\t' -f2,4 | sort -u | wc -l`                                                                                               |\n",
    "|   Unique TRA-CDR3-epitope sequence pairs                           | 23564                                                                                   | `awk '$1 == \"TRA\" && $3 == \"HomoSapiens\" { print $2,$4 }' vdjdb-2019-08-08/vdjdb.slim.txt | sort -u | wc -l`                                                                                            |\n",
    "|   Unique TRB-CDR3-epitope sequence pairs                           | 33028                                                                                   | `awk '$1 == \"TRB\" && $3 == \"HomoSapiens\" { print $2,$4 }' vdjdb-2019-08-08/vdjdb.slim.txt | sort -u | wc -l`                                                                                            |\n",
    "|   Number of epitope sequences shared between TRA and TRB records   | 125|`comm -12 <(awk '$1 == \"TRA\" && $3 == \"HomoSapiens\" { print $4 }' vdjdb-2019-08-08/vdjdb.slim.txt | sort -u) <(awk '$1 == \"TRB\" && $3 == \"HomoSapiens\" { print $4 }' vdjdb-2019-08-08/vdjdb.slim.txt | sort -u) | wc -l` |\n",
    "|   Number of CDR3 sequences shared between TRA and TRB records      | 2|`comm -12 <(awk '$1 == \"TRA\" && $3 == \"HomoSapiens\" { print $2 }' vdjdb-2019-08-08/vdjdb.slim.txt | sort -u) <(awk '$1 == \"TRB\" && $3 == \"HomoSapiens\" { print $2 }' vdjdb-2019-08-08/vdjdb.slim.txt | sort -u) | wc -l`   |\n",
    "|   Epitope distribution for the unique CDR3-epitope pairs           |                             | `awk '$6 == \"HomoSapiens\" { print }' vdjdb-2019-08-08/vdjdb.slim.txt | cut -d $'\\t' -f3,10 | sort -u | cut -f2 | sort | uniq -c | sort -nr | head -20`                                                                 |\n",
    "\n",
    "      24639 KLGGALQAK\n",
    "       6744 NLVPMVATV\n",
    "       6600 GILGFVFTL\n",
    "       3255 AVFDRKSDAK\n",
    "       1654 ELAGIGILTV\n",
    "       1501 RAKFKQLL\n",
    "       1190 GLCTLVAML\n",
    "       1088 IVTDFSVIK\n",
    "        819 RLRAEAQVK\n",
    "        685 LLWNGPMAV\n",
    "        617 LLLGIGILV\n",
    "        564 FRDYVDRFYKTLRAEQASQE\n",
    "        548 PKYVKQNTLKLAT\n",
    "        334 KRWIILGLNK\n",
    "        244 GLIYNRMGAVTTEV\n",
    "        229 QARQMVQAMRTIGTHP\n",
    "        217 TPRVTGGGAM\n",
    "        209 KAFSPEVIPMF\n",
    "        206 CINGVCWTV\n",
    "        203 VTEHDTLLY\n",
    "\n",
    "\n",
    "\n",
    "### Statistics for VDJdb data browser\n",
    "\n",
    "\n",
    "| Metric                                                         | Count                                                                                                                                       | Command                                                                                                                                        |\n",
    "|----------------------------------------------------------------|---------------------------------------------------------------------------------------------------------------------------------------------|------------------------------------------------------------------------------------------------------------------------------------------------|\n",
    "| Total number of records                                        | 73224                                                                                                         | `tail -n +2 vdjdb-browser.tsv  |  wc -l`                                                                                                         |\n",
    "| TRA records                                                    | 29479                                                                                     | `awk '$2 == \"TRA\" { print $3 }' vdjdb-browser.tsv | wc -l`                                                                                     |\n",
    "| TRB records                                                    | 43745                                                                                     | `awk '$2 == \"TRB\" { print $3 }' vdjdb-browser.tsv | wc -l`                                                                                     |\n",
    "| Unique TRA sequences                                           | 20888                                                                           | `awk '$2 == \"TRA\" { print $3 }' vdjdb-browser.tsv | sort -u | wc -l`                                                                           |\n",
    "| Unique TRB sequences                                           | 33112                                                                           | `awk '$2 == \"TRB\" { print $3 }' vdjdb-browser.tsv | sort -u | wc -l`                                                                           |\n",
    "| Unique CDR3 sequences                                          | 54000                                                                                     | `tail -n +2 vdjdb-browser.tsv | cut -f3 | sort -u | wc -l`                                                                                       |\n",
    "| Unique epitope sequences                                       | 212                                                                                    | `tail -n +2 vdjdb-browser.tsv | cut -f10 | sort -u | wc -l`                                                                                      |\n",
    "| Unique epitope sequences for TRA records                       | 141                                                                          | `awk '$2 == \"TRA\" { print $10 }' vdjdb-browser.tsv | sort -u | wc -l`                                                                          |\n",
    "| Unique epitope sequences for TRB records                       | 210                                                                          | `awk '$2 == \"TRB\" { print $10 }' vdjdb-browser.tsv | sort -u | wc -l`                                                                          |\n",
    "| Unique CDR3-epitope sequence pairs                             | 59072                                                                         | `tail -n +2 vdjdb-browser.tsv | cut -d $'\\t' -f3,10 | sort -u | wc -l`                                                                           |\n",
    "| Unique TRA-CDR3-epitope sequence pairs                         | 23578                                                                       | `awk '$2 == \"TRA\" { print ,vdjdb-browser-summary.md0 }' vdjdb-browser.tsv | sort -u | wc -l`                                                                        |\n",
    "| Unique TRB-CDR3-epitope sequence pairs                         | 35494                                                                       | `awk '$2 == \"TRB\" { print ,vdjdb-browser-summary.md0 }' vdjdb-browser.tsv | sort -u | wc -l`                                                                        |\n",
    "| Number of epitope sequences shared between TRA and TRB records | 139   | `comm -12 <(awk '$2 == \"TRA\" { print $10 }' vdjdb-browser.tsv | sort -u) <(awk '$2 == \"TRB\" { print $10 }' vdjdb-browser.tsv | sort -u) | wc -l` |\n",
    "| Number of CDR3 sequences shared between TRA and TRB records    | 0     | `comm -12 <(awk '$2 == \"TRA\" { print $3 }' vdjdb-browser.tsv | sort -u) <(awk '$2 == \"TRB\" { print $3 }' vdjdb-browser.tsv | sort -u) | wc -l`   |\n",
    "| Epitope distribution for the unique CDR3-epitope pairs         |                                 | `tail -n +2 vdjdb-browser.tsv | cut -d $'\\t' -f3,10 | sort -u | cut -f2 | sort | uniq -c | sort -nr | head -20`                                  |\n",
    "\n",
    "      24041 KLGGALQAK\n",
    "       6514 NLVPMVATV\n",
    "       6389 GILGFVFTL\n",
    "       3175 AVFDRKSDAK\n",
    "       1624 ELAGIGILTV\n",
    "       1472 RAKFKQLL\n",
    "       1142 GLCTLVAML\n",
    "       1067 IVTDFSVIK\n",
    "        800 RLRAEAQVK\n",
    "        652 LLWNGPMAV\n",
    "        585 SSLENFRAYV\n",
    "        577 LLLGIGILV\n",
    "        562 SSYRRPVGI\n",
    "        523 PKYVKQNTLKLAT\n",
    "        511 TTPESANL\n",
    "        508 FRDYVDRFYKTLRAEQASQE\n",
    "        500 CTPYDINQM\n",
    "        398 HGIRNASFI\n",
    "        345 ASNENMETM\n",
    "        325 KRWIILGLNK\n",
    "\n",
    "**Human-only records**\n",
    "\n",
    "| Metric                                                             | Count                                                                                                                                                                          | Command                                                                                                                                                                                                 |\n",
    "|--------------------------------------------------------------------|--------------------------------------------------------------------------------------------------------------------------------------------------------------------------------|---------------------------------------------------------------------------------------------------------------------------------------------------------------------------------------------------------|\n",
    "|   Total number of records                                          | 66597                                                                                                                  | `awk '$6 == \"HomoSapiens\" { print }' vdjdb-browser.tsv |  wc -l`                                                                                                                                         |\n",
    "|   TRA records                                                      | 27295                                                                                                 | `awk '$2 == \"TRA\" && $6 == \"HomoSapiens\"  { print $3 }' vdjdb-browser.tsv | wc -l`                                                                                                                     |\n",
    "|   TRB records                                                      | 39302                                                                                                | `awk '$2 == \"TRB\" && $6 == \"HomoSapiens\"  { print $3 }' vdjdb-browser.tsv | wc -l`                                                                                                                     |\n",
    "|   Unique TRA sequences                                             | 19637                                                                                      | `awk '$2 == \"TRA\" && $6 == \"HomoSapiens\"  { print $3 }' vdjdb-browser.tsv | sort -u | wc -l`                                                                                                           |\n",
    "|   Unique TRB sequences                                             | 30377                                                                                      | `awk '$2 == \"TRB\" && $6 == \"HomoSapiens\"  { print $3 }' vdjdb-browser.tsv | sort -u | wc -l`                                                                                                           |\n",
    "|   Unique CDR3 sequences                                            | 50014                                                                                               | `awk '$6 == \"HomoSapiens\" { print }' vdjdb-browser.tsv | cut -f3 | sort -u | wc -l`                                                                                                                      |\n",
    "|   Unique epitope sequences                                         | 177                                                                                              | `awk '$6 == \"HomoSapiens\" { print }' vdjdb-browser.tsv | cut -f10 | sort -u | wc -l`                                                                                                                     |\n",
    "|   Unique epitope sequences for TRA records                         | 117                                                                                      | `awk '$2 == \"TRA\" && $6 == \"HomoSapiens\" { print $10 }' vdjdb-browser.tsv | sort -u | wc -l`                                                                                                           |\n",
    "|   Unique epitope sequences for TRB records                         | 175                                                                                      | `awk '$2 == \"TRB\" && $6 == \"HomoSapiens\" { print $10 }' vdjdb-browser.tsv | sort -u | wc -l`                                                                                                           |\n",
    "|   Unique CDR3-epitope sequence pairs                               | 54887                                                                                   | `awk '$6 == \"HomoSapiens\" { print }' vdjdb-browser.tsv | cut -d $'\\t' -f3,10 | sort -u | wc -l`                                                                                                          |\n",
    "|   Unique TRA-CDR3-epitope sequence pairs                           | 22248                                                                                   | `awk '$2 == \"TRA\" && $6 == \"HomoSapiens\" { print $3,$10 }' vdjdb-browser.tsv | sort -u | wc -l`                                                                                                       |\n",
    "|   Unique TRB-CDR3-epitope sequence pairs                           | 32639                                                                                   | `awk '$2 == \"TRB\" && $6 == \"HomoSapiens\" { print $3,$10 }' vdjdb-browser.tsv | sort -u | wc -l`                                                                                                       |\n",
    "|   Number of epitope sequences shared between TRA and TRB records   | 115|`comm -12 <(awk '$2 == \"TRA\" && $6 == \"HomoSapiens\" { print $10 }' vdjdb-browser.tsv | sort -u) <(awk '$2 == \"TRB\" && $6 == \"HomoSapiens\" { print $10 }' vdjdb-browser.tsv | sort -u) | wc -l`   |\n",
    "|   Number of CDR3 sequences shared between TRA and TRB records      | 0|`comm -12 <(awk '$2 == \"TRA\" && $6 == \"HomoSapiens\" { print $3 }' vdjdb-browser.tsv | sort -u) <(awk '$2 == \"TRB\" && $6 == \"HomoSapiens\" { print $3 }' vdjdb-browser.tsv | sort -u) | wc -l`     |\n",
    "|   Epitope distribution for the unique CDR3-epitope pairs           |                             | `awk '$6 == \"HomoSapiens\" { print }' vdjdb-browser.tsv | cut -d $'\\t' -f3,10 | sort -u | cut -f2 | sort | uniq -c | sort -nr | head -20`                                                                 |\n",
    "\n",
    "      24041 KLGGALQAK\n",
    "       6514 NLVPMVATV\n",
    "       6389 GILGFVFTL\n",
    "       3175 AVFDRKSDAK\n",
    "       1624 ELAGIGILTV\n",
    "       1472 RAKFKQLL\n",
    "       1142 GLCTLVAML\n",
    "       1067 IVTDFSVIK\n",
    "        800 RLRAEAQVK\n",
    "        652 LLWNGPMAV\n",
    "        577 LLLGIGILV\n",
    "        523 PKYVKQNTLKLAT\n",
    "        508 FRDYVDRFYKTLRAEQASQE\n",
    "        325 KRWIILGLNK\n",
    "        240 GLIYNRMGAVTTEV\n",
    "        226 QARQMVQAMRTIGTHP\n",
    "        201 VTEHDTLLY\n",
    "        201 CINGVCWTV\n",
    "        199 TPRVTGGGAM\n",
    "        193 KAFSPEVIPMF\n"
   ]
  },
  {
   "cell_type": "markdown",
   "metadata": {},
   "source": [
    "# Comparison of slim and normal file in the VDJdb GitHub releases (August 2019)"
   ]
  },
  {
   "cell_type": "code",
   "execution_count": 2,
   "metadata": {},
   "outputs": [],
   "source": [
    "vdjdb_slim_path = PROJECT_ROOT / \"data/raw/vdjdb/vdjdb-2019-08-08/vdjdb.slim.txt\"\n",
    "df_slim = pd.read_csv(vdjdb_slim_path, sep=\"\\t\")\n",
    "\n",
    "vdjdb_normal_path = PROJECT_ROOT / \"data/raw/vdjdb/vdjdb-2019-08-08/vdjdb.txt\"\n",
    "df_normal = pd.read_csv(vdjdb_normal_path, sep=\"\\t\")\n",
    "# expand the json/dict-like columns\n",
    "df_normal = (\n",
    "    df_normal.join(json_normalize(df_normal[\"method\"].apply(lambda x: json.loads(r'{}'.format(x)))).add_prefix(\"method.\"))\n",
    "    .join(json_normalize(df_normal[\"meta\"].apply(lambda x: json.loads(r'{}'.format(x)))).add_prefix(\"meta.\"))\n",
    "    .join(json_normalize(df_normal[\"cdr3fix\"].apply(lambda x: json.loads(r'{}'.format(x)))).add_prefix(\"cdr3fix.\"))\n",
    "    .drop([\"method\", \"meta\", \"cdr3fix\"], axis=1)\n",
    ")\n",
    "columns = [\"cdr3\", \"antigen.epitope\"]\n",
    "\n",
    "# create column based on cdr3 and epitope sequences\n",
    "df_normal[\"merged\"] = df_normal[\"cdr3\"] + \"-\" + df_normal[\"antigen.epitope\"]\n",
    "df_slim[\"merged\"] = df_slim[\"cdr3\"] + \"-\" + df_slim[\"antigen.epitope\"]"
   ]
  },
  {
   "cell_type": "markdown",
   "metadata": {},
   "source": [
    "## Duplicate CDR3-epitope pairs"
   ]
  },
  {
   "cell_type": "code",
   "execution_count": 3,
   "metadata": {},
   "outputs": [
    {
     "name": "stdout",
     "output_type": "stream",
     "text": [
      "There were 14427 duplicate CDR3-epitope pairs present in the dataset.\n"
     ]
    }
   ],
   "source": [
    "print(f\"There were {df_normal.shape[0] - df_normal.drop_duplicates(columns).shape[0]} duplicate CDR3-epitope pairs present in the dataset.\")"
   ]
  },
  {
   "cell_type": "markdown",
   "metadata": {},
   "source": [
    "The normal file contains more entries, but upon removing duplicates both contain the same amount and the exact same entries. Note however, that the slim version only contains **two** duplicates."
   ]
  },
  {
   "cell_type": "code",
   "execution_count": 4,
   "metadata": {},
   "outputs": [
    {
     "data": {
      "text/plain": [
       "(75474, 55)"
      ]
     },
     "execution_count": 4,
     "metadata": {},
     "output_type": "execute_result"
    }
   ],
   "source": [
    "df_normal.shape"
   ]
  },
  {
   "cell_type": "code",
   "execution_count": 5,
   "metadata": {},
   "outputs": [
    {
     "data": {
      "text/plain": [
       "(61049, 17)"
      ]
     },
     "execution_count": 5,
     "metadata": {},
     "output_type": "execute_result"
    }
   ],
   "source": [
    "df_slim.shape"
   ]
  },
  {
   "cell_type": "code",
   "execution_count": 6,
   "metadata": {},
   "outputs": [
    {
     "data": {
      "text/plain": [
       "(61047, 55)"
      ]
     },
     "execution_count": 6,
     "metadata": {},
     "output_type": "execute_result"
    }
   ],
   "source": [
    "df_normal.drop_duplicates(columns).shape"
   ]
  },
  {
   "cell_type": "code",
   "execution_count": 7,
   "metadata": {},
   "outputs": [
    {
     "data": {
      "text/plain": [
       "(61047, 17)"
      ]
     },
     "execution_count": 7,
     "metadata": {},
     "output_type": "execute_result"
    }
   ],
   "source": [
    "df_slim.drop_duplicates(columns).shape"
   ]
  },
  {
   "cell_type": "code",
   "execution_count": 8,
   "metadata": {},
   "outputs": [],
   "source": [
    "# check content of unique cdr3 and epitopes separately\n",
    "assert set(df_slim.drop_duplicates(columns).cdr3.unique()) == set(df_normal.drop_duplicates(columns).cdr3.unique())\n",
    "assert set(df_slim.drop_duplicates(columns)[\"antigen.epitope\"].unique()) == set(df_normal.drop_duplicates(columns)[\"antigen.epitope\"].unique())\n",
    "\n",
    "# check content of merged sequence pairs\n",
    "# assert set(df_slim.drop_duplicates(columns)[\"cdr3\"] + \"-\" + df_slim.drop_duplicates(columns)[\"antigen.epitope\"]) == set(df_normal.drop_duplicates(columns)[\"cdr3\"] + \"-\" + df_normal.drop_duplicates(columns)[\"antigen.epitope\"])\n",
    "assert set(df_slim.drop_duplicates(columns)[\"merged\"]) == set(df_normal.drop_duplicates(columns)[\"merged\"])"
   ]
  },
  {
   "cell_type": "markdown",
   "metadata": {},
   "source": [
    "These two duplicates in the slim version are two spurious entries according to the web browser."
   ]
  },
  {
   "cell_type": "code",
   "execution_count": 9,
   "metadata": {},
   "outputs": [
    {
     "data": {
      "text/html": [
       "<div>\n",
       "<style scoped>\n",
       "    .dataframe tbody tr th:only-of-type {\n",
       "        vertical-align: middle;\n",
       "    }\n",
       "\n",
       "    .dataframe tbody tr th {\n",
       "        vertical-align: top;\n",
       "    }\n",
       "\n",
       "    .dataframe thead th {\n",
       "        text-align: right;\n",
       "    }\n",
       "</style>\n",
       "<table border=\"1\" class=\"dataframe\">\n",
       "  <thead>\n",
       "    <tr style=\"text-align: right;\">\n",
       "      <th></th>\n",
       "      <th>gene</th>\n",
       "      <th>cdr3</th>\n",
       "      <th>species</th>\n",
       "      <th>antigen.epitope</th>\n",
       "      <th>antigen.gene</th>\n",
       "      <th>antigen.species</th>\n",
       "      <th>complex.id</th>\n",
       "      <th>v.segm</th>\n",
       "      <th>j.segm</th>\n",
       "      <th>v.end</th>\n",
       "      <th>j.start</th>\n",
       "      <th>mhc.a</th>\n",
       "      <th>mhc.b</th>\n",
       "      <th>mhc.class</th>\n",
       "      <th>reference.id</th>\n",
       "      <th>vdjdb.score</th>\n",
       "      <th>merged</th>\n",
       "    </tr>\n",
       "  </thead>\n",
       "  <tbody>\n",
       "    <tr>\n",
       "      <th>17626</th>\n",
       "      <td>TRA</td>\n",
       "      <td>CASSSVNEQYF</td>\n",
       "      <td>HomoSapiens</td>\n",
       "      <td>NLVPMVATV</td>\n",
       "      <td>pp65</td>\n",
       "      <td>CMV</td>\n",
       "      <td>22387</td>\n",
       "      <td>TRAV9-2*01</td>\n",
       "      <td>TRAJ40*01</td>\n",
       "      <td>2</td>\n",
       "      <td>-1</td>\n",
       "      <td>HLA-A*02:01</td>\n",
       "      <td>B2M</td>\n",
       "      <td>MHCI</td>\n",
       "      <td>PMID:28636592</td>\n",
       "      <td>1</td>\n",
       "      <td>CASSSVNEQYF-NLVPMVATV</td>\n",
       "    </tr>\n",
       "    <tr>\n",
       "      <th>48822</th>\n",
       "      <td>TRA</td>\n",
       "      <td>CASSDSRGTEAFF</td>\n",
       "      <td>HomoSapiens</td>\n",
       "      <td>LLWNGPMAV</td>\n",
       "      <td>NS4B</td>\n",
       "      <td>YFV</td>\n",
       "      <td>23577</td>\n",
       "      <td>TRAV14/DV4*01</td>\n",
       "      <td>TRAJ42*01</td>\n",
       "      <td>2</td>\n",
       "      <td>-1</td>\n",
       "      <td>HLA-A*02:01</td>\n",
       "      <td>B2M</td>\n",
       "      <td>MHCI</td>\n",
       "      <td>PMID:28103239</td>\n",
       "      <td>0</td>\n",
       "      <td>CASSDSRGTEAFF-LLWNGPMAV</td>\n",
       "    </tr>\n",
       "  </tbody>\n",
       "</table>\n",
       "</div>"
      ],
      "text/plain": [
       "      gene           cdr3      species antigen.epitope antigen.gene  \\\n",
       "17626  TRA    CASSSVNEQYF  HomoSapiens       NLVPMVATV         pp65   \n",
       "48822  TRA  CASSDSRGTEAFF  HomoSapiens       LLWNGPMAV         NS4B   \n",
       "\n",
       "      antigen.species complex.id         v.segm     j.segm  v.end  j.start  \\\n",
       "17626             CMV      22387     TRAV9-2*01  TRAJ40*01      2       -1   \n",
       "48822             YFV      23577  TRAV14/DV4*01  TRAJ42*01      2       -1   \n",
       "\n",
       "             mhc.a mhc.b mhc.class   reference.id  vdjdb.score  \\\n",
       "17626  HLA-A*02:01   B2M      MHCI  PMID:28636592            1   \n",
       "48822  HLA-A*02:01   B2M      MHCI  PMID:28103239            0   \n",
       "\n",
       "                        merged  \n",
       "17626    CASSSVNEQYF-NLVPMVATV  \n",
       "48822  CASSDSRGTEAFF-LLWNGPMAV  "
      ]
     },
     "execution_count": 9,
     "metadata": {},
     "output_type": "execute_result"
    }
   ],
   "source": [
    "df_slim[df_slim.duplicated(subset=columns)]"
   ]
  },
  {
   "cell_type": "markdown",
   "metadata": {},
   "source": [
    "**This suggests that the slim version already had some duplicates removed, but not all of them.**"
   ]
  },
  {
   "cell_type": "markdown",
   "metadata": {},
   "source": [
    "The duplicated entries that are unique to the normal version, are duplicated because of values in the columns that are missing from the `slim` version, i.e. cdr3fix, meta data and method columns. E.g. \"CASSFGVSYEQYF\" is duplicated in the normal version, but not in the slim."
   ]
  },
  {
   "cell_type": "code",
   "execution_count": 10,
   "metadata": {},
   "outputs": [
    {
     "data": {
      "text/html": [
       "<div>\n",
       "<style scoped>\n",
       "    .dataframe tbody tr th:only-of-type {\n",
       "        vertical-align: middle;\n",
       "    }\n",
       "\n",
       "    .dataframe tbody tr th {\n",
       "        vertical-align: top;\n",
       "    }\n",
       "\n",
       "    .dataframe thead th {\n",
       "        text-align: right;\n",
       "    }\n",
       "</style>\n",
       "<table border=\"1\" class=\"dataframe\">\n",
       "  <thead>\n",
       "    <tr style=\"text-align: right;\">\n",
       "      <th></th>\n",
       "      <th>complex.id</th>\n",
       "      <th>gene</th>\n",
       "      <th>cdr3</th>\n",
       "      <th>v.segm</th>\n",
       "      <th>j.segm</th>\n",
       "      <th>species</th>\n",
       "      <th>mhc.a</th>\n",
       "      <th>mhc.b</th>\n",
       "      <th>mhc.class</th>\n",
       "      <th>antigen.epitope</th>\n",
       "      <th>...</th>\n",
       "      <th>cdr3fix.vEnd</th>\n",
       "      <th>cdr3fix.vFixType</th>\n",
       "      <th>cdr3fix.vId</th>\n",
       "      <th>cdr3fix.oldVEnd</th>\n",
       "      <th>cdr3fix.oldVFixType</th>\n",
       "      <th>cdr3fix.oldVId</th>\n",
       "      <th>cdr3fix.oldJFixType</th>\n",
       "      <th>cdr3fix.oldJId</th>\n",
       "      <th>cdr3fix.oldJStart</th>\n",
       "      <th>merged</th>\n",
       "    </tr>\n",
       "  </thead>\n",
       "  <tbody>\n",
       "    <tr>\n",
       "      <th>67</th>\n",
       "      <td>0</td>\n",
       "      <td>TRB</td>\n",
       "      <td>CASSFGVSYEQYF</td>\n",
       "      <td>TRBV13-1*01</td>\n",
       "      <td>TRBJ2-1*01</td>\n",
       "      <td>MusMusculus</td>\n",
       "      <td>H-2Kb</td>\n",
       "      <td>B2M</td>\n",
       "      <td>MHCI</td>\n",
       "      <td>RGYVYQGL</td>\n",
       "      <td>...</td>\n",
       "      <td>4</td>\n",
       "      <td>NoFixNeeded</td>\n",
       "      <td>TRBV13-1*01</td>\n",
       "      <td>NaN</td>\n",
       "      <td>NaN</td>\n",
       "      <td>NaN</td>\n",
       "      <td>NaN</td>\n",
       "      <td>NaN</td>\n",
       "      <td>NaN</td>\n",
       "      <td>CASSFGVSYEQYF-RGYVYQGL</td>\n",
       "    </tr>\n",
       "    <tr>\n",
       "      <th>75</th>\n",
       "      <td>0</td>\n",
       "      <td>TRB</td>\n",
       "      <td>CASSFGVSYEQYF</td>\n",
       "      <td>TRBV13-1*01</td>\n",
       "      <td>TRBJ2-1*01</td>\n",
       "      <td>MusMusculus</td>\n",
       "      <td>H-2Kb</td>\n",
       "      <td>B2M</td>\n",
       "      <td>MHCI</td>\n",
       "      <td>RGYVYQGL</td>\n",
       "      <td>...</td>\n",
       "      <td>4</td>\n",
       "      <td>NoFixNeeded</td>\n",
       "      <td>TRBV13-1*01</td>\n",
       "      <td>NaN</td>\n",
       "      <td>NaN</td>\n",
       "      <td>NaN</td>\n",
       "      <td>NaN</td>\n",
       "      <td>NaN</td>\n",
       "      <td>NaN</td>\n",
       "      <td>CASSFGVSYEQYF-RGYVYQGL</td>\n",
       "    </tr>\n",
       "    <tr>\n",
       "      <th>80</th>\n",
       "      <td>0</td>\n",
       "      <td>TRB</td>\n",
       "      <td>CASSFGVSYEQYF</td>\n",
       "      <td>TRBV13-1*01</td>\n",
       "      <td>TRBJ2-1*01</td>\n",
       "      <td>MusMusculus</td>\n",
       "      <td>H-2Kb</td>\n",
       "      <td>B2M</td>\n",
       "      <td>MHCI</td>\n",
       "      <td>RGYVYQGL</td>\n",
       "      <td>...</td>\n",
       "      <td>4</td>\n",
       "      <td>NoFixNeeded</td>\n",
       "      <td>TRBV13-1*01</td>\n",
       "      <td>NaN</td>\n",
       "      <td>NaN</td>\n",
       "      <td>NaN</td>\n",
       "      <td>NaN</td>\n",
       "      <td>NaN</td>\n",
       "      <td>NaN</td>\n",
       "      <td>CASSFGVSYEQYF-RGYVYQGL</td>\n",
       "    </tr>\n",
       "    <tr>\n",
       "      <th>86</th>\n",
       "      <td>0</td>\n",
       "      <td>TRB</td>\n",
       "      <td>CASSFGVSYEQYF</td>\n",
       "      <td>TRBV13-1*01</td>\n",
       "      <td>TRBJ2-1*01</td>\n",
       "      <td>MusMusculus</td>\n",
       "      <td>H-2Kb</td>\n",
       "      <td>B2M</td>\n",
       "      <td>MHCI</td>\n",
       "      <td>RGYVYQGL</td>\n",
       "      <td>...</td>\n",
       "      <td>4</td>\n",
       "      <td>NoFixNeeded</td>\n",
       "      <td>TRBV13-1*01</td>\n",
       "      <td>NaN</td>\n",
       "      <td>NaN</td>\n",
       "      <td>NaN</td>\n",
       "      <td>NaN</td>\n",
       "      <td>NaN</td>\n",
       "      <td>NaN</td>\n",
       "      <td>CASSFGVSYEQYF-RGYVYQGL</td>\n",
       "    </tr>\n",
       "  </tbody>\n",
       "</table>\n",
       "<p>4 rows × 55 columns</p>\n",
       "</div>"
      ],
      "text/plain": [
       "    complex.id gene           cdr3       v.segm      j.segm      species  \\\n",
       "67           0  TRB  CASSFGVSYEQYF  TRBV13-1*01  TRBJ2-1*01  MusMusculus   \n",
       "75           0  TRB  CASSFGVSYEQYF  TRBV13-1*01  TRBJ2-1*01  MusMusculus   \n",
       "80           0  TRB  CASSFGVSYEQYF  TRBV13-1*01  TRBJ2-1*01  MusMusculus   \n",
       "86           0  TRB  CASSFGVSYEQYF  TRBV13-1*01  TRBJ2-1*01  MusMusculus   \n",
       "\n",
       "    mhc.a mhc.b mhc.class antigen.epitope  ... cdr3fix.vEnd cdr3fix.vFixType  \\\n",
       "67  H-2Kb   B2M      MHCI        RGYVYQGL  ...            4      NoFixNeeded   \n",
       "75  H-2Kb   B2M      MHCI        RGYVYQGL  ...            4      NoFixNeeded   \n",
       "80  H-2Kb   B2M      MHCI        RGYVYQGL  ...            4      NoFixNeeded   \n",
       "86  H-2Kb   B2M      MHCI        RGYVYQGL  ...            4      NoFixNeeded   \n",
       "\n",
       "    cdr3fix.vId  cdr3fix.oldVEnd cdr3fix.oldVFixType cdr3fix.oldVId  \\\n",
       "67  TRBV13-1*01              NaN                 NaN            NaN   \n",
       "75  TRBV13-1*01              NaN                 NaN            NaN   \n",
       "80  TRBV13-1*01              NaN                 NaN            NaN   \n",
       "86  TRBV13-1*01              NaN                 NaN            NaN   \n",
       "\n",
       "   cdr3fix.oldJFixType cdr3fix.oldJId cdr3fix.oldJStart  \\\n",
       "67                 NaN            NaN               NaN   \n",
       "75                 NaN            NaN               NaN   \n",
       "80                 NaN            NaN               NaN   \n",
       "86                 NaN            NaN               NaN   \n",
       "\n",
       "                    merged  \n",
       "67  CASSFGVSYEQYF-RGYVYQGL  \n",
       "75  CASSFGVSYEQYF-RGYVYQGL  \n",
       "80  CASSFGVSYEQYF-RGYVYQGL  \n",
       "86  CASSFGVSYEQYF-RGYVYQGL  \n",
       "\n",
       "[4 rows x 55 columns]"
      ]
     },
     "execution_count": 10,
     "metadata": {},
     "output_type": "execute_result"
    }
   ],
   "source": [
    "df_normal.loc[df_normal.cdr3.str.contains(\"CASSFGVSYEQYF\")]"
   ]
  },
  {
   "cell_type": "code",
   "execution_count": 11,
   "metadata": {},
   "outputs": [
    {
     "data": {
      "text/html": [
       "<div>\n",
       "<style scoped>\n",
       "    .dataframe tbody tr th:only-of-type {\n",
       "        vertical-align: middle;\n",
       "    }\n",
       "\n",
       "    .dataframe tbody tr th {\n",
       "        vertical-align: top;\n",
       "    }\n",
       "\n",
       "    .dataframe thead th {\n",
       "        text-align: right;\n",
       "    }\n",
       "</style>\n",
       "<table border=\"1\" class=\"dataframe\">\n",
       "  <thead>\n",
       "    <tr style=\"text-align: right;\">\n",
       "      <th></th>\n",
       "      <th>gene</th>\n",
       "      <th>cdr3</th>\n",
       "      <th>species</th>\n",
       "      <th>antigen.epitope</th>\n",
       "      <th>antigen.gene</th>\n",
       "      <th>antigen.species</th>\n",
       "      <th>complex.id</th>\n",
       "      <th>v.segm</th>\n",
       "      <th>j.segm</th>\n",
       "      <th>v.end</th>\n",
       "      <th>j.start</th>\n",
       "      <th>mhc.a</th>\n",
       "      <th>mhc.b</th>\n",
       "      <th>mhc.class</th>\n",
       "      <th>reference.id</th>\n",
       "      <th>vdjdb.score</th>\n",
       "      <th>merged</th>\n",
       "    </tr>\n",
       "  </thead>\n",
       "  <tbody>\n",
       "    <tr>\n",
       "      <th>59425</th>\n",
       "      <td>TRB</td>\n",
       "      <td>CASSFGVSYEQYF</td>\n",
       "      <td>MusMusculus</td>\n",
       "      <td>RGYVYQGL</td>\n",
       "      <td>N</td>\n",
       "      <td>VSV</td>\n",
       "      <td>0</td>\n",
       "      <td>TRBV13-1*01</td>\n",
       "      <td>TRBJ2-1*01</td>\n",
       "      <td>4</td>\n",
       "      <td>-1</td>\n",
       "      <td>H-2Kb</td>\n",
       "      <td>B2M</td>\n",
       "      <td>MHCI</td>\n",
       "      <td>PMID:9560256</td>\n",
       "      <td>3</td>\n",
       "      <td>CASSFGVSYEQYF-RGYVYQGL</td>\n",
       "    </tr>\n",
       "  </tbody>\n",
       "</table>\n",
       "</div>"
      ],
      "text/plain": [
       "      gene           cdr3      species antigen.epitope antigen.gene  \\\n",
       "59425  TRB  CASSFGVSYEQYF  MusMusculus        RGYVYQGL            N   \n",
       "\n",
       "      antigen.species complex.id       v.segm      j.segm  v.end  j.start  \\\n",
       "59425             VSV          0  TRBV13-1*01  TRBJ2-1*01      4       -1   \n",
       "\n",
       "       mhc.a mhc.b mhc.class  reference.id  vdjdb.score  \\\n",
       "59425  H-2Kb   B2M      MHCI  PMID:9560256            3   \n",
       "\n",
       "                       merged  \n",
       "59425  CASSFGVSYEQYF-RGYVYQGL  "
      ]
     },
     "execution_count": 11,
     "metadata": {},
     "output_type": "execute_result"
    }
   ],
   "source": [
    "df_slim.loc[df_slim.cdr3.str.contains(\"CASSFGVSYEQYF\")]"
   ]
  },
  {
   "cell_type": "code",
   "execution_count": 12,
   "metadata": {},
   "outputs": [
    {
     "data": {
      "text/html": [
       "<div>\n",
       "<style scoped>\n",
       "    .dataframe tbody tr th:only-of-type {\n",
       "        vertical-align: middle;\n",
       "    }\n",
       "\n",
       "    .dataframe tbody tr th {\n",
       "        vertical-align: top;\n",
       "    }\n",
       "\n",
       "    .dataframe thead th {\n",
       "        text-align: right;\n",
       "    }\n",
       "</style>\n",
       "<table border=\"1\" class=\"dataframe\">\n",
       "  <thead>\n",
       "    <tr style=\"text-align: right;\">\n",
       "      <th></th>\n",
       "      <th>gene</th>\n",
       "      <th>cdr3</th>\n",
       "      <th>species</th>\n",
       "      <th>antigen.epitope</th>\n",
       "      <th>antigen.gene</th>\n",
       "      <th>antigen.species</th>\n",
       "      <th>complex.id</th>\n",
       "      <th>v.segm</th>\n",
       "      <th>j.segm</th>\n",
       "      <th>v.end</th>\n",
       "      <th>j.start</th>\n",
       "      <th>mhc.a</th>\n",
       "      <th>mhc.b</th>\n",
       "      <th>mhc.class</th>\n",
       "      <th>reference.id</th>\n",
       "      <th>vdjdb.score</th>\n",
       "      <th>merged</th>\n",
       "    </tr>\n",
       "  </thead>\n",
       "  <tbody>\n",
       "    <tr>\n",
       "      <th>59425</th>\n",
       "      <td>TRB</td>\n",
       "      <td>CASSFGVSYEQYF</td>\n",
       "      <td>MusMusculus</td>\n",
       "      <td>RGYVYQGL</td>\n",
       "      <td>N</td>\n",
       "      <td>VSV</td>\n",
       "      <td>0</td>\n",
       "      <td>TRBV13-1*01</td>\n",
       "      <td>TRBJ2-1*01</td>\n",
       "      <td>4</td>\n",
       "      <td>-1</td>\n",
       "      <td>H-2Kb</td>\n",
       "      <td>B2M</td>\n",
       "      <td>MHCI</td>\n",
       "      <td>PMID:9560256</td>\n",
       "      <td>3</td>\n",
       "      <td>CASSFGVSYEQYF-RGYVYQGL</td>\n",
       "    </tr>\n",
       "  </tbody>\n",
       "</table>\n",
       "</div>"
      ],
      "text/plain": [
       "      gene           cdr3      species antigen.epitope antigen.gene  \\\n",
       "59425  TRB  CASSFGVSYEQYF  MusMusculus        RGYVYQGL            N   \n",
       "\n",
       "      antigen.species complex.id       v.segm      j.segm  v.end  j.start  \\\n",
       "59425             VSV          0  TRBV13-1*01  TRBJ2-1*01      4       -1   \n",
       "\n",
       "       mhc.a mhc.b mhc.class  reference.id  vdjdb.score  \\\n",
       "59425  H-2Kb   B2M      MHCI  PMID:9560256            3   \n",
       "\n",
       "                       merged  \n",
       "59425  CASSFGVSYEQYF-RGYVYQGL  "
      ]
     },
     "execution_count": 12,
     "metadata": {},
     "output_type": "execute_result"
    }
   ],
   "source": [
    "df_slim.loc[df_slim.cdr3.str.contains(\"CASSFGVSYEQYF\")]"
   ]
  },
  {
   "cell_type": "markdown",
   "metadata": {},
   "source": [
    "## Spurious sequences\n",
    "\n",
    "Both versions contain spurious entries. E.g. the two spurious duplicates in the slim version are also present in the normal version."
   ]
  },
  {
   "cell_type": "code",
   "execution_count": 13,
   "metadata": {
    "scrolled": false
   },
   "outputs": [
    {
     "data": {
      "text/html": [
       "<div>\n",
       "<style scoped>\n",
       "    .dataframe tbody tr th:only-of-type {\n",
       "        vertical-align: middle;\n",
       "    }\n",
       "\n",
       "    .dataframe tbody tr th {\n",
       "        vertical-align: top;\n",
       "    }\n",
       "\n",
       "    .dataframe thead th {\n",
       "        text-align: right;\n",
       "    }\n",
       "</style>\n",
       "<table border=\"1\" class=\"dataframe\">\n",
       "  <thead>\n",
       "    <tr style=\"text-align: right;\">\n",
       "      <th></th>\n",
       "      <th>complex.id</th>\n",
       "      <th>gene</th>\n",
       "      <th>cdr3</th>\n",
       "      <th>v.segm</th>\n",
       "      <th>j.segm</th>\n",
       "      <th>species</th>\n",
       "      <th>mhc.a</th>\n",
       "      <th>mhc.b</th>\n",
       "      <th>mhc.class</th>\n",
       "      <th>antigen.epitope</th>\n",
       "      <th>...</th>\n",
       "      <th>cdr3fix.vEnd</th>\n",
       "      <th>cdr3fix.vFixType</th>\n",
       "      <th>cdr3fix.vId</th>\n",
       "      <th>cdr3fix.oldVEnd</th>\n",
       "      <th>cdr3fix.oldVFixType</th>\n",
       "      <th>cdr3fix.oldVId</th>\n",
       "      <th>cdr3fix.oldJFixType</th>\n",
       "      <th>cdr3fix.oldJId</th>\n",
       "      <th>cdr3fix.oldJStart</th>\n",
       "      <th>merged</th>\n",
       "    </tr>\n",
       "  </thead>\n",
       "  <tbody>\n",
       "    <tr>\n",
       "      <th>46206</th>\n",
       "      <td>22387</td>\n",
       "      <td>TRA</td>\n",
       "      <td>CASSSVNEQYF</td>\n",
       "      <td>TRAV9-2*01</td>\n",
       "      <td>TRAJ40*01</td>\n",
       "      <td>HomoSapiens</td>\n",
       "      <td>HLA-A*02:01</td>\n",
       "      <td>B2M</td>\n",
       "      <td>MHCI</td>\n",
       "      <td>NLVPMVATV</td>\n",
       "      <td>...</td>\n",
       "      <td>2</td>\n",
       "      <td>NoFixNeeded</td>\n",
       "      <td>TRAV9-2*01</td>\n",
       "      <td>NaN</td>\n",
       "      <td>NaN</td>\n",
       "      <td>NaN</td>\n",
       "      <td>NaN</td>\n",
       "      <td>NaN</td>\n",
       "      <td>NaN</td>\n",
       "      <td>CASSSVNEQYF-NLVPMVATV</td>\n",
       "    </tr>\n",
       "    <tr>\n",
       "      <th>48674</th>\n",
       "      <td>0</td>\n",
       "      <td>TRB</td>\n",
       "      <td>CASSSVNEQYF</td>\n",
       "      <td>TRBV12-4*01</td>\n",
       "      <td>TRBJ2-7*01</td>\n",
       "      <td>HomoSapiens</td>\n",
       "      <td>HLA-A*02:01</td>\n",
       "      <td>B2M</td>\n",
       "      <td>MHCI</td>\n",
       "      <td>NLVPMVATV</td>\n",
       "      <td>...</td>\n",
       "      <td>4</td>\n",
       "      <td>NoFixNeeded</td>\n",
       "      <td>TRBV12-4*01</td>\n",
       "      <td>NaN</td>\n",
       "      <td>NaN</td>\n",
       "      <td>NaN</td>\n",
       "      <td>NaN</td>\n",
       "      <td>NaN</td>\n",
       "      <td>NaN</td>\n",
       "      <td>CASSSVNEQYF-NLVPMVATV</td>\n",
       "    </tr>\n",
       "    <tr>\n",
       "      <th>48675</th>\n",
       "      <td>0</td>\n",
       "      <td>TRB</td>\n",
       "      <td>CASSSVNEQYF</td>\n",
       "      <td>TRBV12-4*01</td>\n",
       "      <td>TRBJ2-7*01</td>\n",
       "      <td>HomoSapiens</td>\n",
       "      <td>HLA-A*02:01</td>\n",
       "      <td>B2M</td>\n",
       "      <td>MHCI</td>\n",
       "      <td>NLVPMVATV</td>\n",
       "      <td>...</td>\n",
       "      <td>4</td>\n",
       "      <td>NoFixNeeded</td>\n",
       "      <td>TRBV12-4*01</td>\n",
       "      <td>NaN</td>\n",
       "      <td>NaN</td>\n",
       "      <td>NaN</td>\n",
       "      <td>NaN</td>\n",
       "      <td>NaN</td>\n",
       "      <td>NaN</td>\n",
       "      <td>CASSSVNEQYF-NLVPMVATV</td>\n",
       "    </tr>\n",
       "    <tr>\n",
       "      <th>61181</th>\n",
       "      <td>0</td>\n",
       "      <td>TRB</td>\n",
       "      <td>CASSSVNEQYF</td>\n",
       "      <td>TRBV19*01</td>\n",
       "      <td>TRBJ2-7*01</td>\n",
       "      <td>HomoSapiens</td>\n",
       "      <td>HLA-A*02:01</td>\n",
       "      <td>B2M</td>\n",
       "      <td>MHCI</td>\n",
       "      <td>NLVPMVATV</td>\n",
       "      <td>...</td>\n",
       "      <td>4</td>\n",
       "      <td>NoFixNeeded</td>\n",
       "      <td>TRBV19*01</td>\n",
       "      <td>NaN</td>\n",
       "      <td>NaN</td>\n",
       "      <td>NaN</td>\n",
       "      <td>NaN</td>\n",
       "      <td>NaN</td>\n",
       "      <td>NaN</td>\n",
       "      <td>CASSSVNEQYF-NLVPMVATV</td>\n",
       "    </tr>\n",
       "    <tr>\n",
       "      <th>61186</th>\n",
       "      <td>0</td>\n",
       "      <td>TRB</td>\n",
       "      <td>CASSSVNEQYF</td>\n",
       "      <td>TRBV19*01</td>\n",
       "      <td>TRBJ2-7*01</td>\n",
       "      <td>HomoSapiens</td>\n",
       "      <td>HLA-A*02:01</td>\n",
       "      <td>B2M</td>\n",
       "      <td>MHCI</td>\n",
       "      <td>NLVPMVATV</td>\n",
       "      <td>...</td>\n",
       "      <td>4</td>\n",
       "      <td>NoFixNeeded</td>\n",
       "      <td>TRBV19*01</td>\n",
       "      <td>NaN</td>\n",
       "      <td>NaN</td>\n",
       "      <td>NaN</td>\n",
       "      <td>NaN</td>\n",
       "      <td>NaN</td>\n",
       "      <td>NaN</td>\n",
       "      <td>CASSSVNEQYF-NLVPMVATV</td>\n",
       "    </tr>\n",
       "    <tr>\n",
       "      <th>64290</th>\n",
       "      <td>23832</td>\n",
       "      <td>TRB</td>\n",
       "      <td>CASSSVNEQYF</td>\n",
       "      <td>TRBV12-3*01</td>\n",
       "      <td>TRBJ2-7*01</td>\n",
       "      <td>HomoSapiens</td>\n",
       "      <td>HLA-A*02:01</td>\n",
       "      <td>B2M</td>\n",
       "      <td>MHCI</td>\n",
       "      <td>NLVPMVATV</td>\n",
       "      <td>...</td>\n",
       "      <td>4</td>\n",
       "      <td>NoFixNeeded</td>\n",
       "      <td>TRBV12-3*01</td>\n",
       "      <td>NaN</td>\n",
       "      <td>NaN</td>\n",
       "      <td>NaN</td>\n",
       "      <td>NaN</td>\n",
       "      <td>NaN</td>\n",
       "      <td>NaN</td>\n",
       "      <td>CASSSVNEQYF-NLVPMVATV</td>\n",
       "    </tr>\n",
       "    <tr>\n",
       "      <th>64292</th>\n",
       "      <td>23833</td>\n",
       "      <td>TRB</td>\n",
       "      <td>CASSSVNEQYF</td>\n",
       "      <td>TRBV12-3*01</td>\n",
       "      <td>TRBJ2-7*01</td>\n",
       "      <td>HomoSapiens</td>\n",
       "      <td>HLA-A*02:01</td>\n",
       "      <td>B2M</td>\n",
       "      <td>MHCI</td>\n",
       "      <td>NLVPMVATV</td>\n",
       "      <td>...</td>\n",
       "      <td>4</td>\n",
       "      <td>NoFixNeeded</td>\n",
       "      <td>TRBV12-3*01</td>\n",
       "      <td>NaN</td>\n",
       "      <td>NaN</td>\n",
       "      <td>NaN</td>\n",
       "      <td>NaN</td>\n",
       "      <td>NaN</td>\n",
       "      <td>NaN</td>\n",
       "      <td>CASSSVNEQYF-NLVPMVATV</td>\n",
       "    </tr>\n",
       "  </tbody>\n",
       "</table>\n",
       "<p>7 rows × 55 columns</p>\n",
       "</div>"
      ],
      "text/plain": [
       "       complex.id gene         cdr3       v.segm      j.segm      species  \\\n",
       "46206       22387  TRA  CASSSVNEQYF   TRAV9-2*01   TRAJ40*01  HomoSapiens   \n",
       "48674           0  TRB  CASSSVNEQYF  TRBV12-4*01  TRBJ2-7*01  HomoSapiens   \n",
       "48675           0  TRB  CASSSVNEQYF  TRBV12-4*01  TRBJ2-7*01  HomoSapiens   \n",
       "61181           0  TRB  CASSSVNEQYF    TRBV19*01  TRBJ2-7*01  HomoSapiens   \n",
       "61186           0  TRB  CASSSVNEQYF    TRBV19*01  TRBJ2-7*01  HomoSapiens   \n",
       "64290       23832  TRB  CASSSVNEQYF  TRBV12-3*01  TRBJ2-7*01  HomoSapiens   \n",
       "64292       23833  TRB  CASSSVNEQYF  TRBV12-3*01  TRBJ2-7*01  HomoSapiens   \n",
       "\n",
       "             mhc.a mhc.b mhc.class antigen.epitope  ... cdr3fix.vEnd  \\\n",
       "46206  HLA-A*02:01   B2M      MHCI       NLVPMVATV  ...            2   \n",
       "48674  HLA-A*02:01   B2M      MHCI       NLVPMVATV  ...            4   \n",
       "48675  HLA-A*02:01   B2M      MHCI       NLVPMVATV  ...            4   \n",
       "61181  HLA-A*02:01   B2M      MHCI       NLVPMVATV  ...            4   \n",
       "61186  HLA-A*02:01   B2M      MHCI       NLVPMVATV  ...            4   \n",
       "64290  HLA-A*02:01   B2M      MHCI       NLVPMVATV  ...            4   \n",
       "64292  HLA-A*02:01   B2M      MHCI       NLVPMVATV  ...            4   \n",
       "\n",
       "      cdr3fix.vFixType  cdr3fix.vId  cdr3fix.oldVEnd cdr3fix.oldVFixType  \\\n",
       "46206      NoFixNeeded   TRAV9-2*01              NaN                 NaN   \n",
       "48674      NoFixNeeded  TRBV12-4*01              NaN                 NaN   \n",
       "48675      NoFixNeeded  TRBV12-4*01              NaN                 NaN   \n",
       "61181      NoFixNeeded    TRBV19*01              NaN                 NaN   \n",
       "61186      NoFixNeeded    TRBV19*01              NaN                 NaN   \n",
       "64290      NoFixNeeded  TRBV12-3*01              NaN                 NaN   \n",
       "64292      NoFixNeeded  TRBV12-3*01              NaN                 NaN   \n",
       "\n",
       "      cdr3fix.oldVId cdr3fix.oldJFixType cdr3fix.oldJId cdr3fix.oldJStart  \\\n",
       "46206            NaN                 NaN            NaN               NaN   \n",
       "48674            NaN                 NaN            NaN               NaN   \n",
       "48675            NaN                 NaN            NaN               NaN   \n",
       "61181            NaN                 NaN            NaN               NaN   \n",
       "61186            NaN                 NaN            NaN               NaN   \n",
       "64290            NaN                 NaN            NaN               NaN   \n",
       "64292            NaN                 NaN            NaN               NaN   \n",
       "\n",
       "                      merged  \n",
       "46206  CASSSVNEQYF-NLVPMVATV  \n",
       "48674  CASSSVNEQYF-NLVPMVATV  \n",
       "48675  CASSSVNEQYF-NLVPMVATV  \n",
       "61181  CASSSVNEQYF-NLVPMVATV  \n",
       "61186  CASSSVNEQYF-NLVPMVATV  \n",
       "64290  CASSSVNEQYF-NLVPMVATV  \n",
       "64292  CASSSVNEQYF-NLVPMVATV  \n",
       "\n",
       "[7 rows x 55 columns]"
      ]
     },
     "execution_count": 13,
     "metadata": {},
     "output_type": "execute_result"
    }
   ],
   "source": [
    "df_normal.loc[ (df_normal[\"cdr3\"] == \"CASSSVNEQYF\") & (df_normal[\"antigen.epitope\"] == \"NLVPMVATV\")]\n",
    "# & (df_normal[\"reference.id\"] == \"PMID:28636592\")"
   ]
  },
  {
   "cell_type": "code",
   "execution_count": 14,
   "metadata": {
    "scrolled": true
   },
   "outputs": [
    {
     "data": {
      "text/html": [
       "<div>\n",
       "<style scoped>\n",
       "    .dataframe tbody tr th:only-of-type {\n",
       "        vertical-align: middle;\n",
       "    }\n",
       "\n",
       "    .dataframe tbody tr th {\n",
       "        vertical-align: top;\n",
       "    }\n",
       "\n",
       "    .dataframe thead th {\n",
       "        text-align: right;\n",
       "    }\n",
       "</style>\n",
       "<table border=\"1\" class=\"dataframe\">\n",
       "  <thead>\n",
       "    <tr style=\"text-align: right;\">\n",
       "      <th></th>\n",
       "      <th>complex.id</th>\n",
       "      <th>gene</th>\n",
       "      <th>cdr3</th>\n",
       "      <th>v.segm</th>\n",
       "      <th>j.segm</th>\n",
       "      <th>species</th>\n",
       "      <th>mhc.a</th>\n",
       "      <th>mhc.b</th>\n",
       "      <th>mhc.class</th>\n",
       "      <th>antigen.epitope</th>\n",
       "      <th>...</th>\n",
       "      <th>cdr3fix.vEnd</th>\n",
       "      <th>cdr3fix.vFixType</th>\n",
       "      <th>cdr3fix.vId</th>\n",
       "      <th>cdr3fix.oldVEnd</th>\n",
       "      <th>cdr3fix.oldVFixType</th>\n",
       "      <th>cdr3fix.oldVId</th>\n",
       "      <th>cdr3fix.oldJFixType</th>\n",
       "      <th>cdr3fix.oldJId</th>\n",
       "      <th>cdr3fix.oldJStart</th>\n",
       "      <th>merged</th>\n",
       "    </tr>\n",
       "  </thead>\n",
       "  <tbody>\n",
       "    <tr>\n",
       "      <th>50167</th>\n",
       "      <td>23577</td>\n",
       "      <td>TRA</td>\n",
       "      <td>CASSDSRGTEAFF</td>\n",
       "      <td>TRAV14/DV4*01</td>\n",
       "      <td>TRAJ42*01</td>\n",
       "      <td>HomoSapiens</td>\n",
       "      <td>HLA-A*02:01</td>\n",
       "      <td>B2M</td>\n",
       "      <td>MHCI</td>\n",
       "      <td>LLWNGPMAV</td>\n",
       "      <td>...</td>\n",
       "      <td>2</td>\n",
       "      <td>NoFixNeeded</td>\n",
       "      <td>TRAV14/DV4*01</td>\n",
       "      <td>NaN</td>\n",
       "      <td>NaN</td>\n",
       "      <td>NaN</td>\n",
       "      <td>NaN</td>\n",
       "      <td>NaN</td>\n",
       "      <td>NaN</td>\n",
       "      <td>CASSDSRGTEAFF-LLWNGPMAV</td>\n",
       "    </tr>\n",
       "    <tr>\n",
       "      <th>50168</th>\n",
       "      <td>23577</td>\n",
       "      <td>TRB</td>\n",
       "      <td>CASSDSRGTEAFF</td>\n",
       "      <td>TRBV9*01</td>\n",
       "      <td>TRBJ1-1*01</td>\n",
       "      <td>HomoSapiens</td>\n",
       "      <td>HLA-A*02:01</td>\n",
       "      <td>B2M</td>\n",
       "      <td>MHCI</td>\n",
       "      <td>LLWNGPMAV</td>\n",
       "      <td>...</td>\n",
       "      <td>4</td>\n",
       "      <td>NoFixNeeded</td>\n",
       "      <td>TRBV9*01</td>\n",
       "      <td>NaN</td>\n",
       "      <td>NaN</td>\n",
       "      <td>NaN</td>\n",
       "      <td>NaN</td>\n",
       "      <td>NaN</td>\n",
       "      <td>NaN</td>\n",
       "      <td>CASSDSRGTEAFF-LLWNGPMAV</td>\n",
       "    </tr>\n",
       "  </tbody>\n",
       "</table>\n",
       "<p>2 rows × 55 columns</p>\n",
       "</div>"
      ],
      "text/plain": [
       "       complex.id gene           cdr3         v.segm      j.segm      species  \\\n",
       "50167       23577  TRA  CASSDSRGTEAFF  TRAV14/DV4*01   TRAJ42*01  HomoSapiens   \n",
       "50168       23577  TRB  CASSDSRGTEAFF       TRBV9*01  TRBJ1-1*01  HomoSapiens   \n",
       "\n",
       "             mhc.a mhc.b mhc.class antigen.epitope  ... cdr3fix.vEnd  \\\n",
       "50167  HLA-A*02:01   B2M      MHCI       LLWNGPMAV  ...            2   \n",
       "50168  HLA-A*02:01   B2M      MHCI       LLWNGPMAV  ...            4   \n",
       "\n",
       "      cdr3fix.vFixType    cdr3fix.vId  cdr3fix.oldVEnd cdr3fix.oldVFixType  \\\n",
       "50167      NoFixNeeded  TRAV14/DV4*01              NaN                 NaN   \n",
       "50168      NoFixNeeded       TRBV9*01              NaN                 NaN   \n",
       "\n",
       "      cdr3fix.oldVId cdr3fix.oldJFixType cdr3fix.oldJId cdr3fix.oldJStart  \\\n",
       "50167            NaN                 NaN            NaN               NaN   \n",
       "50168            NaN                 NaN            NaN               NaN   \n",
       "\n",
       "                        merged  \n",
       "50167  CASSDSRGTEAFF-LLWNGPMAV  \n",
       "50168  CASSDSRGTEAFF-LLWNGPMAV  \n",
       "\n",
       "[2 rows x 55 columns]"
      ]
     },
     "execution_count": 14,
     "metadata": {},
     "output_type": "execute_result"
    }
   ],
   "source": [
    "df_normal.loc[ (df_normal[\"cdr3\"] == \"CASSDSRGTEAFF\") & (df_normal[\"antigen.epitope\"] == \"LLWNGPMAV\")]\n",
    "# & (df_normal[\"reference.id\"] == \"PMID:28103239\")"
   ]
  },
  {
   "cell_type": "markdown",
   "metadata": {},
   "source": [
    "The spurious entries in the normal dataset can be retrieved by filtering on the `cdr3fix.good` property. \n",
    "\n",
    "**However, note that the VDJdb web browser has two separate checkboxes for spurious entries, namely `Include non-canonical` and `Include unmapped V/J`. So an additional filter might be required, unless `cdr3fix.good` is already a summary of these other properties (EDIT: this does seem to be the case).**"
   ]
  },
  {
   "cell_type": "markdown",
   "metadata": {},
   "source": [
    "As of the August 7th 2019 release, selecting all species and TCR chains in the VDJdb browser, while excluding the spurious entries, results in 73224 out of 75474 entries, i.e. **2250 entries are labeled as spurious**."
   ]
  },
  {
   "cell_type": "markdown",
   "metadata": {},
   "source": [
    "This number does correspond to a filtering on the `cdr3fix.good` property in the normal file."
   ]
  },
  {
   "cell_type": "code",
   "execution_count": 15,
   "metadata": {
    "scrolled": true
   },
   "outputs": [
    {
     "data": {
      "text/plain": [
       "(2250, 55)"
      ]
     },
     "execution_count": 15,
     "metadata": {},
     "output_type": "execute_result"
    }
   ],
   "source": [
    "df_normal.loc[~df_normal[\"cdr3fix.good\"]].shape"
   ]
  },
  {
   "cell_type": "markdown",
   "metadata": {},
   "source": [
    "Some of the spurious entries are also duplicated."
   ]
  },
  {
   "cell_type": "code",
   "execution_count": 16,
   "metadata": {},
   "outputs": [
    {
     "data": {
      "text/plain": [
       "(2011, 55)"
      ]
     },
     "execution_count": 16,
     "metadata": {},
     "output_type": "execute_result"
    }
   ],
   "source": [
    "df_normal.loc[~df_normal[\"cdr3fix.good\"]].drop_duplicates(columns).shape"
   ]
  },
  {
   "cell_type": "markdown",
   "metadata": {},
   "source": [
    "All spurious entries are contained in the slim file."
   ]
  },
  {
   "cell_type": "code",
   "execution_count": 17,
   "metadata": {},
   "outputs": [
    {
     "data": {
      "text/plain": [
       "True"
      ]
     },
     "execution_count": 17,
     "metadata": {},
     "output_type": "execute_result"
    }
   ],
   "source": [
    "set(df_normal.loc[~df_normal[\"cdr3fix.good\"], \"merged\"]).issubset(set(df_slim[\"merged\"]))"
   ]
  },
  {
   "cell_type": "code",
   "execution_count": 18,
   "metadata": {},
   "outputs": [
    {
     "data": {
      "text/plain": [
       "set()"
      ]
     },
     "execution_count": 18,
     "metadata": {},
     "output_type": "execute_result"
    }
   ],
   "source": [
    "set(df_normal.loc[~df_normal[\"cdr3fix.good\"], \"merged\"]) - set(df_slim[\"merged\"])"
   ]
  },
  {
   "cell_type": "code",
   "execution_count": 19,
   "metadata": {
    "scrolled": false
   },
   "outputs": [
    {
     "data": {
      "text/plain": [
       "True"
      ]
     },
     "execution_count": 19,
     "metadata": {},
     "output_type": "execute_result"
    }
   ],
   "source": [
    "all(df_normal.loc[~df_normal[\"cdr3fix.good\"], \"merged\"].isin(df_slim[\"merged\"]))"
   ]
  },
  {
   "cell_type": "markdown",
   "metadata": {},
   "source": [
    "The spurious sequences are also in the duplicated subset of the slim file. In other words, the two duplicates in the slim set, do occur in the spurious sequences of the normal file."
   ]
  },
  {
   "cell_type": "code",
   "execution_count": 20,
   "metadata": {},
   "outputs": [
    {
     "data": {
      "text/plain": [
       "True"
      ]
     },
     "execution_count": 20,
     "metadata": {},
     "output_type": "execute_result"
    }
   ],
   "source": [
    "any(df_normal.loc[~df_normal[\"cdr3fix.good\"], \"merged\"].isin(df_slim.loc[df_slim[\"merged\"].duplicated(), \"merged\"]))"
   ]
  },
  {
   "cell_type": "code",
   "execution_count": 21,
   "metadata": {},
   "outputs": [
    {
     "data": {
      "text/plain": [
       "17626      CASSSVNEQYF-NLVPMVATV\n",
       "48822    CASSDSRGTEAFF-LLWNGPMAV\n",
       "Name: merged, dtype: object"
      ]
     },
     "execution_count": 21,
     "metadata": {},
     "output_type": "execute_result"
    }
   ],
   "source": [
    "df_slim.loc[df_slim[\"merged\"].duplicated(), \"merged\"]"
   ]
  },
  {
   "cell_type": "code",
   "execution_count": 22,
   "metadata": {},
   "outputs": [
    {
     "data": {
      "text/plain": [
       "17626    True\n",
       "48822    True\n",
       "Name: merged, dtype: bool"
      ]
     },
     "execution_count": 22,
     "metadata": {},
     "output_type": "execute_result"
    }
   ],
   "source": [
    "df_slim.loc[df_slim[\"merged\"].duplicated(), \"merged\"].apply(\n",
    "    lambda x: df_normal.loc[~df_normal[\"cdr3fix.good\"], \"merged\"].str.contains(x).any())"
   ]
  },
  {
   "cell_type": "code",
   "execution_count": 23,
   "metadata": {},
   "outputs": [
    {
     "data": {
      "text/plain": [
       "17626    True\n",
       "48822    True\n",
       "Name: merged, dtype: bool"
      ]
     },
     "execution_count": 23,
     "metadata": {},
     "output_type": "execute_result"
    }
   ],
   "source": [
    "df_slim.loc[df_slim[\"merged\"].duplicated(), \"merged\"].apply(\n",
    "    lambda x: x in df_normal.loc[~df_normal[\"cdr3fix.good\"], \"merged\"].values)"
   ]
  },
  {
   "cell_type": "code",
   "execution_count": 24,
   "metadata": {},
   "outputs": [],
   "source": [
    "#any(df_normal.loc[~df_normal[\"cdr3fix.good\"], \"merged\"].apply(lambda x: x in df_slim[df_slim[\"merged\"].duplicated()].values))"
   ]
  },
  {
   "cell_type": "markdown",
   "metadata": {},
   "source": [
    "The above checks do not completely guarantee that the spurious sequences are in the slim file, because it is possible that a spurious sequence, made up of sequences A and B, is a duplicate, and its duplicate entry with sequences A and B is not spurious.\n",
    "\n",
    "To check this, all non-duplicate spurious sequences in the normal file should be compared to the slim set, plus all entries in the slim set that occur in the spurious subset of the normal file, should be checked for duplicates."
   ]
  },
  {
   "cell_type": "code",
   "execution_count": 25,
   "metadata": {},
   "outputs": [
    {
     "name": "stdout",
     "output_type": "stream",
     "text": [
      "1983 out of 2250 entries are spurious and do not have duplicates in the original file.\n"
     ]
    }
   ],
   "source": [
    "non_dup_spurious = df_normal.loc[ (~df_normal.duplicated(subset=\"merged\")) & (~df_normal[\"cdr3fix.good\"]), \"merged\"]\n",
    "print(f\"{non_dup_spurious.shape[0]} out of {df_normal.loc[~df_normal['cdr3fix.good']].shape[0]} entries are spurious and do not have duplicates in the original file.\")"
   ]
  },
  {
   "cell_type": "code",
   "execution_count": 26,
   "metadata": {},
   "outputs": [
    {
     "data": {
      "text/plain": [
       "True"
      ]
     },
     "execution_count": 26,
     "metadata": {},
     "output_type": "execute_result"
    }
   ],
   "source": [
    "set(non_dup_spurious).issubset(set(df_slim[\"merged\"]))"
   ]
  },
  {
   "cell_type": "markdown",
   "metadata": {},
   "source": [
    "Some more tests..."
   ]
  },
  {
   "cell_type": "code",
   "execution_count": 27,
   "metadata": {},
   "outputs": [
    {
     "data": {
      "text/plain": [
       "(75474, 55)"
      ]
     },
     "execution_count": 27,
     "metadata": {},
     "output_type": "execute_result"
    }
   ],
   "source": [
    "df_normal.shape"
   ]
  },
  {
   "cell_type": "code",
   "execution_count": 28,
   "metadata": {},
   "outputs": [
    {
     "data": {
      "text/plain": [
       "(61047, 55)"
      ]
     },
     "execution_count": 28,
     "metadata": {},
     "output_type": "execute_result"
    }
   ],
   "source": [
    "df_normal.drop_duplicates(columns).shape"
   ]
  },
  {
   "cell_type": "code",
   "execution_count": 29,
   "metadata": {},
   "outputs": [
    {
     "data": {
      "text/plain": [
       "(73224, 55)"
      ]
     },
     "execution_count": 29,
     "metadata": {},
     "output_type": "execute_result"
    }
   ],
   "source": [
    "df_normal[df_normal[\"cdr3fix.good\"]].shape"
   ]
  },
  {
   "cell_type": "code",
   "execution_count": 30,
   "metadata": {},
   "outputs": [
    {
     "data": {
      "text/plain": [
       "(59072, 55)"
      ]
     },
     "execution_count": 30,
     "metadata": {},
     "output_type": "execute_result"
    }
   ],
   "source": [
    "df_normal[df_normal[\"cdr3fix.good\"]].drop_duplicates(columns).shape"
   ]
  },
  {
   "cell_type": "code",
   "execution_count": 31,
   "metadata": {},
   "outputs": [
    {
     "data": {
      "text/plain": [
       "(61049, 17)"
      ]
     },
     "execution_count": 31,
     "metadata": {},
     "output_type": "execute_result"
    }
   ],
   "source": [
    "df_slim.shape"
   ]
  },
  {
   "cell_type": "code",
   "execution_count": 32,
   "metadata": {},
   "outputs": [
    {
     "data": {
      "text/plain": [
       "(61047, 17)"
      ]
     },
     "execution_count": 32,
     "metadata": {},
     "output_type": "execute_result"
    }
   ],
   "source": [
    "df_slim.drop_duplicates(columns).shape"
   ]
  },
  {
   "cell_type": "code",
   "execution_count": 33,
   "metadata": {},
   "outputs": [
    {
     "data": {
      "text/plain": [
       "(59072, 17)"
      ]
     },
     "execution_count": 33,
     "metadata": {},
     "output_type": "execute_result"
    }
   ],
   "source": [
    "df_slim[df_slim[\"merged\"].isin(df_normal.loc[df_normal[\"cdr3fix.good\"], \"merged\"])].drop_duplicates(columns).shape"
   ]
  },
  {
   "cell_type": "markdown",
   "metadata": {},
   "source": [
    "---"
   ]
  },
  {
   "cell_type": "markdown",
   "metadata": {},
   "source": [
    "Check confidence scores of spurious entries and compare these to the two spurious/duplicate entries in the slim version."
   ]
  },
  {
   "cell_type": "code",
   "execution_count": 34,
   "metadata": {},
   "outputs": [
    {
     "data": {
      "text/plain": [
       "vdjdb.score\n",
       "0    1858\n",
       "1     255\n",
       "2      88\n",
       "3      49\n",
       "dtype: int64"
      ]
     },
     "execution_count": 34,
     "metadata": {},
     "output_type": "execute_result"
    }
   ],
   "source": [
    "df_normal[~df_normal[\"cdr3fix.good\"]].groupby(\"vdjdb.score\").size()"
   ]
  },
  {
   "cell_type": "markdown",
   "metadata": {},
   "source": [
    "# Comparison of VDJdb web export and GitHub Release"
   ]
  },
  {
   "cell_type": "code",
   "execution_count": 35,
   "metadata": {},
   "outputs": [],
   "source": [
    "vdjdb_web_path = PROJECT_ROOT / \"data/raw/vdjdb/vdjdb-browser.tsv\"\n",
    "df_web = pd.read_csv(vdjdb_web_path, sep=\"\\t\")\n",
    "columns_web = [\"CDR3\", \"Epitope\"]\n",
    "\n",
    "# create column based on cdr3 and epitope sequences\n",
    "df_web[\"merged\"] = df_web[\"CDR3\"] + \"-\" + df_web[\"Epitope\"]"
   ]
  },
  {
   "cell_type": "markdown",
   "metadata": {},
   "source": [
    "## Comparison of spurious sequences and VDJdb web dataset\n",
    "### The web version is equal to the GitHub release (normal) after filtering on cdr3fix.good"
   ]
  },
  {
   "cell_type": "markdown",
   "metadata": {},
   "source": [
    "The spurious entries in the normal make up the entire difference with the VDJdb web dataset (using the filtering options stated earlier)."
   ]
  },
  {
   "cell_type": "markdown",
   "metadata": {},
   "source": [
    "Same size:"
   ]
  },
  {
   "cell_type": "code",
   "execution_count": 36,
   "metadata": {
    "scrolled": true
   },
   "outputs": [],
   "source": [
    "# check size after duplicate removal\n",
    "assert df_normal.loc[df_normal[\"cdr3fix.good\"]].drop_duplicates(columns).shape[0] == \\\n",
    "    df_web.drop_duplicates(columns_web).shape[0]"
   ]
  },
  {
   "cell_type": "markdown",
   "metadata": {},
   "source": [
    "And some content:"
   ]
  },
  {
   "cell_type": "code",
   "execution_count": 37,
   "metadata": {},
   "outputs": [],
   "source": [
    "# check contents after removing spurious sequences\n",
    "assert set(df_normal.loc[df_normal[\"cdr3fix.good\"], \"merged\"]) == set(df_web[\"merged\"])"
   ]
  },
  {
   "cell_type": "markdown",
   "metadata": {},
   "source": [
    "## Web versus slim"
   ]
  },
  {
   "cell_type": "markdown",
   "metadata": {},
   "source": [
    "## The slim GitHub release still contains duplicated and spurious sequences"
   ]
  },
  {
   "cell_type": "markdown",
   "metadata": {},
   "source": [
    "The web version contains fewer entries after deduplication, which indicates that the slim version still contains some spurious sequences."
   ]
  },
  {
   "cell_type": "code",
   "execution_count": 38,
   "metadata": {
    "scrolled": true
   },
   "outputs": [
    {
     "name": "stdout",
     "output_type": "stream",
     "text": [
      "(73224, 18)\n",
      "(59072, 18)\n"
     ]
    }
   ],
   "source": [
    "print(df_web.shape)\n",
    "print(df_web.drop_duplicates(columns_web).shape)"
   ]
  },
  {
   "cell_type": "code",
   "execution_count": 39,
   "metadata": {},
   "outputs": [
    {
     "name": "stdout",
     "output_type": "stream",
     "text": [
      "(61049, 17)\n",
      "(61047, 17)\n"
     ]
    }
   ],
   "source": [
    "print(df_slim.shape)\n",
    "print(df_slim.drop_duplicates(columns).shape)"
   ]
  },
  {
   "cell_type": "code",
   "execution_count": 40,
   "metadata": {},
   "outputs": [
    {
     "name": "stdout",
     "output_type": "stream",
     "text": [
      "The slim set contains 1975 additional unique sequences over the web export\n"
     ]
    }
   ],
   "source": [
    "slim_minus_web = set(df_slim[\"merged\"]) - set(df_web[\"merged\"])\n",
    "print(f\"The slim set contains {len(slim_minus_web)} additional unique sequences over the web export\")"
   ]
  },
  {
   "cell_type": "markdown",
   "metadata": {},
   "source": [
    "These entries are all found in the spurious entries set of the normal file."
   ]
  },
  {
   "cell_type": "code",
   "execution_count": 41,
   "metadata": {
    "scrolled": true
   },
   "outputs": [
    {
     "data": {
      "text/plain": [
       "True"
      ]
     },
     "execution_count": 41,
     "metadata": {},
     "output_type": "execute_result"
    }
   ],
   "source": [
    "slim_minus_web.issubset(set(df_normal.loc[~df_normal[\"cdr3fix.good\"], \"merged\"]))"
   ]
  },
  {
   "cell_type": "markdown",
   "metadata": {},
   "source": [
    "# Comparison to older VDJdb dataset accessed on October 30, 2018:"
   ]
  },
  {
   "cell_type": "markdown",
   "metadata": {},
   "source": [
    "# In-depth statistics and figures for the VDJdb GitHub Aug 2018 release (after filtering)\n",
    "\n",
    "What follows is a description of the contents of the `vdjdb.txt` file in the Aug 2018 GitHub release after removing all spurious and duplicate entries, and performing the same filtering steps as for the data used to train the neural networks (i.e. focusing only on human TRB entries).\n",
    "\n",
    "---"
   ]
  },
  {
   "cell_type": "code",
   "execution_count": 42,
   "metadata": {},
   "outputs": [],
   "source": [
    "from matplotlib import pyplot as plt\n",
    "import seaborn as sns\n",
    "sns.set_palette(\"Set1\")\n",
    "sns.set_style('darkgrid')\n",
    "# plt.rc('patch', edgecolor=\"0.2\", linewidth=.8, alpha=.75)\n",
    "plt.rcParams['patch.edgecolor'] = '0.2'\n",
    "plt.rcParams['patch.linewidth'] = '.8'\n",
    "# plt.rcParams['patch.alpha'] = '.75'\n",
    "# plt.rcParams['figure.figsize'] = (12, 8)\n",
    "\n",
    "# sns.set_palette(\"Set1\", n_colors=8, desat=.5)\n",
    "# sns.set_palette(\"colorblind\")\n",
    "\n",
    "# set font style\n",
    "plt.rcParams.update({'font.size': 11})\n",
    "plt.rcParams['font.family'] = 'sans-serif'\n",
    "plt.rcParams['font.sans-serif'] = \"Source Sans Pro\" #['Fira Sans', 'Source Sans Pro']\n",
    "font = {'weight' : 'normal'}#,'size'   : 22}"
   ]
  },
  {
   "cell_type": "code",
   "execution_count": 6,
   "metadata": {},
   "outputs": [],
   "source": [
    "# import dataset again to start fresh\n",
    "vdjdb_normal_path = PROJECT_ROOT / \"data/raw/vdjdb/vdjdb-2019-08-08/vdjdb.txt\"\n",
    "df = pd.read_csv(vdjdb_normal_path, sep=\"\\t\")\n",
    "\n",
    "# expand the json/dict-like columns\n",
    "df = (\n",
    "    df.join(json_normalize(df[\"method\"].apply(lambda x: json.loads(r'{}'.format(x)))).add_prefix(\"method.\"))\n",
    "    .join(json_normalize(df[\"meta\"].apply(lambda x: json.loads(r'{}'.format(x)))).add_prefix(\"meta.\"))\n",
    "    .join(json_normalize(df[\"cdr3fix\"].apply(lambda x: json.loads(r'{}'.format(x)))).add_prefix(\"cdr3fix.\"))\n",
    "    .drop([\"method\", \"meta\", \"cdr3fix\"], axis=1)\n",
    ")\n",
    "\n",
    "columns = [\"cdr3\", \"antigen.epitope\"]\n",
    "\n",
    "# create column based on cdr3 and epitope sequences\n",
    "df[\"merged\"] = df[\"cdr3\"] + \"-\" + df[\"antigen.epitope\"]\n",
    "\n",
    "# create length columns for figures\n",
    "df[\"cdr3.len\"] = df[\"cdr3\"].str.len()\n",
    "df[\"antigen.epitope.len\"] = df[\"antigen.epitope\"].str.len()"
   ]
  },
  {
   "cell_type": "markdown",
   "metadata": {},
   "source": [
    "The VDJdb contains a number of duplicates, since there are not relevant for our machine learning model, they are removed entirely. **Duplicates are defined as entries which share the same CDR3 and epitope sequence.**"
   ]
  },
  {
   "cell_type": "code",
   "execution_count": 44,
   "metadata": {},
   "outputs": [],
   "source": [
    "# deduplicate main dataframe\n",
    "df_dedup = df.drop_duplicates(columns)"
   ]
  },
  {
   "cell_type": "code",
   "execution_count": 45,
   "metadata": {},
   "outputs": [
    {
     "name": "stdout",
     "output_type": "stream",
     "text": [
      "There were 14427 duplicate CDR3-epitope pairs present in the dataset.\n"
     ]
    }
   ],
   "source": [
    "print(f\"There were {df.shape[0] - df_dedup.shape[0]} duplicate CDR3-epitope pairs present in the dataset.\")"
   ]
  },
  {
   "cell_type": "code",
   "execution_count": 46,
   "metadata": {},
   "outputs": [
    {
     "data": {
      "text/plain": [
       "Index(['complex.id', 'gene', 'cdr3', 'v.segm', 'j.segm', 'species', 'mhc.a',\n",
       "       'mhc.b', 'mhc.class', 'antigen.epitope', 'antigen.gene',\n",
       "       'antigen.species', 'reference.id', 'vdjdb.score', 'web.method',\n",
       "       'web.method.seq', 'web.cdr3fix.nc', 'web.cdr3fix.unmp',\n",
       "       'method.frequency', 'method.identification', 'method.sequencing',\n",
       "       'method.singlecell', 'method.verification', 'meta.cell.subset',\n",
       "       'meta.clone.id', 'meta.donor.MHC', 'meta.donor.MHC.method',\n",
       "       'meta.epitope.id', 'meta.replica.id', 'meta.samples.found',\n",
       "       'meta.structure.id', 'meta.studies.found', 'meta.study.id',\n",
       "       'meta.subject.cohort', 'meta.subject.id', 'meta.tissue', 'cdr3fix.cdr3',\n",
       "       'cdr3fix.cdr3_old', 'cdr3fix.fixNeeded', 'cdr3fix.good',\n",
       "       'cdr3fix.jCanonical', 'cdr3fix.jFixType', 'cdr3fix.jId',\n",
       "       'cdr3fix.jStart', 'cdr3fix.vCanonical', 'cdr3fix.vEnd',\n",
       "       'cdr3fix.vFixType', 'cdr3fix.vId', 'cdr3fix.oldVEnd',\n",
       "       'cdr3fix.oldVFixType', 'cdr3fix.oldVId', 'cdr3fix.oldJFixType',\n",
       "       'cdr3fix.oldJId', 'cdr3fix.oldJStart', 'merged', 'cdr3.len',\n",
       "       'antigen.epitope.len'],\n",
       "      dtype='object')"
      ]
     },
     "execution_count": 46,
     "metadata": {},
     "output_type": "execute_result"
    }
   ],
   "source": [
    "df_dedup.columns"
   ]
  },
  {
   "cell_type": "markdown",
   "metadata": {},
   "source": [
    "## Statistics for all data (all species)"
   ]
  },
  {
   "cell_type": "code",
   "execution_count": 47,
   "metadata": {},
   "outputs": [],
   "source": [
    "# plt.rcParams.update(plt.rcParamsDefault)"
   ]
  },
  {
   "cell_type": "code",
   "execution_count": 48,
   "metadata": {},
   "outputs": [
    {
     "data": {
      "text/plain": [
       "Text(0, 0.5, 'Count')"
      ]
     },
     "execution_count": 48,
     "metadata": {},
     "output_type": "execute_result"
    },
    {
     "data": {
      "image/png": "[encoded data removed]",
      "text/plain": [
       "<Figure size 432x288 with 1 Axes>"
      ]
     },
     "metadata": {
      "needs_background": "light"
     },
     "output_type": "display_data"
    }
   ],
   "source": [
    "ax = sns.countplot(x=\"gene\", data=df_dedup, alpha=.85)\n",
    "ax.set_title('Distribution of TRA and TRB chains')\n",
    "ax.set_ylabel('Count')"
   ]
  },
  {
   "cell_type": "code",
   "execution_count": 49,
   "metadata": {},
   "outputs": [
    {
     "data": {
      "text/plain": [
       "Text(0, 0.5, 'Count')"
      ]
     },
     "execution_count": 49,
     "metadata": {},
     "output_type": "execute_result"
    },
    {
     "data": {
      "image/png": "[encoded data removed]",
      "text/plain": [
       "<Figure size 432x288 with 1 Axes>"
      ]
     },
     "metadata": {
      "needs_background": "light"
     },
     "output_type": "display_data"
    }
   ],
   "source": [
    "ax = sns.countplot(x=\"gene\", hue=\"mhc.class\", data=df_dedup, alpha=.85)\n",
    "ax.set_title('Distribution of TRA and TRB chains per MHC class')\n",
    "ax.set_ylabel('Count')"
   ]
  },
  {
   "cell_type": "code",
   "execution_count": 50,
   "metadata": {},
   "outputs": [
    {
     "data": {
      "text/plain": [
       "<matplotlib.legend.Legend at 0x7f17d50c8eb8>"
      ]
     },
     "execution_count": 50,
     "metadata": {},
     "output_type": "execute_result"
    },
    {
     "data": {
      "image/png": "[encoded data removed]",
      "text/plain": [
       "<Figure size 432x288 with 1 Axes>"
      ]
     },
     "metadata": {
      "needs_background": "light"
     },
     "output_type": "display_data"
    }
   ],
   "source": [
    "ax = sns.countplot(x=\"gene\", hue=\"species\", data=df_dedup, alpha=.85)\n",
    "ax.set_title('Distribution of TRA and TRB chains per host species')\n",
    "ax.set_ylabel('Count')\n",
    "plt.legend(title='Species', loc='upper right', labels=['Homo Sapiens', 'Mus Musculus', 'Macaca Mulatta'])\n"
   ]
  },
  {
   "cell_type": "code",
   "execution_count": 51,
   "metadata": {},
   "outputs": [
    {
     "data": {
      "text/plain": [
       "<matplotlib.legend.Legend at 0x7f17d50f0da0>"
      ]
     },
     "execution_count": 51,
     "metadata": {},
     "output_type": "execute_result"
    },
    {
     "data": {
      "image/png": "[encoded data removed]",
      "text/plain": [
       "<Figure size 432x288 with 1 Axes>"
      ]
     },
     "metadata": {
      "needs_background": "light"
     },
     "output_type": "display_data"
    }
   ],
   "source": [
    "ax = sns.countplot(x=\"species\", hue=\"gene\", data=df_dedup, alpha=.85)\n",
    "ax.set_title('Distribution of TRA and TRB chains per host species')\n",
    "ax.set_ylabel('Count')\n",
    "plt.legend(title='Chain', loc='upper right', labels=['TRA', 'TRB'])\n"
   ]
  },
  {
   "cell_type": "code",
   "execution_count": 52,
   "metadata": {},
   "outputs": [
    {
     "data": {
      "text/plain": [
       "Text(0, 0.5, 'Count')"
      ]
     },
     "execution_count": 52,
     "metadata": {},
     "output_type": "execute_result"
    },
    {
     "data": {
      "image/png": "[encoded data removed]",
      "text/plain": [
       "<Figure size 432x288 with 1 Axes>"
      ]
     },
     "metadata": {
      "needs_background": "light"
     },
     "output_type": "display_data"
    }
   ],
   "source": [
    "plt.xticks(rotation=90)\n",
    "ax = sns.countplot(x=\"mhc.a\", hue=\"mhc.class\", data=df_dedup, alpha=.85,\n",
    "#                   color=sns.color_palette(\"Set1\")[1]\n",
    "                  )\n",
    "ax.set_title('Distribution of MHC alpha chains')\n",
    "ax.set_ylabel('Count')"
   ]
  },
  {
   "cell_type": "code",
   "execution_count": 53,
   "metadata": {},
   "outputs": [
    {
     "data": {
      "text/plain": [
       "<matplotlib.legend.Legend at 0x7f17d52a80f0>"
      ]
     },
     "execution_count": 53,
     "metadata": {},
     "output_type": "execute_result"
    },
    {
     "data": {
      "image/png": "[encoded data removed]",
      "text/plain": [
       "<Figure size 432x288 with 1 Axes>"
      ]
     },
     "metadata": {
      "needs_background": "light"
     },
     "output_type": "display_data"
    }
   ],
   "source": [
    "plt.xticks(rotation=90)\n",
    "ax = sns.countplot(x=\"mhc.a\", hue=\"mhc.class\", data=df_dedup, alpha=.85,\n",
    "                order=df_dedup[\"mhc.a\"].value_counts().index,\n",
    "#                   color=sns.color_palette(\"Set1\")[1]\n",
    "                  )\n",
    "ax.set_title('Distribution of MHC alpha chains')\n",
    "ax.set_ylabel('Count')\n",
    "plt.legend(title='Chain', loc='upper right', labels=['MHCI', 'MHCII'])"
   ]
  },
  {
   "cell_type": "code",
   "execution_count": 54,
   "metadata": {},
   "outputs": [
    {
     "data": {
      "text/plain": [
       "Text(0, 0.5, 'Count')"
      ]
     },
     "execution_count": 54,
     "metadata": {},
     "output_type": "execute_result"
    },
    {
     "data": {
      "image/png": "[encoded data removed]",
      "text/plain": [
       "<Figure size 432x288 with 1 Axes>"
      ]
     },
     "metadata": {
      "needs_background": "light"
     },
     "output_type": "display_data"
    }
   ],
   "source": [
    "plt.xticks(rotation=90)\n",
    "ax = sns.countplot(x=\"mhc.a\", hue=\"species\", data=df_dedup, alpha=.85)\n",
    "ax.set_title('Distribution of MHC alpha chains')\n",
    "ax.set_ylabel('Count')"
   ]
  },
  {
   "cell_type": "code",
   "execution_count": 55,
   "metadata": {},
   "outputs": [
    {
     "data": {
      "image/png": "[encoded data removed]",
      "text/plain": [
       "<Figure size 432x288 with 1 Axes>"
      ]
     },
     "metadata": {
      "needs_background": "light"
     },
     "output_type": "display_data"
    }
   ],
   "source": [
    "ax = sns.countplot(x=\"mhc.a\", hue=\"species\", \n",
    "                   order=df_dedup[\"mhc.a\"].value_counts().iloc[:5].index, \n",
    "                   data=df_dedup, alpha=.75)"
   ]
  },
  {
   "cell_type": "code",
   "execution_count": 56,
   "metadata": {},
   "outputs": [
    {
     "data": {
      "image/png": "[encoded data removed]",
      "text/plain": [
       "<Figure size 432x288 with 1 Axes>"
      ]
     },
     "metadata": {
      "needs_background": "light"
     },
     "output_type": "display_data"
    }
   ],
   "source": [
    "ax = sns.countplot(x=\"mhc.a\", \n",
    "                   order=df_dedup[\"mhc.a\"].value_counts().iloc[:9].index, \n",
    "                   data=df_dedup, alpha=.8)"
   ]
  },
  {
   "cell_type": "code",
   "execution_count": 57,
   "metadata": {},
   "outputs": [],
   "source": [
    "# todo: MHC plot, but sort by common frequency across species, then color depending on species origin"
   ]
  },
  {
   "cell_type": "code",
   "execution_count": 58,
   "metadata": {},
   "outputs": [
    {
     "data": {
      "image/png": "[encoded data removed]",
      "text/plain": [
       "<Figure size 432x288 with 1 Axes>"
      ]
     },
     "metadata": {
      "needs_background": "light"
     },
     "output_type": "display_data"
    }
   ],
   "source": [
    "plt.figure()#figsize=(20,15))\n",
    "ax = sns.countplot(x=\"mhc.a\", \n",
    "                   order=df_dedup[\"mhc.a\"].value_counts().iloc[:9].index, \n",
    "                   color=sns.color_palette(\"Set1\")[0], \n",
    "                   data=df_dedup, alpha=.8)"
   ]
  },
  {
   "cell_type": "markdown",
   "metadata": {},
   "source": [
    "## Human CDR3-epitope pairs\n",
    "\n",
    "- Duplicates removed (last operation)\n",
    "- Spurious sequences removed\n",
    "- Only human\n",
    "- Both TRB/TRA chains"
   ]
  },
  {
   "cell_type": "code",
   "execution_count": 59,
   "metadata": {},
   "outputs": [],
   "source": [
    "# Human pairs\n",
    "df_human = df.loc[ (df[\"species\"] == \"HomoSapiens\") & (df[\"cdr3fix.good\"]) ]\n",
    "df_human = df_human.drop_duplicates(columns)\n",
    "\n",
    "# also read in the data using the preprocessing script once, since it performs various checks\n",
    "df_test = preprocess_vdjdb.filter_vdjdb(vdjdb_normal_path, tcr_chain=\"all\", species=\"human\", drop_spurious=True, mhc=\"all\", hla=\"all\")\n",
    "assert df_test.equals(df_human[columns])"
   ]
  },
  {
   "cell_type": "code",
   "execution_count": 60,
   "metadata": {},
   "outputs": [
    {
     "data": {
      "text/plain": [
       "Text(0, 0.5, 'Count')"
      ]
     },
     "execution_count": 60,
     "metadata": {},
     "output_type": "execute_result"
    },
    {
     "data": {
      "image/png": "[encoded data removed]",
      "text/plain": [
       "<Figure size 432x288 with 1 Axes>"
      ]
     },
     "metadata": {
      "needs_background": "light"
     },
     "output_type": "display_data"
    }
   ],
   "source": [
    "ax = sns.countplot(x=\"gene\", data=df_human, alpha=.8)\n",
    "ax.set_title('Distribution of CDR3 chains in human entries (non-spurious)')\n",
    "ax.set_ylabel('Count')"
   ]
  },
  {
   "cell_type": "code",
   "execution_count": 61,
   "metadata": {},
   "outputs": [
    {
     "data": {
      "text/plain": [
       "Text(0, 0.5, 'Count')"
      ]
     },
     "execution_count": 61,
     "metadata": {},
     "output_type": "execute_result"
    },
    {
     "data": {
      "image/png": "[encoded data removed]",
      "text/plain": [
       "<Figure size 432x288 with 1 Axes>"
      ]
     },
     "metadata": {
      "needs_background": "light"
     },
     "output_type": "display_data"
    }
   ],
   "source": [
    "ax = sns.countplot(x=\"mhc.a\", \n",
    "                   order=df_human[\"mhc.a\"].value_counts().iloc[:5].index, \n",
    "                   data=df_human, alpha=.8)\n",
    "ax.set_title('Distribution of MHC alpha chains in human entries (non-spurious)')\n",
    "ax.set_ylabel('Count')"
   ]
  },
  {
   "cell_type": "code",
   "execution_count": 62,
   "metadata": {},
   "outputs": [
    {
     "data": {
      "text/plain": [
       "<matplotlib.legend.Legend at 0x7f17d662b278>"
      ]
     },
     "execution_count": 62,
     "metadata": {},
     "output_type": "execute_result"
    },
    {
     "data": {
      "image/png": "[encoded data removed]",
      "text/plain": [
       "<Figure size 432x288 with 1 Axes>"
      ]
     },
     "metadata": {
      "needs_background": "light"
     },
     "output_type": "display_data"
    }
   ],
   "source": [
    "# epitope length\n",
    "# plt.figure(figsize=(15,10))\n",
    "ax = sns.countplot(x=\"antigen.epitope.len\", data=df_human, hue=\"gene\",\n",
    "#                    order=df_human[\"antigen.epitope.len\"].value_counts().iloc[:5].index,\n",
    "                   alpha=.8)\n",
    "ax.set_title('Epitope length distribution per CDR3 chain in human entries (non-spurious)')\n",
    "ax.set_ylabel('Count')\n",
    "ax.set_xlabel('Epitope length')\n",
    "plt.legend(title='Chain', loc='upper right')"
   ]
  },
  {
   "cell_type": "code",
   "execution_count": 63,
   "metadata": {},
   "outputs": [
    {
     "data": {
      "text/plain": [
       "<matplotlib.legend.Legend at 0x7f17d662bf98>"
      ]
     },
     "execution_count": 63,
     "metadata": {},
     "output_type": "execute_result"
    },
    {
     "data": {
      "image/png": "[encoded data removed]",
      "text/plain": [
       "<Figure size 432x288 with 1 Axes>"
      ]
     },
     "metadata": {
      "needs_background": "light"
     },
     "output_type": "display_data"
    }
   ],
   "source": [
    "# cdr3 length\n",
    "plt.figure()#figsize=(15,10))\n",
    "ax = sns.countplot(x=\"cdr3.len\", data=df_human, hue=\"gene\", alpha=.8)\n",
    "ax.set_title('CDR3 length distribution per chain in human entries (non-spurious)')\n",
    "ax.set_ylabel('Count')\n",
    "ax.set_xlabel('CDR3 length')\n",
    "plt.legend(title='Chain', loc='upper right')"
   ]
  },
  {
   "cell_type": "code",
   "execution_count": 64,
   "metadata": {},
   "outputs": [
    {
     "data": {
      "text/plain": [
       "<matplotlib.legend.Legend at 0x7f17d6ccec50>"
      ]
     },
     "execution_count": 64,
     "metadata": {},
     "output_type": "execute_result"
    },
    {
     "data": {
      "image/png": "[encoded data removed]",
      "text/plain": [
       "<Figure size 432x288 with 1 Axes>"
      ]
     },
     "metadata": {
      "needs_background": "light"
     },
     "output_type": "display_data"
    }
   ],
   "source": [
    "# cdr3 length\n",
    "plt.figure()#figsize=(15,10))\n",
    "ax = sns.countplot(x=\"cdr3.len\", hue=\"mhc.class\", data=df_human,\n",
    "                   alpha=.8)\n",
    "ax.set_title('CDR3 length distribution per MHC class in human entries (non-spurious)')\n",
    "ax.set_ylabel('Count')\n",
    "ax.set_xlabel('CDR3 length')\n",
    "plt.legend(title='MHC class', loc='upper right')"
   ]
  },
  {
   "cell_type": "code",
   "execution_count": 65,
   "metadata": {},
   "outputs": [
    {
     "data": {
      "text/plain": [
       "KLGGALQAK     24041\n",
       "NLVPMVATV      6514\n",
       "GILGFVFTL      6389\n",
       "AVFDRKSDAK     3175\n",
       "ELAGIGILTV     1624\n",
       "              ...  \n",
       "MLWGYLQYV         1\n",
       "LLFGFPVYV         1\n",
       "LLFGYPRYV         1\n",
       "LLFGYPVAV         1\n",
       "ELAGIGALTV        1\n",
       "Name: antigen.epitope, Length: 177, dtype: int64"
      ]
     },
     "execution_count": 65,
     "metadata": {},
     "output_type": "execute_result"
    }
   ],
   "source": [
    "# pairs per epitope\n",
    "\n",
    "# df_human.groupby(\"antigen.epitope\").size()\n",
    "df_human[\"antigen.epitope\"].value_counts()"
   ]
  },
  {
   "cell_type": "code",
   "execution_count": 66,
   "metadata": {},
   "outputs": [
    {
     "data": {
      "image/png": "[encoded data removed]",
      "text/plain": [
       "<Figure size 432x288 with 1 Axes>"
      ]
     },
     "metadata": {
      "needs_background": "light"
     },
     "output_type": "display_data"
    }
   ],
   "source": [
    "fig, ax = plt.subplots()#figsize=(10,5))\n",
    "plt.xticks(rotation=45, ha=\"right\")\n",
    "sns.countplot(ax=ax, x='antigen.epitope', \n",
    "                   order=df_human[\"antigen.epitope\"].value_counts().iloc[:20].index, \n",
    "                   data=df_human, \n",
    "                   edgecolor=\".2\", linewidth=.5, alpha=.75, color=sns.color_palette(\"Set1\")[1])\n",
    "plt.show()"
   ]
  },
  {
   "cell_type": "code",
   "execution_count": 67,
   "metadata": {},
   "outputs": [
    {
     "data": {
      "text/plain": [
       "<matplotlib.legend.Legend at 0x7f17d71d9fd0>"
      ]
     },
     "execution_count": 67,
     "metadata": {},
     "output_type": "execute_result"
    },
    {
     "data": {
      "image/png": "[encoded data removed]",
      "text/plain": [
       "<Figure size 432x288 with 1 Axes>"
      ]
     },
     "metadata": {
      "needs_background": "light"
     },
     "output_type": "display_data"
    }
   ],
   "source": [
    "plt.figure()#figsize=(15,10))\n",
    "plt.xticks(rotation=45)\n",
    "ax = sns.countplot(x=\"antigen.epitope\", hue=\"gene\",\n",
    "                   order=df_human[\"antigen.epitope\"].value_counts().iloc[:20].index, \n",
    "                   data=df_human, \n",
    "                   edgecolor=\".2\", linewidth=.5, alpha=.75, color=sns.color_palette(\"Set1\")[1])\n",
    "ax.set_title('Epitope distribution per CDR3 chain in human entries (non-spurious)')\n",
    "ax.set_ylabel('Count')\n",
    "ax.set_xlabel('Epitope')\n",
    "plt.legend(title='Chain', loc='upper right')"
   ]
  },
  {
   "cell_type": "markdown",
   "metadata": {},
   "source": [
    "## Human TRB CDR3-epitope pairs\n",
    "\n",
    "- Duplicates removed (last operation)\n",
    "- Spurious sequences removed\n",
    "- Only human\n",
    "- Only TRB CDR3 sequences"
   ]
  },
  {
   "cell_type": "code",
   "execution_count": 68,
   "metadata": {},
   "outputs": [],
   "source": [
    "# Human TRRB\n",
    "# DONT DO THIS IN REVERSE ORDER: some entries appear to be duplicate pairs, but with differing chain / fix / species\n",
    "df_human_trb = df.loc[ (df[\"species\"] == \"HomoSapiens\") & (df[\"gene\"] == \"TRB\") & (df[\"cdr3fix.good\"]) ]\n",
    "df_human_trb = df_human_trb.drop_duplicates(columns)\n",
    "\n",
    "# also read in the data using the preprocessing script once, since it performs various checks\n",
    "df_test = preprocess_vdjdb.filter_vdjdb(vdjdb_normal_path, tcr_chain=\"TRB\", species=\"human\", drop_spurious=True, mhc=\"all\", hla=\"all\")\n",
    "assert df_test.equals(df_human_trb[columns])"
   ]
  },
  {
   "cell_type": "code",
   "execution_count": 69,
   "metadata": {},
   "outputs": [
    {
     "data": {
      "image/png": "[encoded data removed]",
      "text/plain": [
       "<Figure size 432x288 with 1 Axes>"
      ]
     },
     "metadata": {
      "needs_background": "light"
     },
     "output_type": "display_data"
    }
   ],
   "source": [
    "ax = sns.countplot(x=\"mhc.a\", \n",
    "                   order=df_human_trb[\"mhc.a\"].value_counts().iloc[:5].index, \n",
    "                   data=df_human_trb, \n",
    "                   alpha=.75)"
   ]
  },
  {
   "cell_type": "code",
   "execution_count": 70,
   "metadata": {},
   "outputs": [
    {
     "data": {
      "image/png": "[encoded data removed]",
      "text/plain": [
       "<Figure size 432x288 with 1 Axes>"
      ]
     },
     "metadata": {
      "needs_background": "light"
     },
     "output_type": "display_data"
    }
   ],
   "source": [
    "# epitope length\n",
    "plt.figure()#figsize=(15,10))\n",
    "ax = sns.countplot(x=\"antigen.epitope.len\", data=df_human_trb,\n",
    "#                    order=df_human[\"antigen.epitope.len\"].value_counts().iloc[:5].index,\n",
    "                   alpha=.75)"
   ]
  },
  {
   "cell_type": "code",
   "execution_count": 71,
   "metadata": {},
   "outputs": [
    {
     "data": {
      "image/png": "[encoded data removed]",
      "text/plain": [
       "<Figure size 432x288 with 1 Axes>"
      ]
     },
     "metadata": {
      "needs_background": "light"
     },
     "output_type": "display_data"
    }
   ],
   "source": [
    "# cdr3 length\n",
    "plt.figure()#figsize=(15,10))\n",
    "ax = sns.countplot(x=\"cdr3.len\", data=df_human_trb,\n",
    "                   alpha=.75)"
   ]
  },
  {
   "cell_type": "code",
   "execution_count": 72,
   "metadata": {},
   "outputs": [
    {
     "data": {
      "image/png": "[encoded data removed]",
      "text/plain": [
       "<Figure size 432x288 with 1 Axes>"
      ]
     },
     "metadata": {
      "needs_background": "light"
     },
     "output_type": "display_data"
    }
   ],
   "source": [
    "plt.figure()#figsize=(15,10))\n",
    "plt.xticks(rotation=45, ha=\"right\")\n",
    "ax = sns.countplot(x=\"antigen.epitope\",\n",
    "                   order=df_human_trb[\"antigen.epitope\"].value_counts().iloc[:20].index, \n",
    "                   data=df_human_trb, \n",
    "                   alpha=.75, \n",
    "                   color=sns.color_palette(\"Set1\")[1])"
   ]
  },
  {
   "cell_type": "code",
   "execution_count": 73,
   "metadata": {},
   "outputs": [
    {
     "data": {
      "text/plain": [
       "KLGGALQAK         12615\n",
       "NLVPMVATV          4421\n",
       "GILGFVFTL          3385\n",
       "AVFDRKSDAK         1641\n",
       "ELAGIGILTV         1292\n",
       "                  ...  \n",
       "LLFGPVYV              1\n",
       "HPVGDADYFEY           1\n",
       "APQPELPYPQPG          1\n",
       "PKYVKQNTLKLAR         1\n",
       "VHFFKNIVTPRTPG        1\n",
       "Name: antigen.epitope, Length: 175, dtype: int64"
      ]
     },
     "execution_count": 73,
     "metadata": {},
     "output_type": "execute_result"
    }
   ],
   "source": [
    "df_human_trb[\"antigen.epitope\"].value_counts()"
   ]
  },
  {
   "cell_type": "markdown",
   "metadata": {},
   "source": [
    "The over-abundant `KLGGALQAK` epitope makes up almost 40% of the human TRB unique data."
   ]
  },
  {
   "cell_type": "code",
   "execution_count": 74,
   "metadata": {},
   "outputs": [
    {
     "data": {
      "text/plain": [
       "0.38650081191212965"
      ]
     },
     "execution_count": 74,
     "metadata": {},
     "output_type": "execute_result"
    }
   ],
   "source": [
    "12615/df_human_trb.shape[0]"
   ]
  },
  {
   "cell_type": "markdown",
   "metadata": {},
   "source": [
    "## 10x data exploration"
   ]
  },
  {
   "cell_type": "code",
   "execution_count": 75,
   "metadata": {
    "scrolled": true
   },
   "outputs": [
    {
     "data": {
      "text/plain": [
       "antigen.epitope\n",
       "KLGGALQAK      13921\n",
       "AVFDRKSDAK      1750\n",
       "GILGFVFTL       1339\n",
       "RAKFKQLL        1234\n",
       "IVTDFSVIK        718\n",
       "RLRAEAQVK        430\n",
       "ELAGIGILTV       328\n",
       "GLCTLVAML        137\n",
       "RTLNAWVKV         47\n",
       "AYAQKIFKI         39\n",
       "FLYALALLL         38\n",
       "SLFNTVATLY        38\n",
       "FLASKIGRLV        34\n",
       "LLFGYPVYV         34\n",
       "LLDFVRFMGV        26\n",
       "FLRGRAYGL         23\n",
       "KTWGQYWQV         16\n",
       "CYTWNQMNL         15\n",
       "QYDPVAALF         14\n",
       "MLDLQPETT         14\n",
       "YLLEMLWRL         13\n",
       "IMDQVPFSV         12\n",
       "KVLEYVIKV          8\n",
       "YLNDHLEPWI         7\n",
       "IPSINVHHY          7\n",
       "CLLWSFQTSA         7\n",
       "RMFPNAPYL          7\n",
       "SLLMWITQV          6\n",
       "SLFNTVATL          5\n",
       "QPRAPIRPI          5\n",
       "CLLGTYTQDV         3\n",
       "RPPIFIRRL          3\n",
       "ELRRKMMYM          2\n",
       "SLYNTVATLY         2\n",
       "NLVPMVATV          2\n",
       "KLQCVDLHV          1\n",
       "RPHERNGFTVL        1\n",
       "ILKEPVHGV          1\n",
       "TPRVTGGGAM         1\n",
       "RIAAWMATY          1\n",
       "VTEHDTLLY          1\n",
       "KVAELVHFL          1\n",
       "dtype: int64"
      ]
     },
     "execution_count": 75,
     "metadata": {},
     "output_type": "execute_result"
    }
   ],
   "source": [
    "df_human_trb_10x_only = df.loc[(df[\"species\"] == \"HomoSapiens\") & \n",
    "                          (df[\"gene\"] == \"TRB\") & \n",
    "                          (df[\"cdr3fix.good\"]) & \n",
    "                          (df[\"reference.id\"].str.contains(\"10x\"))]\n",
    "df_human_trb_10x_only.groupby(\"antigen.epitope\").size().sort_values(ascending=False)"
   ]
  },
  {
   "cell_type": "code",
   "execution_count": 76,
   "metadata": {
    "scrolled": false
   },
   "outputs": [
    {
     "data": {
      "image/png": "[encoded data removed]",
      "text/plain": [
       "<Figure size 432x288 with 1 Axes>"
      ]
     },
     "metadata": {
      "needs_background": "light"
     },
     "output_type": "display_data"
    }
   ],
   "source": [
    "plt.figure()#figsize=(15,10))\n",
    "plt.xticks(rotation=45)\n",
    "ax = sns.countplot(x=\"antigen.epitope\",\n",
    "                   order=df_human_trb_10x_only[\"antigen.epitope\"].value_counts().iloc[:20].index, \n",
    "                   data=df_human_trb_10x_only,\n",
    "                   alpha=.75, \n",
    "                   color=sns.color_palette(\"Set1\")[1])"
   ]
  },
  {
   "cell_type": "markdown",
   "metadata": {},
   "source": [
    "Which epitopes occur exclusively in the 10x data?"
   ]
  },
  {
   "cell_type": "code",
   "execution_count": 77,
   "metadata": {},
   "outputs": [
    {
     "data": {
      "text/plain": [
       "array(['KLGGALQAK', 'CYTWNQMNL', 'RIAAWMATY', 'SLFNTVATLY', 'RLRAEAQVK',\n",
       "       'LLDFVRFMGV', 'AYAQKIFKI', 'FLYALALLL', 'FLASKIGRLV', 'MLDLQPETT',\n",
       "       'IMDQVPFSV', 'YLLEMLWRL', 'KVLEYVIKV', 'RTLNAWVKV', 'KTWGQYWQV',\n",
       "       'YLNDHLEPWI', 'QPRAPIRPI', 'SLFNTVATL', 'CLLWSFQTSA', 'CLLGTYTQDV',\n",
       "       'KVAELVHFL', 'SLYNTVATLY', 'KLQCVDLHV'], dtype=object)"
      ]
     },
     "execution_count": 77,
     "metadata": {},
     "output_type": "execute_result"
    }
   ],
   "source": [
    "import numpy as np\n",
    "df_human_trb_10x_only[\"antigen.epitope\"].unique()[~np.isin(df_human_trb_10x_only[\"antigen.epitope\"].unique(),\n",
    "                         df.loc[(df[\"species\"] == \"HomoSapiens\") & \n",
    "                          (df[\"gene\"] == \"TRB\") & \n",
    "                          (df[\"cdr3fix.good\"]) & \n",
    "                          ~(df[\"reference.id\"].str.contains(\"10x\"))]\n",
    "       )\n",
    "]"
   ]
  },
  {
   "cell_type": "code",
   "execution_count": 78,
   "metadata": {},
   "outputs": [
    {
     "data": {
      "text/plain": [
       "False"
      ]
     },
     "execution_count": 78,
     "metadata": {},
     "output_type": "execute_result"
    }
   ],
   "source": [
    "\"KLGGALQAK\" in df.loc[(df[\"species\"] == \"HomoSapiens\") & \n",
    "                          (df[\"gene\"] == \"TRB\") & \n",
    "                          (df[\"cdr3fix.good\"]) & \n",
    "                          ~(df[\"reference.id\"].str.contains(\"10x\")), \"antigen.epitope\"].values"
   ]
  },
  {
   "cell_type": "markdown",
   "metadata": {},
   "source": [
    "Which epitopes do occur in both the 10x and non-10x data?"
   ]
  },
  {
   "cell_type": "code",
   "execution_count": 79,
   "metadata": {},
   "outputs": [
    {
     "data": {
      "text/plain": [
       "array(['ELAGIGILTV', 'IVTDFSVIK', 'AVFDRKSDAK', 'RAKFKQLL', 'GILGFVFTL',\n",
       "       'RMFPNAPYL', 'GLCTLVAML', 'LLFGYPVYV', 'SLLMWITQV', 'IPSINVHHY',\n",
       "       'QYDPVAALF', 'FLRGRAYGL', 'TPRVTGGGAM', 'ILKEPVHGV', 'RPHERNGFTVL',\n",
       "       'RPPIFIRRL', 'NLVPMVATV', 'VTEHDTLLY', 'ELRRKMMYM'], dtype=object)"
      ]
     },
     "execution_count": 79,
     "metadata": {},
     "output_type": "execute_result"
    }
   ],
   "source": [
    "df_human_trb_10x_only[\"antigen.epitope\"].unique()[np.isin(df_human_trb_10x_only[\"antigen.epitope\"].unique(),\n",
    "                         df.loc[(df[\"species\"] == \"HomoSapiens\") & \n",
    "                          (df[\"gene\"] == \"TRB\") & \n",
    "                          (df[\"cdr3fix.good\"]) & \n",
    "                          ~(df[\"reference.id\"].str.contains(\"10x\"))]\n",
    "       )\n",
    "]"
   ]
  },
  {
   "cell_type": "markdown",
   "metadata": {},
   "source": [
    "## Removing over-abundant 10x data entries"
   ]
  },
  {
   "cell_type": "code",
   "execution_count": 80,
   "metadata": {},
   "outputs": [],
   "source": [
    "# read in data again from scratch, because duplicate removal before additional filtering can mess up the results\n",
    "# Human TRB 10x\n",
    "df_human_trb_10xKLGGALQAK = df.loc[(df[\"species\"] == \"HomoSapiens\") & \n",
    "                                   (df[\"gene\"] == \"TRB\") & \n",
    "                                   (df[\"cdr3fix.good\"]) ]\n",
    "# df_human_trb_10x = df_human_trb_10x.drop_duplicates(columns) # do this after removing everything else"
   ]
  },
  {
   "cell_type": "markdown",
   "metadata": {},
   "source": [
    "The over-abundant `KLGGALQAK` epitope originates **entirely** from the 10xgenomics data."
   ]
  },
  {
   "cell_type": "code",
   "execution_count": 81,
   "metadata": {},
   "outputs": [
    {
     "data": {
      "text/plain": [
       "(20291, 57)"
      ]
     },
     "execution_count": 81,
     "metadata": {},
     "output_type": "execute_result"
    }
   ],
   "source": [
    "# df_human_trb.loc[df_human_trb[\"reference.id\"].str.contains(\"10xgenomics.com\")]\n",
    "df_human_trb_10xKLGGALQAK.loc[df_human_trb_10xKLGGALQAK[\"reference.id\"] == \"https://www.10xgenomics.com/resources/application-notes/a-new-way-of-exploring-immunity-linking-highly-multiplexed-antigen-recognition-to-immune-repertoire-and-phenotype/#\"].shape"
   ]
  },
  {
   "cell_type": "code",
   "execution_count": 82,
   "metadata": {
    "scrolled": true
   },
   "outputs": [
    {
     "data": {
      "text/plain": [
       "KLGGALQAK     13921\n",
       "AVFDRKSDAK     1750\n",
       "GILGFVFTL      1339\n",
       "RAKFKQLL       1234\n",
       "IVTDFSVIK       718\n",
       "RLRAEAQVK       430\n",
       "ELAGIGILTV      328\n",
       "GLCTLVAML       137\n",
       "RTLNAWVKV        47\n",
       "AYAQKIFKI        39\n",
       "Name: antigen.epitope, dtype: int64"
      ]
     },
     "execution_count": 82,
     "metadata": {},
     "output_type": "execute_result"
    }
   ],
   "source": [
    "df_human_trb_10xKLGGALQAK.loc[df_human_trb_10xKLGGALQAK[\"reference.id\"] == \"https://www.10xgenomics.com/resources/application-notes/a-new-way-of-exploring-immunity-linking-highly-multiplexed-antigen-recognition-to-immune-repertoire-and-phenotype/#\"].groupby(\"antigen.epitope\").size().sort_values(ascending=False)\n",
    "df_human_trb_10xKLGGALQAK.loc[df_human_trb_10xKLGGALQAK[\"reference.id\"] == \\\n",
    "                 \"https://www.10xgenomics.com/resources/application-notes/a-new-way-of-exploring-immunity-linking-highly-multiplexed-antigen-recognition-to-immune-repertoire-and-phenotype/#\",\\\n",
    "                 \"antigen.epitope\"].value_counts()[:10]"
   ]
  },
  {
   "cell_type": "markdown",
   "metadata": {},
   "source": [
    "**All of the `KLGGALQAK` entries are derived from the 10x source.**"
   ]
  },
  {
   "cell_type": "code",
   "execution_count": 83,
   "metadata": {},
   "outputs": [],
   "source": [
    "assert df_human_trb_10xKLGGALQAK.loc[ (df_human_trb_10xKLGGALQAK[\"antigen.epitope\"] == \"KLGGALQAK\") ].shape[0] == \\\n",
    "        df_human_trb_10xKLGGALQAK.loc[ (df_human_trb_10xKLGGALQAK[\"antigen.epitope\"] == \"KLGGALQAK\") & (df_human_trb_10xKLGGALQAK[\"reference.id\"] == \\\n",
    "                 \"https://www.10xgenomics.com/resources/application-notes/a-new-way-of-exploring-immunity-linking-highly-multiplexed-antigen-recognition-to-immune-repertoire-and-phenotype/#\")].shape[0]"
   ]
  },
  {
   "cell_type": "code",
   "execution_count": 84,
   "metadata": {},
   "outputs": [
    {
     "data": {
      "text/plain": [
       "reference.id\n",
       "https://www.10xgenomics.com/resources/application-notes/a-new-way-of-exploring-immunity-linking-highly-multiplexed-antigen-recognition-to-immune-repertoire-and-phenotype/#    13921\n",
       "dtype: int64"
      ]
     },
     "execution_count": 84,
     "metadata": {},
     "output_type": "execute_result"
    }
   ],
   "source": [
    "df_human_trb_10xKLGGALQAK.loc[(df_human_trb_10xKLGGALQAK[\"antigen.epitope\"] == \"KLGGALQAK\")].groupby(\"reference.id\").size()"
   ]
  },
  {
   "cell_type": "markdown",
   "metadata": {},
   "source": [
    "Removing this epitope, and then filtering out any remaining duplicates, results in the following statistics:"
   ]
  },
  {
   "cell_type": "code",
   "execution_count": 85,
   "metadata": {},
   "outputs": [],
   "source": [
    "df_human_trb_10xKLGGALQAK = df_human_trb_10xKLGGALQAK.loc[~ (df_human_trb_10xKLGGALQAK[\"antigen.epitope\"] == \"KLGGALQAK\") |\n",
    "                 ~ (df_human_trb_10xKLGGALQAK[\"reference.id\"] == \\\n",
    "                 \"https://www.10xgenomics.com/resources/application-notes/a-new-way-of-exploring-immunity-linking-highly-multiplexed-antigen-recognition-to-immune-repertoire-and-phenotype/#\") ]\n",
    "df_human_trb_10xKLGGALQAK = df_human_trb_10xKLGGALQAK.drop_duplicates(columns)"
   ]
  },
  {
   "cell_type": "code",
   "execution_count": 86,
   "metadata": {},
   "outputs": [
    {
     "data": {
      "text/plain": [
       "(20024, 57)"
      ]
     },
     "execution_count": 86,
     "metadata": {},
     "output_type": "execute_result"
    }
   ],
   "source": [
    "df_human_trb_10xKLGGALQAK.shape"
   ]
  },
  {
   "cell_type": "code",
   "execution_count": 87,
   "metadata": {},
   "outputs": [
    {
     "ename": "TypeError",
     "evalue": "filter_vdjdb() got an unexpected keyword argument 'specific_removal'",
     "output_type": "error",
     "traceback": [
      "\u001b[0;31m---------------------------------------------------------------------------\u001b[0m",
      "\u001b[0;31mTypeError\u001b[0m                                 Traceback (most recent call last)",
      "\u001b[0;32m<ipython-input-87-a175c447348b>\u001b[0m in \u001b[0;36m<module>\u001b[0;34m\u001b[0m\n\u001b[1;32m      2\u001b[0m df_test = preprocess_vdjdb.filter_vdjdb(vdjdb_normal_path, tcr_chain=\"TRB\", species=\"human\", \n\u001b[1;32m      3\u001b[0m                                         \u001b[0mspecific_removal\u001b[0m\u001b[0;34m=\u001b[0m\u001b[0;34m[\u001b[0m\u001b[0;34m\"KLGGALQAK\"\u001b[0m\u001b[0;34m,\u001b[0m \u001b[0;34m\"https://www.10xgenomics.com/resources/application-notes/a-new-way-of-exploring-immunity-linking-highly-multiplexed-antigen-recognition-to-immune-repertoire-and-phenotype/#\"\u001b[0m\u001b[0;34m]\u001b[0m\u001b[0;34m,\u001b[0m\u001b[0;34m\u001b[0m\u001b[0;34m\u001b[0m\u001b[0m\n\u001b[0;32m----> 4\u001b[0;31m                                         drop_spurious=True, mhc=\"all\", hla=\"all\")\n\u001b[0m\u001b[1;32m      5\u001b[0m \u001b[0;32massert\u001b[0m \u001b[0mdf_test\u001b[0m\u001b[0;34m.\u001b[0m\u001b[0mequals\u001b[0m\u001b[0;34m(\u001b[0m\u001b[0mdf_human_trb_10xKLGGALQAK\u001b[0m\u001b[0;34m[\u001b[0m\u001b[0mcolumns\u001b[0m\u001b[0;34m]\u001b[0m\u001b[0;34m)\u001b[0m\u001b[0;34m\u001b[0m\u001b[0;34m\u001b[0m\u001b[0m\n",
      "\u001b[0;31mTypeError\u001b[0m: filter_vdjdb() got an unexpected keyword argument 'specific_removal'"
     ]
    }
   ],
   "source": [
    "# also read in the data using the preprocessing script once, since it performs various checks\n",
    "df_test = preprocess_vdjdb.filter_vdjdb(vdjdb_normal_path, tcr_chain=\"TRB\", species=\"human\", \n",
    "                                        specific_removal=[\"KLGGALQAK\", \"https://www.10xgenomics.com/resources/application-notes/a-new-way-of-exploring-immunity-linking-highly-multiplexed-antigen-recognition-to-immune-repertoire-and-phenotype/#\"], \n",
    "                                        drop_spurious=True, mhc=\"all\", hla=\"all\")\n",
    "assert df_test.equals(df_human_trb_10xKLGGALQAK[columns])"
   ]
  },
  {
   "cell_type": "code",
   "execution_count": null,
   "metadata": {},
   "outputs": [],
   "source": [
    "ax = sns.countplot(x=\"mhc.a\", \n",
    "                   order=df_human_trb_10xKLGGALQAK[\"mhc.a\"].value_counts().iloc[:5].index, \n",
    "                   data=df_human_trb_10xKLGGALQAK, alpha=.8)"
   ]
  },
  {
   "cell_type": "code",
   "execution_count": null,
   "metadata": {},
   "outputs": [],
   "source": [
    "# epitope length\n",
    "plt.figure()#figsize=(15,10))\n",
    "ax = sns.countplot(x=\"antigen.epitope.len\", data=df_human_trb_10xKLGGALQAK,\n",
    "#                    order=df_human_trb_10xKLGGALQAK[\"antigen.epitope.len\"].value_counts().iloc[:5].index,\n",
    "                   alpha=.8)\n",
    "ax.set_title('Epitope length distribution in human TRB entries (non-spurious, no 10x data)')\n",
    "ax.set_ylabel('Count')\n",
    "ax.set_xlabel('Epitope length')"
   ]
  },
  {
   "cell_type": "code",
   "execution_count": null,
   "metadata": {},
   "outputs": [],
   "source": [
    "# epitope length per mhc\n",
    "plt.figure()#figsize=(15,10))\n",
    "ax = sns.countplot(x=\"antigen.epitope.len\", hue=\"mhc.class\", data=df_human_trb_10xKLGGALQAK,\n",
    "#                    order=df_human_trb_10xKLGGALQAK[\"antigen.epitope.len\"].value_counts().iloc[:5].index,\n",
    "                   alpha=.8)\n",
    "ax.set_title('Epitope length distribution per MHC class in human TRB entries (non-spurious, no 10x data)')\n",
    "ax.set_ylabel('Count')\n",
    "ax.set_xlabel('Epitope length')\n",
    "plt.legend(title='MHC class', loc='upper right')"
   ]
  },
  {
   "cell_type": "code",
   "execution_count": null,
   "metadata": {
    "scrolled": false
   },
   "outputs": [],
   "source": [
    "# cdr3 length\n",
    "plt.figure()#figsize=(15,10))\n",
    "ax = sns.countplot(x=\"cdr3.len\", data=df_human_trb_10xKLGGALQAK,\n",
    "                   alpha=.8)\n",
    "ax.set_title('CDR3 length distribution in human TRB entries (non-spurious, no 10x data)')\n",
    "ax.set_ylabel('Count')\n",
    "ax.set_xlabel('CDR3 length')"
   ]
  },
  {
   "cell_type": "code",
   "execution_count": null,
   "metadata": {},
   "outputs": [],
   "source": [
    "# cdr3 length\n",
    "plt.figure()#figsize=(15,10))\n",
    "ax = sns.countplot(x=\"cdr3.len\", hue=\"mhc.class\", data=df_human_trb_10xKLGGALQAK,\n",
    "                   alpha=.8)\n",
    "ax.set_title('CDR3 length distribution per MHC class in human TRB entries (non-spurious, no 10x data)')\n",
    "ax.set_ylabel('Count')\n",
    "ax.set_xlabel('CDR3 length')\n",
    "plt.legend(title='MHC class', loc='upper right')"
   ]
  },
  {
   "cell_type": "markdown",
   "metadata": {},
   "source": [
    "The number of MHCII entries is a lot lower after removing the overabundant 10x epitope."
   ]
  },
  {
   "cell_type": "code",
   "execution_count": null,
   "metadata": {},
   "outputs": [],
   "source": [
    "plt.figure()#figsize=(15,10))\n",
    "plt.xticks(rotation=45)\n",
    "ax = sns.countplot(x=\"antigen.epitope\",\n",
    "                   order=df_human_trb_10xKLGGALQAK[\"antigen.epitope\"].value_counts().iloc[:20].index, \n",
    "                   data=df_human_trb_10xKLGGALQAK, \n",
    "                   edgecolor=\".2\", linewidth=.5, alpha=.75, color=sns.color_palette(\"Set1\")[1])"
   ]
  },
  {
   "cell_type": "markdown",
   "metadata": {},
   "source": [
    "## How much data is lost due to filtering on spurious entries?"
   ]
  },
  {
   "cell_type": "markdown",
   "metadata": {},
   "source": [
    "Only a few hundred entries are omitted when filtering on spurious entries."
   ]
  },
  {
   "cell_type": "code",
   "execution_count": null,
   "metadata": {},
   "outputs": [],
   "source": [
    "df_human_trb_10xKLGGALQAK = df.loc[ (df[\"species\"] == \"HomoSapiens\") & (df[\"gene\"] == \"TRB\") & (df[\"cdr3fix.good\"]) ]\n",
    "df_human_trb_10xKLGGALQAK = df_human_trb_10xKLGGALQAK.loc[~ (df_human_trb_10xKLGGALQAK[\"antigen.epitope\"] == \"KLGGALQAK\") |\n",
    "                 ~ (df_human_trb_10xKLGGALQAK[\"reference.id\"] == \\\n",
    "                 \"https://www.10xgenomics.com/resources/application-notes/a-new-way-of-exploring-immunity-linking-highly-multiplexed-antigen-recognition-to-immune-repertoire-and-phenotype/#\") ]\n",
    "df_human_trb_10xKLGGALQAK.drop_duplicates(columns).shape"
   ]
  },
  {
   "cell_type": "code",
   "execution_count": null,
   "metadata": {},
   "outputs": [],
   "source": [
    "df_human_trb_10xKLGGALQAK_withspurious = df.loc[ (df[\"species\"] == \"HomoSapiens\") & (df[\"gene\"] == \"TRB\") ]\n",
    "df_human_trb_10xKLGGALQAK_withspurious = df_human_trb_10xKLGGALQAK_withspurious.loc[~ (df_human_trb_10xKLGGALQAK_withspurious[\"antigen.epitope\"] == \"KLGGALQAK\") |\n",
    "                 ~ (df_human_trb_10xKLGGALQAK_withspurious[\"reference.id\"] == \\\n",
    "                 \"https://www.10xgenomics.com/resources/application-notes/a-new-way-of-exploring-immunity-linking-highly-multiplexed-antigen-recognition-to-immune-repertoire-and-phenotype/#\") ]\n",
    "df_human_trb_10xKLGGALQAK_withspurious.drop_duplicates(columns).shape"
   ]
  },
  {
   "cell_type": "markdown",
   "metadata": {},
   "source": [
    "# Create figures for filtered data (including length restrictions)"
   ]
  },
  {
   "cell_type": "markdown",
   "metadata": {},
   "source": [
    "Currently, the length restrictions happen during the training step, so in order to get accurate statistics on the dataset these have to be excluded manually first."
   ]
  },
  {
   "cell_type": "code",
   "execution_count": null,
   "metadata": {},
   "outputs": [],
   "source": [
    "df_human_no10x = df.loc[(df[\"species\"] == \"HomoSapiens\") & \n",
    "#                                  (df[\"gene\"] == \"TRB\") & \n",
    "                                 (df[\"cdr3fix.good\"]) & \n",
    "                                 ~(df[\"reference.id\"].str.contains(\"10x\"))]\n",
    "\n",
    "df_human_no10x_size = df_human_no10x.loc[ (df_human_no10x[\"antigen.epitope\"].str.len() >= 8) &\n",
    "                                                 (df_human_no10x[\"antigen.epitope\"].str.len() <= 13) &\n",
    "                                                 (df_human_no10x[\"cdr3\"].str.len() >= 10) &\n",
    "                                                 (df_human_no10x[\"cdr3\"].str.len() <= 20)]\n",
    "\n",
    "df_human_no10x_size = df_human_no10x_size.drop_duplicates(columns)\n",
    "\n",
    "print(f\"Restricting on size reduced the number of unique pairs from {df_human_no10x.drop_duplicates(columns).shape[0]} to {df_human_no10x_size.shape[0]}.\")\n",
    "print(f\"In other words, {df_human_no10x.drop_duplicates(columns).shape[0] - df_human_no10x_size.shape[0]} entries (or {(df_human_no10x.drop_duplicates(columns).shape[0] - df_human_no10x_size.shape[0]) / df_human_no10x.drop_duplicates(columns).shape[0]} %) were dropped.\")"
   ]
  },
  {
   "cell_type": "code",
   "execution_count": null,
   "metadata": {},
   "outputs": [],
   "source": [
    "df_human_trb_no10x = df.loc[(df[\"species\"] == \"HomoSapiens\") & \n",
    "                                 (df[\"gene\"] == \"TRB\") & \n",
    "                                 (df[\"cdr3fix.good\"]) & \n",
    "                                 ~(df[\"reference.id\"].str.contains(\"10x\"))]\n",
    "\n",
    "df_human_trb_no10x_size = df_human_trb_no10x.loc[ (df_human_trb_no10x[\"antigen.epitope\"].str.len() >= 8) &\n",
    "                                                 (df_human_trb_no10x[\"antigen.epitope\"].str.len() <= 13) &\n",
    "                                                 (df_human_trb_no10x[\"cdr3\"].str.len() >= 10) &\n",
    "                                                 (df_human_trb_no10x[\"cdr3\"].str.len() <= 20)]\n",
    "\n",
    "df_human_trb_no10x_size = df_human_trb_no10x_size.drop_duplicates(columns)\n",
    "\n",
    "print(f\"Restricting on size reduced the number of unique pairs from {df_human_trb_no10x.drop_duplicates(columns).shape[0]} to {df_human_trb_no10x_size.shape[0]}.\")\n",
    "print(f\"In other words, {df_human_trb_no10x.drop_duplicates(columns).shape[0] - df_human_trb_no10x_size.shape[0]} entries (or {(df_human_trb_no10x.drop_duplicates(columns).shape[0] - df_human_trb_no10x_size.shape[0]) / df_human_trb_no10x.drop_duplicates(columns).shape[0]} %) were dropped.\")"
   ]
  },
  {
   "cell_type": "code",
   "execution_count": null,
   "metadata": {},
   "outputs": [],
   "source": [
    "df_human_trb_no10x = df.loc[(df[\"species\"] == \"HomoSapiens\") & \n",
    "                                 (df[\"gene\"] == \"TRB\") & \n",
    "                                 (df[\"cdr3fix.good\"]) & \n",
    "                                 ~(df[\"reference.id\"].str.contains(\"10x\"))]\n",
    "\n",
    "# does this matter? Using df indices rather than new df_human_trb_no10x?\n",
    "df_human_trb_no10x_size = df_human_trb_no10x.loc[ (df[\"antigen.epitope\"].str.len() >= 8) &\n",
    "                                                 (df[\"antigen.epitope\"].str.len() <= 13) &\n",
    "                                                 (df[\"cdr3\"].str.len() >= 10) &\n",
    "                                                 (df[\"cdr3\"].str.len() <= 20)]\n",
    "\n",
    "df_human_trb_no10x_size = df_human_trb_no10x_size.drop_duplicates(columns)\n",
    "\n",
    "print(f\"Restricting on size reduced the number of unique pairs from {df_human_trb_no10x.drop_duplicates(columns).shape[0]} to {df_human_trb_no10x_size.shape[0]}.\")\n",
    "print(f\"In other words, {df_human_trb_no10x.drop_duplicates(columns).shape[0] - df_human_trb_no10x_size.shape[0]} entries (or {(df_human_trb_no10x.drop_duplicates(columns).shape[0] - df_human_trb_no10x_size.shape[0]) / df_human_trb_no10x.drop_duplicates(columns).shape[0]} %) were dropped.\")"
   ]
  },
  {
   "cell_type": "markdown",
   "metadata": {},
   "source": [
    "## Comparison to Dean et al. negative reference TCR set"
   ]
  },
  {
   "cell_type": "code",
   "execution_count": null,
   "metadata": {},
   "outputs": [],
   "source": [
    "negative_ref_path = PROJECT_ROOT / \"data/raw/CDR3_control_sequences.tsv\"\n",
    "df_negative = pd.read_csv(negative_ref_path, sep=\"\\t\")\n",
    "df_negative[\"cdr3.len\"] = df_negative[\"CDR3_beta\"].str.len()\n",
    "\n",
    "print(df_negative.shape)\n",
    "print(df_negative.drop_duplicates(subset=\"CDR3_beta\").shape)"
   ]
  },
  {
   "cell_type": "code",
   "execution_count": null,
   "metadata": {
    "scrolled": true
   },
   "outputs": [],
   "source": [
    "df_negative = df_negative.loc[(df_negative[\"cdr3.len\"] >= 10) &\n",
    "                              (df_negative[\"cdr3.len\"] <= 20)]\n",
    "print(df_negative.shape)\n",
    "print(df_negative.drop_duplicates(subset=\"CDR3_beta\").shape)"
   ]
  },
  {
   "cell_type": "code",
   "execution_count": null,
   "metadata": {},
   "outputs": [],
   "source": [
    "len(set(df_negative[\"CDR3_beta\"]).intersection(df_human_no10x_size[\"cdr3\"]))"
   ]
  },
  {
   "cell_type": "markdown",
   "metadata": {},
   "source": [
    "## TRB only"
   ]
  },
  {
   "cell_type": "markdown",
   "metadata": {},
   "source": [
    "### Epitope and CDR3 length distribution"
   ]
  },
  {
   "cell_type": "code",
   "execution_count": null,
   "metadata": {},
   "outputs": [],
   "source": [
    "df_human_trb_no10x_size.shape"
   ]
  },
  {
   "cell_type": "markdown",
   "metadata": {},
   "source": [
    "#### No grouping"
   ]
  },
  {
   "cell_type": "code",
   "execution_count": null,
   "metadata": {
    "scrolled": false
   },
   "outputs": [],
   "source": [
    "fig, axs = plt.subplots(2, dpi=200)#, figsize = (15,10))\n",
    "fig.subplots_adjust(hspace=.4)\n",
    "\n",
    "# cdr3 length\n",
    "sns.countplot(x=\"cdr3.len\", data=df_human_no10x_size,\n",
    "              alpha=.8,\n",
    "#               palette=sns.color_palette(\"BuGn_r\", 18),\n",
    "              color=sns.color_palette(\"BuGn_r\")[2],\n",
    "              ax=axs[0])\n",
    "# epitope length\n",
    "sns.countplot(x=\"antigen.epitope.len\", data=df_human_no10x_size,\n",
    "#                    order=df_human_trb_10x[\"antigen.epitope.len\"].value_counts().iloc[:5].index,\n",
    "              alpha=.8,\n",
    "#               color=sns.color_palette(\"Set1\")[1],\n",
    "#               palette=sns.color_palette(\"BuGn_r\", 10),\n",
    "              color=sns.color_palette(\"BuGn_r\")[2],\n",
    "              ax=axs[1])\n",
    "\n",
    "# axs[1].set_title('Epitope length distribution')#, fontsize = 14)\n",
    "# axs[0].set_title('CDR3 length distribution')#, fontsize = 14)\n",
    "axs[0].set_title('Sequence length distribution')\n",
    "axs[0].set_ylabel('Count')\n",
    "axs[1].set_ylabel('Count')\n",
    "axs[0].set_xlabel('CDR3 length')\n",
    "axs[1].set_xlabel('Epitope length')\n",
    "# plt.legend(title='MHC class', loc='upper right')\n",
    "\n",
    "# plt.savefig(PROJECT_ROOT / \"reports/figures/length-distribution.png\")\n",
    "# plt.savefig(PROJECT_ROOT / \"reports/figures/length-distribution.pdf\")\n",
    "# bbox_inches='tight'"
   ]
  },
  {
   "cell_type": "markdown",
   "metadata": {},
   "source": [
    "#### Per MHC:"
   ]
  },
  {
   "cell_type": "code",
   "execution_count": null,
   "metadata": {},
   "outputs": [],
   "source": [
    "fig, axs = plt.subplots(2, dpi=200, figsize=(8,8))#, figsize = (15,10))\n",
    "fig.subplots_adjust(hspace=.4)\n",
    "\n",
    "# cdr3 length\n",
    "sns.countplot(x=\"cdr3.len\", hue=\"mhc.class\", data=df_human_trb_no10x_size,\n",
    "              alpha=.8,\n",
    "              palette=sns.color_palette(\"BuGn_r\", 2),\n",
    "#               color=sns.color_palette(\"BuGn_r\")[2],\n",
    "              ax=axs[0])\n",
    "# epitope length\n",
    "sns.countplot(x=\"antigen.epitope.len\", hue=\"mhc.class\", data=df_human_trb_no10x_size,\n",
    "#                    order=df_human_trb_10x[\"antigen.epitope.len\"].value_counts().iloc[:5].index,\n",
    "              alpha=.8,\n",
    "#               color=sns.color_palette(\"Set1\")[1],\n",
    "              palette=sns.color_palette(\"BuGn_r\", 2),\n",
    "#               color=sns.color_palette(\"BuGn_r\")[2],\n",
    "              ax=axs[1])\n",
    "\n",
    "# axs[1].set_title('Epitope length distribution', fontsize = 14)\n",
    "# axs[0].set_title('CDR3 length distribution', fontsize = 14)\n",
    "axs[0].set_title('Sequence length distribution for TRB chains')\n",
    "axs[0].set_ylabel('Log count')\n",
    "axs[1].set_ylabel('Log count')\n",
    "axs[0].set_xlabel('CDR3 length')\n",
    "axs[1].set_xlabel('Epitope length')\n",
    "\n",
    "axs[0].set(yscale=\"log\")\n",
    "axs[1].set(yscale=\"log\")\n",
    "\n",
    "ax.set_title('CDR3 length distribution per MHC class in human TRB entries (non-spurious, no 10x data)')\n",
    "ax.set_ylabel('Count')\n",
    "ax.set_xlabel('CDR3 length')\n",
    "axs[0].legend(title='MHC class', loc='upper right')\n",
    "axs[1].legend(title='MHC class', loc='upper right')\n",
    "\n",
    "\n",
    "# plt.legend(title='MHC class', loc='upper right')"
   ]
  },
  {
   "cell_type": "markdown",
   "metadata": {},
   "source": [
    "The length distribution of the epitopes of MHCII differs drastically from the non-filtered data."
   ]
  },
  {
   "cell_type": "code",
   "execution_count": null,
   "metadata": {},
   "outputs": [],
   "source": [
    "df_human_trb.groupby([\"mhc.class\", \"antigen.epitope.len\"]).size()"
   ]
  },
  {
   "cell_type": "code",
   "execution_count": null,
   "metadata": {
    "scrolled": true
   },
   "outputs": [],
   "source": [
    "df_human_trb_no10x_size.groupby([\"mhc.class\", \"antigen.epitope.len\"]).size()"
   ]
  },
  {
   "cell_type": "markdown",
   "metadata": {},
   "source": [
    "## Can MHCI and MHCII share epitopes?"
   ]
  },
  {
   "cell_type": "code",
   "execution_count": null,
   "metadata": {},
   "outputs": [],
   "source": [
    "set(df.loc[df[\"mhc.class\"] == \"MHCI\", \"antigen.epitope\"].unique()).intersection(df.loc[df[\"mhc.class\"] == \"MHCII\", \"antigen.epitope\"].unique())"
   ]
  },
  {
   "cell_type": "markdown",
   "metadata": {},
   "source": [
    "Technically there is an overlap in the length distribution, but no epitopes are shared in the VDJdb dataset."
   ]
  },
  {
   "cell_type": "markdown",
   "metadata": {},
   "source": [
    "## TRB and TRA"
   ]
  },
  {
   "cell_type": "markdown",
   "metadata": {},
   "source": [
    "### Epitope counts"
   ]
  },
  {
   "cell_type": "code",
   "execution_count": null,
   "metadata": {},
   "outputs": [],
   "source": [
    "len(df[\"antigen.epitope\"].unique())"
   ]
  },
  {
   "cell_type": "code",
   "execution_count": null,
   "metadata": {},
   "outputs": [],
   "source": [
    "len(df_human_no10x[\"antigen.epitope\"].unique())"
   ]
  },
  {
   "cell_type": "code",
   "execution_count": null,
   "metadata": {},
   "outputs": [],
   "source": [
    "len(df_human_no10x_size[\"antigen.epitope\"].unique())"
   ]
  },
  {
   "cell_type": "code",
   "execution_count": null,
   "metadata": {
    "scrolled": true
   },
   "outputs": [],
   "source": [
    "df_human_no10x_size.groupby(\"antigen.epitope\").size().sort_values(ascending=False)"
   ]
  },
  {
   "cell_type": "code",
   "execution_count": null,
   "metadata": {},
   "outputs": [],
   "source": [
    "df_human_no10x_size.groupby(\"antigen.epitope\").size().sort_values(ascending=False).plot.hist()"
   ]
  },
  {
   "cell_type": "code",
   "execution_count": null,
   "metadata": {},
   "outputs": [],
   "source": [
    "ax = sns.distplot(df_human_no10x_size.groupby(\"antigen.epitope\").size().sort_values(ascending=False), kde=False)#, bins=500)\n",
    "#                    order=df_human_no10x_size[\"antigen.epitope\"].value_counts().iloc[:20].index, \n",
    "#                    data=df_human_no10x_size, \n",
    "#                    edgecolor=\".2\", linewidth=.5, \n",
    "#                    alpha=.8, color=sns.color_palette(\"Set1\")[0])\n",
    "\n",
    "# ax.set(yscale=\"log\")"
   ]
  },
  {
   "cell_type": "code",
   "execution_count": null,
   "metadata": {},
   "outputs": [],
   "source": [
    "ax = sns.countplot(x=df_human_no10x_size.groupby(\"antigen.epitope\").size().sort_values(ascending=False),\n",
    "#                    order=df_human_no10x_size[\"antigen.epitope\"].value_counts().iloc[:20].index, \n",
    "#                    data=df_human_no10x_size, \n",
    "#                    edgecolor=\".2\", linewidth=.5, \n",
    "                   alpha=.8, color=sns.color_palette(\"Set1\")[0])"
   ]
  },
  {
   "cell_type": "code",
   "execution_count": null,
   "metadata": {},
   "outputs": [],
   "source": [
    "plt.figure(figsize=(15,10))\n",
    "plt.xticks(rotation=45, ha='right')\n",
    "ax = sns.countplot(x=\"antigen.epitope\",\n",
    "                   order=df_human_no10x_size[\"antigen.epitope\"].value_counts().index, \n",
    "                   data=df_human_no10x_size, \n",
    "#                    edgecolor=\".2\", linewidth=.5, \n",
    "                   alpha=.8, color=sns.color_palette(\"Set1\")[0])"
   ]
  },
  {
   "cell_type": "code",
   "execution_count": null,
   "metadata": {},
   "outputs": [],
   "source": [
    "plt.figure()#figsize=(15,10))\n",
    "plt.xticks(rotation=45, ha='right')\n",
    "ax = sns.countplot(x=\"antigen.epitope\",\n",
    "                   order=df_human_no10x_size[\"antigen.epitope\"].value_counts().iloc[:20].index, \n",
    "                   data=df_human_no10x_size, \n",
    "#                    edgecolor=\".2\", linewidth=.5, \n",
    "                   alpha=.8, color=sns.color_palette(\"Set1\")[0])"
   ]
  },
  {
   "cell_type": "markdown",
   "metadata": {},
   "source": [
    "#### Combined figure - histogram of abundances and epitope counts"
   ]
  },
  {
   "cell_type": "code",
   "execution_count": null,
   "metadata": {},
   "outputs": [],
   "source": [
    "from matplotlib.gridspec import GridSpec\n",
    "\n",
    "# fig, axs = plt.subplots(nrows=3, ncols=2, squeeze=False, dpi=200, figsize=(10,8))#, figsize = (15,10))\n",
    "# fig.subplots_adjust(hspace=.3, wspace=.3)\n",
    "\n",
    "fig = plt.figure(constrained_layout=True, dpi=200, figsize=(10,5))\n",
    "gs = GridSpec(1, 2, figure=fig)\n",
    "ax1 = fig.add_subplot(gs[0, 0])\n",
    "ax2 = fig.add_subplot(gs[0, 1])\n",
    "\n",
    "# epitope distribution\n",
    "sns.countplot(x=\"antigen.epitope\",\n",
    "                   order=df_human_no10x_size[\"antigen.epitope\"].value_counts().iloc[:30].index, \n",
    "                   data=df_human_no10x_size, \n",
    "#                    edgecolor=\".2\", linewidth=.5, \n",
    "              alpha=.8,color=\"#23373b\",\n",
    "#               color=[\"#23373b\"],\n",
    "#               color=sns.color_palette(\"Set1\")[0],\n",
    "             ax=ax1)\n",
    "ax1.tick_params(labelrotation=90)\n",
    "\n",
    "# #23373b\n",
    "\n",
    "ax1.set_title('Epitope abundance (30 out of 154)')\n",
    "ax1.set_xlabel('Epitope')\n",
    "ax1.set_ylabel(\"Cout\")\n",
    "\n",
    "\n",
    "# cdr3 length - TRB\n",
    "# sns.countplot(x=\"cdr3.len\", hue=\"mhc.class\",\n",
    "#               data=df_human_no10x_size.loc[df_human_no10x_size[\"gene\"]==\"TRB\"],\n",
    "#               alpha=.8, palette=sns.color_palette(\"BuGn_r\", 3),\n",
    "#               ax=ax1)\n",
    "\n",
    "\n",
    "\n",
    "sns.distplot(df_human_no10x_size.groupby(\"antigen.epitope\").size().sort_values(ascending=False), \n",
    "             kde=False, \n",
    "             color=\"#23373b\",\n",
    "             ax=ax2)#, bins=500)\n",
    "#                    order=df_human_no10x_size[\"antigen.epitope\"].value_counts().iloc[:20].index, \n",
    "#                    data=df_human_no10x_size, \n",
    "#                    edgecolor=\".2\", linewidth=.5, \n",
    "#                    alpha=.8, color=sns.color_palette(\"Set1\")[0])\n",
    "# ax.set(yscale=\"log\")\n",
    "\n",
    "ax2.set_title('Number of epitopes with a specific abundance')\n",
    "ax2.set_xlabel('Epitope frequency')\n",
    "ax2.set_ylabel('Number of epitopes')\n",
    "ax2.set(yscale=\"log\")\n",
    "ax2.legend(title=\"154 unique epitopes\", loc='upper right')\n",
    "\n",
    "\n",
    "# [i.set_ylabel(\"Log count\") for i in [ax1,ax2,ax3,ax4] ]\n",
    "# [i.set(yscale=\"log\") for i in [ax1,ax2,ax3,ax4]]\n",
    "# [i.legend(title='MHC class', loc='upper right') for i in [ax1,ax2,ax3,ax4] ]\n",
    "\n",
    "\n",
    "# # plt.xticks(rotation=90)#, ha='right')\n",
    "\n",
    "# ax5.set_title('Epitope distribution per TCR chain')\n",
    "# ax5.set_ylabel('Count')\n",
    "# ax5.set_xlabel('Epitope')\n",
    "# ax5.legend(title='TCR chain', loc='upper right')\n",
    "\n",
    "plt.savefig(PROJECT_ROOT / \"reports/figures/epitope-distribution.pdf\", bbox_inches=\"tight\")"
   ]
  },
  {
   "cell_type": "markdown",
   "metadata": {},
   "source": [
    "## MHC distribution"
   ]
  },
  {
   "cell_type": "code",
   "execution_count": null,
   "metadata": {},
   "outputs": [],
   "source": [
    "plt.figure()#figsize=(15,10))\n",
    "plt.xticks(rotation=45)\n",
    "ax = sns.countplot(x=\"mhc.a\", order=df_human_no10x_size[\"mhc.a\"].value_counts().iloc[:30].index, data=df_human_no10x_size, edgecolor=\".2\", linewidth=.5, alpha=.75)"
   ]
  },
  {
   "cell_type": "code",
   "execution_count": null,
   "metadata": {
    "scrolled": false
   },
   "outputs": [],
   "source": [
    "# fig, axs = plt.subplots(2, figsize = (15,10))\n",
    "# axs[0].tick_params(axis='x', labelrotation=30)\n",
    "# plt.xticks(ha='right')\n",
    "# axs[1].tick_params(axis='x', labelrotation=30)\n",
    "# plt.xticks(ha='right')\n",
    "# sns.countplot(x=\"mhc.a\", order=df_human_trb_10x[\"mhc.a\"].value_counts().iloc[:30].index, \n",
    "#                    data=df_human_trb_10x, edgecolor=\".2\", linewidth=.5, alpha=.75,\n",
    "#                   ax=axs[0])\n",
    "# sns.countplot(x=\"mhc.a\", order=df_human_trb_10x[\"mhc.a\"].value_counts().iloc[-30:].index, \n",
    "#                    data=df_human_trb_10x, edgecolor=\".2\", linewidth=.5, alpha=.75,\n",
    "#                   ax=axs[1])"
   ]
  },
  {
   "cell_type": "markdown",
   "metadata": {},
   "source": [
    "## Combined figure"
   ]
  },
  {
   "cell_type": "markdown",
   "metadata": {},
   "source": [
    "### Simple figure"
   ]
  },
  {
   "cell_type": "code",
   "execution_count": null,
   "metadata": {},
   "outputs": [],
   "source": [
    "len(df_human_no10x_size[\"antigen.epitope\"].unique())"
   ]
  },
  {
   "cell_type": "code",
   "execution_count": null,
   "metadata": {},
   "outputs": [],
   "source": [
    "len(df_human_trb_no10x_size[\"antigen.epitope\"].unique())"
   ]
  },
  {
   "cell_type": "code",
   "execution_count": null,
   "metadata": {},
   "outputs": [],
   "source": [
    "fig, axs = plt.subplots(3, dpi=200, figsize = (10,8))\n",
    "fig.subplots_adjust(hspace=.5)\n",
    "\n",
    "# cdr3 length\n",
    "sns.countplot(x=\"cdr3.len\", hue=\"gene\", data=df_human_no10x_size,\n",
    "              alpha=.8,palette=sns.color_palette(\"BuGn_r\", 3),\n",
    "#               color=sns.color_palette(\"BuGn_r\")[2],\n",
    "              ax=axs[0])\n",
    "# epitope length\n",
    "sns.countplot(x=\"antigen.epitope.len\", hue=\"gene\", data=df_human_no10x_size,\n",
    "              alpha=.8,palette=sns.color_palette(\"BuGn_r\", 3),\n",
    "#               color=sns.color_palette(\"BuGn_r\")[2],\n",
    "              ax=axs[1])\n",
    "\n",
    "\n",
    "axs[0].set_title('CDR3 length distribution')\n",
    "axs[1].set_title('Epitope length distribution')\n",
    "axs[0].set_ylabel('Interaction count')\n",
    "axs[1].set_ylabel('Interaction count')\n",
    "axs[0].set_xlabel('CDR3 length')\n",
    "axs[1].set_xlabel('Epitope length')\n",
    "axs[0].legend(title='TCR chain', loc='upper right')\n",
    "axs[1].legend(title='TCR chain', loc='upper right')\n",
    "\n",
    "# epitope distribution\n",
    "sns.countplot(x=\"antigen.epitope\", hue=\"gene\",\n",
    "              order=df_human_no10x_size[\"antigen.epitope\"].value_counts().iloc[:30].index, \n",
    "              data=df_human_no10x_size, \n",
    "              alpha=.8, palette=sns.color_palette(\"BuGn_r\", 3),\n",
    "#               color=sns.color_palette(\"BuGn_r\")[1],\n",
    "              ax=axs[2])\n",
    "\n",
    "plt.xticks(rotation=90)#, ha='right')\n",
    "axs[2].set_title('Epitope distribution (top 30 most abundant out of 140)')\n",
    "axs[2].set_ylabel('Interaction count')\n",
    "axs[2].set_xlabel('Epitope')\n",
    "axs[2].legend(title='TCR chain', loc='upper right')\n",
    "\n",
    "import string\n",
    "for n, ax in enumerate(axs):\n",
    "    ax.text(-0.1, 1.1, string.ascii_uppercase[n], transform=ax.transAxes, \n",
    "            size=20, weight='bold')\n",
    "    \n",
    "\n",
    "plt.savefig(PROJECT_ROOT / \"reports/figures/vdjdb-distribution-simple.png\", bbox_inches=\"tight\")\n",
    "plt.savefig(PROJECT_ROOT / \"reports/figures/vdjdb-distribution-simple.pdf\", bbox_inches=\"tight\")"
   ]
  },
  {
   "cell_type": "markdown",
   "metadata": {},
   "source": [
    "### Length only"
   ]
  },
  {
   "cell_type": "code",
   "execution_count": null,
   "metadata": {
    "scrolled": true
   },
   "outputs": [],
   "source": [
    "df_human_no10x_size.groupby(\"gene\").size()"
   ]
  },
  {
   "cell_type": "code",
   "execution_count": null,
   "metadata": {},
   "outputs": [],
   "source": [
    "from matplotlib.gridspec import GridSpec\n",
    "\n",
    "fig, axs = plt.subplots(nrows=2, ncols=2, squeeze=False, dpi=200, figsize=(10,8))#, figsize = (15,10))\n",
    "fig.subplots_adjust(hspace=.3, wspace=.3)\n",
    "\n",
    "\n",
    "# cdr3 length - TRB\n",
    "sns.countplot(x=\"cdr3.len\", hue=\"mhc.class\",\n",
    "              data=df_human_no10x_size.loc[df_human_no10x_size[\"gene\"]==\"TRB\"],\n",
    "              alpha=.8, palette=sns.color_palette(\"BuGn_r\", 2),\n",
    "              ax=axs[0,0])\n",
    "# epitope length - TRB\n",
    "sns.countplot(x=\"antigen.epitope.len\", hue=\"mhc.class\",\n",
    "              data=df_human_no10x_size.loc[df_human_no10x_size[\"gene\"]==\"TRB\"],\n",
    "              alpha=.8, palette=sns.color_palette(\"BuGn_r\", 2),\n",
    "              ax=axs[1,0])\n",
    "# cdr3 length - TRA\n",
    "sns.countplot(x=\"cdr3.len\", hue=\"mhc.class\",\n",
    "              data=df_human_no10x_size.loc[df_human_no10x_size[\"gene\"]==\"TRA\"],\n",
    "              alpha=.8, palette=sns.color_palette(\"BuGn_r\", 2),\n",
    "              ax=axs[0,1])\n",
    "# epitope length - TRA\n",
    "sns.countplot(x=\"antigen.epitope.len\", hue=\"mhc.class\",\n",
    "              data=df_human_no10x_size.loc[df_human_no10x_size[\"gene\"]==\"TRA\"],\n",
    "              alpha=.8, palette=sns.color_palette(\"BuGn_r\", 2),\n",
    "              ax=axs[1,1])\n",
    "\n",
    "[axs[i,j].set_ylabel(\"Log count\") for i in range(2) for j in range(2) ]\n",
    "[axs[i,j].set(yscale=\"log\") for i in range(2) for j in range(2) ]\n",
    "[axs[i,j].legend(title='MHC class', loc='upper right') for i in range(2) for j in range(2) ]\n",
    "\n",
    "axs[1,0].set_title('Epitope length distribution for TRB genes')\n",
    "axs[1,1].set_title('Epitope length distribution for TRA genes')\n",
    "axs[1,0].set_xlabel('Epitope length')\n",
    "axs[1,1].set_xlabel('Epitope length')\n",
    "\n",
    "axs[0,1].set_title('CDR3 length distribution for TRB genes')\n",
    "axs[0,0].set_title('CDR3 length distribution for TRA genes')\n",
    "axs[0,1].set_xlabel('CDR3 length')\n",
    "axs[0,0].set_xlabel('CDR3 length')"
   ]
  },
  {
   "cell_type": "markdown",
   "metadata": {},
   "source": [
    "### Chain split and per-figure MHC"
   ]
  },
  {
   "cell_type": "code",
   "execution_count": null,
   "metadata": {},
   "outputs": [],
   "source": [
    "df_human_no10x_size.groupby(\"mhc.class\").size()"
   ]
  },
  {
   "cell_type": "code",
   "execution_count": null,
   "metadata": {},
   "outputs": [],
   "source": [
    "df_human_no10x_size.groupby(\"gene\").size()"
   ]
  },
  {
   "cell_type": "code",
   "execution_count": null,
   "metadata": {},
   "outputs": [],
   "source": [
    "from matplotlib.gridspec import GridSpec\n",
    "\n",
    "# fig, axs = plt.subplots(nrows=3, ncols=2, squeeze=False, dpi=200, figsize=(10,8))#, figsize = (15,10))\n",
    "# fig.subplots_adjust(hspace=.3, wspace=.3)\n",
    "\n",
    "fig = plt.figure(constrained_layout=True, dpi=200, figsize=(12,10))\n",
    "gs = GridSpec(3, 2, figure=fig)\n",
    "ax1 = fig.add_subplot(gs[0, 0])\n",
    "ax2 = fig.add_subplot(gs[0, 1])\n",
    "ax3 = fig.add_subplot(gs[1, 0])\n",
    "ax4 = fig.add_subplot(gs[1, 1])\n",
    "ax5 = fig.add_subplot(gs[2, :])\n",
    "\n",
    "\n",
    "# cdr3 length - TRB\n",
    "sns.countplot(x=\"cdr3.len\", hue=\"mhc.class\",\n",
    "              data=df_human_no10x_size.loc[df_human_no10x_size[\"gene\"]==\"TRB\"],\n",
    "              alpha=.8, palette=sns.color_palette(\"BuGn_r\", 3),\n",
    "              ax=ax1)\n",
    "# epitope length - TRB\n",
    "sns.countplot(x=\"antigen.epitope.len\", hue=\"mhc.class\",\n",
    "              data=df_human_no10x_size.loc[df_human_no10x_size[\"gene\"]==\"TRB\"],\n",
    "              alpha=.8, palette=sns.color_palette(\"BuGn_r\", 3),\n",
    "              ax=ax2)\n",
    "# cdr3 length - TRA\n",
    "sns.countplot(x=\"cdr3.len\", hue=\"mhc.class\",\n",
    "              data=df_human_no10x_size.loc[df_human_no10x_size[\"gene\"]==\"TRA\"],\n",
    "              alpha=.8, palette=sns.color_palette(\"BuGn_r\", 3),\n",
    "              ax=ax3)\n",
    "# epitope length - TRA\n",
    "sns.countplot(x=\"antigen.epitope.len\", hue=\"mhc.class\",\n",
    "              data=df_human_no10x_size.loc[df_human_no10x_size[\"gene\"]==\"TRA\"],\n",
    "              alpha=.8, palette=sns.color_palette(\"BuGn_r\", 3),\n",
    "              ax=ax4)\n",
    "\n",
    "[i.set_ylabel(\"Log count\") for i in [ax1,ax2,ax3,ax4] ]\n",
    "[i.set(yscale=\"log\") for i in [ax1,ax2,ax3,ax4]]\n",
    "[i.legend(title='MHC class', loc='upper right') for i in [ax1,ax2,ax3,ax4] ]\n",
    "\n",
    "ax2.set_title('Epitope length distribution for TRB genes')\n",
    "ax4.set_title('Epitope length distribution for TRA genes')\n",
    "ax2.set_xlabel('Epitope length')\n",
    "ax4.set_xlabel('Epitope length')\n",
    "\n",
    "ax1.set_title('CDR3 length distribution for TRB genes')\n",
    "ax3.set_title('CDR3 length distribution for TRA genes')\n",
    "ax1.set_xlabel('CDR3 length')\n",
    "ax3.set_xlabel('CDR3 length')\n",
    "\n",
    "# epitope distribution\n",
    "sns.countplot(x=\"antigen.epitope\", hue=\"gene\",\n",
    "              order=df_human_no10x_size[\"antigen.epitope\"].value_counts().iloc[:30].index, \n",
    "              data=df_human_no10x_size, \n",
    "              alpha=.8, palette=sns.color_palette(\"BuGn_r\", 3),\n",
    "#               color=sns.color_palette(\"BuGn_r\")[1],\n",
    "              ax=ax5)\n",
    "\n",
    "plt.xticks(rotation=90)#, ha='right')\n",
    "\n",
    "ax5.set_title('Epitope distribution per TCR chain')\n",
    "ax5.set_ylabel('Count')\n",
    "ax5.set_xlabel('Epitope')\n",
    "ax5.legend(title='TCR chain', loc='upper right')\n",
    "\n",
    "import string\n",
    "for n, ax in enumerate(fig.axes):\n",
    "    ax.text(-0.1, 1.1, string.ascii_uppercase[n], transform=ax.transAxes, \n",
    "            size=20, weight='bold')\n",
    "\n",
    "plt.savefig(PROJECT_ROOT / \"reports/figures/vdjdb-distribution-chainsplit.png\")\n",
    "plt.savefig(PROJECT_ROOT / \"reports/figures/vdjdb-distribution-chainsplit.pdf\", bbox_inches=\"tight\")\n",
    "# bbox_inches='tight'"
   ]
  },
  {
   "cell_type": "markdown",
   "metadata": {},
   "source": [
    "### MHC split and per-figure chains + more details"
   ]
  },
  {
   "cell_type": "code",
   "execution_count": null,
   "metadata": {},
   "outputs": [],
   "source": [
    "from matplotlib.gridspec import GridSpec\n",
    "\n",
    "# fig, axs = plt.subplots(nrows=3, ncols=2, squeeze=False, dpi=200, figsize=(10,8))#, figsize = (15,10))\n",
    "# fig.subplots_adjust(hspace=.3, wspace=.3)\n",
    "\n",
    "fig = plt.figure(constrained_layout=True, dpi=200, figsize=(12,16))\n",
    "gs = GridSpec(5, 2, figure=fig)\n",
    "ax1 = fig.add_subplot(gs[0, 0])\n",
    "ax2 = fig.add_subplot(gs[0, 1])\n",
    "ax3 = fig.add_subplot(gs[1, 0])\n",
    "ax4 = fig.add_subplot(gs[1, 1])\n",
    "ax5 = fig.add_subplot(gs[2, :])\n",
    "ax6 = fig.add_subplot(gs[3, :])\n",
    "ax7 = fig.add_subplot(gs[4, :])\n",
    "\n",
    "\n",
    "# cdr3 length - TRB\n",
    "sns.countplot(x=\"cdr3.len\", hue=\"gene\",\n",
    "              data=df_human_no10x_size.loc[df_human_no10x_size[\"mhc.class\"]==\"MHCI\"],\n",
    "              alpha=.8, palette=sns.color_palette(\"BuGn_r\", 3),\n",
    "              ax=ax1)\n",
    "# epitope length - TRB\n",
    "sns.countplot(x=\"antigen.epitope.len\", hue=\"gene\",\n",
    "              data=df_human_no10x_size.loc[df_human_no10x_size[\"mhc.class\"]==\"MHCI\"],\n",
    "              alpha=.8, palette=sns.color_palette(\"BuGn_r\", 3),\n",
    "              ax=ax2)\n",
    "# cdr3 length - TRA\n",
    "sns.countplot(x=\"cdr3.len\", hue=\"gene\",\n",
    "              data=df_human_no10x_size.loc[df_human_no10x_size[\"mhc.class\"]==\"MHCII\"],\n",
    "              alpha=.8, palette=sns.color_palette(\"BuGn_r\", 3),\n",
    "              ax=ax3)\n",
    "# epitope length - TRA\n",
    "sns.countplot(x=\"antigen.epitope.len\", hue=\"gene\",\n",
    "              data=df_human_no10x_size.loc[df_human_no10x_size[\"mhc.class\"]==\"MHCII\"],\n",
    "              alpha=.8, palette=sns.color_palette(\"BuGn_r\", 3),\n",
    "              ax=ax4)\n",
    "\n",
    "[i.set_ylabel(\"Interaction count\") for i in [ax1,ax2,ax3,ax4] ]\n",
    "# [i.set(yscale=\"log\") for i in [ax1,ax2,ax3,ax4]]\n",
    "[i.legend(title='TCR chain', loc='upper left') for i in [ax1,ax2,ax3,ax4] ]\n",
    "\n",
    "ax2.set_title('Epitope length distribution for MHCI')\n",
    "ax4.set_title('Epitope length distribution for MHCII')\n",
    "ax2.set_xlabel('Epitope length')\n",
    "ax4.set_xlabel('Epitope length')\n",
    "\n",
    "ax1.set_title('CDR3 length distribution for MHCI')\n",
    "ax3.set_title('CDR3 length distribution for MHCII')\n",
    "ax1.set_xlabel('CDR3 length')\n",
    "ax3.set_xlabel('CDR3 length')\n",
    "\n",
    "# epitope distribution\n",
    "sns.countplot(x=\"antigen.epitope\", hue=\"gene\",\n",
    "              order=df_human_no10x_size[\"antigen.epitope\"].value_counts().iloc[:30].index, \n",
    "              data=df_human_no10x_size, \n",
    "              alpha=.8, palette=sns.color_palette(\"BuGn_r\", 3),\n",
    "#               color=sns.color_palette(\"BuGn_r\")[1],\n",
    "              ax=ax5)\n",
    "\n",
    "ax5.tick_params(labelrotation=90)\n",
    "ax5.set_title('Epitope distribution (top 30 most abundant out of 140)')\n",
    "ax5.set_ylabel('Interaction count')\n",
    "ax5.set_xlabel('Epitope')\n",
    "ax5.legend(title='TCR chain', loc='upper right')\n",
    "\n",
    "# MHC distribution A\n",
    "sns.countplot(x=\"mhc.a\",hue=\"gene\",\n",
    "                order=df_human_no10x_size[\"mhc.a\"].value_counts().index, \n",
    "                data=df_human_no10x_size, \n",
    "                palette=sns.color_palette(\"BuGn_r\", 3),\n",
    "                alpha=.8,\n",
    "             ax=ax6)\n",
    "\n",
    "ax6.tick_params(labelrotation=90)\n",
    "ax6.set_ylabel('Interaction count')\n",
    "ax6.set_xlabel('First MHC chain')\n",
    "ax6.set_title('First MHC chain allele distribution')\n",
    "ax6.legend(title='TCR chain', loc='upper right')\n",
    "\n",
    "\n",
    "# MHC distribution B\n",
    "sns.countplot(x=\"mhc.b\",hue=\"gene\",\n",
    "                order=df_human_no10x_size[\"mhc.b\"].value_counts().index, \n",
    "                data=df_human_no10x_size, \n",
    "                palette=sns.color_palette(\"BuGn_r\", 3),\n",
    "                alpha=.8,\n",
    "             ax=ax7)\n",
    "\n",
    "ax7.tick_params(labelrotation=90)\n",
    "ax7.set_ylabel('Log interaction count')\n",
    "ax7.set_xlabel('Second MHC chain')\n",
    "ax7.set_title('Second MHC chain allele distribution')\n",
    "ax7.legend(title='TCR chain', loc='upper right')\n",
    "ax7.set(yscale=\"log\")\n",
    "\n",
    "import string\n",
    "for n, ax in enumerate(fig.axes):\n",
    "    ax.text(-0.1, 1.1, string.ascii_uppercase[n], transform=ax.transAxes, \n",
    "            size=20, weight='bold')\n",
    "\n",
    "plt.savefig(PROJECT_ROOT / \"reports/figures/vdjdb-distribution-detailed.png\")\n",
    "plt.savefig(PROJECT_ROOT / \"reports/figures/vdjdb-distribution-detailed.pdf\", bbox_inches=\"tight\")"
   ]
  },
  {
   "cell_type": "markdown",
   "metadata": {},
   "source": [
    "## Dean reference set TCR distribution"
   ]
  },
  {
   "cell_type": "code",
   "execution_count": null,
   "metadata": {},
   "outputs": [],
   "source": [
    "plt.figure()#figsize=(15,10))\n",
    "plt.xticks(rotation=45, ha='right')\n",
    "ax = sns.countplot(x=\"CDR3_beta\",\n",
    "                   order=df_negative[\"CDR3_beta\"].value_counts().iloc[:30].index, \n",
    "                   data=df_negative, \n",
    "#                    edgecolor=\".2\", linewidth=.5, \n",
    "                   alpha=.8, color=sns.color_palette(\"Set1\")[0])"
   ]
  },
  {
   "cell_type": "code",
   "execution_count": null,
   "metadata": {},
   "outputs": [],
   "source": [
    "plt.figure()#figsize=(15,10))\n",
    "plt.xticks(rotation=45, ha='right')\n",
    "ax = sns.countplot(x=\"CDR3_beta\",\n",
    "                   order=df_negative[\"CDR3_beta\"].value_counts().iloc[:-30:-1].index, \n",
    "                   data=df_negative, \n",
    "#                    edgecolor=\".2\", linewidth=.5, \n",
    "                   alpha=.8, color=sns.color_palette(\"Set1\")[0])"
   ]
  },
  {
   "cell_type": "code",
   "execution_count": null,
   "metadata": {},
   "outputs": [],
   "source": [
    "sns.distplot(df_negative.groupby(\"CDR3_beta\").size().sort_values(ascending=False), \n",
    "             kde=False, \n",
    "             color=\"#23373b\")"
   ]
  },
  {
   "cell_type": "code",
   "execution_count": null,
   "metadata": {},
   "outputs": [],
   "source": [
    "df_negative.groupby(\"CDR3_beta\").size().sort_values(ascending=False).value_counts()"
   ]
  },
  {
   "cell_type": "code",
   "execution_count": null,
   "metadata": {},
   "outputs": [],
   "source": [
    "df_negative.shape"
   ]
  },
  {
   "cell_type": "code",
   "execution_count": null,
   "metadata": {},
   "outputs": [],
   "source": [
    "df_negative.drop_duplicates().shape"
   ]
  },
  {
   "cell_type": "code",
   "execution_count": null,
   "metadata": {},
   "outputs": [],
   "source": [
    "df_negative[\"CDR3_beta\"].shape"
   ]
  },
  {
   "cell_type": "code",
   "execution_count": null,
   "metadata": {
    "scrolled": true
   },
   "outputs": [],
   "source": [
    "df_negative[\"CDR3_beta\"].drop_duplicates().shape"
   ]
  },
  {
   "cell_type": "code",
   "execution_count": null,
   "metadata": {},
   "outputs": [],
   "source": [
    "df_negative.drop_duplicates(subset=\"CDR3_beta\").shape"
   ]
  },
  {
   "cell_type": "markdown",
   "metadata": {},
   "source": [
    "# TODO\n",
    "\n",
    "Restrict on MHCI class, because our length restriction basically cuts out the majority of MHCII."
   ]
  },
  {
   "cell_type": "code",
   "execution_count": null,
   "metadata": {},
   "outputs": [],
   "source": [
    "from matplotlib.gridspec import GridSpec\n",
    "\n",
    "# fig, axs = plt.subplots(nrows=3, ncols=2, squeeze=False, dpi=200, figsize=(10,8))#, figsize = (15,10))\n",
    "# fig.subplots_adjust(hspace=.3, wspace=.3)\n",
    "\n",
    "fig = plt.figure(constrained_layout=True, dpi=200, figsize=(12,10))\n",
    "gs = GridSpec(3, 2, figure=fig)\n",
    "ax1 = fig.add_subplot(gs[0, 0])\n",
    "ax2 = fig.add_subplot(gs[0, 1])\n",
    "ax3 = fig.add_subplot(gs[1, 0])\n",
    "ax4 = fig.add_subplot(gs[1, 1])\n",
    "ax5 = fig.add_subplot(gs[2, :])\n",
    "\n",
    "\n",
    "# cdr3 length - TRB\n",
    "sns.countplot(x=\"cdr3.len\", hue=\"mhc.class\",\n",
    "              data=df_human.loc[df_human[\"gene\"]==\"TRB\"],\n",
    "              alpha=.8, palette=sns.color_palette(\"BuGn_r\", 3),\n",
    "              ax=ax1)\n",
    "# epitope length - TRB\n",
    "sns.countplot(x=\"antigen.epitope.len\", hue=\"mhc.class\",\n",
    "              data=df_human.loc[df_human[\"gene\"]==\"TRB\"],\n",
    "              alpha=.8, palette=sns.color_palette(\"BuGn_r\", 3),\n",
    "              ax=ax2)\n",
    "# cdr3 length - TRA\n",
    "sns.countplot(x=\"cdr3.len\", hue=\"mhc.class\",\n",
    "              data=df_human.loc[df_human[\"gene\"]==\"TRA\"],\n",
    "              alpha=.8, palette=sns.color_palette(\"BuGn_r\", 3),\n",
    "              ax=ax3)\n",
    "# epitope length - TRA\n",
    "sns.countplot(x=\"antigen.epitope.len\", hue=\"mhc.class\",\n",
    "              data=df_human.loc[df_human[\"gene\"]==\"TRA\"],\n",
    "              alpha=.8, palette=sns.color_palette(\"BuGn_r\", 3),\n",
    "              ax=ax4)\n",
    "\n",
    "[i.set_ylabel(\"Log count\") for i in [ax1,ax2,ax3,ax4] ]\n",
    "[i.set(yscale=\"log\") for i in [ax1,ax2,ax3,ax4]]\n",
    "[i.legend(title='MHC class', loc='upper right') for i in [ax1,ax2,ax3,ax4] ]\n",
    "\n",
    "ax2.set_title('Epitope length distribution for TRB genes')\n",
    "ax4.set_title('Epitope length distribution for TRA genes')\n",
    "ax2.set_xlabel('Epitope length')\n",
    "ax4.set_xlabel('Epitope length')\n",
    "\n",
    "ax1.set_title('CDR3 length distribution for TRB genes')\n",
    "ax3.set_title('CDR3 length distribution for TRA genes')\n",
    "ax1.set_xlabel('CDR3 length')\n",
    "ax3.set_xlabel('CDR3 length')\n",
    "\n",
    "# epitope distribution\n",
    "sns.countplot(x=\"antigen.epitope\", hue=\"gene\",\n",
    "              order=df_human[\"antigen.epitope\"].value_counts().iloc[:30].index, \n",
    "              data=df_human, \n",
    "              alpha=.8, palette=sns.color_palette(\"BuGn_r\", 3),\n",
    "#               color=sns.color_palette(\"BuGn_r\")[1],\n",
    "              ax=ax5)\n",
    "\n",
    "plt.xticks(rotation=90)#, ha='right')\n",
    "\n",
    "ax5.set_title('Epitope distribution per TCR chain')\n",
    "ax5.set_ylabel('Count')\n",
    "ax5.set_xlabel('Epitope')\n",
    "ax5.legend(title='TCR chain', loc='upper right')"
   ]
  },
  {
   "cell_type": "code",
   "execution_count": null,
   "metadata": {},
   "outputs": [],
   "source": []
  },
  {
   "cell_type": "code",
   "execution_count": null,
   "metadata": {},
   "outputs": [],
   "source": [
    "df_human"
   ]
  },
  {
   "cell_type": "code",
   "execution_count": null,
   "metadata": {},
   "outputs": [],
   "source": [
    "len(df_human[\"antigen.epitope\"].unique())"
   ]
  },
  {
   "cell_type": "code",
   "execution_count": null,
   "metadata": {},
   "outputs": [],
   "source": [
    "len(df_human_no10x_size[\"antigen.epitope\"].unique())"
   ]
  },
  {
   "cell_type": "code",
   "execution_count": null,
   "metadata": {},
   "outputs": [],
   "source": []
  },
  {
   "cell_type": "code",
   "execution_count": null,
   "metadata": {},
   "outputs": [],
   "source": []
  },
  {
   "cell_type": "code",
   "execution_count": 89,
   "metadata": {},
   "outputs": [
    {
     "data": {
      "text/plain": [
       "(20646, 57)"
      ]
     },
     "execution_count": 89,
     "metadata": {},
     "output_type": "execute_result"
    }
   ],
   "source": [
    "df_human_no10x = df.loc[(df[\"species\"] == \"HomoSapiens\") & \n",
    "#                                  (df[\"gene\"] == \"TRB\") & \n",
    "                                 (df[\"cdr3fix.good\"]) & \n",
    "                                 ~(df[\"reference.id\"].str.contains(\"10x\"))]\n",
    "\n",
    "df_human_no10x_size = df_human_no10x.loc[ (df_human_no10x[\"antigen.epitope\"].str.len() >= 8) &\n",
    "                                                 (df_human_no10x[\"antigen.epitope\"].str.len() <= 13) &\n",
    "                                                 (df_human_no10x[\"cdr3\"].str.len() >= 10) &\n",
    "                                                 (df_human_no10x[\"cdr3\"].str.len() <= 20)]\n",
    "\n",
    "df_human_no10_size = df_human_no10x.loc[(df_human_no10x[\"gene\"] == \"TRB\")]\n",
    "\n",
    "df_human_no10x_size = df_human_no10x_size.drop_duplicates(columns)\n",
    "\n",
    "df_human_no10x_size.shape"
   ]
  },
  {
   "cell_type": "code",
   "execution_count": null,
   "metadata": {},
   "outputs": [],
   "source": []
  },
  {
   "cell_type": "code",
   "execution_count": 51,
   "metadata": {},
   "outputs": [],
   "source": [
    "\n",
    "import json\n",
    "\n",
    "import pandas as pd\n",
    "from pandas.io.json import json_normalize\n",
    "from pathlib import Path\n",
    "\n",
    "from src.config import PROJECT_ROOT\n",
    "from src.preprocessing import preprocess_vdjdb\n",
    "# import dataset again to start fresh\n",
    "vdjdb_normal_path = PROJECT_ROOT / \"data/raw/vdjdb/vdjdb-2019-08-08/vdjdb.txt\"\n",
    "df = pd.read_csv(vdjdb_normal_path, sep=\"\\t\")\n",
    "\n",
    "# expand the json/dict-like columns\n",
    "df = (\n",
    "    df.join(json_normalize(df[\"method\"].apply(lambda x: json.loads(r'{}'.format(x)))).add_prefix(\"method.\"))\n",
    "    .join(json_normalize(df[\"meta\"].apply(lambda x: json.loads(r'{}'.format(x)))).add_prefix(\"meta.\"))\n",
    "    .join(json_normalize(df[\"cdr3fix\"].apply(lambda x: json.loads(r'{}'.format(x)))).add_prefix(\"cdr3fix.\"))\n",
    "    .drop([\"method\", \"meta\", \"cdr3fix\"], axis=1)\n",
    ")\n",
    "\n",
    "columns = [\"cdr3\", \"antigen.epitope\"]\n",
    "\n",
    "# create column based on cdr3 and epitope sequences\n",
    "df[\"merged\"] = df[\"cdr3\"] + \"-\" + df[\"antigen.epitope\"]\n",
    "\n",
    "# create length columns for figures\n",
    "df[\"cdr3.len\"] = df[\"cdr3\"].str.len()\n",
    "df[\"antigen.epitope.len\"] = df[\"antigen.epitope\"].str.len()"
   ]
  },
  {
   "cell_type": "code",
   "execution_count": 52,
   "metadata": {},
   "outputs": [
    {
     "data": {
      "text/plain": [
       "(44378, 57)"
      ]
     },
     "execution_count": 52,
     "metadata": {},
     "output_type": "execute_result"
    }
   ],
   "source": [
    "df = df.loc[df[\"gene\"] == \"TRB\"]\n",
    "df.shape"
   ]
  },
  {
   "cell_type": "code",
   "execution_count": 53,
   "metadata": {},
   "outputs": [
    {
     "data": {
      "text/plain": [
       "(39771, 57)"
      ]
     },
     "execution_count": 53,
     "metadata": {},
     "output_type": "execute_result"
    }
   ],
   "source": [
    "df = df.loc[df[\"species\"] == \"HomoSapiens\"]\n",
    "df.shape"
   ]
  },
  {
   "cell_type": "code",
   "execution_count": 54,
   "metadata": {},
   "outputs": [
    {
     "data": {
      "text/plain": [
       "(39302, 57)"
      ]
     },
     "execution_count": 54,
     "metadata": {},
     "output_type": "execute_result"
    }
   ],
   "source": [
    "df = df.loc[df[\"cdr3fix.good\"]]\n",
    "df.shape"
   ]
  },
  {
   "cell_type": "code",
   "execution_count": 55,
   "metadata": {},
   "outputs": [
    {
     "data": {
      "text/plain": [
       "(19011, 57)"
      ]
     },
     "execution_count": 55,
     "metadata": {},
     "output_type": "execute_result"
    }
   ],
   "source": [
    "df = df.loc[\n",
    "                ~(df[\"reference.id\"].str.contains(\"|\".join([\"10xgenomics\"])))\n",
    "#             ~(df[\"reference.id\"].str.contains(\"10xgenomics\"))\n",
    "        ]\n",
    "df.shape"
   ]
  },
  {
   "cell_type": "code",
   "execution_count": 56,
   "metadata": {},
   "outputs": [
    {
     "data": {
      "text/plain": [
       "(18102, 57)"
      ]
     },
     "execution_count": 56,
     "metadata": {},
     "output_type": "execute_result"
    }
   ],
   "source": [
    "df = df.loc[\n",
    "            (df[\"cdr3\"].str.len() >= 10)\n",
    "            & (df[\"cdr3\"].str.len() <= 20)\n",
    "            & (df[\"antigen.epitope\"].str.len() >= 8)\n",
    "            & (df[\"antigen.epitope\"].str.len() <= 13)\n",
    "        ]\n",
    "df.shape"
   ]
  },
  {
   "cell_type": "code",
   "execution_count": 57,
   "metadata": {},
   "outputs": [
    {
     "data": {
      "text/plain": [
       "(14725, 57)"
      ]
     },
     "execution_count": 57,
     "metadata": {},
     "output_type": "execute_result"
    }
   ],
   "source": [
    "df.drop_duplicates([\"cdr3\",\"antigen.epitope\"]).shape"
   ]
  },
  {
   "cell_type": "code",
   "execution_count": null,
   "metadata": {},
   "outputs": [],
   "source": []
  },
  {
   "cell_type": "code",
   "execution_count": 1,
   "metadata": {},
   "outputs": [],
   "source": [
    "from src.config import PROJECT_ROOT\n",
    "import src.preprocessing.preprocess_vdjdb"
   ]
  },
  {
   "cell_type": "code",
   "execution_count": 48,
   "metadata": {},
   "outputs": [],
   "source": [
    "df = src.preprocessing.preprocess_vdjdb.filter_vdjdb(\n",
    "    input=PROJECT_ROOT / \"data/raw/vdjdb/vdjdb-2019-08-08/vdjdb.txt\",\n",
    "    tcr_chain=\"all\",\n",
    "    species=\"human\",\n",
    "    drop_spurious=True,\n",
    "    mhc=\"all\",\n",
    "    hla=\"all\",\n",
    "#     specific_removal_epitope_reference=\"10xgenomics sdgfjhdsfgds\",\n",
    "    specific_removal_references=[\"10xgenomics\"],\n",
    "    keep_specific_references=None,\n",
    "    length_restriction=\"10 20 8 13\",\n",
    ")"
   ]
  },
  {
   "cell_type": "code",
   "execution_count": 40,
   "metadata": {},
   "outputs": [
    {
     "data": {
      "text/plain": [
       "(20646, 2)"
      ]
     },
     "execution_count": 40,
     "metadata": {},
     "output_type": "execute_result"
    }
   ],
   "source": [
    "df.shape"
   ]
  },
  {
   "cell_type": "code",
   "execution_count": null,
   "metadata": {},
   "outputs": [],
   "source": []
  },
  {
   "cell_type": "code",
   "execution_count": null,
   "metadata": {},
   "outputs": [],
   "source": []
  },
  {
   "cell_type": "code",
   "execution_count": 58,
   "metadata": {},
   "outputs": [
    {
     "name": "stdout",
     "output_type": "stream",
     "text": [
      "(500000, 4)\n",
      "(487437, 4)\n"
     ]
    }
   ],
   "source": [
    "negative_ref_path = PROJECT_ROOT / \"data/raw/CDR3_control_sequences.tsv\"\n",
    "df_negative = pd.read_csv(negative_ref_path, sep=\"\\t\")\n",
    "df_negative[\"cdr3.len\"] = df_negative[\"CDR3_beta\"].str.len()\n",
    "\n",
    "print(df_negative.shape)\n",
    "print(df_negative.drop_duplicates(subset=\"CDR3_beta\").shape)"
   ]
  },
  {
   "cell_type": "code",
   "execution_count": null,
   "metadata": {},
   "outputs": [],
   "source": []
  }
 ],
 "metadata": {
  "kernelspec": {
   "display_name": "Python [conda env:deepTCR]",
   "language": "python",
   "name": "conda-env-deepTCR-py"
  },
  "language_info": {
   "codemirror_mode": {
    "name": "ipython",
    "version": 3
   },
   "file_extension": ".py",
   "mimetype": "text/x-python",
   "name": "python",
   "nbconvert_exporter": "python",
   "pygments_lexer": "ipython3",
   "version": "3.6.9"
  },
  "toc": {
   "base_numbering": 1,
   "nav_menu": {},
   "number_sections": true,
   "sideBar": true,
   "skip_h1_title": false,
   "title_cell": "Table of Contents",
   "title_sidebar": "Contents",
   "toc_cell": true,
   "toc_position": {
    "height": "803px",
    "left": "39px",
    "top": "110px",
    "width": "384px"
   },
   "toc_section_display": true,
   "toc_window_display": true
  }
 },
 "nbformat": 4,
 "nbformat_minor": 2
}
